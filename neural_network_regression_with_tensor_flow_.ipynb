{
  "nbformat": 4,
  "nbformat_minor": 0,
  "metadata": {
    "colab": {
      "provenance": [],
      "include_colab_link": true
    },
    "kernelspec": {
      "name": "python3",
      "display_name": "Python 3"
    },
    "language_info": {
      "name": "python"
    },
    "gpuClass": "standard"
  },
  "cells": [
    {
      "cell_type": "markdown",
      "metadata": {
        "id": "view-in-github",
        "colab_type": "text"
      },
      "source": [
        "<a href=\"https://colab.research.google.com/github/amnarafique/Django-another/blob/master/neural_network_regression_with_tensor_flow_.ipynb\" target=\"_parent\"><img src=\"https://colab.research.google.com/assets/colab-badge.svg\" alt=\"Open In Colab\"/></a>"
      ]
    },
    {
      "cell_type": "markdown",
      "source": [
        "# introduction to regression with neural networks in tensorflow"
      ],
      "metadata": {
        "id": "aQstWDmeywaS"
      }
    },
    {
      "cell_type": "code",
      "source": [
        "import tensorflow as tf\n",
        "print(tf.__version__)"
      ],
      "metadata": {
        "colab": {
          "base_uri": "https://localhost:8080/"
        },
        "id": "1HUnVuZMzhkv",
        "outputId": "572dcb3a-4010-4aa9-bd6c-9704d69e69d6"
      },
      "execution_count": null,
      "outputs": [
        {
          "output_type": "stream",
          "name": "stdout",
          "text": [
            "2.12.0\n"
          ]
        }
      ]
    },
    {
      "cell_type": "markdown",
      "source": [
        "# creating data to view and fit"
      ],
      "metadata": {
        "id": "sla05ZUB0AG1"
      }
    },
    {
      "cell_type": "code",
      "source": [
        "import numpy as np\n",
        "import matplotlib.pyplot as plt\n",
        "\n",
        "#create patterns\n",
        "X = np.array([-7.0, -4.0, -1.0, 2.0, 5.0, 8.0, 11.0, 14.0 ])\n",
        "y = np.array([3.0, 6.0, 9.0, 12.0, 15.0, 18.0, 21.0, 24.0])\n",
        "# visualize it\n",
        "plt.scatter(X, y);"
      ],
      "metadata": {
        "id": "JMSczkh4zri6",
        "colab": {
          "base_uri": "https://localhost:8080/",
          "height": 435
        },
        "outputId": "0b9ef510-0623-4dfa-a075-88cf507ea824"
      },
      "execution_count": null,
      "outputs": [
        {
          "output_type": "display_data",
          "data": {
            "text/plain": [
              "<Figure size 640x480 with 1 Axes>"
            ],
            "image/png": "[encoded data removed]"
          },
          "metadata": {}
        }
      ]
    },
    {
      "cell_type": "code",
      "source": [
        "y == X + 10"
      ],
      "metadata": {
        "colab": {
          "base_uri": "https://localhost:8080/"
        },
        "id": "mDAjYC4C0QO8",
        "outputId": "3350c671-f0f5-43cf-92e6-ddd92e2f2de0"
      },
      "execution_count": null,
      "outputs": [
        {
          "output_type": "execute_result",
          "data": {
            "text/plain": [
              "array([ True,  True,  True,  True,  True,  True,  True,  True])"
            ]
          },
          "metadata": {},
          "execution_count": 29
        }
      ]
    },
    {
      "cell_type": "code",
      "source": [
        "X, y"
      ],
      "metadata": {
        "colab": {
          "base_uri": "https://localhost:8080/"
        },
        "id": "bqw6HzsCle8m",
        "outputId": "84713afd-7403-4512-b105-ba2f78a1082f"
      },
      "execution_count": null,
      "outputs": [
        {
          "output_type": "execute_result",
          "data": {
            "text/plain": [
              "(array([-7., -4., -1.,  2.,  5.,  8., 11., 14.]),\n",
              " array([ 3.,  6.,  9., 12., 15., 18., 21., 24.]))"
            ]
          },
          "metadata": {},
          "execution_count": 30
        }
      ]
    },
    {
      "cell_type": "markdown",
      "source": [
        "# input and output shapes"
      ],
      "metadata": {
        "id": "PDD7oBTx2Luq"
      }
    },
    {
      "cell_type": "code",
      "source": [
        "# create a dem tensor for huse price prediction problem\n",
        "house_info = tf.constant([\"bedroom\", \"bathroom\", \"garage\"])\n",
        "house_price = tf.constant([939700])\n",
        "house_info, house_price"
      ],
      "metadata": {
        "colab": {
          "base_uri": "https://localhost:8080/"
        },
        "id": "pBenpJb-2E5u",
        "outputId": "994a496d-75fc-4cb4-8d14-240984219ac9"
      },
      "execution_count": null,
      "outputs": [
        {
          "output_type": "execute_result",
          "data": {
            "text/plain": [
              "(<tf.Tensor: shape=(3,), dtype=string, numpy=array([b'bedroom', b'bathroom', b'garage'], dtype=object)>,\n",
              " <tf.Tensor: shape=(1,), dtype=int32, numpy=array([939700], dtype=int32)>)"
            ]
          },
          "metadata": {},
          "execution_count": 31
        }
      ]
    },
    {
      "cell_type": "code",
      "source": [
        "X[0], y[0]"
      ],
      "metadata": {
        "colab": {
          "base_uri": "https://localhost:8080/"
        },
        "id": "Rel4LYf63pIn",
        "outputId": "8bd129c1-fbdc-419a-db9f-6749d8cabc11"
      },
      "execution_count": null,
      "outputs": [
        {
          "output_type": "execute_result",
          "data": {
            "text/plain": [
              "(-7.0, 3.0)"
            ]
          },
          "metadata": {},
          "execution_count": 32
        }
      ]
    },
    {
      "cell_type": "code",
      "source": [
        "X[1], y[1]"
      ],
      "metadata": {
        "colab": {
          "base_uri": "https://localhost:8080/"
        },
        "id": "f0MSNM6O3vnl",
        "outputId": "7240c3e4-8c2e-486d-c530-62ac9d50f9b5"
      },
      "execution_count": null,
      "outputs": [
        {
          "output_type": "execute_result",
          "data": {
            "text/plain": [
              "(-4.0, 6.0)"
            ]
          },
          "metadata": {},
          "execution_count": 33
        }
      ]
    },
    {
      "cell_type": "code",
      "source": [
        "input_shape = X[0].shape\n",
        "output_shape = y[0].shape\n",
        "input_shape, output_shape"
      ],
      "metadata": {
        "colab": {
          "base_uri": "https://localhost:8080/"
        },
        "id": "9l_9YCSj2_1n",
        "outputId": "80408d9f-ac3a-4ce8-99d3-e2c8edcf1f9a"
      },
      "execution_count": null,
      "outputs": [
        {
          "output_type": "execute_result",
          "data": {
            "text/plain": [
              "((), ())"
            ]
          },
          "metadata": {},
          "execution_count": 34
        }
      ]
    },
    {
      "cell_type": "code",
      "source": [
        "X = tf.cast(tf.constant(X), dtype=tf.float32)\n",
        "y = tf.cast(tf.constant(y), dtype=tf.float32)\n",
        "X, y"
      ],
      "metadata": {
        "id": "ML02Wcf43jO-",
        "colab": {
          "base_uri": "https://localhost:8080/"
        },
        "outputId": "59084422-791f-4022-c5fa-60f605b05f46"
      },
      "execution_count": null,
      "outputs": [
        {
          "output_type": "execute_result",
          "data": {
            "text/plain": [
              "(<tf.Tensor: shape=(8,), dtype=float32, numpy=array([-7., -4., -1.,  2.,  5.,  8., 11., 14.], dtype=float32)>,\n",
              " <tf.Tensor: shape=(8,), dtype=float32, numpy=array([ 3.,  6.,  9., 12., 15., 18., 21., 24.], dtype=float32)>)"
            ]
          },
          "metadata": {},
          "execution_count": 35
        }
      ]
    },
    {
      "cell_type": "code",
      "source": [
        "# X = np.expand_dims(X, axis=1)\n",
        "# X.shape"
      ],
      "metadata": {
        "id": "JDE4CViZ20Kq"
      },
      "execution_count": null,
      "outputs": []
    },
    {
      "cell_type": "markdown",
      "source": [
        "### Creating a model"
      ],
      "metadata": {
        "id": "81pdE5oZnoCz"
      }
    },
    {
      "cell_type": "code",
      "source": [
        "# set random seed\n",
        "tf.random.set_seed(42)\n",
        "# 1 creating a model using sequential api\n",
        "model = tf.keras.Sequential([\n",
        "    tf.keras.layers.Dense(1)\n",
        "])\n",
        "# 2 compile the model\n",
        "import keras\n",
        "from keras import layers\n",
        "\n",
        "\n",
        "\n",
        "model.compile(loss='mae',  #mae is short for mean absolute error\n",
        "              optimizer='SGD',  #SGD is short for stochastic gradient descent\n",
        "              metrics=[\"mse\"])\n",
        "# 3 Fit the model\n",
        "model.fit(X, y, epochs=5)"
      ],
      "metadata": {
        "id": "0IEhSrfrzCPl",
        "colab": {
          "base_uri": "https://localhost:8080/",
          "height": 769
        },
        "outputId": "bfb5d66c-7cd7-4563-dbbd-90f0a883c31f"
      },
      "execution_count": null,
      "outputs": [
        {
          "output_type": "stream",
          "name": "stdout",
          "text": [
            "Epoch 1/5\n"
          ]
        },
        {
          "output_type": "error",
          "ename": "ValueError",
          "evalue": "ignored",
          "traceback": [
            "\u001b[0;31m---------------------------------------------------------------------------\u001b[0m",
            "\u001b[0;31mValueError\u001b[0m                                Traceback (most recent call last)",
            "\u001b[0;32m<ipython-input-39-09b391164ab0>\u001b[0m in \u001b[0;36m<cell line: 17>\u001b[0;34m()\u001b[0m\n\u001b[1;32m     15\u001b[0m               metrics=[\"mse\"])\n\u001b[1;32m     16\u001b[0m \u001b[0;31m# 3 Fit the model\u001b[0m\u001b[0;34m\u001b[0m\u001b[0;34m\u001b[0m\u001b[0m\n\u001b[0;32m---> 17\u001b[0;31m \u001b[0mmodel\u001b[0m\u001b[0;34m.\u001b[0m\u001b[0mfit\u001b[0m\u001b[0;34m(\u001b[0m\u001b[0mX\u001b[0m\u001b[0;34m,\u001b[0m \u001b[0my\u001b[0m\u001b[0;34m,\u001b[0m \u001b[0mepochs\u001b[0m\u001b[0;34m=\u001b[0m\u001b[0;36m5\u001b[0m\u001b[0;34m)\u001b[0m\u001b[0;34m\u001b[0m\u001b[0;34m\u001b[0m\u001b[0m\n\u001b[0m",
            "\u001b[0;32m/usr/local/lib/python3.10/dist-packages/keras/utils/traceback_utils.py\u001b[0m in \u001b[0;36merror_handler\u001b[0;34m(*args, **kwargs)\u001b[0m\n\u001b[1;32m     68\u001b[0m             \u001b[0;31m# To get the full stack trace, call:\u001b[0m\u001b[0;34m\u001b[0m\u001b[0;34m\u001b[0m\u001b[0m\n\u001b[1;32m     69\u001b[0m             \u001b[0;31m# `tf.debugging.disable_traceback_filtering()`\u001b[0m\u001b[0;34m\u001b[0m\u001b[0;34m\u001b[0m\u001b[0m\n\u001b[0;32m---> 70\u001b[0;31m             \u001b[0;32mraise\u001b[0m \u001b[0me\u001b[0m\u001b[0;34m.\u001b[0m\u001b[0mwith_traceback\u001b[0m\u001b[0;34m(\u001b[0m\u001b[0mfiltered_tb\u001b[0m\u001b[0;34m)\u001b[0m \u001b[0;32mfrom\u001b[0m \u001b[0;32mNone\u001b[0m\u001b[0;34m\u001b[0m\u001b[0;34m\u001b[0m\u001b[0m\n\u001b[0m\u001b[1;32m     71\u001b[0m         \u001b[0;32mfinally\u001b[0m\u001b[0;34m:\u001b[0m\u001b[0;34m\u001b[0m\u001b[0;34m\u001b[0m\u001b[0m\n\u001b[1;32m     72\u001b[0m             \u001b[0;32mdel\u001b[0m \u001b[0mfiltered_tb\u001b[0m\u001b[0;34m\u001b[0m\u001b[0;34m\u001b[0m\u001b[0m\n",
            "\u001b[0;32m/usr/local/lib/python3.10/dist-packages/keras/engine/training.py\u001b[0m in \u001b[0;36mtf__train_function\u001b[0;34m(iterator)\u001b[0m\n\u001b[1;32m     13\u001b[0m                 \u001b[0;32mtry\u001b[0m\u001b[0;34m:\u001b[0m\u001b[0;34m\u001b[0m\u001b[0;34m\u001b[0m\u001b[0m\n\u001b[1;32m     14\u001b[0m                     \u001b[0mdo_return\u001b[0m \u001b[0;34m=\u001b[0m \u001b[0;32mTrue\u001b[0m\u001b[0;34m\u001b[0m\u001b[0;34m\u001b[0m\u001b[0m\n\u001b[0;32m---> 15\u001b[0;31m                     \u001b[0mretval_\u001b[0m \u001b[0;34m=\u001b[0m \u001b[0mag__\u001b[0m\u001b[0;34m.\u001b[0m\u001b[0mconverted_call\u001b[0m\u001b[0;34m(\u001b[0m\u001b[0mag__\u001b[0m\u001b[0;34m.\u001b[0m\u001b[0mld\u001b[0m\u001b[0;34m(\u001b[0m\u001b[0mstep_function\u001b[0m\u001b[0;34m)\u001b[0m\u001b[0;34m,\u001b[0m \u001b[0;34m(\u001b[0m\u001b[0mag__\u001b[0m\u001b[0;34m.\u001b[0m\u001b[0mld\u001b[0m\u001b[0;34m(\u001b[0m\u001b[0mself\u001b[0m\u001b[0;34m)\u001b[0m\u001b[0;34m,\u001b[0m \u001b[0mag__\u001b[0m\u001b[0;34m.\u001b[0m\u001b[0mld\u001b[0m\u001b[0;34m(\u001b[0m\u001b[0miterator\u001b[0m\u001b[0;34m)\u001b[0m\u001b[0;34m)\u001b[0m\u001b[0;34m,\u001b[0m \u001b[0;32mNone\u001b[0m\u001b[0;34m,\u001b[0m \u001b[0mfscope\u001b[0m\u001b[0;34m)\u001b[0m\u001b[0;34m\u001b[0m\u001b[0;34m\u001b[0m\u001b[0m\n\u001b[0m\u001b[1;32m     16\u001b[0m                 \u001b[0;32mexcept\u001b[0m\u001b[0;34m:\u001b[0m\u001b[0;34m\u001b[0m\u001b[0;34m\u001b[0m\u001b[0m\n\u001b[1;32m     17\u001b[0m                     \u001b[0mdo_return\u001b[0m \u001b[0;34m=\u001b[0m \u001b[0;32mFalse\u001b[0m\u001b[0;34m\u001b[0m\u001b[0;34m\u001b[0m\u001b[0m\n",
            "\u001b[0;31mValueError\u001b[0m: in user code:\n\n    File \"/usr/local/lib/python3.10/dist-packages/keras/engine/training.py\", line 1284, in train_function  *\n        return step_function(self, iterator)\n    File \"/usr/local/lib/python3.10/dist-packages/keras/engine/training.py\", line 1268, in step_function  **\n        outputs = model.distribute_strategy.run(run_step, args=(data,))\n    File \"/usr/local/lib/python3.10/dist-packages/keras/engine/training.py\", line 1249, in run_step  **\n        outputs = model.train_step(data)\n    File \"/usr/local/lib/python3.10/dist-packages/keras/engine/training.py\", line 1050, in train_step\n        y_pred = self(x, training=True)\n    File \"/usr/local/lib/python3.10/dist-packages/keras/utils/traceback_utils.py\", line 70, in error_handler\n        raise e.with_traceback(filtered_tb) from None\n    File \"/usr/local/lib/python3.10/dist-packages/keras/engine/input_spec.py\", line 253, in assert_input_compatibility\n        raise ValueError(\n\n    ValueError: Exception encountered when calling layer 'sequential_7' (type Sequential).\n    \n    Input 0 of layer \"dense_7\" is incompatible with the layer: expected min_ndim=2, found ndim=1. Full shape received: (None,)\n    \n    Call arguments received by layer 'sequential_7' (type Sequential):\n      • inputs=tf.Tensor(shape=(None,), dtype=float32)\n      • training=True\n      • mask=None\n"
          ]
        }
      ]
    },
    {
      "cell_type": "code",
      "source": [
        "import tensorflow as tf\n",
        "import keras\n",
        "import numpy as np\n",
        "tf.random.set_seed(42)\n",
        "\n",
        "model = tf.keras.Sequential([\n",
        "    tf.keras.layers.Dense(1)\n",
        "])\n",
        "model.compile(loss='mae',\n",
        "              optimizer=tf.keras.optimizers.SGD(),\n",
        "              metrics=['mae'])\n",
        "model.fit(X, y, epochs=5)"
      ],
      "metadata": {
        "id": "mCXrxPBf9yBT",
        "colab": {
          "base_uri": "https://localhost:8080/",
          "height": 769
        },
        "outputId": "12193191-91c7-4669-86d5-4214194181c9"
      },
      "execution_count": null,
      "outputs": [
        {
          "output_type": "stream",
          "name": "stdout",
          "text": [
            "Epoch 1/5\n"
          ]
        },
        {
          "output_type": "error",
          "ename": "ValueError",
          "evalue": "ignored",
          "traceback": [
            "\u001b[0;31m---------------------------------------------------------------------------\u001b[0m",
            "\u001b[0;31mValueError\u001b[0m                                Traceback (most recent call last)",
            "\u001b[0;32m<ipython-input-40-5ba240ae85f3>\u001b[0m in \u001b[0;36m<cell line: 12>\u001b[0;34m()\u001b[0m\n\u001b[1;32m     10\u001b[0m               \u001b[0moptimizer\u001b[0m\u001b[0;34m=\u001b[0m\u001b[0mtf\u001b[0m\u001b[0;34m.\u001b[0m\u001b[0mkeras\u001b[0m\u001b[0;34m.\u001b[0m\u001b[0moptimizers\u001b[0m\u001b[0;34m.\u001b[0m\u001b[0mSGD\u001b[0m\u001b[0;34m(\u001b[0m\u001b[0;34m)\u001b[0m\u001b[0;34m,\u001b[0m\u001b[0;34m\u001b[0m\u001b[0;34m\u001b[0m\u001b[0m\n\u001b[1;32m     11\u001b[0m               metrics=['mae'])\n\u001b[0;32m---> 12\u001b[0;31m \u001b[0mmodel\u001b[0m\u001b[0;34m.\u001b[0m\u001b[0mfit\u001b[0m\u001b[0;34m(\u001b[0m\u001b[0mX\u001b[0m\u001b[0;34m,\u001b[0m \u001b[0my\u001b[0m\u001b[0;34m,\u001b[0m \u001b[0mepochs\u001b[0m\u001b[0;34m=\u001b[0m\u001b[0;36m5\u001b[0m\u001b[0;34m)\u001b[0m\u001b[0;34m\u001b[0m\u001b[0;34m\u001b[0m\u001b[0m\n\u001b[0m",
            "\u001b[0;32m/usr/local/lib/python3.10/dist-packages/keras/utils/traceback_utils.py\u001b[0m in \u001b[0;36merror_handler\u001b[0;34m(*args, **kwargs)\u001b[0m\n\u001b[1;32m     68\u001b[0m             \u001b[0;31m# To get the full stack trace, call:\u001b[0m\u001b[0;34m\u001b[0m\u001b[0;34m\u001b[0m\u001b[0m\n\u001b[1;32m     69\u001b[0m             \u001b[0;31m# `tf.debugging.disable_traceback_filtering()`\u001b[0m\u001b[0;34m\u001b[0m\u001b[0;34m\u001b[0m\u001b[0m\n\u001b[0;32m---> 70\u001b[0;31m             \u001b[0;32mraise\u001b[0m \u001b[0me\u001b[0m\u001b[0;34m.\u001b[0m\u001b[0mwith_traceback\u001b[0m\u001b[0;34m(\u001b[0m\u001b[0mfiltered_tb\u001b[0m\u001b[0;34m)\u001b[0m \u001b[0;32mfrom\u001b[0m \u001b[0;32mNone\u001b[0m\u001b[0;34m\u001b[0m\u001b[0;34m\u001b[0m\u001b[0m\n\u001b[0m\u001b[1;32m     71\u001b[0m         \u001b[0;32mfinally\u001b[0m\u001b[0;34m:\u001b[0m\u001b[0;34m\u001b[0m\u001b[0;34m\u001b[0m\u001b[0m\n\u001b[1;32m     72\u001b[0m             \u001b[0;32mdel\u001b[0m \u001b[0mfiltered_tb\u001b[0m\u001b[0;34m\u001b[0m\u001b[0;34m\u001b[0m\u001b[0m\n",
            "\u001b[0;32m/usr/local/lib/python3.10/dist-packages/keras/engine/training.py\u001b[0m in \u001b[0;36mtf__train_function\u001b[0;34m(iterator)\u001b[0m\n\u001b[1;32m     13\u001b[0m                 \u001b[0;32mtry\u001b[0m\u001b[0;34m:\u001b[0m\u001b[0;34m\u001b[0m\u001b[0;34m\u001b[0m\u001b[0m\n\u001b[1;32m     14\u001b[0m                     \u001b[0mdo_return\u001b[0m \u001b[0;34m=\u001b[0m \u001b[0;32mTrue\u001b[0m\u001b[0;34m\u001b[0m\u001b[0;34m\u001b[0m\u001b[0m\n\u001b[0;32m---> 15\u001b[0;31m                     \u001b[0mretval_\u001b[0m \u001b[0;34m=\u001b[0m \u001b[0mag__\u001b[0m\u001b[0;34m.\u001b[0m\u001b[0mconverted_call\u001b[0m\u001b[0;34m(\u001b[0m\u001b[0mag__\u001b[0m\u001b[0;34m.\u001b[0m\u001b[0mld\u001b[0m\u001b[0;34m(\u001b[0m\u001b[0mstep_function\u001b[0m\u001b[0;34m)\u001b[0m\u001b[0;34m,\u001b[0m \u001b[0;34m(\u001b[0m\u001b[0mag__\u001b[0m\u001b[0;34m.\u001b[0m\u001b[0mld\u001b[0m\u001b[0;34m(\u001b[0m\u001b[0mself\u001b[0m\u001b[0;34m)\u001b[0m\u001b[0;34m,\u001b[0m \u001b[0mag__\u001b[0m\u001b[0;34m.\u001b[0m\u001b[0mld\u001b[0m\u001b[0;34m(\u001b[0m\u001b[0miterator\u001b[0m\u001b[0;34m)\u001b[0m\u001b[0;34m)\u001b[0m\u001b[0;34m,\u001b[0m \u001b[0;32mNone\u001b[0m\u001b[0;34m,\u001b[0m \u001b[0mfscope\u001b[0m\u001b[0;34m)\u001b[0m\u001b[0;34m\u001b[0m\u001b[0;34m\u001b[0m\u001b[0m\n\u001b[0m\u001b[1;32m     16\u001b[0m                 \u001b[0;32mexcept\u001b[0m\u001b[0;34m:\u001b[0m\u001b[0;34m\u001b[0m\u001b[0;34m\u001b[0m\u001b[0m\n\u001b[1;32m     17\u001b[0m                     \u001b[0mdo_return\u001b[0m \u001b[0;34m=\u001b[0m \u001b[0;32mFalse\u001b[0m\u001b[0;34m\u001b[0m\u001b[0;34m\u001b[0m\u001b[0m\n",
            "\u001b[0;31mValueError\u001b[0m: in user code:\n\n    File \"/usr/local/lib/python3.10/dist-packages/keras/engine/training.py\", line 1284, in train_function  *\n        return step_function(self, iterator)\n    File \"/usr/local/lib/python3.10/dist-packages/keras/engine/training.py\", line 1268, in step_function  **\n        outputs = model.distribute_strategy.run(run_step, args=(data,))\n    File \"/usr/local/lib/python3.10/dist-packages/keras/engine/training.py\", line 1249, in run_step  **\n        outputs = model.train_step(data)\n    File \"/usr/local/lib/python3.10/dist-packages/keras/engine/training.py\", line 1050, in train_step\n        y_pred = self(x, training=True)\n    File \"/usr/local/lib/python3.10/dist-packages/keras/utils/traceback_utils.py\", line 70, in error_handler\n        raise e.with_traceback(filtered_tb) from None\n    File \"/usr/local/lib/python3.10/dist-packages/keras/engine/input_spec.py\", line 253, in assert_input_compatibility\n        raise ValueError(\n\n    ValueError: Exception encountered when calling layer 'sequential_8' (type Sequential).\n    \n    Input 0 of layer \"dense_8\" is incompatible with the layer: expected min_ndim=2, found ndim=1. Full shape received: (None,)\n    \n    Call arguments received by layer 'sequential_8' (type Sequential):\n      • inputs=tf.Tensor(shape=(None,), dtype=float32)\n      • training=True\n      • mask=None\n"
          ]
        }
      ]
    },
    {
      "cell_type": "code",
      "source": [
        "# check out X, y\n",
        "X, y"
      ],
      "metadata": {
        "colab": {
          "base_uri": "https://localhost:8080/"
        },
        "id": "B2wAyubAki8E",
        "outputId": "d48607eb-6ebd-4f94-906e-0277a4bd999a"
      },
      "execution_count": null,
      "outputs": [
        {
          "output_type": "execute_result",
          "data": {
            "text/plain": [
              "(<tf.Tensor: shape=(8,), dtype=float32, numpy=array([-7., -4., -1.,  2.,  5.,  8., 11., 14.], dtype=float32)>,\n",
              " <tf.Tensor: shape=(8,), dtype=float32, numpy=array([ 3.,  6.,  9., 12., 15., 18., 21., 24.], dtype=float32)>)"
            ]
          },
          "metadata": {},
          "execution_count": 41
        }
      ]
    },
    {
      "cell_type": "code",
      "source": [
        "# try and predict using our model\n",
        "y_pred = model.predict([17.0])\n",
        "y_pred"
      ],
      "metadata": {
        "id": "zuB256cWlK-E",
        "colab": {
          "base_uri": "https://localhost:8080/",
          "height": 751
        },
        "outputId": "23a42da0-c550-4e2d-92ac-ecc3b126af59"
      },
      "execution_count": null,
      "outputs": [
        {
          "output_type": "error",
          "ename": "ValueError",
          "evalue": "ignored",
          "traceback": [
            "\u001b[0;31m---------------------------------------------------------------------------\u001b[0m",
            "\u001b[0;31mValueError\u001b[0m                                Traceback (most recent call last)",
            "\u001b[0;32m<ipython-input-42-60d743384a54>\u001b[0m in \u001b[0;36m<cell line: 2>\u001b[0;34m()\u001b[0m\n\u001b[1;32m      1\u001b[0m \u001b[0;31m# try and predict using our model\u001b[0m\u001b[0;34m\u001b[0m\u001b[0;34m\u001b[0m\u001b[0m\n\u001b[0;32m----> 2\u001b[0;31m \u001b[0my_pred\u001b[0m \u001b[0;34m=\u001b[0m \u001b[0mmodel\u001b[0m\u001b[0;34m.\u001b[0m\u001b[0mpredict\u001b[0m\u001b[0;34m(\u001b[0m\u001b[0;34m[\u001b[0m\u001b[0;36m17.0\u001b[0m\u001b[0;34m]\u001b[0m\u001b[0;34m)\u001b[0m\u001b[0;34m\u001b[0m\u001b[0;34m\u001b[0m\u001b[0m\n\u001b[0m\u001b[1;32m      3\u001b[0m \u001b[0my_pred\u001b[0m\u001b[0;34m\u001b[0m\u001b[0;34m\u001b[0m\u001b[0m\n",
            "\u001b[0;32m/usr/local/lib/python3.10/dist-packages/keras/utils/traceback_utils.py\u001b[0m in \u001b[0;36merror_handler\u001b[0;34m(*args, **kwargs)\u001b[0m\n\u001b[1;32m     68\u001b[0m             \u001b[0;31m# To get the full stack trace, call:\u001b[0m\u001b[0;34m\u001b[0m\u001b[0;34m\u001b[0m\u001b[0m\n\u001b[1;32m     69\u001b[0m             \u001b[0;31m# `tf.debugging.disable_traceback_filtering()`\u001b[0m\u001b[0;34m\u001b[0m\u001b[0;34m\u001b[0m\u001b[0m\n\u001b[0;32m---> 70\u001b[0;31m             \u001b[0;32mraise\u001b[0m \u001b[0me\u001b[0m\u001b[0;34m.\u001b[0m\u001b[0mwith_traceback\u001b[0m\u001b[0;34m(\u001b[0m\u001b[0mfiltered_tb\u001b[0m\u001b[0;34m)\u001b[0m \u001b[0;32mfrom\u001b[0m \u001b[0;32mNone\u001b[0m\u001b[0;34m\u001b[0m\u001b[0;34m\u001b[0m\u001b[0m\n\u001b[0m\u001b[1;32m     71\u001b[0m         \u001b[0;32mfinally\u001b[0m\u001b[0;34m:\u001b[0m\u001b[0;34m\u001b[0m\u001b[0;34m\u001b[0m\u001b[0m\n\u001b[1;32m     72\u001b[0m             \u001b[0;32mdel\u001b[0m \u001b[0mfiltered_tb\u001b[0m\u001b[0;34m\u001b[0m\u001b[0;34m\u001b[0m\u001b[0m\n",
            "\u001b[0;32m/usr/local/lib/python3.10/dist-packages/keras/engine/training.py\u001b[0m in \u001b[0;36mtf__predict_function\u001b[0;34m(iterator)\u001b[0m\n\u001b[1;32m     13\u001b[0m                 \u001b[0;32mtry\u001b[0m\u001b[0;34m:\u001b[0m\u001b[0;34m\u001b[0m\u001b[0;34m\u001b[0m\u001b[0m\n\u001b[1;32m     14\u001b[0m                     \u001b[0mdo_return\u001b[0m \u001b[0;34m=\u001b[0m \u001b[0;32mTrue\u001b[0m\u001b[0;34m\u001b[0m\u001b[0;34m\u001b[0m\u001b[0m\n\u001b[0;32m---> 15\u001b[0;31m                     \u001b[0mretval_\u001b[0m \u001b[0;34m=\u001b[0m \u001b[0mag__\u001b[0m\u001b[0;34m.\u001b[0m\u001b[0mconverted_call\u001b[0m\u001b[0;34m(\u001b[0m\u001b[0mag__\u001b[0m\u001b[0;34m.\u001b[0m\u001b[0mld\u001b[0m\u001b[0;34m(\u001b[0m\u001b[0mstep_function\u001b[0m\u001b[0;34m)\u001b[0m\u001b[0;34m,\u001b[0m \u001b[0;34m(\u001b[0m\u001b[0mag__\u001b[0m\u001b[0;34m.\u001b[0m\u001b[0mld\u001b[0m\u001b[0;34m(\u001b[0m\u001b[0mself\u001b[0m\u001b[0;34m)\u001b[0m\u001b[0;34m,\u001b[0m \u001b[0mag__\u001b[0m\u001b[0;34m.\u001b[0m\u001b[0mld\u001b[0m\u001b[0;34m(\u001b[0m\u001b[0miterator\u001b[0m\u001b[0;34m)\u001b[0m\u001b[0;34m)\u001b[0m\u001b[0;34m,\u001b[0m \u001b[0;32mNone\u001b[0m\u001b[0;34m,\u001b[0m \u001b[0mfscope\u001b[0m\u001b[0;34m)\u001b[0m\u001b[0;34m\u001b[0m\u001b[0;34m\u001b[0m\u001b[0m\n\u001b[0m\u001b[1;32m     16\u001b[0m                 \u001b[0;32mexcept\u001b[0m\u001b[0;34m:\u001b[0m\u001b[0;34m\u001b[0m\u001b[0;34m\u001b[0m\u001b[0m\n\u001b[1;32m     17\u001b[0m                     \u001b[0mdo_return\u001b[0m \u001b[0;34m=\u001b[0m \u001b[0;32mFalse\u001b[0m\u001b[0;34m\u001b[0m\u001b[0;34m\u001b[0m\u001b[0m\n",
            "\u001b[0;31mValueError\u001b[0m: in user code:\n\n    File \"/usr/local/lib/python3.10/dist-packages/keras/engine/training.py\", line 2169, in predict_function  *\n        return step_function(self, iterator)\n    File \"/usr/local/lib/python3.10/dist-packages/keras/engine/training.py\", line 2155, in step_function  **\n        outputs = model.distribute_strategy.run(run_step, args=(data,))\n    File \"/usr/local/lib/python3.10/dist-packages/keras/engine/training.py\", line 2143, in run_step  **\n        outputs = model.predict_step(data)\n    File \"/usr/local/lib/python3.10/dist-packages/keras/engine/training.py\", line 2111, in predict_step\n        return self(x, training=False)\n    File \"/usr/local/lib/python3.10/dist-packages/keras/utils/traceback_utils.py\", line 70, in error_handler\n        raise e.with_traceback(filtered_tb) from None\n    File \"/usr/local/lib/python3.10/dist-packages/keras/engine/input_spec.py\", line 253, in assert_input_compatibility\n        raise ValueError(\n\n    ValueError: Exception encountered when calling layer 'sequential_8' (type Sequential).\n    \n    Input 0 of layer \"dense_8\" is incompatible with the layer: expected min_ndim=2, found ndim=1. Full shape received: (None,)\n    \n    Call arguments received by layer 'sequential_8' (type Sequential):\n      • inputs=tf.Tensor(shape=(None,), dtype=float32)\n      • training=False\n      • mask=None\n"
          ]
        }
      ]
    },
    {
      "cell_type": "code",
      "source": [
        "y_pred + 7"
      ],
      "metadata": {
        "id": "MTdGNQkQltPj",
        "colab": {
          "base_uri": "https://localhost:8080/",
          "height": 171
        },
        "outputId": "a378c2cc-aa21-4e3c-b59d-7fa97763249f"
      },
      "execution_count": null,
      "outputs": [
        {
          "output_type": "error",
          "ename": "NameError",
          "evalue": "ignored",
          "traceback": [
            "\u001b[0;31m---------------------------------------------------------------------------\u001b[0m",
            "\u001b[0;31mNameError\u001b[0m                                 Traceback (most recent call last)",
            "\u001b[0;32m<ipython-input-43-8230562e586a>\u001b[0m in \u001b[0;36m<cell line: 1>\u001b[0;34m()\u001b[0m\n\u001b[0;32m----> 1\u001b[0;31m \u001b[0my_pred\u001b[0m \u001b[0;34m+\u001b[0m \u001b[0;36m7\u001b[0m\u001b[0;34m\u001b[0m\u001b[0;34m\u001b[0m\u001b[0m\n\u001b[0m",
            "\u001b[0;31mNameError\u001b[0m: name 'y_pred' is not defined"
          ]
        }
      ]
    },
    {
      "cell_type": "markdown",
      "source": [
        "### Improving our model"
      ],
      "metadata": {
        "id": "6AX3cVAlmhu3"
      }
    },
    {
      "cell_type": "code",
      "source": [
        "# let's rebuild our model\n",
        "# 1 create the model\n",
        "model = tf.keras.Sequential()\n",
        "model.add(tf.keras.layers.Dense(1))\n",
        "\n",
        "# 2 Compile the model\n",
        "model.compile(loss='mae', # tf.keras.losses.mae\n",
        "              optimizer='SGD',\n",
        "              metrics='mae')\n",
        "# 3 Fit the model\n",
        "model.fit(X, y, epochs=100)"
      ],
      "metadata": {
        "id": "dnwC_mZFmXkV",
        "colab": {
          "base_uri": "https://localhost:8080/",
          "height": 769
        },
        "outputId": "faa211e3-e610-407b-8c3d-a7f5471a8b98"
      },
      "execution_count": null,
      "outputs": [
        {
          "output_type": "stream",
          "name": "stdout",
          "text": [
            "Epoch 1/100\n"
          ]
        },
        {
          "output_type": "error",
          "ename": "ValueError",
          "evalue": "ignored",
          "traceback": [
            "\u001b[0;31m---------------------------------------------------------------------------\u001b[0m",
            "\u001b[0;31mValueError\u001b[0m                                Traceback (most recent call last)",
            "\u001b[0;32m<ipython-input-44-4cec9dd03d51>\u001b[0m in \u001b[0;36m<cell line: 11>\u001b[0;34m()\u001b[0m\n\u001b[1;32m      9\u001b[0m               metrics='mae')\n\u001b[1;32m     10\u001b[0m \u001b[0;31m# 3 Fit the model\u001b[0m\u001b[0;34m\u001b[0m\u001b[0;34m\u001b[0m\u001b[0m\n\u001b[0;32m---> 11\u001b[0;31m \u001b[0mmodel\u001b[0m\u001b[0;34m.\u001b[0m\u001b[0mfit\u001b[0m\u001b[0;34m(\u001b[0m\u001b[0mX\u001b[0m\u001b[0;34m,\u001b[0m \u001b[0my\u001b[0m\u001b[0;34m,\u001b[0m \u001b[0mepochs\u001b[0m\u001b[0;34m=\u001b[0m\u001b[0;36m100\u001b[0m\u001b[0;34m)\u001b[0m\u001b[0;34m\u001b[0m\u001b[0;34m\u001b[0m\u001b[0m\n\u001b[0m",
            "\u001b[0;32m/usr/local/lib/python3.10/dist-packages/keras/utils/traceback_utils.py\u001b[0m in \u001b[0;36merror_handler\u001b[0;34m(*args, **kwargs)\u001b[0m\n\u001b[1;32m     68\u001b[0m             \u001b[0;31m# To get the full stack trace, call:\u001b[0m\u001b[0;34m\u001b[0m\u001b[0;34m\u001b[0m\u001b[0m\n\u001b[1;32m     69\u001b[0m             \u001b[0;31m# `tf.debugging.disable_traceback_filtering()`\u001b[0m\u001b[0;34m\u001b[0m\u001b[0;34m\u001b[0m\u001b[0m\n\u001b[0;32m---> 70\u001b[0;31m             \u001b[0;32mraise\u001b[0m \u001b[0me\u001b[0m\u001b[0;34m.\u001b[0m\u001b[0mwith_traceback\u001b[0m\u001b[0;34m(\u001b[0m\u001b[0mfiltered_tb\u001b[0m\u001b[0;34m)\u001b[0m \u001b[0;32mfrom\u001b[0m \u001b[0;32mNone\u001b[0m\u001b[0;34m\u001b[0m\u001b[0;34m\u001b[0m\u001b[0m\n\u001b[0m\u001b[1;32m     71\u001b[0m         \u001b[0;32mfinally\u001b[0m\u001b[0;34m:\u001b[0m\u001b[0;34m\u001b[0m\u001b[0;34m\u001b[0m\u001b[0m\n\u001b[1;32m     72\u001b[0m             \u001b[0;32mdel\u001b[0m \u001b[0mfiltered_tb\u001b[0m\u001b[0;34m\u001b[0m\u001b[0;34m\u001b[0m\u001b[0m\n",
            "\u001b[0;32m/usr/local/lib/python3.10/dist-packages/keras/engine/training.py\u001b[0m in \u001b[0;36mtf__train_function\u001b[0;34m(iterator)\u001b[0m\n\u001b[1;32m     13\u001b[0m                 \u001b[0;32mtry\u001b[0m\u001b[0;34m:\u001b[0m\u001b[0;34m\u001b[0m\u001b[0;34m\u001b[0m\u001b[0m\n\u001b[1;32m     14\u001b[0m                     \u001b[0mdo_return\u001b[0m \u001b[0;34m=\u001b[0m \u001b[0;32mTrue\u001b[0m\u001b[0;34m\u001b[0m\u001b[0;34m\u001b[0m\u001b[0m\n\u001b[0;32m---> 15\u001b[0;31m                     \u001b[0mretval_\u001b[0m \u001b[0;34m=\u001b[0m \u001b[0mag__\u001b[0m\u001b[0;34m.\u001b[0m\u001b[0mconverted_call\u001b[0m\u001b[0;34m(\u001b[0m\u001b[0mag__\u001b[0m\u001b[0;34m.\u001b[0m\u001b[0mld\u001b[0m\u001b[0;34m(\u001b[0m\u001b[0mstep_function\u001b[0m\u001b[0;34m)\u001b[0m\u001b[0;34m,\u001b[0m \u001b[0;34m(\u001b[0m\u001b[0mag__\u001b[0m\u001b[0;34m.\u001b[0m\u001b[0mld\u001b[0m\u001b[0;34m(\u001b[0m\u001b[0mself\u001b[0m\u001b[0;34m)\u001b[0m\u001b[0;34m,\u001b[0m \u001b[0mag__\u001b[0m\u001b[0;34m.\u001b[0m\u001b[0mld\u001b[0m\u001b[0;34m(\u001b[0m\u001b[0miterator\u001b[0m\u001b[0;34m)\u001b[0m\u001b[0;34m)\u001b[0m\u001b[0;34m,\u001b[0m \u001b[0;32mNone\u001b[0m\u001b[0;34m,\u001b[0m \u001b[0mfscope\u001b[0m\u001b[0;34m)\u001b[0m\u001b[0;34m\u001b[0m\u001b[0;34m\u001b[0m\u001b[0m\n\u001b[0m\u001b[1;32m     16\u001b[0m                 \u001b[0;32mexcept\u001b[0m\u001b[0;34m:\u001b[0m\u001b[0;34m\u001b[0m\u001b[0;34m\u001b[0m\u001b[0m\n\u001b[1;32m     17\u001b[0m                     \u001b[0mdo_return\u001b[0m \u001b[0;34m=\u001b[0m \u001b[0;32mFalse\u001b[0m\u001b[0;34m\u001b[0m\u001b[0;34m\u001b[0m\u001b[0m\n",
            "\u001b[0;31mValueError\u001b[0m: in user code:\n\n    File \"/usr/local/lib/python3.10/dist-packages/keras/engine/training.py\", line 1284, in train_function  *\n        return step_function(self, iterator)\n    File \"/usr/local/lib/python3.10/dist-packages/keras/engine/training.py\", line 1268, in step_function  **\n        outputs = model.distribute_strategy.run(run_step, args=(data,))\n    File \"/usr/local/lib/python3.10/dist-packages/keras/engine/training.py\", line 1249, in run_step  **\n        outputs = model.train_step(data)\n    File \"/usr/local/lib/python3.10/dist-packages/keras/engine/training.py\", line 1050, in train_step\n        y_pred = self(x, training=True)\n    File \"/usr/local/lib/python3.10/dist-packages/keras/utils/traceback_utils.py\", line 70, in error_handler\n        raise e.with_traceback(filtered_tb) from None\n    File \"/usr/local/lib/python3.10/dist-packages/keras/engine/input_spec.py\", line 253, in assert_input_compatibility\n        raise ValueError(\n\n    ValueError: Exception encountered when calling layer 'sequential_9' (type Sequential).\n    \n    Input 0 of layer \"dense_9\" is incompatible with the layer: expected min_ndim=2, found ndim=1. Full shape received: (None,)\n    \n    Call arguments received by layer 'sequential_9' (type Sequential):\n      • inputs=tf.Tensor(shape=(None,), dtype=float32)\n      • training=True\n      • mask=None\n"
          ]
        }
      ]
    },
    {
      "cell_type": "code",
      "source": [
        "# Remind ourselves of the data\n",
        "X, y"
      ],
      "metadata": {
        "id": "YpvU6xsQp2GO",
        "colab": {
          "base_uri": "https://localhost:8080/"
        },
        "outputId": "39bb8f5c-e425-4ff1-f8d5-9f0894c83148"
      },
      "execution_count": null,
      "outputs": [
        {
          "output_type": "execute_result",
          "data": {
            "text/plain": [
              "(<tf.Tensor: shape=(8,), dtype=float32, numpy=array([-7., -4., -1.,  2.,  5.,  8., 11., 14.], dtype=float32)>,\n",
              " <tf.Tensor: shape=(8,), dtype=float32, numpy=array([ 3.,  6.,  9., 12., 15., 18., 21., 24.], dtype=float32)>)"
            ]
          },
          "metadata": {},
          "execution_count": 45
        }
      ]
    },
    {
      "cell_type": "code",
      "source": [
        "# let's see if our model prediction has improved\n",
        "model.predict([17.0])"
      ],
      "metadata": {
        "id": "VApW-iMnrkd1",
        "colab": {
          "base_uri": "https://localhost:8080/",
          "height": 733
        },
        "outputId": "0ee2503a-dc68-40f9-b975-6bead427f9ef"
      },
      "execution_count": null,
      "outputs": [
        {
          "output_type": "error",
          "ename": "ValueError",
          "evalue": "ignored",
          "traceback": [
            "\u001b[0;31m---------------------------------------------------------------------------\u001b[0m",
            "\u001b[0;31mValueError\u001b[0m                                Traceback (most recent call last)",
            "\u001b[0;32m<ipython-input-46-72a4998b7d44>\u001b[0m in \u001b[0;36m<cell line: 2>\u001b[0;34m()\u001b[0m\n\u001b[1;32m      1\u001b[0m \u001b[0;31m# let's see if our model prediction has improved\u001b[0m\u001b[0;34m\u001b[0m\u001b[0;34m\u001b[0m\u001b[0m\n\u001b[0;32m----> 2\u001b[0;31m \u001b[0mmodel\u001b[0m\u001b[0;34m.\u001b[0m\u001b[0mpredict\u001b[0m\u001b[0;34m(\u001b[0m\u001b[0;34m[\u001b[0m\u001b[0;36m17.0\u001b[0m\u001b[0;34m]\u001b[0m\u001b[0;34m)\u001b[0m\u001b[0;34m\u001b[0m\u001b[0;34m\u001b[0m\u001b[0m\n\u001b[0m",
            "\u001b[0;32m/usr/local/lib/python3.10/dist-packages/keras/utils/traceback_utils.py\u001b[0m in \u001b[0;36merror_handler\u001b[0;34m(*args, **kwargs)\u001b[0m\n\u001b[1;32m     68\u001b[0m             \u001b[0;31m# To get the full stack trace, call:\u001b[0m\u001b[0;34m\u001b[0m\u001b[0;34m\u001b[0m\u001b[0m\n\u001b[1;32m     69\u001b[0m             \u001b[0;31m# `tf.debugging.disable_traceback_filtering()`\u001b[0m\u001b[0;34m\u001b[0m\u001b[0;34m\u001b[0m\u001b[0m\n\u001b[0;32m---> 70\u001b[0;31m             \u001b[0;32mraise\u001b[0m \u001b[0me\u001b[0m\u001b[0;34m.\u001b[0m\u001b[0mwith_traceback\u001b[0m\u001b[0;34m(\u001b[0m\u001b[0mfiltered_tb\u001b[0m\u001b[0;34m)\u001b[0m \u001b[0;32mfrom\u001b[0m \u001b[0;32mNone\u001b[0m\u001b[0;34m\u001b[0m\u001b[0;34m\u001b[0m\u001b[0m\n\u001b[0m\u001b[1;32m     71\u001b[0m         \u001b[0;32mfinally\u001b[0m\u001b[0;34m:\u001b[0m\u001b[0;34m\u001b[0m\u001b[0;34m\u001b[0m\u001b[0m\n\u001b[1;32m     72\u001b[0m             \u001b[0;32mdel\u001b[0m \u001b[0mfiltered_tb\u001b[0m\u001b[0;34m\u001b[0m\u001b[0;34m\u001b[0m\u001b[0m\n",
            "\u001b[0;32m/usr/local/lib/python3.10/dist-packages/keras/engine/training.py\u001b[0m in \u001b[0;36mtf__predict_function\u001b[0;34m(iterator)\u001b[0m\n\u001b[1;32m     13\u001b[0m                 \u001b[0;32mtry\u001b[0m\u001b[0;34m:\u001b[0m\u001b[0;34m\u001b[0m\u001b[0;34m\u001b[0m\u001b[0m\n\u001b[1;32m     14\u001b[0m                     \u001b[0mdo_return\u001b[0m \u001b[0;34m=\u001b[0m \u001b[0;32mTrue\u001b[0m\u001b[0;34m\u001b[0m\u001b[0;34m\u001b[0m\u001b[0m\n\u001b[0;32m---> 15\u001b[0;31m                     \u001b[0mretval_\u001b[0m \u001b[0;34m=\u001b[0m \u001b[0mag__\u001b[0m\u001b[0;34m.\u001b[0m\u001b[0mconverted_call\u001b[0m\u001b[0;34m(\u001b[0m\u001b[0mag__\u001b[0m\u001b[0;34m.\u001b[0m\u001b[0mld\u001b[0m\u001b[0;34m(\u001b[0m\u001b[0mstep_function\u001b[0m\u001b[0;34m)\u001b[0m\u001b[0;34m,\u001b[0m \u001b[0;34m(\u001b[0m\u001b[0mag__\u001b[0m\u001b[0;34m.\u001b[0m\u001b[0mld\u001b[0m\u001b[0;34m(\u001b[0m\u001b[0mself\u001b[0m\u001b[0;34m)\u001b[0m\u001b[0;34m,\u001b[0m \u001b[0mag__\u001b[0m\u001b[0;34m.\u001b[0m\u001b[0mld\u001b[0m\u001b[0;34m(\u001b[0m\u001b[0miterator\u001b[0m\u001b[0;34m)\u001b[0m\u001b[0;34m)\u001b[0m\u001b[0;34m,\u001b[0m \u001b[0;32mNone\u001b[0m\u001b[0;34m,\u001b[0m \u001b[0mfscope\u001b[0m\u001b[0;34m)\u001b[0m\u001b[0;34m\u001b[0m\u001b[0;34m\u001b[0m\u001b[0m\n\u001b[0m\u001b[1;32m     16\u001b[0m                 \u001b[0;32mexcept\u001b[0m\u001b[0;34m:\u001b[0m\u001b[0;34m\u001b[0m\u001b[0;34m\u001b[0m\u001b[0m\n\u001b[1;32m     17\u001b[0m                     \u001b[0mdo_return\u001b[0m \u001b[0;34m=\u001b[0m \u001b[0;32mFalse\u001b[0m\u001b[0;34m\u001b[0m\u001b[0;34m\u001b[0m\u001b[0m\n",
            "\u001b[0;31mValueError\u001b[0m: in user code:\n\n    File \"/usr/local/lib/python3.10/dist-packages/keras/engine/training.py\", line 2169, in predict_function  *\n        return step_function(self, iterator)\n    File \"/usr/local/lib/python3.10/dist-packages/keras/engine/training.py\", line 2155, in step_function  **\n        outputs = model.distribute_strategy.run(run_step, args=(data,))\n    File \"/usr/local/lib/python3.10/dist-packages/keras/engine/training.py\", line 2143, in run_step  **\n        outputs = model.predict_step(data)\n    File \"/usr/local/lib/python3.10/dist-packages/keras/engine/training.py\", line 2111, in predict_step\n        return self(x, training=False)\n    File \"/usr/local/lib/python3.10/dist-packages/keras/utils/traceback_utils.py\", line 70, in error_handler\n        raise e.with_traceback(filtered_tb) from None\n    File \"/usr/local/lib/python3.10/dist-packages/keras/engine/input_spec.py\", line 253, in assert_input_compatibility\n        raise ValueError(\n\n    ValueError: Exception encountered when calling layer 'sequential_9' (type Sequential).\n    \n    Input 0 of layer \"dense_9\" is incompatible with the layer: expected min_ndim=2, found ndim=1. Full shape received: (None,)\n    \n    Call arguments received by layer 'sequential_9' (type Sequential):\n      • inputs=tf.Tensor(shape=(None,), dtype=float32)\n      • training=False\n      • mask=None\n"
          ]
        }
      ]
    },
    {
      "cell_type": "markdown",
      "source": [
        "### 1 change ###"
      ],
      "metadata": {
        "id": "c335GGIFsdr5"
      }
    },
    {
      "cell_type": "code",
      "source": [
        "# let's rebuild our model\n",
        "# 1 create the model\n",
        "model = tf.keras.Sequential()\n",
        "model.add(tf.keras.layers.Dense(100, activation='relu'))\n",
        "model.add(tf.keras.layers.Dense(1))\n",
        "\n",
        "# 2 Compile the model\n",
        "model.compile(loss='mae', # tf.keras.losses.mae\n",
        "              optimizer='SGD',\n",
        "              metrics='mae')\n",
        "# 3 Fit the model\n",
        "model.fit(X, y, epochs=100)"
      ],
      "metadata": {
        "id": "gDLc_Rk6rxKM",
        "colab": {
          "base_uri": "https://localhost:8080/",
          "height": 769
        },
        "outputId": "6d4862ea-2fd8-481f-f407-de86cbe6cb04"
      },
      "execution_count": null,
      "outputs": [
        {
          "output_type": "stream",
          "name": "stdout",
          "text": [
            "Epoch 1/100\n"
          ]
        },
        {
          "output_type": "error",
          "ename": "ValueError",
          "evalue": "ignored",
          "traceback": [
            "\u001b[0;31m---------------------------------------------------------------------------\u001b[0m",
            "\u001b[0;31mValueError\u001b[0m                                Traceback (most recent call last)",
            "\u001b[0;32m<ipython-input-47-b94f15750b46>\u001b[0m in \u001b[0;36m<cell line: 12>\u001b[0;34m()\u001b[0m\n\u001b[1;32m     10\u001b[0m               metrics='mae')\n\u001b[1;32m     11\u001b[0m \u001b[0;31m# 3 Fit the model\u001b[0m\u001b[0;34m\u001b[0m\u001b[0;34m\u001b[0m\u001b[0m\n\u001b[0;32m---> 12\u001b[0;31m \u001b[0mmodel\u001b[0m\u001b[0;34m.\u001b[0m\u001b[0mfit\u001b[0m\u001b[0;34m(\u001b[0m\u001b[0mX\u001b[0m\u001b[0;34m,\u001b[0m \u001b[0my\u001b[0m\u001b[0;34m,\u001b[0m \u001b[0mepochs\u001b[0m\u001b[0;34m=\u001b[0m\u001b[0;36m100\u001b[0m\u001b[0;34m)\u001b[0m\u001b[0;34m\u001b[0m\u001b[0;34m\u001b[0m\u001b[0m\n\u001b[0m",
            "\u001b[0;32m/usr/local/lib/python3.10/dist-packages/keras/utils/traceback_utils.py\u001b[0m in \u001b[0;36merror_handler\u001b[0;34m(*args, **kwargs)\u001b[0m\n\u001b[1;32m     68\u001b[0m             \u001b[0;31m# To get the full stack trace, call:\u001b[0m\u001b[0;34m\u001b[0m\u001b[0;34m\u001b[0m\u001b[0m\n\u001b[1;32m     69\u001b[0m             \u001b[0;31m# `tf.debugging.disable_traceback_filtering()`\u001b[0m\u001b[0;34m\u001b[0m\u001b[0;34m\u001b[0m\u001b[0m\n\u001b[0;32m---> 70\u001b[0;31m             \u001b[0;32mraise\u001b[0m \u001b[0me\u001b[0m\u001b[0;34m.\u001b[0m\u001b[0mwith_traceback\u001b[0m\u001b[0;34m(\u001b[0m\u001b[0mfiltered_tb\u001b[0m\u001b[0;34m)\u001b[0m \u001b[0;32mfrom\u001b[0m \u001b[0;32mNone\u001b[0m\u001b[0;34m\u001b[0m\u001b[0;34m\u001b[0m\u001b[0m\n\u001b[0m\u001b[1;32m     71\u001b[0m         \u001b[0;32mfinally\u001b[0m\u001b[0;34m:\u001b[0m\u001b[0;34m\u001b[0m\u001b[0;34m\u001b[0m\u001b[0m\n\u001b[1;32m     72\u001b[0m             \u001b[0;32mdel\u001b[0m \u001b[0mfiltered_tb\u001b[0m\u001b[0;34m\u001b[0m\u001b[0;34m\u001b[0m\u001b[0m\n",
            "\u001b[0;32m/usr/local/lib/python3.10/dist-packages/keras/engine/training.py\u001b[0m in \u001b[0;36mtf__train_function\u001b[0;34m(iterator)\u001b[0m\n\u001b[1;32m     13\u001b[0m                 \u001b[0;32mtry\u001b[0m\u001b[0;34m:\u001b[0m\u001b[0;34m\u001b[0m\u001b[0;34m\u001b[0m\u001b[0m\n\u001b[1;32m     14\u001b[0m                     \u001b[0mdo_return\u001b[0m \u001b[0;34m=\u001b[0m \u001b[0;32mTrue\u001b[0m\u001b[0;34m\u001b[0m\u001b[0;34m\u001b[0m\u001b[0m\n\u001b[0;32m---> 15\u001b[0;31m                     \u001b[0mretval_\u001b[0m \u001b[0;34m=\u001b[0m \u001b[0mag__\u001b[0m\u001b[0;34m.\u001b[0m\u001b[0mconverted_call\u001b[0m\u001b[0;34m(\u001b[0m\u001b[0mag__\u001b[0m\u001b[0;34m.\u001b[0m\u001b[0mld\u001b[0m\u001b[0;34m(\u001b[0m\u001b[0mstep_function\u001b[0m\u001b[0;34m)\u001b[0m\u001b[0;34m,\u001b[0m \u001b[0;34m(\u001b[0m\u001b[0mag__\u001b[0m\u001b[0;34m.\u001b[0m\u001b[0mld\u001b[0m\u001b[0;34m(\u001b[0m\u001b[0mself\u001b[0m\u001b[0;34m)\u001b[0m\u001b[0;34m,\u001b[0m \u001b[0mag__\u001b[0m\u001b[0;34m.\u001b[0m\u001b[0mld\u001b[0m\u001b[0;34m(\u001b[0m\u001b[0miterator\u001b[0m\u001b[0;34m)\u001b[0m\u001b[0;34m)\u001b[0m\u001b[0;34m,\u001b[0m \u001b[0;32mNone\u001b[0m\u001b[0;34m,\u001b[0m \u001b[0mfscope\u001b[0m\u001b[0;34m)\u001b[0m\u001b[0;34m\u001b[0m\u001b[0;34m\u001b[0m\u001b[0m\n\u001b[0m\u001b[1;32m     16\u001b[0m                 \u001b[0;32mexcept\u001b[0m\u001b[0;34m:\u001b[0m\u001b[0;34m\u001b[0m\u001b[0;34m\u001b[0m\u001b[0m\n\u001b[1;32m     17\u001b[0m                     \u001b[0mdo_return\u001b[0m \u001b[0;34m=\u001b[0m \u001b[0;32mFalse\u001b[0m\u001b[0;34m\u001b[0m\u001b[0;34m\u001b[0m\u001b[0m\n",
            "\u001b[0;31mValueError\u001b[0m: in user code:\n\n    File \"/usr/local/lib/python3.10/dist-packages/keras/engine/training.py\", line 1284, in train_function  *\n        return step_function(self, iterator)\n    File \"/usr/local/lib/python3.10/dist-packages/keras/engine/training.py\", line 1268, in step_function  **\n        outputs = model.distribute_strategy.run(run_step, args=(data,))\n    File \"/usr/local/lib/python3.10/dist-packages/keras/engine/training.py\", line 1249, in run_step  **\n        outputs = model.train_step(data)\n    File \"/usr/local/lib/python3.10/dist-packages/keras/engine/training.py\", line 1050, in train_step\n        y_pred = self(x, training=True)\n    File \"/usr/local/lib/python3.10/dist-packages/keras/utils/traceback_utils.py\", line 70, in error_handler\n        raise e.with_traceback(filtered_tb) from None\n    File \"/usr/local/lib/python3.10/dist-packages/keras/engine/input_spec.py\", line 253, in assert_input_compatibility\n        raise ValueError(\n\n    ValueError: Exception encountered when calling layer 'sequential_10' (type Sequential).\n    \n    Input 0 of layer \"dense_10\" is incompatible with the layer: expected min_ndim=2, found ndim=1. Full shape received: (None,)\n    \n    Call arguments received by layer 'sequential_10' (type Sequential):\n      • inputs=tf.Tensor(shape=(None,), dtype=float32)\n      • training=True\n      • mask=None\n"
          ]
        }
      ]
    },
    {
      "cell_type": "code",
      "source": [
        "model.predict([17.0])"
      ],
      "metadata": {
        "id": "guLsPQ7wshDJ",
        "colab": {
          "base_uri": "https://localhost:8080/",
          "height": 715
        },
        "outputId": "891a6d83-1748-4910-dceb-705519bcf36d"
      },
      "execution_count": null,
      "outputs": [
        {
          "output_type": "error",
          "ename": "ValueError",
          "evalue": "ignored",
          "traceback": [
            "\u001b[0;31m---------------------------------------------------------------------------\u001b[0m",
            "\u001b[0;31mValueError\u001b[0m                                Traceback (most recent call last)",
            "\u001b[0;32m<ipython-input-48-fcf325b3099f>\u001b[0m in \u001b[0;36m<cell line: 1>\u001b[0;34m()\u001b[0m\n\u001b[0;32m----> 1\u001b[0;31m \u001b[0mmodel\u001b[0m\u001b[0;34m.\u001b[0m\u001b[0mpredict\u001b[0m\u001b[0;34m(\u001b[0m\u001b[0;34m[\u001b[0m\u001b[0;36m17.0\u001b[0m\u001b[0;34m]\u001b[0m\u001b[0;34m)\u001b[0m\u001b[0;34m\u001b[0m\u001b[0;34m\u001b[0m\u001b[0m\n\u001b[0m",
            "\u001b[0;32m/usr/local/lib/python3.10/dist-packages/keras/utils/traceback_utils.py\u001b[0m in \u001b[0;36merror_handler\u001b[0;34m(*args, **kwargs)\u001b[0m\n\u001b[1;32m     68\u001b[0m             \u001b[0;31m# To get the full stack trace, call:\u001b[0m\u001b[0;34m\u001b[0m\u001b[0;34m\u001b[0m\u001b[0m\n\u001b[1;32m     69\u001b[0m             \u001b[0;31m# `tf.debugging.disable_traceback_filtering()`\u001b[0m\u001b[0;34m\u001b[0m\u001b[0;34m\u001b[0m\u001b[0m\n\u001b[0;32m---> 70\u001b[0;31m             \u001b[0;32mraise\u001b[0m \u001b[0me\u001b[0m\u001b[0;34m.\u001b[0m\u001b[0mwith_traceback\u001b[0m\u001b[0;34m(\u001b[0m\u001b[0mfiltered_tb\u001b[0m\u001b[0;34m)\u001b[0m \u001b[0;32mfrom\u001b[0m \u001b[0;32mNone\u001b[0m\u001b[0;34m\u001b[0m\u001b[0;34m\u001b[0m\u001b[0m\n\u001b[0m\u001b[1;32m     71\u001b[0m         \u001b[0;32mfinally\u001b[0m\u001b[0;34m:\u001b[0m\u001b[0;34m\u001b[0m\u001b[0;34m\u001b[0m\u001b[0m\n\u001b[1;32m     72\u001b[0m             \u001b[0;32mdel\u001b[0m \u001b[0mfiltered_tb\u001b[0m\u001b[0;34m\u001b[0m\u001b[0;34m\u001b[0m\u001b[0m\n",
            "\u001b[0;32m/usr/local/lib/python3.10/dist-packages/keras/engine/training.py\u001b[0m in \u001b[0;36mtf__predict_function\u001b[0;34m(iterator)\u001b[0m\n\u001b[1;32m     13\u001b[0m                 \u001b[0;32mtry\u001b[0m\u001b[0;34m:\u001b[0m\u001b[0;34m\u001b[0m\u001b[0;34m\u001b[0m\u001b[0m\n\u001b[1;32m     14\u001b[0m                     \u001b[0mdo_return\u001b[0m \u001b[0;34m=\u001b[0m \u001b[0;32mTrue\u001b[0m\u001b[0;34m\u001b[0m\u001b[0;34m\u001b[0m\u001b[0m\n\u001b[0;32m---> 15\u001b[0;31m                     \u001b[0mretval_\u001b[0m \u001b[0;34m=\u001b[0m \u001b[0mag__\u001b[0m\u001b[0;34m.\u001b[0m\u001b[0mconverted_call\u001b[0m\u001b[0;34m(\u001b[0m\u001b[0mag__\u001b[0m\u001b[0;34m.\u001b[0m\u001b[0mld\u001b[0m\u001b[0;34m(\u001b[0m\u001b[0mstep_function\u001b[0m\u001b[0;34m)\u001b[0m\u001b[0;34m,\u001b[0m \u001b[0;34m(\u001b[0m\u001b[0mag__\u001b[0m\u001b[0;34m.\u001b[0m\u001b[0mld\u001b[0m\u001b[0;34m(\u001b[0m\u001b[0mself\u001b[0m\u001b[0;34m)\u001b[0m\u001b[0;34m,\u001b[0m \u001b[0mag__\u001b[0m\u001b[0;34m.\u001b[0m\u001b[0mld\u001b[0m\u001b[0;34m(\u001b[0m\u001b[0miterator\u001b[0m\u001b[0;34m)\u001b[0m\u001b[0;34m)\u001b[0m\u001b[0;34m,\u001b[0m \u001b[0;32mNone\u001b[0m\u001b[0;34m,\u001b[0m \u001b[0mfscope\u001b[0m\u001b[0;34m)\u001b[0m\u001b[0;34m\u001b[0m\u001b[0;34m\u001b[0m\u001b[0m\n\u001b[0m\u001b[1;32m     16\u001b[0m                 \u001b[0;32mexcept\u001b[0m\u001b[0;34m:\u001b[0m\u001b[0;34m\u001b[0m\u001b[0;34m\u001b[0m\u001b[0m\n\u001b[1;32m     17\u001b[0m                     \u001b[0mdo_return\u001b[0m \u001b[0;34m=\u001b[0m \u001b[0;32mFalse\u001b[0m\u001b[0;34m\u001b[0m\u001b[0;34m\u001b[0m\u001b[0m\n",
            "\u001b[0;31mValueError\u001b[0m: in user code:\n\n    File \"/usr/local/lib/python3.10/dist-packages/keras/engine/training.py\", line 2169, in predict_function  *\n        return step_function(self, iterator)\n    File \"/usr/local/lib/python3.10/dist-packages/keras/engine/training.py\", line 2155, in step_function  **\n        outputs = model.distribute_strategy.run(run_step, args=(data,))\n    File \"/usr/local/lib/python3.10/dist-packages/keras/engine/training.py\", line 2143, in run_step  **\n        outputs = model.predict_step(data)\n    File \"/usr/local/lib/python3.10/dist-packages/keras/engine/training.py\", line 2111, in predict_step\n        return self(x, training=False)\n    File \"/usr/local/lib/python3.10/dist-packages/keras/utils/traceback_utils.py\", line 70, in error_handler\n        raise e.with_traceback(filtered_tb) from None\n    File \"/usr/local/lib/python3.10/dist-packages/keras/engine/input_spec.py\", line 253, in assert_input_compatibility\n        raise ValueError(\n\n    ValueError: Exception encountered when calling layer 'sequential_10' (type Sequential).\n    \n    Input 0 of layer \"dense_10\" is incompatible with the layer: expected min_ndim=2, found ndim=1. Full shape received: (None,)\n    \n    Call arguments received by layer 'sequential_10' (type Sequential):\n      • inputs=tf.Tensor(shape=(None,), dtype=float32)\n      • training=False\n      • mask=None\n"
          ]
        }
      ]
    },
    {
      "cell_type": "markdown",
      "source": [
        "##### 2nd change try ####\n"
      ],
      "metadata": {
        "id": "7qxp47Sys03v"
      }
    },
    {
      "cell_type": "code",
      "source": [
        "# let's rebuild our model\n",
        "# 1 create the model\n",
        "model = tf.keras.Sequential()\n",
        "model.add(tf.keras.layers.Dense(1))\n",
        "\n",
        "# 2 Compile the model\n",
        "model.compile(loss='mae', # tf.keras.losses.mae\n",
        "              optimizer=tf.keras.optimizers.Adam(lr=0.1),\n",
        "              metrics='mae')\n",
        "# 3 Fit the model\n",
        "model.fit(X, y, epochs=100)"
      ],
      "metadata": {
        "id": "Dr-CKuvqsjHA",
        "colab": {
          "base_uri": "https://localhost:8080/",
          "height": 787
        },
        "outputId": "b8960a06-eda6-4bd4-8495-4c82d5050410"
      },
      "execution_count": null,
      "outputs": [
        {
          "output_type": "stream",
          "name": "stderr",
          "text": [
            "WARNING:absl:`lr` is deprecated in Keras optimizer, please use `learning_rate` or use the legacy optimizer, e.g.,tf.keras.optimizers.legacy.Adam.\n"
          ]
        },
        {
          "output_type": "stream",
          "name": "stdout",
          "text": [
            "Epoch 1/100\n"
          ]
        },
        {
          "output_type": "error",
          "ename": "ValueError",
          "evalue": "ignored",
          "traceback": [
            "\u001b[0;31m---------------------------------------------------------------------------\u001b[0m",
            "\u001b[0;31mValueError\u001b[0m                                Traceback (most recent call last)",
            "\u001b[0;32m<ipython-input-49-88f0b013f602>\u001b[0m in \u001b[0;36m<cell line: 11>\u001b[0;34m()\u001b[0m\n\u001b[1;32m      9\u001b[0m               metrics='mae')\n\u001b[1;32m     10\u001b[0m \u001b[0;31m# 3 Fit the model\u001b[0m\u001b[0;34m\u001b[0m\u001b[0;34m\u001b[0m\u001b[0m\n\u001b[0;32m---> 11\u001b[0;31m \u001b[0mmodel\u001b[0m\u001b[0;34m.\u001b[0m\u001b[0mfit\u001b[0m\u001b[0;34m(\u001b[0m\u001b[0mX\u001b[0m\u001b[0;34m,\u001b[0m \u001b[0my\u001b[0m\u001b[0;34m,\u001b[0m \u001b[0mepochs\u001b[0m\u001b[0;34m=\u001b[0m\u001b[0;36m100\u001b[0m\u001b[0;34m)\u001b[0m\u001b[0;34m\u001b[0m\u001b[0;34m\u001b[0m\u001b[0m\n\u001b[0m",
            "\u001b[0;32m/usr/local/lib/python3.10/dist-packages/keras/utils/traceback_utils.py\u001b[0m in \u001b[0;36merror_handler\u001b[0;34m(*args, **kwargs)\u001b[0m\n\u001b[1;32m     68\u001b[0m             \u001b[0;31m# To get the full stack trace, call:\u001b[0m\u001b[0;34m\u001b[0m\u001b[0;34m\u001b[0m\u001b[0m\n\u001b[1;32m     69\u001b[0m             \u001b[0;31m# `tf.debugging.disable_traceback_filtering()`\u001b[0m\u001b[0;34m\u001b[0m\u001b[0;34m\u001b[0m\u001b[0m\n\u001b[0;32m---> 70\u001b[0;31m             \u001b[0;32mraise\u001b[0m \u001b[0me\u001b[0m\u001b[0;34m.\u001b[0m\u001b[0mwith_traceback\u001b[0m\u001b[0;34m(\u001b[0m\u001b[0mfiltered_tb\u001b[0m\u001b[0;34m)\u001b[0m \u001b[0;32mfrom\u001b[0m \u001b[0;32mNone\u001b[0m\u001b[0;34m\u001b[0m\u001b[0;34m\u001b[0m\u001b[0m\n\u001b[0m\u001b[1;32m     71\u001b[0m         \u001b[0;32mfinally\u001b[0m\u001b[0;34m:\u001b[0m\u001b[0;34m\u001b[0m\u001b[0;34m\u001b[0m\u001b[0m\n\u001b[1;32m     72\u001b[0m             \u001b[0;32mdel\u001b[0m \u001b[0mfiltered_tb\u001b[0m\u001b[0;34m\u001b[0m\u001b[0;34m\u001b[0m\u001b[0m\n",
            "\u001b[0;32m/usr/local/lib/python3.10/dist-packages/keras/engine/training.py\u001b[0m in \u001b[0;36mtf__train_function\u001b[0;34m(iterator)\u001b[0m\n\u001b[1;32m     13\u001b[0m                 \u001b[0;32mtry\u001b[0m\u001b[0;34m:\u001b[0m\u001b[0;34m\u001b[0m\u001b[0;34m\u001b[0m\u001b[0m\n\u001b[1;32m     14\u001b[0m                     \u001b[0mdo_return\u001b[0m \u001b[0;34m=\u001b[0m \u001b[0;32mTrue\u001b[0m\u001b[0;34m\u001b[0m\u001b[0;34m\u001b[0m\u001b[0m\n\u001b[0;32m---> 15\u001b[0;31m                     \u001b[0mretval_\u001b[0m \u001b[0;34m=\u001b[0m \u001b[0mag__\u001b[0m\u001b[0;34m.\u001b[0m\u001b[0mconverted_call\u001b[0m\u001b[0;34m(\u001b[0m\u001b[0mag__\u001b[0m\u001b[0;34m.\u001b[0m\u001b[0mld\u001b[0m\u001b[0;34m(\u001b[0m\u001b[0mstep_function\u001b[0m\u001b[0;34m)\u001b[0m\u001b[0;34m,\u001b[0m \u001b[0;34m(\u001b[0m\u001b[0mag__\u001b[0m\u001b[0;34m.\u001b[0m\u001b[0mld\u001b[0m\u001b[0;34m(\u001b[0m\u001b[0mself\u001b[0m\u001b[0;34m)\u001b[0m\u001b[0;34m,\u001b[0m \u001b[0mag__\u001b[0m\u001b[0;34m.\u001b[0m\u001b[0mld\u001b[0m\u001b[0;34m(\u001b[0m\u001b[0miterator\u001b[0m\u001b[0;34m)\u001b[0m\u001b[0;34m)\u001b[0m\u001b[0;34m,\u001b[0m \u001b[0;32mNone\u001b[0m\u001b[0;34m,\u001b[0m \u001b[0mfscope\u001b[0m\u001b[0;34m)\u001b[0m\u001b[0;34m\u001b[0m\u001b[0;34m\u001b[0m\u001b[0m\n\u001b[0m\u001b[1;32m     16\u001b[0m                 \u001b[0;32mexcept\u001b[0m\u001b[0;34m:\u001b[0m\u001b[0;34m\u001b[0m\u001b[0;34m\u001b[0m\u001b[0m\n\u001b[1;32m     17\u001b[0m                     \u001b[0mdo_return\u001b[0m \u001b[0;34m=\u001b[0m \u001b[0;32mFalse\u001b[0m\u001b[0;34m\u001b[0m\u001b[0;34m\u001b[0m\u001b[0m\n",
            "\u001b[0;31mValueError\u001b[0m: in user code:\n\n    File \"/usr/local/lib/python3.10/dist-packages/keras/engine/training.py\", line 1284, in train_function  *\n        return step_function(self, iterator)\n    File \"/usr/local/lib/python3.10/dist-packages/keras/engine/training.py\", line 1268, in step_function  **\n        outputs = model.distribute_strategy.run(run_step, args=(data,))\n    File \"/usr/local/lib/python3.10/dist-packages/keras/engine/training.py\", line 1249, in run_step  **\n        outputs = model.train_step(data)\n    File \"/usr/local/lib/python3.10/dist-packages/keras/engine/training.py\", line 1050, in train_step\n        y_pred = self(x, training=True)\n    File \"/usr/local/lib/python3.10/dist-packages/keras/utils/traceback_utils.py\", line 70, in error_handler\n        raise e.with_traceback(filtered_tb) from None\n    File \"/usr/local/lib/python3.10/dist-packages/keras/engine/input_spec.py\", line 253, in assert_input_compatibility\n        raise ValueError(\n\n    ValueError: Exception encountered when calling layer 'sequential_11' (type Sequential).\n    \n    Input 0 of layer \"dense_12\" is incompatible with the layer: expected min_ndim=2, found ndim=1. Full shape received: (None,)\n    \n    Call arguments received by layer 'sequential_11' (type Sequential):\n      • inputs=tf.Tensor(shape=(None,), dtype=float32)\n      • training=True\n      • mask=None\n"
          ]
        }
      ]
    },
    {
      "cell_type": "code",
      "source": [
        "model.predict([17.0])"
      ],
      "metadata": {
        "id": "v1zqsCCvtMzA"
      },
      "execution_count": null,
      "outputs": []
    },
    {
      "cell_type": "markdown",
      "source": [
        "#### EValuating the Model ###"
      ],
      "metadata": {
        "id": "5B5f_pKsnywf"
      }
    },
    {
      "cell_type": "code",
      "source": [
        "# Make a bigger dataset\n",
        "import tensorflow as tf\n",
        "X = tf.range(-100, 100, 4)\n",
        "X"
      ],
      "metadata": {
        "id": "4Zj0HNv6tPPV"
      },
      "execution_count": null,
      "outputs": []
    },
    {
      "cell_type": "code",
      "source": [
        "# make labels for the dataset\n",
        "y = X + 10\n",
        "y"
      ],
      "metadata": {
        "id": "LlVwiO_Moza1"
      },
      "execution_count": null,
      "outputs": []
    },
    {
      "cell_type": "code",
      "source": [
        "# Visualize the data\n",
        "import matplotlib.pyplot as plt\n",
        "plt.scatter(X, y)"
      ],
      "metadata": {
        "id": "jt_eoyGVo-JV"
      },
      "execution_count": null,
      "outputs": []
    },
    {
      "cell_type": "markdown",
      "source": [
        "### the 3 sets....."
      ],
      "metadata": {
        "id": "XUC8vOh_rV61"
      }
    },
    {
      "cell_type": "code",
      "source": [
        "### the 3 sets.....\n",
        "# Check the length of the sample we have\n",
        "len(X)"
      ],
      "metadata": {
        "id": "AQLc0GbppK-h"
      },
      "execution_count": null,
      "outputs": []
    },
    {
      "cell_type": "code",
      "source": [
        "# Split the data into train and test sets\n",
        "X_train = X[:40]\n",
        "X_test = X[40:]\n",
        "\n",
        "y_train = y[:40]\n",
        "y_test = y[40:]\n",
        "\n",
        "len(X_train), len(X_test), len(y_train), len(y_test)"
      ],
      "metadata": {
        "id": "koILFO-HrfoO"
      },
      "execution_count": null,
      "outputs": []
    },
    {
      "cell_type": "markdown",
      "source": [
        "Visualizing the data\n"
      ],
      "metadata": {
        "id": "7bOC789Ss1CY"
      }
    },
    {
      "cell_type": "code",
      "source": [
        "plt.figure(figsize=(10, 7))\n",
        "plt.scatter(X_train, y_train, c='b', label='Trianing data')\n",
        "\n",
        "plt.scatter(X_test, y_test, c='g', label='Testing data')\n",
        "\n",
        "plt.legend();"
      ],
      "metadata": {
        "id": "duJkVDQjsbeC"
      },
      "execution_count": null,
      "outputs": []
    },
    {
      "cell_type": "code",
      "source": [
        "# let's have a look at how to build a neural network for our data\n",
        "model = tf.keras.Sequential([\n",
        "    tf.keras.layers.Dense(1)\n",
        " ])\n",
        "model.compile(loss='mae',\n",
        "                 optimizer='SGD',\n",
        "                 metrics=['mae'])\n",
        "#model.fit(X_train, y_train, epochs=100)"
      ],
      "metadata": {
        "id": "si9cjD4ytkoh"
      },
      "execution_count": null,
      "outputs": []
    },
    {
      "cell_type": "markdown",
      "source": [
        "Visualizing the model"
      ],
      "metadata": {
        "id": "545lIBanzKg_"
      }
    },
    {
      "cell_type": "code",
      "source": [
        "model.summary()"
      ],
      "metadata": {
        "id": "dPq3BqbHymI0"
      },
      "execution_count": null,
      "outputs": []
    },
    {
      "cell_type": "code",
      "source": [
        "model.build()"
      ],
      "metadata": {
        "id": "zJftDLcozTTU"
      },
      "execution_count": null,
      "outputs": []
    },
    {
      "cell_type": "code",
      "source": [
        "# lets create a model which builds automatically by defining teh input shape layer\n"
      ],
      "metadata": {
        "id": "kfeMLZ8pzjy_"
      },
      "execution_count": null,
      "outputs": []
    },
    {
      "cell_type": "code",
      "source": [
        "X[0], y[0]"
      ],
      "metadata": {
        "id": "cWLZjOdc0TOT"
      },
      "execution_count": null,
      "outputs": []
    },
    {
      "cell_type": "code",
      "source": [
        "tf.random.set_seed(42)\n",
        "model = tf.keras.Sequential([\n",
        "    tf.keras.layers.Dense(10, input_shape=[1])\n",
        "])\n",
        "model.compile(loss=tf.keras.losses.mae,\n",
        "              optimizer=tf.keras.optimizers.SGD(),\n",
        "              metrics=['mae'])"
      ],
      "metadata": {
        "id": "j84Y_uJxzs6I"
      },
      "execution_count": null,
      "outputs": []
    },
    {
      "cell_type": "code",
      "source": [
        "model.summary()"
      ],
      "metadata": {
        "id": "RmGb3SJm05fq"
      },
      "execution_count": null,
      "outputs": []
    },
    {
      "cell_type": "code",
      "source": [
        "model.summary\n"
      ],
      "metadata": {
        "id": "GXbQsMCA07IS"
      },
      "execution_count": null,
      "outputs": []
    },
    {
      "cell_type": "code",
      "source": [
        "from tensorflow.keras.utils import plot_model\n",
        "plot_model(model=model, show_shapes=True)"
      ],
      "metadata": {
        "id": "J7pEh2UMj5Tb"
      },
      "execution_count": null,
      "outputs": []
    },
    {
      "cell_type": "markdown",
      "source": [
        "###visualizing our model's prediction"
      ],
      "metadata": {
        "id": "U0xfDLhGon1J"
      }
    },
    {
      "cell_type": "code",
      "source": [
        "import tensorflow as tf\n",
        "X = tf.range(-100, 100, 4)\n",
        "X\n",
        "y = X + 10\n",
        "y"
      ],
      "metadata": {
        "id": "TPnB8vq1rlmh"
      },
      "execution_count": null,
      "outputs": []
    },
    {
      "cell_type": "code",
      "source": [
        "import matplotlib.pyplot as plt\n",
        "plt.scatter(X, y)\n",
        "\n",
        "X_train = X[:40]\n",
        "X_test = X[40:]\n",
        "\n",
        "y_train = y[:40]\n",
        "y_test = y[40:]\n",
        "\n",
        "len(X_train), len(X_test), len(y_train), len(y_test)"
      ],
      "metadata": {
        "id": "cB8oTAoWrvo8"
      },
      "execution_count": null,
      "outputs": []
    },
    {
      "cell_type": "code",
      "source": [
        "tf.random.set_seed(42)\n",
        "model = tf.keras.Sequential([\n",
        "    tf.keras.layers.Dense(10, input_shape=[1])\n",
        "])\n",
        "model.compile(loss=tf.keras.losses.mae,\n",
        "              optimizer=tf.keras.optimizers.SGD(),\n",
        "              metrics=['mae'])"
      ],
      "metadata": {
        "id": "sWU3SxSJsF3g"
      },
      "execution_count": null,
      "outputs": []
    },
    {
      "cell_type": "code",
      "source": [
        "model.fit(X, y, epochs=100)"
      ],
      "metadata": {
        "id": "tN1HN37Jsx1N"
      },
      "execution_count": null,
      "outputs": []
    },
    {
      "cell_type": "code",
      "source": [
        "model.summary()"
      ],
      "metadata": {
        "id": "gUWePz2esMTz"
      },
      "execution_count": null,
      "outputs": []
    },
    {
      "cell_type": "code",
      "source": [
        "y_pred = model.predict(X_test)"
      ],
      "metadata": {
        "id": "Cf61XxW0kq3D"
      },
      "execution_count": null,
      "outputs": []
    },
    {
      "cell_type": "code",
      "source": [
        "y_test"
      ],
      "metadata": {
        "id": "54Fdf5O_p1AG"
      },
      "execution_count": null,
      "outputs": []
    },
    {
      "cell_type": "code",
      "source": [
        "# plotting function\n",
        "#def plot_predictions(train_data=X_train,\n",
        "                    train_labels=y_train,\n",
        "                    test_data=X_test,\n",
        "                    test_labels=y_test,\n",
        "                    predictions=y_pred):\n",
        "  \"\"\"\n",
        "  Plots training  data , test data and cmpare preditiocn to ground truth labels\n",
        "  \"\"\"\n",
        "  plt.figure(figsize=(10, 7))\n",
        "  # Plot training data in blue\n",
        "  plt.scatter(train_data, train_labels, c='b', label=\"Training data\")\n",
        "  # Plot testing data\n",
        "  plt.scatter(test_data, test_labels, c=\"g\", label=\"Testing data\")\n",
        "  # Plot model's predictions in red\n",
        "  plt.scatter(test_data, predictions, c=\"r\", label=\"Predictions\")\n",
        "  # Shwo the legend\n",
        "  plt.legend();"
      ],
      "metadata": {
        "id": "Bu_PFu9esi7l"
      },
      "execution_count": null,
      "outputs": []
    },
    {
      "cell_type": "code",
      "source": [
        "plot_predictions"
      ],
      "metadata": {
        "id": "G2RAsG_YvDf6"
      },
      "execution_count": null,
      "outputs": []
    },
    {
      "cell_type": "code",
      "source": [
        "plot_predictions()"
      ],
      "metadata": {
        "id": "NC9ZbXQJwUKh"
      },
      "execution_count": null,
      "outputs": []
    },
    {
      "cell_type": "markdown",
      "source": [
        "# New Start"
      ],
      "metadata": {
        "id": "V6tuSXa0Lt5V"
      }
    },
    {
      "cell_type": "code",
      "source": [
        "import tensorflow as tf\n",
        "import numpy as np\n",
        "import matplotlib.pyplot as plt\n",
        "from sklearn.model_selection import train_test_split\n",
        "X = np.arange(-100, 100, 4)\n",
        "X\n",
        "y = X + 10\n",
        "y\n",
        "plt.scatter(X, y);"
      ],
      "metadata": {
        "id": "BtkWz1baxIZc"
      },
      "execution_count": null,
      "outputs": []
    },
    {
      "cell_type": "code",
      "source": [
        "X_train = X[:40]\n",
        "y_train = y[40:]\n",
        "\n",
        "X_test = X[:40]\n",
        "y_test = y[40:]\n",
        "\n",
        "x_train, x_test, y_train, y_test = train_test_split(X, y, test_size=0.2, random_state=20)\n",
        "\n",
        "len(x_train), len(y_train), len(x_test), len(y_test)"
      ],
      "metadata": {
        "id": "Xx5aLpdjMtdt"
      },
      "execution_count": null,
      "outputs": []
    },
    {
      "cell_type": "code",
      "source": [],
      "metadata": {
        "id": "4yNo4n7aUkY3"
      },
      "execution_count": null,
      "outputs": []
    },
    {
      "cell_type": "code",
      "source": [
        "from tensorflow.keras import layers, Sequential"
      ],
      "metadata": {
        "id": "CZgcQl04UUBJ"
      },
      "execution_count": null,
      "outputs": []
    },
    {
      "cell_type": "code",
      "source": [
        "x_train.shape"
      ],
      "metadata": {
        "id": "a1EsV7OeWohP"
      },
      "execution_count": null,
      "outputs": []
    },
    {
      "cell_type": "code",
      "source": [
        "x_train_2 = np.expand_dims(x_train, axis=1)\n",
        "y_train = np.expand_dims(y_train, axis=1)\n",
        "x_train.shape"
      ],
      "metadata": {
        "id": "SteDrMZxWGGW"
      },
      "execution_count": null,
      "outputs": []
    },
    {
      "cell_type": "code",
      "source": [
        "tf.random.set_seed(42)\n",
        "model = Sequential([\n",
        "    layers.Dense(100, activation='relu'),\n",
        "    layers.Dense(50)\n",
        "])\n",
        "model.compile(loss=\"mae\",\n",
        "              optimizer=tf.keras.optimizers.legacy.Adam(0.001),\n",
        "              metrics=\"mae\")\n"
      ],
      "metadata": {
        "id": "j_oJh6J_NTdg"
      },
      "execution_count": null,
      "outputs": []
    },
    {
      "cell_type": "code",
      "source": [
        "model.fit(x_train_2, y_train)"
      ],
      "metadata": {
        "id": "4IOC3IlSVCd-"
      },
      "execution_count": null,
      "outputs": []
    },
    {
      "cell_type": "code",
      "source": [
        "x_test = np.expand_dims(x_test, axis=1)\n",
        "y_Pred = model.predict(x_test)"
      ],
      "metadata": {
        "id": "vnrWDLOGZc7z"
      },
      "execution_count": null,
      "outputs": []
    },
    {
      "cell_type": "code",
      "source": [
        "y_Pred[1].shape"
      ],
      "metadata": {
        "id": "BVd4sSwJZtNT"
      },
      "execution_count": null,
      "outputs": []
    },
    {
      "cell_type": "markdown",
      "source": [
        "### why this is not working\n"
      ],
      "metadata": {
        "id": "TIZTnGh0Ysh2"
      }
    },
    {
      "cell_type": "code",
      "source": [
        "tf.random.set_seed(42)\n",
        "model = Sequential([\n",
        "    layers.Dense(1, input_shape=[1])\n",
        "])\n",
        "model.compile(loss=\"mae\",\n",
        "              optimizer=tf.keras.optimizers.legacy.Adam(0.001),\n",
        "              metrics=\"mae\")"
      ],
      "metadata": {
        "id": "j9zCrQBmYwz5"
      },
      "execution_count": null,
      "outputs": []
    },
    {
      "cell_type": "code",
      "source": [
        "model.fit(X, y, epochs=100)"
      ],
      "metadata": {
        "id": "tuifw3VCOnJF"
      },
      "execution_count": null,
      "outputs": []
    },
    {
      "cell_type": "code",
      "source": [
        "model.summary()"
      ],
      "metadata": {
        "id": "0IXe8fW6PEDf"
      },
      "execution_count": null,
      "outputs": []
    },
    {
      "cell_type": "code",
      "source": [
        "tf.keras.utils.plot_model(model, show_shapes=True)"
      ],
      "metadata": {
        "id": "l3aM95PnQOC3"
      },
      "execution_count": null,
      "outputs": []
    },
    {
      "cell_type": "markdown",
      "source": [
        "### model prediction"
      ],
      "metadata": {
        "id": "Tvs4pBl6Tmx6"
      }
    },
    {
      "cell_type": "code",
      "source": [
        "y_pred = model.predict(X_train)\n",
        "y_pred"
      ],
      "metadata": {
        "id": "d8Dmc1CnQ6PR"
      },
      "execution_count": null,
      "outputs": []
    },
    {
      "cell_type": "code",
      "source": [
        "y_test"
      ],
      "metadata": {
        "id": "OO7DBNQlTxEP"
      },
      "execution_count": null,
      "outputs": []
    },
    {
      "cell_type": "markdown",
      "source": [
        "### function def"
      ],
      "metadata": {
        "id": "Jr2eJ-USVl3H"
      }
    },
    {
      "cell_type": "code",
      "source": [
        "def plot_predictions(train_data=X_train,\n",
        "                     train_labels=y_train,\n",
        "                     test_data=X_test,\n",
        "                     test_labels=y_test,\n",
        "                     predictions=y_pred):\n",
        "  \"\"\"\n",
        "  Plot training data and compare predictions to the ground truth labels\n",
        "  \"\"\"\n",
        "  plt.figure(figsize=(10, 7))\n",
        "  plt.scatter(X_train, y_train, c=\"b\", labels=\"Training Data\")\n",
        "  plt.scatter(X_test, y_test, c=\"g\", labels=\"Testing Data\")\n",
        "  plt.scatter(test_data, predictions, c=\"r\", labels=\"Predictions\")\n",
        "  plt.legend();"
      ],
      "metadata": {
        "id": "HA7-IIMSUdHP"
      },
      "execution_count": null,
      "outputs": []
    },
    {
      "cell_type": "code",
      "source": [
        "plot_predictions()"
      ],
      "metadata": {
        "id": "d1wjDZFMXaul"
      },
      "execution_count": null,
      "outputs": []
    },
    {
      "cell_type": "code",
      "source": [],
      "metadata": {
        "id": "QbGhOQuEXi-G"
      },
      "execution_count": null,
      "outputs": []
    },
    {
      "cell_type": "markdown",
      "source": [
        "# Evaluating the model predictions with regression evaluation metrics"
      ],
      "metadata": {
        "id": "CW23XcZfOEde"
      }
    },
    {
      "cell_type": "code",
      "source": [
        "import tensorflow as tf\n",
        "import numpy as np\n",
        "import matplotlib.pyplot as plt\n",
        "from sklearn.model_selection import train_test_split\n",
        "\n",
        "X = np.array([2.0, 4.0, 6.0, 8.0, 10.0, 12.0])\n",
        "X\n"
      ],
      "metadata": {
        "id": "zOrgl_z6QaD3",
        "colab": {
          "base_uri": "https://localhost:8080/"
        },
        "outputId": "d21a241d-6333-40c8-8c97-037bd8b5921d"
      },
      "execution_count": null,
      "outputs": [
        {
          "output_type": "execute_result",
          "data": {
            "text/plain": [
              "array([ 2.,  4.,  6.,  8., 10., 12.])"
            ]
          },
          "metadata": {},
          "execution_count": 6
        }
      ]
    },
    {
      "cell_type": "code",
      "source": [
        "len(X)"
      ],
      "metadata": {
        "id": "vV6lSvataso2",
        "colab": {
          "base_uri": "https://localhost:8080/"
        },
        "outputId": "c730c4d3-0643-4448-8d6e-e50c8e7983a8"
      },
      "execution_count": null,
      "outputs": [
        {
          "output_type": "execute_result",
          "data": {
            "text/plain": [
              "6"
            ]
          },
          "metadata": {},
          "execution_count": 7
        }
      ]
    },
    {
      "cell_type": "code",
      "source": [
        "y = X + 10\n",
        "y\n"
      ],
      "metadata": {
        "id": "H2cIvE6biVPw",
        "colab": {
          "base_uri": "https://localhost:8080/"
        },
        "outputId": "7682a003-264a-4975-e783-e3bd0881683f"
      },
      "execution_count": null,
      "outputs": [
        {
          "output_type": "execute_result",
          "data": {
            "text/plain": [
              "array([12., 14., 16., 18., 20., 22.])"
            ]
          },
          "metadata": {},
          "execution_count": 8
        }
      ]
    },
    {
      "cell_type": "code",
      "source": [
        "X.shape, y.shape\n"
      ],
      "metadata": {
        "id": "rScK8uobaDD1",
        "colab": {
          "base_uri": "https://localhost:8080/"
        },
        "outputId": "983627d9-ff72-42f6-eb96-4955505f9ec0"
      },
      "execution_count": null,
      "outputs": [
        {
          "output_type": "execute_result",
          "data": {
            "text/plain": [
              "((6,), (6,))"
            ]
          },
          "metadata": {},
          "execution_count": 9
        }
      ]
    },
    {
      "cell_type": "code",
      "source": [
        "X_train = X[:4]\n",
        "X_test = X[4:]\n",
        "\n",
        "y_train = y[:4]\n",
        "y_test = y[4:]\n",
        "\n",
        "x_train, x_test, y_train, y_test = train_test_split(X, y, test_size=0.2, random_state=20)\n",
        "\n",
        "len(x_train), len(y_train), len(x_test), len(y_test)"
      ],
      "metadata": {
        "id": "mrKiH68PQB6q",
        "colab": {
          "base_uri": "https://localhost:8080/"
        },
        "outputId": "26f44998-da85-4c52-e846-ea1e77af4410"
      },
      "execution_count": null,
      "outputs": [
        {
          "output_type": "execute_result",
          "data": {
            "text/plain": [
              "(4, 4, 2, 2)"
            ]
          },
          "metadata": {},
          "execution_count": 10
        }
      ]
    },
    {
      "cell_type": "code",
      "source": [
        "X_test, y_test\n"
      ],
      "metadata": {
        "id": "C4C9n12HaK8J",
        "colab": {
          "base_uri": "https://localhost:8080/"
        },
        "outputId": "6a4e5f97-b87f-4d15-da97-79a0ffc32158"
      },
      "execution_count": null,
      "outputs": [
        {
          "output_type": "execute_result",
          "data": {
            "text/plain": [
              "(array([10., 12.]), array([14., 20.]))"
            ]
          },
          "metadata": {},
          "execution_count": 11
        }
      ]
    },
    {
      "cell_type": "code",
      "source": [
        "y_train"
      ],
      "metadata": {
        "id": "lqy57KJiktfC",
        "colab": {
          "base_uri": "https://localhost:8080/"
        },
        "outputId": "e4e46842-49cc-415d-94d2-f0a3d8d5b533"
      },
      "execution_count": null,
      "outputs": [
        {
          "output_type": "execute_result",
          "data": {
            "text/plain": [
              "array([12., 22., 16., 18.])"
            ]
          },
          "metadata": {},
          "execution_count": 12
        }
      ]
    },
    {
      "cell_type": "code",
      "source": [
        "X_train.shape, y_train.shape"
      ],
      "metadata": {
        "id": "IKycdIerjjq_",
        "colab": {
          "base_uri": "https://localhost:8080/"
        },
        "outputId": "f0777380-ef61-4314-f728-628b388e1ec0"
      },
      "execution_count": null,
      "outputs": [
        {
          "output_type": "execute_result",
          "data": {
            "text/plain": [
              "((4,), (4,))"
            ]
          },
          "metadata": {},
          "execution_count": 13
        }
      ]
    },
    {
      "cell_type": "code",
      "source": [],
      "metadata": {
        "id": "rLpGKcKcdEGi"
      },
      "execution_count": null,
      "outputs": []
    },
    {
      "cell_type": "code",
      "source": [
        "len(y_train)"
      ],
      "metadata": {
        "id": "Qm-8-qDCkXh1",
        "colab": {
          "base_uri": "https://localhost:8080/"
        },
        "outputId": "56c068dd-af35-4383-b7fd-a7e348c8054d"
      },
      "execution_count": null,
      "outputs": [
        {
          "output_type": "execute_result",
          "data": {
            "text/plain": [
              "4"
            ]
          },
          "metadata": {},
          "execution_count": 14
        }
      ]
    },
    {
      "cell_type": "code",
      "source": [
        "X_train.shape"
      ],
      "metadata": {
        "id": "h_hKPYAYbYS4",
        "colab": {
          "base_uri": "https://localhost:8080/"
        },
        "outputId": "12d56ed9-3eb8-49a0-a681-e32cd105bfd8"
      },
      "execution_count": null,
      "outputs": [
        {
          "output_type": "execute_result",
          "data": {
            "text/plain": [
              "(4,)"
            ]
          },
          "metadata": {},
          "execution_count": 15
        }
      ]
    },
    {
      "cell_type": "code",
      "source": [
        "y_train.shape"
      ],
      "metadata": {
        "id": "RkFJ-S4ocPu1",
        "colab": {
          "base_uri": "https://localhost:8080/"
        },
        "outputId": "e68f1895-bbd8-4020-d384-3c0528efb97e"
      },
      "execution_count": null,
      "outputs": [
        {
          "output_type": "execute_result",
          "data": {
            "text/plain": [
              "(4,)"
            ]
          },
          "metadata": {},
          "execution_count": 16
        }
      ]
    },
    {
      "cell_type": "code",
      "source": [
        "X_test.shape, y_test.shape"
      ],
      "metadata": {
        "id": "lKdatxkbeN5z",
        "colab": {
          "base_uri": "https://localhost:8080/"
        },
        "outputId": "50a2e60c-5ddd-4e3a-c161-0504cc33cdab"
      },
      "execution_count": null,
      "outputs": [
        {
          "output_type": "execute_result",
          "data": {
            "text/plain": [
              "((2,), (2,))"
            ]
          },
          "metadata": {},
          "execution_count": 17
        }
      ]
    },
    {
      "cell_type": "code",
      "source": [
        "from tensorflow.keras import layers, Sequential, Input"
      ],
      "metadata": {
        "id": "NgNfQc5YiqMv"
      },
      "execution_count": null,
      "outputs": []
    },
    {
      "cell_type": "code",
      "source": [
        "model = Sequential([\n",
        "  layers.Dense(100, activation='relu', input_shape=[1]),\n",
        "  layers.Dense(100, activation='relu'),\n",
        "  layers.Dense(1)\n",
        "])\n",
        "model.compile(loss='mae',\n",
        "              optimizer='SGD',\n",
        "              metrics=['mae', 'acc'])\n",
        "model.fit(X_train, y_train, epochs=100)"
      ],
      "metadata": {
        "id": "c-VwRqRxilNE",
        "colab": {
          "base_uri": "https://localhost:8080/"
        },
        "outputId": "d4106f57-a77a-4695-d6bb-010d2ab56eeb"
      },
      "execution_count": null,
      "outputs": [
        {
          "output_type": "stream",
          "name": "stdout",
          "text": [
            "Epoch 1/100\n",
            "1/1 [==============================] - 1s 738ms/step - loss: 16.2829 - mae: 16.2829 - acc: 0.0000e+00\n",
            "Epoch 2/100\n",
            "1/1 [==============================] - 0s 13ms/step - loss: 15.7573 - mae: 15.7573 - acc: 0.0000e+00\n",
            "Epoch 3/100\n",
            "1/1 [==============================] - 0s 11ms/step - loss: 15.2147 - mae: 15.2147 - acc: 0.0000e+00\n",
            "Epoch 4/100\n",
            "1/1 [==============================] - 0s 16ms/step - loss: 14.6797 - mae: 14.6797 - acc: 0.0000e+00\n",
            "Epoch 5/100\n",
            "1/1 [==============================] - 0s 15ms/step - loss: 14.1324 - mae: 14.1324 - acc: 0.0000e+00\n",
            "Epoch 6/100\n",
            "1/1 [==============================] - 0s 13ms/step - loss: 13.5258 - mae: 13.5258 - acc: 0.0000e+00\n",
            "Epoch 7/100\n",
            "1/1 [==============================] - 0s 15ms/step - loss: 12.8403 - mae: 12.8403 - acc: 0.0000e+00\n",
            "Epoch 8/100\n",
            "1/1 [==============================] - 0s 14ms/step - loss: 12.0404 - mae: 12.0404 - acc: 0.0000e+00\n",
            "Epoch 9/100\n",
            "1/1 [==============================] - 0s 14ms/step - loss: 11.0915 - mae: 11.0915 - acc: 0.0000e+00\n",
            "Epoch 10/100\n",
            "1/1 [==============================] - 0s 13ms/step - loss: 9.9445 - mae: 9.9445 - acc: 0.0000e+00\n",
            "Epoch 11/100\n",
            "1/1 [==============================] - 0s 14ms/step - loss: 8.5414 - mae: 8.5414 - acc: 0.0000e+00\n",
            "Epoch 12/100\n",
            "1/1 [==============================] - 0s 13ms/step - loss: 6.7990 - mae: 6.7990 - acc: 0.0000e+00\n",
            "Epoch 13/100\n",
            "1/1 [==============================] - 0s 11ms/step - loss: 5.3843 - mae: 5.3843 - acc: 0.0000e+00\n",
            "Epoch 14/100\n",
            "1/1 [==============================] - 0s 12ms/step - loss: 5.2607 - mae: 5.2607 - acc: 0.0000e+00\n",
            "Epoch 15/100\n",
            "1/1 [==============================] - 0s 14ms/step - loss: 5.2086 - mae: 5.2086 - acc: 0.0000e+00\n",
            "Epoch 16/100\n",
            "1/1 [==============================] - 0s 10ms/step - loss: 5.3571 - mae: 5.3571 - acc: 0.0000e+00\n",
            "Epoch 17/100\n",
            "1/1 [==============================] - 0s 11ms/step - loss: 5.2317 - mae: 5.2317 - acc: 0.0000e+00\n",
            "Epoch 18/100\n",
            "1/1 [==============================] - 0s 11ms/step - loss: 5.2070 - mae: 5.2070 - acc: 0.0000e+00\n",
            "Epoch 19/100\n",
            "1/1 [==============================] - 0s 10ms/step - loss: 5.3279 - mae: 5.3279 - acc: 0.0000e+00\n",
            "Epoch 20/100\n",
            "1/1 [==============================] - 0s 10ms/step - loss: 5.2013 - mae: 5.2013 - acc: 0.0000e+00\n",
            "Epoch 21/100\n",
            "1/1 [==============================] - 0s 12ms/step - loss: 5.2080 - mae: 5.2080 - acc: 0.0000e+00\n",
            "Epoch 22/100\n",
            "1/1 [==============================] - 0s 11ms/step - loss: 5.2971 - mae: 5.2971 - acc: 0.0000e+00\n",
            "Epoch 23/100\n",
            "1/1 [==============================] - 0s 11ms/step - loss: 5.1692 - mae: 5.1692 - acc: 0.0000e+00\n",
            "Epoch 24/100\n",
            "1/1 [==============================] - 0s 11ms/step - loss: 5.2119 - mae: 5.2119 - acc: 0.0000e+00\n",
            "Epoch 25/100\n",
            "1/1 [==============================] - 0s 16ms/step - loss: 5.2652 - mae: 5.2652 - acc: 0.0000e+00\n",
            "Epoch 26/100\n",
            "1/1 [==============================] - 0s 12ms/step - loss: 5.1360 - mae: 5.1360 - acc: 0.0000e+00\n",
            "Epoch 27/100\n",
            "1/1 [==============================] - 0s 11ms/step - loss: 5.2178 - mae: 5.2178 - acc: 0.0000e+00\n",
            "Epoch 28/100\n",
            "1/1 [==============================] - 0s 11ms/step - loss: 5.2319 - mae: 5.2319 - acc: 0.0000e+00\n",
            "Epoch 29/100\n",
            "1/1 [==============================] - 0s 11ms/step - loss: 5.1012 - mae: 5.1012 - acc: 0.0000e+00\n",
            "Epoch 30/100\n",
            "1/1 [==============================] - 0s 10ms/step - loss: 5.2264 - mae: 5.2264 - acc: 0.0000e+00\n",
            "Epoch 31/100\n",
            "1/1 [==============================] - 0s 10ms/step - loss: 5.1974 - mae: 5.1974 - acc: 0.0000e+00\n",
            "Epoch 32/100\n",
            "1/1 [==============================] - 0s 10ms/step - loss: 5.0652 - mae: 5.0652 - acc: 0.0000e+00\n",
            "Epoch 33/100\n",
            "1/1 [==============================] - 0s 10ms/step - loss: 5.2370 - mae: 5.2370 - acc: 0.0000e+00\n",
            "Epoch 34/100\n",
            "1/1 [==============================] - 0s 11ms/step - loss: 5.1612 - mae: 5.1612 - acc: 0.0000e+00\n",
            "Epoch 35/100\n",
            "1/1 [==============================] - 0s 11ms/step - loss: 5.0273 - mae: 5.0273 - acc: 0.0000e+00\n",
            "Epoch 36/100\n",
            "1/1 [==============================] - 0s 10ms/step - loss: 5.2506 - mae: 5.2506 - acc: 0.0000e+00\n",
            "Epoch 37/100\n",
            "1/1 [==============================] - 0s 11ms/step - loss: 5.1239 - mae: 5.1239 - acc: 0.0000e+00\n",
            "Epoch 38/100\n",
            "1/1 [==============================] - 0s 11ms/step - loss: 5.0303 - mae: 5.0303 - acc: 0.0000e+00\n",
            "Epoch 39/100\n",
            "1/1 [==============================] - 0s 13ms/step - loss: 5.2147 - mae: 5.2147 - acc: 0.0000e+00\n",
            "Epoch 40/100\n",
            "1/1 [==============================] - 0s 11ms/step - loss: 5.0849 - mae: 5.0849 - acc: 0.0000e+00\n",
            "Epoch 41/100\n",
            "1/1 [==============================] - 0s 11ms/step - loss: 5.0475 - mae: 5.0475 - acc: 0.0000e+00\n",
            "Epoch 42/100\n",
            "1/1 [==============================] - 0s 16ms/step - loss: 5.1759 - mae: 5.1759 - acc: 0.0000e+00\n",
            "Epoch 43/100\n",
            "1/1 [==============================] - 0s 11ms/step - loss: 5.0443 - mae: 5.0443 - acc: 0.0000e+00\n",
            "Epoch 44/100\n",
            "1/1 [==============================] - 0s 15ms/step - loss: 5.0670 - mae: 5.0670 - acc: 0.0000e+00\n",
            "Epoch 45/100\n",
            "1/1 [==============================] - 0s 14ms/step - loss: 5.1357 - mae: 5.1357 - acc: 0.0000e+00\n",
            "Epoch 46/100\n",
            "1/1 [==============================] - 0s 15ms/step - loss: 5.0022 - mae: 5.0022 - acc: 0.0000e+00\n",
            "Epoch 47/100\n",
            "1/1 [==============================] - 0s 10ms/step - loss: 5.0889 - mae: 5.0889 - acc: 0.0000e+00\n",
            "Epoch 48/100\n",
            "1/1 [==============================] - 0s 10ms/step - loss: 5.0939 - mae: 5.0939 - acc: 0.0000e+00\n",
            "Epoch 49/100\n",
            "1/1 [==============================] - 0s 11ms/step - loss: 4.9584 - mae: 4.9584 - acc: 0.0000e+00\n",
            "Epoch 50/100\n",
            "1/1 [==============================] - 0s 10ms/step - loss: 5.1131 - mae: 5.1131 - acc: 0.0000e+00\n",
            "Epoch 51/100\n",
            "1/1 [==============================] - 0s 11ms/step - loss: 5.0508 - mae: 5.0508 - acc: 0.0000e+00\n",
            "Epoch 52/100\n",
            "1/1 [==============================] - 0s 11ms/step - loss: 4.9132 - mae: 4.9132 - acc: 0.0000e+00\n",
            "Epoch 53/100\n",
            "1/1 [==============================] - 0s 11ms/step - loss: 5.1392 - mae: 5.1392 - acc: 0.0000e+00\n",
            "Epoch 54/100\n",
            "1/1 [==============================] - 0s 15ms/step - loss: 5.0059 - mae: 5.0059 - acc: 0.0000e+00\n",
            "Epoch 55/100\n",
            "1/1 [==============================] - 0s 11ms/step - loss: 4.9315 - mae: 4.9315 - acc: 0.0000e+00\n",
            "Epoch 56/100\n",
            "1/1 [==============================] - 0s 11ms/step - loss: 5.0933 - mae: 5.0933 - acc: 0.0000e+00\n",
            "Epoch 57/100\n",
            "1/1 [==============================] - 0s 11ms/step - loss: 4.9591 - mae: 4.9591 - acc: 0.0000e+00\n",
            "Epoch 58/100\n",
            "1/1 [==============================] - 0s 11ms/step - loss: 4.9612 - mae: 4.9612 - acc: 0.0000e+00\n",
            "Epoch 59/100\n",
            "1/1 [==============================] - 0s 12ms/step - loss: 5.0471 - mae: 5.0471 - acc: 0.0000e+00\n",
            "Epoch 60/100\n",
            "1/1 [==============================] - 0s 11ms/step - loss: 4.9106 - mae: 4.9106 - acc: 0.0000e+00\n",
            "Epoch 61/100\n",
            "1/1 [==============================] - 0s 11ms/step - loss: 4.9932 - mae: 4.9932 - acc: 0.0000e+00\n",
            "Epoch 62/100\n",
            "1/1 [==============================] - 0s 14ms/step - loss: 4.9991 - mae: 4.9991 - acc: 0.0000e+00\n",
            "Epoch 63/100\n",
            "1/1 [==============================] - 0s 13ms/step - loss: 4.8602 - mae: 4.8602 - acc: 0.0000e+00\n",
            "Epoch 64/100\n",
            "1/1 [==============================] - 0s 11ms/step - loss: 5.0278 - mae: 5.0278 - acc: 0.0000e+00\n",
            "Epoch 65/100\n",
            "1/1 [==============================] - 0s 11ms/step - loss: 4.9496 - mae: 4.9496 - acc: 0.0000e+00\n",
            "Epoch 66/100\n",
            "1/1 [==============================] - 0s 11ms/step - loss: 4.8292 - mae: 4.8292 - acc: 0.0000e+00\n",
            "Epoch 67/100\n",
            "1/1 [==============================] - 0s 11ms/step - loss: 5.0339 - mae: 5.0339 - acc: 0.0000e+00\n",
            "Epoch 68/100\n",
            "1/1 [==============================] - 0s 10ms/step - loss: 4.8979 - mae: 4.8979 - acc: 0.0000e+00\n",
            "Epoch 69/100\n",
            "1/1 [==============================] - 0s 10ms/step - loss: 4.8664 - mae: 4.8664 - acc: 0.0000e+00\n",
            "Epoch 70/100\n",
            "1/1 [==============================] - 0s 10ms/step - loss: 4.9828 - mae: 4.9828 - acc: 0.0000e+00\n",
            "Epoch 71/100\n",
            "1/1 [==============================] - 0s 10ms/step - loss: 4.8443 - mae: 4.8443 - acc: 0.0000e+00\n",
            "Epoch 72/100\n",
            "1/1 [==============================] - 0s 11ms/step - loss: 4.9061 - mae: 4.9061 - acc: 0.0000e+00\n",
            "Epoch 73/100\n",
            "1/1 [==============================] - 0s 10ms/step - loss: 4.9298 - mae: 4.9298 - acc: 0.0000e+00\n",
            "Epoch 74/100\n",
            "1/1 [==============================] - 0s 11ms/step - loss: 4.7886 - mae: 4.7886 - acc: 0.0000e+00\n",
            "Epoch 75/100\n",
            "1/1 [==============================] - 0s 10ms/step - loss: 4.9482 - mae: 4.9482 - acc: 0.0000e+00\n",
            "Epoch 76/100\n",
            "1/1 [==============================] - 0s 11ms/step - loss: 4.8752 - mae: 4.8752 - acc: 0.0000e+00\n",
            "Epoch 77/100\n",
            "1/1 [==============================] - 0s 11ms/step - loss: 4.7573 - mae: 4.7573 - acc: 0.0000e+00\n",
            "Epoch 78/100\n",
            "1/1 [==============================] - 0s 11ms/step - loss: 4.9568 - mae: 4.9568 - acc: 0.0000e+00\n",
            "Epoch 79/100\n",
            "1/1 [==============================] - 0s 11ms/step - loss: 4.8181 - mae: 4.8181 - acc: 0.0000e+00\n",
            "Epoch 80/100\n",
            "1/1 [==============================] - 0s 11ms/step - loss: 4.8019 - mae: 4.8019 - acc: 0.0000e+00\n",
            "Epoch 81/100\n",
            "1/1 [==============================] - 0s 11ms/step - loss: 4.9005 - mae: 4.9005 - acc: 0.0000e+00\n",
            "Epoch 82/100\n",
            "1/1 [==============================] - 0s 11ms/step - loss: 4.7589 - mae: 4.7589 - acc: 0.0000e+00\n",
            "Epoch 83/100\n",
            "1/1 [==============================] - 0s 11ms/step - loss: 4.8489 - mae: 4.8489 - acc: 0.0000e+00\n",
            "Epoch 84/100\n",
            "1/1 [==============================] - 0s 12ms/step - loss: 4.8421 - mae: 4.8421 - acc: 0.0000e+00\n",
            "Epoch 85/100\n",
            "1/1 [==============================] - 0s 11ms/step - loss: 4.6974 - mae: 4.6974 - acc: 0.0000e+00\n",
            "Epoch 86/100\n",
            "1/1 [==============================] - 0s 11ms/step - loss: 4.8986 - mae: 4.8986 - acc: 0.0000e+00\n",
            "Epoch 87/100\n",
            "1/1 [==============================] - 0s 11ms/step - loss: 4.7818 - mae: 4.7818 - acc: 0.0000e+00\n",
            "Epoch 88/100\n",
            "1/1 [==============================] - 0s 14ms/step - loss: 4.7135 - mae: 4.7135 - acc: 0.0000e+00\n",
            "Epoch 89/100\n",
            "1/1 [==============================] - 0s 10ms/step - loss: 4.8614 - mae: 4.8614 - acc: 0.0000e+00\n",
            "Epoch 90/100\n",
            "1/1 [==============================] - 0s 10ms/step - loss: 4.7187 - mae: 4.7187 - acc: 0.0000e+00\n",
            "Epoch 91/100\n",
            "1/1 [==============================] - 0s 11ms/step - loss: 4.7655 - mae: 4.7655 - acc: 0.0000e+00\n",
            "Epoch 92/100\n",
            "1/1 [==============================] - 0s 11ms/step - loss: 4.7992 - mae: 4.7992 - acc: 0.0000e+00\n",
            "Epoch 93/100\n",
            "1/1 [==============================] - 0s 10ms/step - loss: 4.6533 - mae: 4.6533 - acc: 0.0000e+00\n",
            "Epoch 94/100\n",
            "1/1 [==============================] - 0s 11ms/step - loss: 4.8201 - mae: 4.8201 - acc: 0.0000e+00\n",
            "Epoch 95/100\n",
            "1/1 [==============================] - 0s 16ms/step - loss: 4.7351 - mae: 4.7351 - acc: 0.0000e+00\n",
            "Epoch 96/100\n",
            "1/1 [==============================] - 0s 11ms/step - loss: 4.6412 - mae: 4.6412 - acc: 0.0000e+00\n",
            "Epoch 97/100\n",
            "1/1 [==============================] - 0s 12ms/step - loss: 4.8121 - mae: 4.8121 - acc: 0.0000e+00\n",
            "Epoch 98/100\n",
            "1/1 [==============================] - 0s 12ms/step - loss: 4.6679 - mae: 4.6679 - acc: 0.0000e+00\n",
            "Epoch 99/100\n",
            "1/1 [==============================] - 0s 11ms/step - loss: 4.6980 - mae: 4.6980 - acc: 0.0000e+00\n",
            "Epoch 100/100\n",
            "1/1 [==============================] - 0s 11ms/step - loss: 4.7459 - mae: 4.7459 - acc: 0.0000e+00\n"
          ]
        },
        {
          "output_type": "execute_result",
          "data": {
            "text/plain": [
              "<keras.callbacks.History at 0x7f067a1e67d0>"
            ]
          },
          "metadata": {},
          "execution_count": 19
        }
      ]
    },
    {
      "cell_type": "code",
      "source": [
        "# evaluate the model on test\n",
        "model.evaluate(X, y)"
      ],
      "metadata": {
        "id": "AfX4MVmGONks",
        "colab": {
          "base_uri": "https://localhost:8080/"
        },
        "outputId": "1f40a528-3370-4d7a-ce22-b05dfa558db2"
      },
      "execution_count": null,
      "outputs": [
        {
          "output_type": "stream",
          "name": "stdout",
          "text": [
            "1/1 [==============================] - 0s 199ms/step - loss: 3.7904 - mae: 3.7904 - acc: 0.0000e+00\n"
          ]
        },
        {
          "output_type": "execute_result",
          "data": {
            "text/plain": [
              "[3.790395736694336, 3.790395736694336, 0.0]"
            ]
          },
          "metadata": {},
          "execution_count": 20
        }
      ]
    },
    {
      "cell_type": "code",
      "source": [
        "y_pred = model.predict(X_train)\n",
        "y_pred\n"
      ],
      "metadata": {
        "id": "ETgb-X7OPvpu",
        "colab": {
          "base_uri": "https://localhost:8080/"
        },
        "outputId": "1dd6ae37-d456-4232-a842-460337c667c3"
      },
      "execution_count": null,
      "outputs": [
        {
          "output_type": "stream",
          "name": "stdout",
          "text": [
            "1/1 [==============================] - 0s 88ms/step\n"
          ]
        },
        {
          "output_type": "execute_result",
          "data": {
            "text/plain": [
              "array([[ 6.8037004],\n",
              "       [11.33063  ],\n",
              "       [15.857562 ],\n",
              "       [20.384487 ]], dtype=float32)"
            ]
          },
          "metadata": {},
          "execution_count": 21
        }
      ]
    },
    {
      "cell_type": "code",
      "source": [
        "y_pred.shape"
      ],
      "metadata": {
        "id": "gxlAuVL8Vk0Z",
        "colab": {
          "base_uri": "https://localhost:8080/"
        },
        "outputId": "04408703-a66c-466a-d05c-8ff4e76eb49a"
      },
      "execution_count": null,
      "outputs": [
        {
          "output_type": "execute_result",
          "data": {
            "text/plain": [
              "(4, 1)"
            ]
          },
          "metadata": {},
          "execution_count": 22
        }
      ]
    },
    {
      "cell_type": "code",
      "source": [
        "def plot_predictions(train_data=X_train,\n",
        "                     train_labels=y_train,\n",
        "                     test_data=X_test,\n",
        "                     test_labels=y_test,\n",
        "                     predictions=y_pred):\n",
        "  \"\"\"\n",
        "  Plot training data and compare predictions to the ground truth labels\n",
        "  \"\"\"\n",
        "  plt.figure(figsize=(10, 7))\n",
        "  plt.scatter(X_train, y_train, c=\"b\", label=\"Training Data\")\n",
        "  plt.scatter(X_test, y_test, c=\"g\", label=\"Testing Data\")\n",
        "  plt.scatter(test_data, predictions, c=\"r\", label=\"Predictions\")\n",
        "  plt.legend();\n",
        ""
      ],
      "metadata": {
        "id": "ty3jpiKnRSIy"
      },
      "execution_count": null,
      "outputs": []
    },
    {
      "cell_type": "code",
      "source": [
        "X_test.size, y_test.size"
      ],
      "metadata": {
        "id": "wpJII3Rei-B6",
        "colab": {
          "base_uri": "https://localhost:8080/"
        },
        "outputId": "496d35d0-77ba-4fba-dbd0-7a6f12f4aacc"
      },
      "execution_count": null,
      "outputs": [
        {
          "output_type": "execute_result",
          "data": {
            "text/plain": [
              "(2, 2)"
            ]
          },
          "metadata": {},
          "execution_count": 24
        }
      ]
    },
    {
      "cell_type": "code",
      "source": [
        "X_test, y_test"
      ],
      "metadata": {
        "id": "_lmaw0hVjOys",
        "colab": {
          "base_uri": "https://localhost:8080/"
        },
        "outputId": "3a643cdc-3b58-44c7-932c-3d261b654ed1"
      },
      "execution_count": null,
      "outputs": [
        {
          "output_type": "execute_result",
          "data": {
            "text/plain": [
              "(array([10., 12.]), array([14., 20.]))"
            ]
          },
          "metadata": {},
          "execution_count": 25
        }
      ]
    },
    {
      "cell_type": "code",
      "source": [
        "plot_predictions()"
      ],
      "metadata": {
        "id": "jO38neV3Rdmy",
        "colab": {
          "base_uri": "https://localhost:8080/",
          "height": 833
        },
        "outputId": "82e20d3b-54e2-405d-cf74-c6f20850ca47"
      },
      "execution_count": null,
      "outputs": [
        {
          "output_type": "error",
          "ename": "ValueError",
          "evalue": "ignored",
          "traceback": [
            "\u001b[0;31m---------------------------------------------------------------------------\u001b[0m",
            "\u001b[0;31mValueError\u001b[0m                                Traceback (most recent call last)",
            "\u001b[0;32m<ipython-input-26-48fab58fa37f>\u001b[0m in \u001b[0;36m<cell line: 1>\u001b[0;34m()\u001b[0m\n\u001b[0;32m----> 1\u001b[0;31m \u001b[0mplot_predictions\u001b[0m\u001b[0;34m(\u001b[0m\u001b[0;34m)\u001b[0m\u001b[0;34m\u001b[0m\u001b[0;34m\u001b[0m\u001b[0m\n\u001b[0m",
            "\u001b[0;32m<ipython-input-23-adaab9f01a44>\u001b[0m in \u001b[0;36mplot_predictions\u001b[0;34m(train_data, train_labels, test_data, test_labels, predictions)\u001b[0m\n\u001b[1;32m     10\u001b[0m   \u001b[0mplt\u001b[0m\u001b[0;34m.\u001b[0m\u001b[0mscatter\u001b[0m\u001b[0;34m(\u001b[0m\u001b[0mX_train\u001b[0m\u001b[0;34m,\u001b[0m \u001b[0my_train\u001b[0m\u001b[0;34m,\u001b[0m \u001b[0mc\u001b[0m\u001b[0;34m=\u001b[0m\u001b[0;34m\"b\"\u001b[0m\u001b[0;34m,\u001b[0m \u001b[0mlabel\u001b[0m\u001b[0;34m=\u001b[0m\u001b[0;34m\"Training Data\"\u001b[0m\u001b[0;34m)\u001b[0m\u001b[0;34m\u001b[0m\u001b[0;34m\u001b[0m\u001b[0m\n\u001b[1;32m     11\u001b[0m   \u001b[0mplt\u001b[0m\u001b[0;34m.\u001b[0m\u001b[0mscatter\u001b[0m\u001b[0;34m(\u001b[0m\u001b[0mX_test\u001b[0m\u001b[0;34m,\u001b[0m \u001b[0my_test\u001b[0m\u001b[0;34m,\u001b[0m \u001b[0mc\u001b[0m\u001b[0;34m=\u001b[0m\u001b[0;34m\"g\"\u001b[0m\u001b[0;34m,\u001b[0m \u001b[0mlabel\u001b[0m\u001b[0;34m=\u001b[0m\u001b[0;34m\"Testing Data\"\u001b[0m\u001b[0;34m)\u001b[0m\u001b[0;34m\u001b[0m\u001b[0;34m\u001b[0m\u001b[0m\n\u001b[0;32m---> 12\u001b[0;31m   \u001b[0mplt\u001b[0m\u001b[0;34m.\u001b[0m\u001b[0mscatter\u001b[0m\u001b[0;34m(\u001b[0m\u001b[0mtest_data\u001b[0m\u001b[0;34m,\u001b[0m \u001b[0mpredictions\u001b[0m\u001b[0;34m,\u001b[0m \u001b[0mc\u001b[0m\u001b[0;34m=\u001b[0m\u001b[0;34m\"r\"\u001b[0m\u001b[0;34m,\u001b[0m \u001b[0mlabel\u001b[0m\u001b[0;34m=\u001b[0m\u001b[0;34m\"Predictions\"\u001b[0m\u001b[0;34m)\u001b[0m\u001b[0;34m\u001b[0m\u001b[0;34m\u001b[0m\u001b[0m\n\u001b[0m\u001b[1;32m     13\u001b[0m   \u001b[0mplt\u001b[0m\u001b[0;34m.\u001b[0m\u001b[0mlegend\u001b[0m\u001b[0;34m(\u001b[0m\u001b[0;34m)\u001b[0m\u001b[0;34m;\u001b[0m\u001b[0;34m\u001b[0m\u001b[0;34m\u001b[0m\u001b[0m\n\u001b[1;32m     14\u001b[0m \u001b[0;34m\u001b[0m\u001b[0m\n",
            "\u001b[0;32m/usr/local/lib/python3.10/dist-packages/matplotlib/pyplot.py\u001b[0m in \u001b[0;36mscatter\u001b[0;34m(x, y, s, c, marker, cmap, norm, vmin, vmax, alpha, linewidths, edgecolors, plotnonfinite, data, **kwargs)\u001b[0m\n\u001b[1;32m   2860\u001b[0m         \u001b[0mvmin\u001b[0m\u001b[0;34m=\u001b[0m\u001b[0;32mNone\u001b[0m\u001b[0;34m,\u001b[0m \u001b[0mvmax\u001b[0m\u001b[0;34m=\u001b[0m\u001b[0;32mNone\u001b[0m\u001b[0;34m,\u001b[0m \u001b[0malpha\u001b[0m\u001b[0;34m=\u001b[0m\u001b[0;32mNone\u001b[0m\u001b[0;34m,\u001b[0m \u001b[0mlinewidths\u001b[0m\u001b[0;34m=\u001b[0m\u001b[0;32mNone\u001b[0m\u001b[0;34m,\u001b[0m \u001b[0;34m*\u001b[0m\u001b[0;34m,\u001b[0m\u001b[0;34m\u001b[0m\u001b[0;34m\u001b[0m\u001b[0m\n\u001b[1;32m   2861\u001b[0m         edgecolors=None, plotnonfinite=False, data=None, **kwargs):\n\u001b[0;32m-> 2862\u001b[0;31m     __ret = gca().scatter(\n\u001b[0m\u001b[1;32m   2863\u001b[0m         \u001b[0mx\u001b[0m\u001b[0;34m,\u001b[0m \u001b[0my\u001b[0m\u001b[0;34m,\u001b[0m \u001b[0ms\u001b[0m\u001b[0;34m=\u001b[0m\u001b[0ms\u001b[0m\u001b[0;34m,\u001b[0m \u001b[0mc\u001b[0m\u001b[0;34m=\u001b[0m\u001b[0mc\u001b[0m\u001b[0;34m,\u001b[0m \u001b[0mmarker\u001b[0m\u001b[0;34m=\u001b[0m\u001b[0mmarker\u001b[0m\u001b[0;34m,\u001b[0m \u001b[0mcmap\u001b[0m\u001b[0;34m=\u001b[0m\u001b[0mcmap\u001b[0m\u001b[0;34m,\u001b[0m \u001b[0mnorm\u001b[0m\u001b[0;34m=\u001b[0m\u001b[0mnorm\u001b[0m\u001b[0;34m,\u001b[0m\u001b[0;34m\u001b[0m\u001b[0;34m\u001b[0m\u001b[0m\n\u001b[1;32m   2864\u001b[0m         \u001b[0mvmin\u001b[0m\u001b[0;34m=\u001b[0m\u001b[0mvmin\u001b[0m\u001b[0;34m,\u001b[0m \u001b[0mvmax\u001b[0m\u001b[0;34m=\u001b[0m\u001b[0mvmax\u001b[0m\u001b[0;34m,\u001b[0m \u001b[0malpha\u001b[0m\u001b[0;34m=\u001b[0m\u001b[0malpha\u001b[0m\u001b[0;34m,\u001b[0m \u001b[0mlinewidths\u001b[0m\u001b[0;34m=\u001b[0m\u001b[0mlinewidths\u001b[0m\u001b[0;34m,\u001b[0m\u001b[0;34m\u001b[0m\u001b[0;34m\u001b[0m\u001b[0m\n",
            "\u001b[0;32m/usr/local/lib/python3.10/dist-packages/matplotlib/__init__.py\u001b[0m in \u001b[0;36minner\u001b[0;34m(ax, data, *args, **kwargs)\u001b[0m\n\u001b[1;32m   1440\u001b[0m     \u001b[0;32mdef\u001b[0m \u001b[0minner\u001b[0m\u001b[0;34m(\u001b[0m\u001b[0max\u001b[0m\u001b[0;34m,\u001b[0m \u001b[0;34m*\u001b[0m\u001b[0margs\u001b[0m\u001b[0;34m,\u001b[0m \u001b[0mdata\u001b[0m\u001b[0;34m=\u001b[0m\u001b[0;32mNone\u001b[0m\u001b[0;34m,\u001b[0m \u001b[0;34m**\u001b[0m\u001b[0mkwargs\u001b[0m\u001b[0;34m)\u001b[0m\u001b[0;34m:\u001b[0m\u001b[0;34m\u001b[0m\u001b[0;34m\u001b[0m\u001b[0m\n\u001b[1;32m   1441\u001b[0m         \u001b[0;32mif\u001b[0m \u001b[0mdata\u001b[0m \u001b[0;32mis\u001b[0m \u001b[0;32mNone\u001b[0m\u001b[0;34m:\u001b[0m\u001b[0;34m\u001b[0m\u001b[0;34m\u001b[0m\u001b[0m\n\u001b[0;32m-> 1442\u001b[0;31m             \u001b[0;32mreturn\u001b[0m \u001b[0mfunc\u001b[0m\u001b[0;34m(\u001b[0m\u001b[0max\u001b[0m\u001b[0;34m,\u001b[0m \u001b[0;34m*\u001b[0m\u001b[0mmap\u001b[0m\u001b[0;34m(\u001b[0m\u001b[0msanitize_sequence\u001b[0m\u001b[0;34m,\u001b[0m \u001b[0margs\u001b[0m\u001b[0;34m)\u001b[0m\u001b[0;34m,\u001b[0m \u001b[0;34m**\u001b[0m\u001b[0mkwargs\u001b[0m\u001b[0;34m)\u001b[0m\u001b[0;34m\u001b[0m\u001b[0;34m\u001b[0m\u001b[0m\n\u001b[0m\u001b[1;32m   1443\u001b[0m \u001b[0;34m\u001b[0m\u001b[0m\n\u001b[1;32m   1444\u001b[0m         \u001b[0mbound\u001b[0m \u001b[0;34m=\u001b[0m \u001b[0mnew_sig\u001b[0m\u001b[0;34m.\u001b[0m\u001b[0mbind\u001b[0m\u001b[0;34m(\u001b[0m\u001b[0max\u001b[0m\u001b[0;34m,\u001b[0m \u001b[0;34m*\u001b[0m\u001b[0margs\u001b[0m\u001b[0;34m,\u001b[0m \u001b[0;34m**\u001b[0m\u001b[0mkwargs\u001b[0m\u001b[0;34m)\u001b[0m\u001b[0;34m\u001b[0m\u001b[0;34m\u001b[0m\u001b[0m\n",
            "\u001b[0;32m/usr/local/lib/python3.10/dist-packages/matplotlib/axes/_axes.py\u001b[0m in \u001b[0;36mscatter\u001b[0;34m(self, x, y, s, c, marker, cmap, norm, vmin, vmax, alpha, linewidths, edgecolors, plotnonfinite, **kwargs)\u001b[0m\n\u001b[1;32m   4582\u001b[0m         \u001b[0my\u001b[0m \u001b[0;34m=\u001b[0m \u001b[0mnp\u001b[0m\u001b[0;34m.\u001b[0m\u001b[0mma\u001b[0m\u001b[0;34m.\u001b[0m\u001b[0mravel\u001b[0m\u001b[0;34m(\u001b[0m\u001b[0my\u001b[0m\u001b[0;34m)\u001b[0m\u001b[0;34m\u001b[0m\u001b[0;34m\u001b[0m\u001b[0m\n\u001b[1;32m   4583\u001b[0m         \u001b[0;32mif\u001b[0m \u001b[0mx\u001b[0m\u001b[0;34m.\u001b[0m\u001b[0msize\u001b[0m \u001b[0;34m!=\u001b[0m \u001b[0my\u001b[0m\u001b[0;34m.\u001b[0m\u001b[0msize\u001b[0m\u001b[0;34m:\u001b[0m\u001b[0;34m\u001b[0m\u001b[0;34m\u001b[0m\u001b[0m\n\u001b[0;32m-> 4584\u001b[0;31m             \u001b[0;32mraise\u001b[0m \u001b[0mValueError\u001b[0m\u001b[0;34m(\u001b[0m\u001b[0;34m\"x and y must be the same size\"\u001b[0m\u001b[0;34m)\u001b[0m\u001b[0;34m\u001b[0m\u001b[0;34m\u001b[0m\u001b[0m\n\u001b[0m\u001b[1;32m   4585\u001b[0m \u001b[0;34m\u001b[0m\u001b[0m\n\u001b[1;32m   4586\u001b[0m         \u001b[0;32mif\u001b[0m \u001b[0ms\u001b[0m \u001b[0;32mis\u001b[0m \u001b[0;32mNone\u001b[0m\u001b[0;34m:\u001b[0m\u001b[0;34m\u001b[0m\u001b[0;34m\u001b[0m\u001b[0m\n",
            "\u001b[0;31mValueError\u001b[0m: x and y must be the same size"
          ]
        },
        {
          "output_type": "display_data",
          "data": {
            "text/plain": [
              "<Figure size 1000x700 with 1 Axes>"
            ],
            "image/png": "[encoded data removed]"
          },
          "metadata": {}
        }
      ]
    },
    {
      "cell_type": "code",
      "source": [
        "X.size == y.size"
      ],
      "metadata": {
        "id": "VVohv94jSJiF",
        "colab": {
          "base_uri": "https://localhost:8080/"
        },
        "outputId": "b1ee9797-7ceb-4488-da4c-40aca8da313c"
      },
      "execution_count": null,
      "outputs": [
        {
          "output_type": "execute_result",
          "data": {
            "text/plain": [
              "True"
            ]
          },
          "metadata": {},
          "execution_count": 29
        }
      ]
    },
    {
      "cell_type": "code",
      "source": [
        "X_test = np.expand_dims(X_test, axis=1)\n",
        "X_test.ndim"
      ],
      "metadata": {
        "id": "g2pdYybXm2Xc",
        "colab": {
          "base_uri": "https://localhost:8080/"
        },
        "outputId": "f15ae197-f4c3-4e2d-f77c-379f40ee6446"
      },
      "execution_count": null,
      "outputs": [
        {
          "output_type": "execute_result",
          "data": {
            "text/plain": [
              "3"
            ]
          },
          "metadata": {},
          "execution_count": 30
        }
      ]
    },
    {
      "cell_type": "code",
      "source": [
        "y_test = np.expand_dims(y_test, axis=1)\n",
        "y_test.ndim"
      ],
      "metadata": {
        "id": "ByaXq-34V_bc",
        "colab": {
          "base_uri": "https://localhost:8080/"
        },
        "outputId": "b243fbe0-236b-4fab-865b-a0e76a923a00"
      },
      "execution_count": null,
      "outputs": [
        {
          "output_type": "execute_result",
          "data": {
            "text/plain": [
              "2"
            ]
          },
          "metadata": {},
          "execution_count": 31
        }
      ]
    },
    {
      "cell_type": "code",
      "source": [
        "X_test, y_test"
      ],
      "metadata": {
        "id": "ChFDMnjFVYwP",
        "colab": {
          "base_uri": "https://localhost:8080/"
        },
        "outputId": "aa152af1-3480-42a6-d3f4-2814a44e293e"
      },
      "execution_count": null,
      "outputs": [
        {
          "output_type": "execute_result",
          "data": {
            "text/plain": [
              "(array([[[10.]],\n",
              " \n",
              "        [[12.]]]),\n",
              " array([[14.],\n",
              "        [20.]]))"
            ]
          },
          "metadata": {},
          "execution_count": 32
        }
      ]
    },
    {
      "cell_type": "code",
      "source": [
        "### calculate the mean absolute error\n",
        "mae = tf.metrics.mean_absolute_error(y_true=y_test,\n",
        "                                     y_pred=y_pred)\n",
        "mae"
      ],
      "metadata": {
        "id": "2hEGZuiiSMcz",
        "colab": {
          "base_uri": "https://localhost:8080/",
          "height": 415
        },
        "outputId": "42241f5a-7347-48fb-c1c6-1cce3d99acff"
      },
      "execution_count": null,
      "outputs": [
        {
          "output_type": "error",
          "ename": "InvalidArgumentError",
          "evalue": "ignored",
          "traceback": [
            "\u001b[0;31m---------------------------------------------------------------------------\u001b[0m",
            "\u001b[0;31mInvalidArgumentError\u001b[0m                      Traceback (most recent call last)",
            "\u001b[0;32m<ipython-input-33-c5741053d491>\u001b[0m in \u001b[0;36m<cell line: 2>\u001b[0;34m()\u001b[0m\n\u001b[1;32m      1\u001b[0m \u001b[0;31m### calculate the mean absolute error\u001b[0m\u001b[0;34m\u001b[0m\u001b[0;34m\u001b[0m\u001b[0m\n\u001b[0;32m----> 2\u001b[0;31m mae = tf.metrics.mean_absolute_error(y_true=y_test,\n\u001b[0m\u001b[1;32m      3\u001b[0m                                      y_pred=y_pred)\n\u001b[1;32m      4\u001b[0m \u001b[0mmae\u001b[0m\u001b[0;34m\u001b[0m\u001b[0;34m\u001b[0m\u001b[0m\n",
            "\u001b[0;32m/usr/local/lib/python3.10/dist-packages/tensorflow/python/util/traceback_utils.py\u001b[0m in \u001b[0;36merror_handler\u001b[0;34m(*args, **kwargs)\u001b[0m\n\u001b[1;32m    151\u001b[0m     \u001b[0;32mexcept\u001b[0m \u001b[0mException\u001b[0m \u001b[0;32mas\u001b[0m \u001b[0me\u001b[0m\u001b[0;34m:\u001b[0m\u001b[0;34m\u001b[0m\u001b[0;34m\u001b[0m\u001b[0m\n\u001b[1;32m    152\u001b[0m       \u001b[0mfiltered_tb\u001b[0m \u001b[0;34m=\u001b[0m \u001b[0m_process_traceback_frames\u001b[0m\u001b[0;34m(\u001b[0m\u001b[0me\u001b[0m\u001b[0;34m.\u001b[0m\u001b[0m__traceback__\u001b[0m\u001b[0;34m)\u001b[0m\u001b[0;34m\u001b[0m\u001b[0;34m\u001b[0m\u001b[0m\n\u001b[0;32m--> 153\u001b[0;31m       \u001b[0;32mraise\u001b[0m \u001b[0me\u001b[0m\u001b[0;34m.\u001b[0m\u001b[0mwith_traceback\u001b[0m\u001b[0;34m(\u001b[0m\u001b[0mfiltered_tb\u001b[0m\u001b[0;34m)\u001b[0m \u001b[0;32mfrom\u001b[0m \u001b[0;32mNone\u001b[0m\u001b[0;34m\u001b[0m\u001b[0;34m\u001b[0m\u001b[0m\n\u001b[0m\u001b[1;32m    154\u001b[0m     \u001b[0;32mfinally\u001b[0m\u001b[0;34m:\u001b[0m\u001b[0;34m\u001b[0m\u001b[0;34m\u001b[0m\u001b[0m\n\u001b[1;32m    155\u001b[0m       \u001b[0;32mdel\u001b[0m \u001b[0mfiltered_tb\u001b[0m\u001b[0;34m\u001b[0m\u001b[0;34m\u001b[0m\u001b[0m\n",
            "\u001b[0;32m/usr/local/lib/python3.10/dist-packages/keras/losses.py\u001b[0m in \u001b[0;36mmean_absolute_error\u001b[0;34m(y_true, y_pred)\u001b[0m\n\u001b[1;32m   1609\u001b[0m     \u001b[0my_pred\u001b[0m \u001b[0;34m=\u001b[0m \u001b[0mtf\u001b[0m\u001b[0;34m.\u001b[0m\u001b[0mconvert_to_tensor\u001b[0m\u001b[0;34m(\u001b[0m\u001b[0my_pred\u001b[0m\u001b[0;34m)\u001b[0m\u001b[0;34m\u001b[0m\u001b[0;34m\u001b[0m\u001b[0m\n\u001b[1;32m   1610\u001b[0m     \u001b[0my_true\u001b[0m \u001b[0;34m=\u001b[0m \u001b[0mtf\u001b[0m\u001b[0;34m.\u001b[0m\u001b[0mcast\u001b[0m\u001b[0;34m(\u001b[0m\u001b[0my_true\u001b[0m\u001b[0;34m,\u001b[0m \u001b[0my_pred\u001b[0m\u001b[0;34m.\u001b[0m\u001b[0mdtype\u001b[0m\u001b[0;34m)\u001b[0m\u001b[0;34m\u001b[0m\u001b[0;34m\u001b[0m\u001b[0m\n\u001b[0;32m-> 1611\u001b[0;31m     \u001b[0;32mreturn\u001b[0m \u001b[0mbackend\u001b[0m\u001b[0;34m.\u001b[0m\u001b[0mmean\u001b[0m\u001b[0;34m(\u001b[0m\u001b[0mtf\u001b[0m\u001b[0;34m.\u001b[0m\u001b[0mabs\u001b[0m\u001b[0;34m(\u001b[0m\u001b[0my_pred\u001b[0m \u001b[0;34m-\u001b[0m \u001b[0my_true\u001b[0m\u001b[0;34m)\u001b[0m\u001b[0;34m,\u001b[0m \u001b[0maxis\u001b[0m\u001b[0;34m=\u001b[0m\u001b[0;34m-\u001b[0m\u001b[0;36m1\u001b[0m\u001b[0;34m)\u001b[0m\u001b[0;34m\u001b[0m\u001b[0;34m\u001b[0m\u001b[0m\n\u001b[0m\u001b[1;32m   1612\u001b[0m \u001b[0;34m\u001b[0m\u001b[0m\n\u001b[1;32m   1613\u001b[0m \u001b[0;34m\u001b[0m\u001b[0m\n",
            "\u001b[0;31mInvalidArgumentError\u001b[0m: {{function_node __wrapped__Sub_device_/job:localhost/replica:0/task:0/device:CPU:0}} Incompatible shapes: [4,1] vs. [2,1] [Op:Sub]"
          ]
        }
      ]
    },
    {
      "cell_type": "code",
      "source": [
        "y_pred = tf.squeeze(y_pred)\n",
        "y_pred"
      ],
      "metadata": {
        "id": "x9MH9uFdWPGU",
        "colab": {
          "base_uri": "https://localhost:8080/"
        },
        "outputId": "cdf01c89-7dea-44f9-bf89-485e4155c029"
      },
      "execution_count": null,
      "outputs": [
        {
          "output_type": "execute_result",
          "data": {
            "text/plain": [
              "<tf.Tensor: shape=(4,), dtype=float32, numpy=array([ 6.8037004, 11.33063  , 15.857562 , 20.384487 ], dtype=float32)>"
            ]
          },
          "metadata": {},
          "execution_count": 35
        }
      ]
    },
    {
      "cell_type": "code",
      "source": [
        "mse = tf.keras.losses.mean_squared_error(y_true=y_pred,\n",
        "                                  y_pred=y_pred)\n",
        "mse"
      ],
      "metadata": {
        "id": "5pJz0rNVSrqi",
        "colab": {
          "base_uri": "https://localhost:8080/"
        },
        "outputId": "a88204f4-39e9-4584-ba54-c40e6e2952e1"
      },
      "execution_count": null,
      "outputs": [
        {
          "output_type": "execute_result",
          "data": {
            "text/plain": [
              "<tf.Tensor: shape=(), dtype=float32, numpy=0.0>"
            ]
          },
          "metadata": {},
          "execution_count": 36
        }
      ]
    },
    {
      "cell_type": "markdown",
      "source": [
        "# Modeling experiment"
      ],
      "metadata": {
        "id": "jaaJu1x7gxqr"
      }
    },
    {
      "cell_type": "code",
      "source": [
        "import tensorflow as tf\n",
        "import numpy as np\n",
        "import matplotlib.pyplot as plt\n",
        "from sklearn.model_selection import train_test_split"
      ],
      "metadata": {
        "id": "5RbU8-63kf-p"
      },
      "execution_count": null,
      "outputs": []
    },
    {
      "cell_type": "code",
      "source": [
        "X_train"
      ],
      "metadata": {
        "id": "whpy8tkTgTfs",
        "colab": {
          "base_uri": "https://localhost:8080/"
        },
        "outputId": "13a81e2a-b476-4486-8987-ce1288957e0b"
      },
      "execution_count": null,
      "outputs": [
        {
          "output_type": "execute_result",
          "data": {
            "text/plain": [
              "array([2., 4., 6., 8.])"
            ]
          },
          "metadata": {},
          "execution_count": 37
        }
      ]
    },
    {
      "cell_type": "code",
      "source": [
        "import numpy as np\n",
        "y_train = tf.convert_to_tensor(y_train)\n",
        "y_train\n",
        "y_train = np.expand_dims(y_train, axis=1)"
      ],
      "metadata": {
        "id": "clM7s_JQU6IV"
      },
      "execution_count": null,
      "outputs": []
    },
    {
      "cell_type": "code",
      "source": [
        "X_train.shape, y_train.shape\n"
      ],
      "metadata": {
        "id": "5_3rv8eJiPvk",
        "colab": {
          "base_uri": "https://localhost:8080/"
        },
        "outputId": "2c5d9e2a-8180-4656-cea0-933d4e891e4d"
      },
      "execution_count": null,
      "outputs": [
        {
          "output_type": "execute_result",
          "data": {
            "text/plain": [
              "((4,), (4, 1, 1))"
            ]
          },
          "metadata": {},
          "execution_count": 40
        }
      ]
    },
    {
      "cell_type": "code",
      "source": [
        "X_train.ndim, y_train.ndim"
      ],
      "metadata": {
        "id": "_n3bA1HBoNCs",
        "colab": {
          "base_uri": "https://localhost:8080/"
        },
        "outputId": "93848709-f430-46c0-924b-0e323c0318f4"
      },
      "execution_count": null,
      "outputs": [
        {
          "output_type": "execute_result",
          "data": {
            "text/plain": [
              "(1, 3)"
            ]
          },
          "metadata": {},
          "execution_count": 41
        }
      ]
    },
    {
      "cell_type": "code",
      "source": [
        "X_train = np.expand_dims(X_train, axis=1)\n",
        "X_train"
      ],
      "metadata": {
        "id": "teHPQZZblHVc",
        "colab": {
          "base_uri": "https://localhost:8080/"
        },
        "outputId": "965ced77-9497-49ea-8141-53917d174051"
      },
      "execution_count": null,
      "outputs": [
        {
          "output_type": "execute_result",
          "data": {
            "text/plain": [
              "array([[2.],\n",
              "       [4.],\n",
              "       [6.],\n",
              "       [8.]])"
            ]
          },
          "metadata": {},
          "execution_count": 42
        }
      ]
    },
    {
      "cell_type": "code",
      "source": [
        "y_train = np.expand_dims(y_train, axis=1)\n",
        "y_train.ndim\n"
      ],
      "metadata": {
        "id": "kzQXFQxJlbYR",
        "colab": {
          "base_uri": "https://localhost:8080/"
        },
        "outputId": "e279e5a5-2bfd-4557-fdfd-63bd6317e797"
      },
      "execution_count": null,
      "outputs": [
        {
          "output_type": "execute_result",
          "data": {
            "text/plain": [
              "4"
            ]
          },
          "metadata": {},
          "execution_count": 43
        }
      ]
    },
    {
      "cell_type": "code",
      "source": [
        "y_test = np.expand_dims(y_test, axis=1)\n",
        "y_test.ndim"
      ],
      "metadata": {
        "id": "hKnW_8ESCOLx",
        "colab": {
          "base_uri": "https://localhost:8080/"
        },
        "outputId": "54fb31ec-5bab-421e-9741-de4c8a517e9e"
      },
      "execution_count": null,
      "outputs": [
        {
          "output_type": "execute_result",
          "data": {
            "text/plain": [
              "3"
            ]
          },
          "metadata": {},
          "execution_count": 44
        }
      ]
    },
    {
      "cell_type": "code",
      "source": [
        "X_test = np.expand_dims(X_test, axis=1)\n",
        "X_test.ndim"
      ],
      "metadata": {
        "id": "KF8t3r-RCYWQ",
        "colab": {
          "base_uri": "https://localhost:8080/"
        },
        "outputId": "f25df8c1-8e21-4ff7-9b8a-28d5e3b2e183"
      },
      "execution_count": null,
      "outputs": [
        {
          "output_type": "execute_result",
          "data": {
            "text/plain": [
              "4"
            ]
          },
          "metadata": {},
          "execution_count": 45
        }
      ]
    },
    {
      "cell_type": "code",
      "source": [
        "from tensorflow.keras import layers, Sequential\n",
        "\n",
        "model_1 = Sequential([\n",
        "    layers.Dense(1)\n",
        "])\n",
        "model_1.compile(loss='mae',\n",
        "                optimizer='SGD',\n",
        "                metrics=['mae'])\n",
        "model_1.fit(X_train, y_train, epochs=100)"
      ],
      "metadata": {
        "id": "iqeJMcgEhe44",
        "colab": {
          "base_uri": "https://localhost:8080/"
        },
        "outputId": "f6852ec7-1600-4c22-c94c-9ad4142fcffb"
      },
      "execution_count": null,
      "outputs": [
        {
          "output_type": "stream",
          "name": "stdout",
          "text": [
            "Epoch 1/100\n",
            "1/1 [==============================] - 1s 502ms/step - loss: 10.1582 - mae: 10.1582\n",
            "Epoch 2/100\n",
            "1/1 [==============================] - 0s 15ms/step - loss: 9.8982 - mae: 9.8982\n",
            "Epoch 3/100\n",
            "1/1 [==============================] - 0s 14ms/step - loss: 9.6382 - mae: 9.6382\n",
            "Epoch 4/100\n",
            "1/1 [==============================] - 0s 11ms/step - loss: 9.4003 - mae: 9.4003\n",
            "Epoch 5/100\n",
            "1/1 [==============================] - 0s 10ms/step - loss: 9.2327 - mae: 9.2327\n",
            "Epoch 6/100\n",
            "1/1 [==============================] - 0s 10ms/step - loss: 9.0650 - mae: 9.0650\n",
            "Epoch 7/100\n",
            "1/1 [==============================] - 0s 10ms/step - loss: 8.8974 - mae: 8.8974\n",
            "Epoch 8/100\n",
            "1/1 [==============================] - 0s 10ms/step - loss: 8.7297 - mae: 8.7297\n",
            "Epoch 9/100\n",
            "1/1 [==============================] - 0s 11ms/step - loss: 8.5620 - mae: 8.5620\n",
            "Epoch 10/100\n",
            "1/1 [==============================] - 0s 12ms/step - loss: 8.3944 - mae: 8.3944\n",
            "Epoch 11/100\n",
            "1/1 [==============================] - 0s 9ms/step - loss: 8.2267 - mae: 8.2267\n",
            "Epoch 12/100\n",
            "1/1 [==============================] - 0s 13ms/step - loss: 8.0591 - mae: 8.0591\n",
            "Epoch 13/100\n",
            "1/1 [==============================] - 0s 14ms/step - loss: 7.8914 - mae: 7.8914\n",
            "Epoch 14/100\n",
            "1/1 [==============================] - 0s 10ms/step - loss: 7.7238 - mae: 7.7238\n",
            "Epoch 15/100\n",
            "1/1 [==============================] - 0s 10ms/step - loss: 7.5561 - mae: 7.5561\n",
            "Epoch 16/100\n",
            "1/1 [==============================] - 0s 10ms/step - loss: 7.4193 - mae: 7.4193\n",
            "Epoch 17/100\n",
            "1/1 [==============================] - 0s 11ms/step - loss: 7.3648 - mae: 7.3648\n",
            "Epoch 18/100\n",
            "1/1 [==============================] - 0s 9ms/step - loss: 7.3103 - mae: 7.3103\n",
            "Epoch 19/100\n",
            "1/1 [==============================] - 0s 14ms/step - loss: 7.2557 - mae: 7.2557\n",
            "Epoch 20/100\n",
            "1/1 [==============================] - 0s 12ms/step - loss: 7.2012 - mae: 7.2012\n",
            "Epoch 21/100\n",
            "1/1 [==============================] - 0s 9ms/step - loss: 7.1467 - mae: 7.1467\n",
            "Epoch 22/100\n",
            "1/1 [==============================] - 0s 10ms/step - loss: 7.0921 - mae: 7.0921\n",
            "Epoch 23/100\n",
            "1/1 [==============================] - 0s 8ms/step - loss: 7.0376 - mae: 7.0376\n",
            "Epoch 24/100\n",
            "1/1 [==============================] - 0s 10ms/step - loss: 6.9831 - mae: 6.9831\n",
            "Epoch 25/100\n",
            "1/1 [==============================] - 0s 12ms/step - loss: 6.9285 - mae: 6.9285\n",
            "Epoch 26/100\n",
            "1/1 [==============================] - 0s 11ms/step - loss: 6.8740 - mae: 6.8740\n",
            "Epoch 27/100\n",
            "1/1 [==============================] - 0s 13ms/step - loss: 6.8408 - mae: 6.8408\n",
            "Epoch 28/100\n",
            "1/1 [==============================] - 0s 11ms/step - loss: 6.8227 - mae: 6.8227\n",
            "Epoch 29/100\n",
            "1/1 [==============================] - 0s 10ms/step - loss: 6.8046 - mae: 6.8046\n",
            "Epoch 30/100\n",
            "1/1 [==============================] - 0s 11ms/step - loss: 6.7864 - mae: 6.7864\n",
            "Epoch 31/100\n",
            "1/1 [==============================] - 0s 16ms/step - loss: 6.7683 - mae: 6.7683\n",
            "Epoch 32/100\n",
            "1/1 [==============================] - 0s 10ms/step - loss: 6.7502 - mae: 6.7502\n",
            "Epoch 33/100\n",
            "1/1 [==============================] - 0s 9ms/step - loss: 6.7321 - mae: 6.7321\n",
            "Epoch 34/100\n",
            "1/1 [==============================] - 0s 12ms/step - loss: 6.7139 - mae: 6.7139\n",
            "Epoch 35/100\n",
            "1/1 [==============================] - 0s 15ms/step - loss: 6.6958 - mae: 6.6958\n",
            "Epoch 36/100\n",
            "1/1 [==============================] - 0s 13ms/step - loss: 6.6777 - mae: 6.6777\n",
            "Epoch 37/100\n",
            "1/1 [==============================] - 0s 14ms/step - loss: 6.6596 - mae: 6.6596\n",
            "Epoch 38/100\n",
            "1/1 [==============================] - 0s 13ms/step - loss: 6.6414 - mae: 6.6414\n",
            "Epoch 39/100\n",
            "1/1 [==============================] - 0s 11ms/step - loss: 6.6233 - mae: 6.6233\n",
            "Epoch 40/100\n",
            "1/1 [==============================] - 0s 13ms/step - loss: 6.6052 - mae: 6.6052\n",
            "Epoch 41/100\n",
            "1/1 [==============================] - 0s 13ms/step - loss: 6.5871 - mae: 6.5871\n",
            "Epoch 42/100\n",
            "1/1 [==============================] - 0s 14ms/step - loss: 6.5689 - mae: 6.5689\n",
            "Epoch 43/100\n",
            "1/1 [==============================] - 0s 9ms/step - loss: 6.5508 - mae: 6.5508\n",
            "Epoch 44/100\n",
            "1/1 [==============================] - 0s 12ms/step - loss: 6.5327 - mae: 6.5327\n",
            "Epoch 45/100\n",
            "1/1 [==============================] - 0s 13ms/step - loss: 6.5146 - mae: 6.5146\n",
            "Epoch 46/100\n",
            "1/1 [==============================] - 0s 13ms/step - loss: 6.4964 - mae: 6.4964\n",
            "Epoch 47/100\n",
            "1/1 [==============================] - 0s 12ms/step - loss: 6.4783 - mae: 6.4783\n",
            "Epoch 48/100\n",
            "1/1 [==============================] - 0s 14ms/step - loss: 6.4602 - mae: 6.4602\n",
            "Epoch 49/100\n",
            "1/1 [==============================] - 0s 10ms/step - loss: 6.4421 - mae: 6.4421\n",
            "Epoch 50/100\n",
            "1/1 [==============================] - 0s 10ms/step - loss: 6.4239 - mae: 6.4239\n",
            "Epoch 51/100\n",
            "1/1 [==============================] - 0s 10ms/step - loss: 6.4058 - mae: 6.4058\n",
            "Epoch 52/100\n",
            "1/1 [==============================] - 0s 9ms/step - loss: 6.3877 - mae: 6.3877\n",
            "Epoch 53/100\n",
            "1/1 [==============================] - 0s 9ms/step - loss: 6.3696 - mae: 6.3696\n",
            "Epoch 54/100\n",
            "1/1 [==============================] - 0s 10ms/step - loss: 6.3514 - mae: 6.3514\n",
            "Epoch 55/100\n",
            "1/1 [==============================] - 0s 12ms/step - loss: 6.3333 - mae: 6.3333\n",
            "Epoch 56/100\n",
            "1/1 [==============================] - 0s 12ms/step - loss: 6.3152 - mae: 6.3152\n",
            "Epoch 57/100\n",
            "1/1 [==============================] - 0s 9ms/step - loss: 6.3069 - mae: 6.3069\n",
            "Epoch 58/100\n",
            "1/1 [==============================] - 0s 9ms/step - loss: 6.3030 - mae: 6.3030\n",
            "Epoch 59/100\n",
            "1/1 [==============================] - 0s 10ms/step - loss: 6.2991 - mae: 6.2991\n",
            "Epoch 60/100\n",
            "1/1 [==============================] - 0s 9ms/step - loss: 6.2952 - mae: 6.2952\n",
            "Epoch 61/100\n",
            "1/1 [==============================] - 0s 9ms/step - loss: 6.2913 - mae: 6.2913\n",
            "Epoch 62/100\n",
            "1/1 [==============================] - 0s 15ms/step - loss: 6.2874 - mae: 6.2874\n",
            "Epoch 63/100\n",
            "1/1 [==============================] - 0s 13ms/step - loss: 6.2835 - mae: 6.2835\n",
            "Epoch 64/100\n",
            "1/1 [==============================] - 0s 11ms/step - loss: 6.2796 - mae: 6.2796\n",
            "Epoch 65/100\n",
            "1/1 [==============================] - 0s 9ms/step - loss: 6.2757 - mae: 6.2757\n",
            "Epoch 66/100\n",
            "1/1 [==============================] - 0s 11ms/step - loss: 6.2718 - mae: 6.2718\n",
            "Epoch 67/100\n",
            "1/1 [==============================] - 0s 10ms/step - loss: 6.2679 - mae: 6.2679\n",
            "Epoch 68/100\n",
            "1/1 [==============================] - 0s 11ms/step - loss: 6.2639 - mae: 6.2639\n",
            "Epoch 69/100\n",
            "1/1 [==============================] - 0s 14ms/step - loss: 6.2600 - mae: 6.2600\n",
            "Epoch 70/100\n",
            "1/1 [==============================] - 0s 10ms/step - loss: 6.2561 - mae: 6.2561\n",
            "Epoch 71/100\n",
            "1/1 [==============================] - 0s 15ms/step - loss: 6.2522 - mae: 6.2522\n",
            "Epoch 72/100\n",
            "1/1 [==============================] - 0s 10ms/step - loss: 6.2483 - mae: 6.2483\n",
            "Epoch 73/100\n",
            "1/1 [==============================] - 0s 10ms/step - loss: 6.2470 - mae: 6.2470\n",
            "Epoch 74/100\n",
            "1/1 [==============================] - 0s 13ms/step - loss: 6.2460 - mae: 6.2460\n",
            "Epoch 75/100\n",
            "1/1 [==============================] - 0s 10ms/step - loss: 6.2454 - mae: 6.2454\n",
            "Epoch 76/100\n",
            "1/1 [==============================] - 0s 10ms/step - loss: 6.2436 - mae: 6.2436\n",
            "Epoch 77/100\n",
            "1/1 [==============================] - 0s 9ms/step - loss: 6.2439 - mae: 6.2439\n",
            "Epoch 78/100\n",
            "1/1 [==============================] - 0s 12ms/step - loss: 6.2413 - mae: 6.2413\n",
            "Epoch 79/100\n",
            "1/1 [==============================] - 0s 13ms/step - loss: 6.2423 - mae: 6.2423\n",
            "Epoch 80/100\n",
            "1/1 [==============================] - 0s 10ms/step - loss: 6.2392 - mae: 6.2392\n",
            "Epoch 81/100\n",
            "1/1 [==============================] - 0s 10ms/step - loss: 6.2405 - mae: 6.2405\n",
            "Epoch 82/100\n",
            "1/1 [==============================] - 0s 10ms/step - loss: 6.2376 - mae: 6.2376\n",
            "Epoch 83/100\n",
            "1/1 [==============================] - 0s 12ms/step - loss: 6.2382 - mae: 6.2382\n",
            "Epoch 84/100\n",
            "1/1 [==============================] - 0s 13ms/step - loss: 6.2361 - mae: 6.2361\n",
            "Epoch 85/100\n",
            "1/1 [==============================] - 0s 11ms/step - loss: 6.2358 - mae: 6.2358\n",
            "Epoch 86/100\n",
            "1/1 [==============================] - 0s 10ms/step - loss: 6.2345 - mae: 6.2345\n",
            "Epoch 87/100\n",
            "1/1 [==============================] - 0s 10ms/step - loss: 6.2335 - mae: 6.2335\n",
            "Epoch 88/100\n",
            "1/1 [==============================] - 0s 15ms/step - loss: 6.2329 - mae: 6.2329\n",
            "Epoch 89/100\n",
            "1/1 [==============================] - 0s 16ms/step - loss: 6.2311 - mae: 6.2311\n",
            "Epoch 90/100\n",
            "1/1 [==============================] - 0s 16ms/step - loss: 6.2314 - mae: 6.2314\n",
            "Epoch 91/100\n",
            "1/1 [==============================] - 0s 16ms/step - loss: 6.2288 - mae: 6.2288\n",
            "Epoch 92/100\n",
            "1/1 [==============================] - 0s 17ms/step - loss: 6.2298 - mae: 6.2298\n",
            "Epoch 93/100\n",
            "1/1 [==============================] - 0s 13ms/step - loss: 6.2267 - mae: 6.2267\n",
            "Epoch 94/100\n",
            "1/1 [==============================] - 0s 13ms/step - loss: 6.2280 - mae: 6.2280\n",
            "Epoch 95/100\n",
            "1/1 [==============================] - 0s 12ms/step - loss: 6.2251 - mae: 6.2251\n",
            "Epoch 96/100\n",
            "1/1 [==============================] - 0s 11ms/step - loss: 6.2257 - mae: 6.2257\n",
            "Epoch 97/100\n",
            "1/1 [==============================] - 0s 9ms/step - loss: 6.2236 - mae: 6.2236\n",
            "Epoch 98/100\n",
            "1/1 [==============================] - 0s 10ms/step - loss: 6.2233 - mae: 6.2233\n",
            "Epoch 99/100\n",
            "1/1 [==============================] - 0s 10ms/step - loss: 6.2220 - mae: 6.2220\n",
            "Epoch 100/100\n",
            "1/1 [==============================] - 0s 9ms/step - loss: 6.2210 - mae: 6.2210\n"
          ]
        },
        {
          "output_type": "execute_result",
          "data": {
            "text/plain": [
              "<keras.callbacks.History at 0x7f067a5441c0>"
            ]
          },
          "metadata": {},
          "execution_count": 46
        }
      ]
    },
    {
      "cell_type": "code",
      "source": [
        "y_preds_1 = model_1.predict(X_test)\n",
        "plot_predictions(predictions=y_preds_1)"
      ],
      "metadata": {
        "id": "QdWGMsl9mqDC",
        "colab": {
          "base_uri": "https://localhost:8080/",
          "height": 521
        },
        "outputId": "933c5f43-d521-495f-95cb-814cf9e992ed"
      },
      "execution_count": null,
      "outputs": [
        {
          "output_type": "stream",
          "name": "stdout",
          "text": [
            "1/1 [==============================] - 0s 81ms/step\n"
          ]
        },
        {
          "output_type": "display_data",
          "data": {
            "text/plain": [
              "<Figure size 1000x700 with 1 Axes>"
            ],
            "image/png": "[encoded data removed]"
          },
          "metadata": {}
        }
      ]
    },
    {
      "cell_type": "code",
      "source": [
        "# calculate model_1 evaluation metrics\n",
        "mae_1 = tf.metrics.mean_absolute_error(y_test, tf.squeeze(y_preds_1))\n",
        "mse_1 = tf.metrics.mean_squared_error(y_test, tf.squeeze(y_preds_1))\n",
        "tf.squeeze(mae_1.numpy()), tf.squeeze(mse_1.numpy())"
      ],
      "metadata": {
        "id": "QOhs36Kfmcbc",
        "colab": {
          "base_uri": "https://localhost:8080/"
        },
        "outputId": "d11633d5-bb05-478a-b973-33cf270a9620"
      },
      "execution_count": null,
      "outputs": [
        {
          "output_type": "execute_result",
          "data": {
            "text/plain": [
              "(<tf.Tensor: shape=(2,), dtype=float32, numpy=array([16.099468, 10.099468], dtype=float32)>,\n",
              " <tf.Tensor: shape=(2,), dtype=float32, numpy=array([266.43362, 109.23999], dtype=float32)>)"
            ]
          },
          "metadata": {},
          "execution_count": 48
        }
      ]
    },
    {
      "cell_type": "markdown",
      "source": [
        "### Model 2"
      ],
      "metadata": {
        "id": "-kPjqUX7pFuq"
      }
    },
    {
      "cell_type": "code",
      "source": [
        "tf.random.set_seed(42)\n",
        "\n",
        "model_2 = Sequential([\n",
        "    layers.Dense(10),\n",
        "    layers.Dense(1)\n",
        "])\n",
        "model_2.compile(loss='mae',\n",
        "                optimizer='SGD',\n",
        "                metrics=['mse'])\n",
        "model_2.fit(X_train, y_train, epochs=100)"
      ],
      "metadata": {
        "id": "-mPn4PQvnxpH",
        "colab": {
          "base_uri": "https://localhost:8080/"
        },
        "outputId": "8d72c778-07a8-4bb5-9189-d23a412572dd"
      },
      "execution_count": null,
      "outputs": [
        {
          "output_type": "stream",
          "name": "stdout",
          "text": [
            "Epoch 1/100\n",
            "1/1 [==============================] - 0s 433ms/step - loss: 19.7984 - mse: 406.5435\n",
            "Epoch 2/100\n",
            "1/1 [==============================] - 0s 10ms/step - loss: 19.1176 - mse: 379.4000\n",
            "Epoch 3/100\n",
            "1/1 [==============================] - 0s 12ms/step - loss: 18.4624 - mse: 354.3151\n",
            "Epoch 4/100\n",
            "1/1 [==============================] - 0s 12ms/step - loss: 17.8259 - mse: 330.9234\n",
            "Epoch 5/100\n",
            "1/1 [==============================] - 0s 9ms/step - loss: 17.2016 - mse: 308.9114\n",
            "Epoch 6/100\n",
            "1/1 [==============================] - 0s 10ms/step - loss: 16.5829 - mse: 288.0120\n",
            "Epoch 7/100\n",
            "1/1 [==============================] - 0s 11ms/step - loss: 15.9637 - mse: 267.9992\n",
            "Epoch 8/100\n",
            "1/1 [==============================] - 0s 11ms/step - loss: 15.3374 - mse: 248.6852\n",
            "Epoch 9/100\n",
            "1/1 [==============================] - 0s 10ms/step - loss: 14.6978 - mse: 229.9189\n",
            "Epoch 10/100\n",
            "1/1 [==============================] - 0s 11ms/step - loss: 14.0384 - mse: 211.5861\n",
            "Epoch 11/100\n",
            "1/1 [==============================] - 0s 9ms/step - loss: 13.3525 - mse: 193.6107\n",
            "Epoch 12/100\n",
            "1/1 [==============================] - 0s 11ms/step - loss: 12.6332 - mse: 175.9588\n",
            "Epoch 13/100\n",
            "1/1 [==============================] - 0s 12ms/step - loss: 11.8734 - mse: 158.6433\n",
            "Epoch 14/100\n",
            "1/1 [==============================] - 0s 11ms/step - loss: 11.0654 - mse: 141.7318\n",
            "Epoch 15/100\n",
            "1/1 [==============================] - 0s 12ms/step - loss: 10.2012 - mse: 125.3567\n",
            "Epoch 16/100\n",
            "1/1 [==============================] - 0s 10ms/step - loss: 9.2882 - mse: 109.7283\n",
            "Epoch 17/100\n",
            "1/1 [==============================] - 0s 10ms/step - loss: 8.6441 - mse: 97.8724\n",
            "Epoch 18/100\n",
            "1/1 [==============================] - 0s 10ms/step - loss: 7.9571 - mse: 86.9059\n",
            "Epoch 19/100\n",
            "1/1 [==============================] - 0s 9ms/step - loss: 7.2776 - mse: 77.1008\n",
            "Epoch 20/100\n",
            "1/1 [==============================] - 0s 14ms/step - loss: 7.0242 - mse: 72.1154\n",
            "Epoch 21/100\n",
            "1/1 [==============================] - 0s 11ms/step - loss: 6.7604 - mse: 67.6934\n",
            "Epoch 22/100\n",
            "1/1 [==============================] - 0s 12ms/step - loss: 6.5973 - mse: 63.9198\n",
            "Epoch 23/100\n",
            "1/1 [==============================] - 0s 13ms/step - loss: 6.5033 - mse: 62.0668\n",
            "Epoch 24/100\n",
            "1/1 [==============================] - 0s 12ms/step - loss: 6.4072 - mse: 60.4732\n",
            "Epoch 25/100\n",
            "1/1 [==============================] - 0s 10ms/step - loss: 6.3087 - mse: 59.1598\n",
            "Epoch 26/100\n",
            "1/1 [==============================] - 0s 10ms/step - loss: 6.2145 - mse: 58.1486\n",
            "Epoch 27/100\n",
            "1/1 [==============================] - 0s 9ms/step - loss: 6.1933 - mse: 57.7804\n",
            "Epoch 28/100\n",
            "1/1 [==============================] - 0s 9ms/step - loss: 6.1719 - mse: 57.4726\n",
            "Epoch 29/100\n",
            "1/1 [==============================] - 0s 9ms/step - loss: 6.1502 - mse: 57.2270\n",
            "Epoch 30/100\n",
            "1/1 [==============================] - 0s 10ms/step - loss: 6.1547 - mse: 57.0459\n",
            "Epoch 31/100\n",
            "1/1 [==============================] - 0s 9ms/step - loss: 6.1393 - mse: 57.0630\n",
            "Epoch 32/100\n",
            "1/1 [==============================] - 0s 10ms/step - loss: 6.1493 - mse: 56.8945\n",
            "Epoch 33/100\n",
            "1/1 [==============================] - 0s 11ms/step - loss: 6.1330 - mse: 56.9012\n",
            "Epoch 34/100\n",
            "1/1 [==============================] - 0s 10ms/step - loss: 6.1391 - mse: 56.9505\n",
            "Epoch 35/100\n",
            "1/1 [==============================] - 0s 15ms/step - loss: 6.1277 - mse: 56.7420\n",
            "Epoch 36/100\n",
            "1/1 [==============================] - 0s 8ms/step - loss: 6.1281 - mse: 56.7808\n",
            "Epoch 37/100\n",
            "1/1 [==============================] - 0s 8ms/step - loss: 6.1224 - mse: 56.5852\n",
            "Epoch 38/100\n",
            "1/1 [==============================] - 0s 9ms/step - loss: 6.1169 - mse: 56.6131\n",
            "Epoch 39/100\n",
            "1/1 [==============================] - 0s 10ms/step - loss: 6.1172 - mse: 56.4309\n",
            "Epoch 40/100\n",
            "1/1 [==============================] - 0s 9ms/step - loss: 6.1057 - mse: 56.4478\n",
            "Epoch 41/100\n",
            "1/1 [==============================] - 0s 10ms/step - loss: 6.1120 - mse: 56.2792\n",
            "Epoch 42/100\n",
            "1/1 [==============================] - 0s 12ms/step - loss: 6.0959 - mse: 56.2849\n",
            "Epoch 43/100\n",
            "1/1 [==============================] - 0s 11ms/step - loss: 6.1052 - mse: 56.3325\n",
            "Epoch 44/100\n",
            "1/1 [==============================] - 0s 12ms/step - loss: 6.0908 - mse: 56.1251\n",
            "Epoch 45/100\n",
            "1/1 [==============================] - 0s 13ms/step - loss: 6.0938 - mse: 56.1613\n",
            "Epoch 46/100\n",
            "1/1 [==============================] - 0s 12ms/step - loss: 6.0856 - mse: 55.9679\n",
            "Epoch 47/100\n",
            "1/1 [==============================] - 0s 9ms/step - loss: 6.0824 - mse: 55.9927\n",
            "Epoch 48/100\n",
            "1/1 [==============================] - 0s 9ms/step - loss: 6.0805 - mse: 55.8136\n",
            "Epoch 49/100\n",
            "1/1 [==============================] - 0s 11ms/step - loss: 6.0708 - mse: 55.8267\n",
            "Epoch 50/100\n",
            "1/1 [==============================] - 0s 11ms/step - loss: 6.0755 - mse: 55.6623\n",
            "Epoch 51/100\n",
            "1/1 [==============================] - 0s 10ms/step - loss: 6.0596 - mse: 55.6635\n",
            "Epoch 52/100\n",
            "1/1 [==============================] - 0s 11ms/step - loss: 6.0699 - mse: 55.7060\n",
            "Epoch 53/100\n",
            "1/1 [==============================] - 0s 10ms/step - loss: 6.0546 - mse: 55.5037\n",
            "Epoch 54/100\n",
            "1/1 [==============================] - 0s 10ms/step - loss: 6.0582 - mse: 55.5342\n",
            "Epoch 55/100\n",
            "1/1 [==============================] - 0s 17ms/step - loss: 6.0496 - mse: 55.3471\n",
            "Epoch 56/100\n",
            "1/1 [==============================] - 0s 9ms/step - loss: 6.0465 - mse: 55.3654\n",
            "Epoch 57/100\n",
            "1/1 [==============================] - 0s 11ms/step - loss: 6.0446 - mse: 55.1937\n",
            "Epoch 58/100\n",
            "1/1 [==============================] - 0s 11ms/step - loss: 6.0346 - mse: 55.1996\n",
            "Epoch 59/100\n",
            "1/1 [==============================] - 0s 12ms/step - loss: 6.0397 - mse: 55.0437\n",
            "Epoch 60/100\n",
            "1/1 [==============================] - 0s 9ms/step - loss: 6.0240 - mse: 55.0370\n",
            "Epoch 61/100\n",
            "1/1 [==============================] - 0s 9ms/step - loss: 6.0333 - mse: 55.0711\n",
            "Epoch 62/100\n",
            "1/1 [==============================] - 0s 10ms/step - loss: 6.0191 - mse: 54.8783\n",
            "Epoch 63/100\n",
            "1/1 [==============================] - 0s 9ms/step - loss: 6.0213 - mse: 54.8997\n",
            "Epoch 64/100\n",
            "1/1 [==============================] - 0s 10ms/step - loss: 6.0142 - mse: 54.7232\n",
            "Epoch 65/100\n",
            "1/1 [==============================] - 0s 10ms/step - loss: 6.0091 - mse: 54.7317\n",
            "Epoch 66/100\n",
            "1/1 [==============================] - 0s 12ms/step - loss: 6.0094 - mse: 54.5718\n",
            "Epoch 67/100\n",
            "1/1 [==============================] - 0s 13ms/step - loss: 5.9969 - mse: 54.5672\n",
            "Epoch 68/100\n",
            "1/1 [==============================] - 0s 14ms/step - loss: 6.0046 - mse: 54.4244\n",
            "Epoch 69/100\n",
            "1/1 [==============================] - 0s 11ms/step - loss: 5.9890 - mse: 54.4064\n",
            "Epoch 70/100\n",
            "1/1 [==============================] - 0s 9ms/step - loss: 5.9953 - mse: 54.4287\n",
            "Epoch 71/100\n",
            "1/1 [==============================] - 0s 10ms/step - loss: 5.9842 - mse: 54.2500\n",
            "Epoch 72/100\n",
            "1/1 [==============================] - 0s 9ms/step - loss: 5.9829 - mse: 54.2589\n",
            "Epoch 73/100\n",
            "1/1 [==============================] - 0s 9ms/step - loss: 5.9795 - mse: 54.0976\n",
            "Epoch 74/100\n",
            "1/1 [==============================] - 0s 10ms/step - loss: 5.9703 - mse: 54.0930\n",
            "Epoch 75/100\n",
            "1/1 [==============================] - 0s 9ms/step - loss: 5.9747 - mse: 53.9495\n",
            "Epoch 76/100\n",
            "1/1 [==============================] - 0s 11ms/step - loss: 5.9593 - mse: 53.9311\n",
            "Epoch 77/100\n",
            "1/1 [==============================] - 0s 9ms/step - loss: 5.9684 - mse: 53.9523\n",
            "Epoch 78/100\n",
            "1/1 [==============================] - 0s 12ms/step - loss: 5.9546 - mse: 53.7738\n",
            "Epoch 79/100\n",
            "1/1 [==============================] - 0s 12ms/step - loss: 5.9557 - mse: 53.7812\n",
            "Epoch 80/100\n",
            "1/1 [==============================] - 0s 10ms/step - loss: 5.9499 - mse: 53.6210\n",
            "Epoch 81/100\n",
            "1/1 [==============================] - 0s 10ms/step - loss: 5.9429 - mse: 53.6143\n",
            "Epoch 82/100\n",
            "1/1 [==============================] - 0s 10ms/step - loss: 5.9452 - mse: 53.4729\n",
            "Epoch 83/100\n",
            "1/1 [==============================] - 0s 10ms/step - loss: 5.9300 - mse: 53.4519\n",
            "Epoch 84/100\n",
            "1/1 [==============================] - 0s 10ms/step - loss: 5.9406 - mse: 53.3296\n",
            "Epoch 85/100\n",
            "1/1 [==============================] - 0s 10ms/step - loss: 5.9253 - mse: 53.2940\n",
            "Epoch 86/100\n",
            "1/1 [==============================] - 0s 10ms/step - loss: 5.9276 - mse: 53.2978\n",
            "Epoch 87/100\n",
            "1/1 [==============================] - 0s 10ms/step - loss: 5.9206 - mse: 53.1415\n",
            "Epoch 88/100\n",
            "1/1 [==============================] - 0s 10ms/step - loss: 5.9145 - mse: 53.1307\n",
            "Epoch 89/100\n",
            "1/1 [==============================] - 0s 10ms/step - loss: 5.9160 - mse: 52.9939\n",
            "Epoch 90/100\n",
            "1/1 [==============================] - 0s 11ms/step - loss: 5.9013 - mse: 52.9683\n",
            "Epoch 91/100\n",
            "1/1 [==============================] - 0s 11ms/step - loss: 5.9114 - mse: 52.8517\n",
            "Epoch 92/100\n",
            "1/1 [==============================] - 0s 10ms/step - loss: 5.8962 - mse: 52.8110\n",
            "Epoch 93/100\n",
            "1/1 [==============================] - 0s 10ms/step - loss: 5.8985 - mse: 52.8093\n",
            "Epoch 94/100\n",
            "1/1 [==============================] - 0s 10ms/step - loss: 5.8916 - mse: 52.6593\n",
            "Epoch 95/100\n",
            "1/1 [==============================] - 0s 10ms/step - loss: 5.8851 - mse: 52.6425\n",
            "Epoch 96/100\n",
            "1/1 [==============================] - 0s 10ms/step - loss: 5.8870 - mse: 52.5132\n",
            "Epoch 97/100\n",
            "1/1 [==============================] - 0s 10ms/step - loss: 5.8719 - mse: 52.4810\n",
            "Epoch 98/100\n",
            "1/1 [==============================] - 0s 10ms/step - loss: 5.8821 - mse: 52.4873\n",
            "Epoch 99/100\n",
            "1/1 [==============================] - 0s 9ms/step - loss: 5.8674 - mse: 52.3254\n",
            "Epoch 100/100\n",
            "1/1 [==============================] - 0s 11ms/step - loss: 5.8685 - mse: 52.3163\n"
          ]
        },
        {
          "output_type": "execute_result",
          "data": {
            "text/plain": [
              "<keras.callbacks.History at 0x7f067a816770>"
            ]
          },
          "metadata": {},
          "execution_count": 49
        }
      ]
    },
    {
      "cell_type": "code",
      "source": [
        "y_preds_2 = model_2.predict(X_test)\n",
        "plot_predictions(predictions=y_preds_2)"
      ],
      "metadata": {
        "id": "afzeUk7UDEk7",
        "colab": {
          "base_uri": "https://localhost:8080/",
          "height": 514
        },
        "outputId": "50219281-08c8-4d2f-d591-21e3b68df3e6"
      },
      "execution_count": null,
      "outputs": [
        {
          "output_type": "stream",
          "name": "stdout",
          "text": [
            "1/1 [==============================] - 0s 103ms/step\n"
          ]
        },
        {
          "output_type": "display_data",
          "data": {
            "text/plain": [
              "<Figure size 1000x700 with 1 Axes>"
            ],
            "image/png": "[encoded data removed]"
          },
          "metadata": {}
        }
      ]
    },
    {
      "cell_type": "code",
      "source": [
        "mae_2 = tf.metrics.mean_absolute_error(y_test, tf.squeeze(y_preds_2))\n",
        "mse_2 = tf.metrics.mean_squared_error(y_test, tf.squeeze(y_preds_2))\n",
        "tf.squeeze(mae_2.numpy()), tf.squeeze(mse_2.numpy())"
      ],
      "metadata": {
        "id": "xXn2qZ2ksPDa",
        "colab": {
          "base_uri": "https://localhost:8080/"
        },
        "outputId": "11155c48-9105-48e4-c30a-b5c0c9342116"
      },
      "execution_count": null,
      "outputs": [
        {
          "output_type": "execute_result",
          "data": {
            "text/plain": [
              "(<tf.Tensor: shape=(2,), dtype=float32, numpy=array([15.82902,  9.82902], dtype=float32)>,\n",
              " <tf.Tensor: shape=(2,), dtype=float32, numpy=array([257.1116  , 103.163376], dtype=float32)>)"
            ]
          },
          "metadata": {},
          "execution_count": 51
        }
      ]
    },
    {
      "cell_type": "markdown",
      "source": [
        "# Model 3"
      ],
      "metadata": {
        "id": "07QrYtlpDZNT"
      }
    },
    {
      "cell_type": "code",
      "source": [
        "tf.random.set_seed(42)\n",
        "\n",
        "model_3 = Sequential([\n",
        "    layers.Dense(10),\n",
        "    layers.Dense(1)\n",
        "])\n",
        "model_3.compile(loss='mae',\n",
        "                optimizer='SGD',\n",
        "                metrics=['mae'])\n",
        "model_3.fit(X_train, y_train, epochs=500)"
      ],
      "metadata": {
        "id": "HEF7gLkfCtCw",
        "colab": {
          "base_uri": "https://localhost:8080/"
        },
        "outputId": "48de2919-4523-430c-8f26-b0d5a3b03e48"
      },
      "execution_count": null,
      "outputs": [
        {
          "output_type": "stream",
          "name": "stdout",
          "text": [
            "Epoch 1/500\n",
            "1/1 [==============================] - 0s 423ms/step - loss: 14.9816 - mae: 14.9816\n",
            "Epoch 2/500\n",
            "1/1 [==============================] - 0s 12ms/step - loss: 13.9556 - mae: 13.9556\n",
            "Epoch 3/500\n",
            "1/1 [==============================] - 0s 10ms/step - loss: 12.9034 - mae: 12.9034\n",
            "Epoch 4/500\n",
            "1/1 [==============================] - 0s 10ms/step - loss: 11.8143 - mae: 11.8143\n",
            "Epoch 5/500\n",
            "1/1 [==============================] - 0s 10ms/step - loss: 10.6771 - mae: 10.6771\n",
            "Epoch 6/500\n",
            "1/1 [==============================] - 0s 10ms/step - loss: 9.4805 - mae: 9.4805\n",
            "Epoch 7/500\n",
            "1/1 [==============================] - 0s 10ms/step - loss: 8.4537 - mae: 8.4537\n",
            "Epoch 8/500\n",
            "1/1 [==============================] - 0s 12ms/step - loss: 7.5857 - mae: 7.5857\n",
            "Epoch 9/500\n",
            "1/1 [==============================] - 0s 11ms/step - loss: 6.9928 - mae: 6.9928\n",
            "Epoch 10/500\n",
            "1/1 [==============================] - 0s 9ms/step - loss: 6.7447 - mae: 6.7447\n",
            "Epoch 11/500\n",
            "1/1 [==============================] - 0s 10ms/step - loss: 6.6389 - mae: 6.6389\n",
            "Epoch 12/500\n",
            "1/1 [==============================] - 0s 12ms/step - loss: 6.5309 - mae: 6.5309\n",
            "Epoch 13/500\n",
            "1/1 [==============================] - 0s 10ms/step - loss: 6.4206 - mae: 6.4206\n",
            "Epoch 14/500\n",
            "1/1 [==============================] - 0s 11ms/step - loss: 6.3080 - mae: 6.3080\n",
            "Epoch 15/500\n",
            "1/1 [==============================] - 0s 10ms/step - loss: 6.2490 - mae: 6.2490\n",
            "Epoch 16/500\n",
            "1/1 [==============================] - 0s 16ms/step - loss: 6.2339 - mae: 6.2339\n",
            "Epoch 17/500\n",
            "1/1 [==============================] - 0s 10ms/step - loss: 6.2375 - mae: 6.2375\n",
            "Epoch 18/500\n",
            "1/1 [==============================] - 0s 10ms/step - loss: 6.2274 - mae: 6.2274\n",
            "Epoch 19/500\n",
            "1/1 [==============================] - 0s 10ms/step - loss: 6.2259 - mae: 6.2259\n",
            "Epoch 20/500\n",
            "1/1 [==============================] - 0s 10ms/step - loss: 6.2208 - mae: 6.2208\n",
            "Epoch 21/500\n",
            "1/1 [==============================] - 0s 10ms/step - loss: 6.2143 - mae: 6.2143\n",
            "Epoch 22/500\n",
            "1/1 [==============================] - 0s 10ms/step - loss: 6.2144 - mae: 6.2144\n",
            "Epoch 23/500\n",
            "1/1 [==============================] - 0s 9ms/step - loss: 6.2026 - mae: 6.2026\n",
            "Epoch 24/500\n",
            "1/1 [==============================] - 0s 10ms/step - loss: 6.2079 - mae: 6.2079\n",
            "Epoch 25/500\n",
            "1/1 [==============================] - 0s 9ms/step - loss: 6.1908 - mae: 6.1908\n",
            "Epoch 26/500\n",
            "1/1 [==============================] - 0s 9ms/step - loss: 6.2015 - mae: 6.2015\n",
            "Epoch 27/500\n",
            "1/1 [==============================] - 0s 10ms/step - loss: 6.1828 - mae: 6.1828\n",
            "Epoch 28/500\n",
            "1/1 [==============================] - 0s 11ms/step - loss: 6.1912 - mae: 6.1912\n",
            "Epoch 29/500\n",
            "1/1 [==============================] - 0s 10ms/step - loss: 6.1764 - mae: 6.1764\n",
            "Epoch 30/500\n",
            "1/1 [==============================] - 0s 9ms/step - loss: 6.1792 - mae: 6.1792\n",
            "Epoch 31/500\n",
            "1/1 [==============================] - 0s 9ms/step - loss: 6.1701 - mae: 6.1701\n",
            "Epoch 32/500\n",
            "1/1 [==============================] - 0s 10ms/step - loss: 6.1672 - mae: 6.1672\n",
            "Epoch 33/500\n",
            "1/1 [==============================] - 0s 10ms/step - loss: 6.1639 - mae: 6.1639\n",
            "Epoch 34/500\n",
            "1/1 [==============================] - 0s 10ms/step - loss: 6.1552 - mae: 6.1552\n",
            "Epoch 35/500\n",
            "1/1 [==============================] - 0s 10ms/step - loss: 6.1576 - mae: 6.1576\n",
            "Epoch 36/500\n",
            "1/1 [==============================] - 0s 10ms/step - loss: 6.1430 - mae: 6.1430\n",
            "Epoch 37/500\n",
            "1/1 [==============================] - 0s 11ms/step - loss: 6.1514 - mae: 6.1514\n",
            "Epoch 38/500\n",
            "1/1 [==============================] - 0s 9ms/step - loss: 6.1330 - mae: 6.1330\n",
            "Epoch 39/500\n",
            "1/1 [==============================] - 0s 10ms/step - loss: 6.1430 - mae: 6.1430\n",
            "Epoch 40/500\n",
            "1/1 [==============================] - 0s 10ms/step - loss: 6.1268 - mae: 6.1268\n",
            "Epoch 41/500\n",
            "1/1 [==============================] - 0s 11ms/step - loss: 6.1307 - mae: 6.1307\n",
            "Epoch 42/500\n",
            "1/1 [==============================] - 0s 11ms/step - loss: 6.1207 - mae: 6.1207\n",
            "Epoch 43/500\n",
            "1/1 [==============================] - 0s 11ms/step - loss: 6.1183 - mae: 6.1183\n",
            "Epoch 44/500\n",
            "1/1 [==============================] - 0s 13ms/step - loss: 6.1147 - mae: 6.1147\n",
            "Epoch 45/500\n",
            "1/1 [==============================] - 0s 10ms/step - loss: 6.1059 - mae: 6.1059\n",
            "Epoch 46/500\n",
            "1/1 [==============================] - 0s 10ms/step - loss: 6.1086 - mae: 6.1086\n",
            "Epoch 47/500\n",
            "1/1 [==============================] - 0s 13ms/step - loss: 6.0933 - mae: 6.0933\n",
            "Epoch 48/500\n",
            "1/1 [==============================] - 0s 9ms/step - loss: 6.1026 - mae: 6.1026\n",
            "Epoch 49/500\n",
            "1/1 [==============================] - 0s 10ms/step - loss: 6.0843 - mae: 6.0843\n",
            "Epoch 50/500\n",
            "1/1 [==============================] - 0s 10ms/step - loss: 6.0928 - mae: 6.0928\n",
            "Epoch 51/500\n",
            "1/1 [==============================] - 0s 10ms/step - loss: 6.0784 - mae: 6.0784\n",
            "Epoch 52/500\n",
            "1/1 [==============================] - 0s 10ms/step - loss: 6.0801 - mae: 6.0801\n",
            "Epoch 53/500\n",
            "1/1 [==============================] - 0s 12ms/step - loss: 6.0725 - mae: 6.0725\n",
            "Epoch 54/500\n",
            "1/1 [==============================] - 0s 11ms/step - loss: 6.0673 - mae: 6.0673\n",
            "Epoch 55/500\n",
            "1/1 [==============================] - 0s 10ms/step - loss: 6.0665 - mae: 6.0665\n",
            "Epoch 56/500\n",
            "1/1 [==============================] - 0s 9ms/step - loss: 6.0544 - mae: 6.0544\n",
            "Epoch 57/500\n",
            "1/1 [==============================] - 0s 13ms/step - loss: 6.0606 - mae: 6.0606\n",
            "Epoch 58/500\n",
            "1/1 [==============================] - 0s 10ms/step - loss: 6.0426 - mae: 6.0426\n",
            "Epoch 59/500\n",
            "1/1 [==============================] - 0s 10ms/step - loss: 6.0536 - mae: 6.0536\n",
            "Epoch 60/500\n",
            "1/1 [==============================] - 0s 13ms/step - loss: 6.0367 - mae: 6.0367\n",
            "Epoch 61/500\n",
            "1/1 [==============================] - 0s 10ms/step - loss: 6.0406 - mae: 6.0406\n",
            "Epoch 62/500\n",
            "1/1 [==============================] - 0s 9ms/step - loss: 6.0309 - mae: 6.0309\n",
            "Epoch 63/500\n",
            "1/1 [==============================] - 0s 14ms/step - loss: 6.0274 - mae: 6.0274\n",
            "Epoch 64/500\n",
            "1/1 [==============================] - 0s 10ms/step - loss: 6.0251 - mae: 6.0251\n",
            "Epoch 65/500\n",
            "1/1 [==============================] - 0s 11ms/step - loss: 6.0141 - mae: 6.0141\n",
            "Epoch 66/500\n",
            "1/1 [==============================] - 0s 11ms/step - loss: 6.0193 - mae: 6.0193\n",
            "Epoch 67/500\n",
            "1/1 [==============================] - 0s 10ms/step - loss: 6.0014 - mae: 6.0014\n",
            "Epoch 68/500\n",
            "1/1 [==============================] - 0s 10ms/step - loss: 6.0129 - mae: 6.0129\n",
            "Epoch 69/500\n",
            "1/1 [==============================] - 0s 11ms/step - loss: 5.9957 - mae: 5.9957\n",
            "Epoch 70/500\n",
            "1/1 [==============================] - 0s 11ms/step - loss: 5.9995 - mae: 5.9995\n",
            "Epoch 71/500\n",
            "1/1 [==============================] - 0s 10ms/step - loss: 5.9899 - mae: 5.9899\n",
            "Epoch 72/500\n",
            "1/1 [==============================] - 0s 11ms/step - loss: 5.9859 - mae: 5.9859\n",
            "Epoch 73/500\n",
            "1/1 [==============================] - 0s 10ms/step - loss: 5.9842 - mae: 5.9842\n",
            "Epoch 74/500\n",
            "1/1 [==============================] - 0s 10ms/step - loss: 5.9723 - mae: 5.9723\n",
            "Epoch 75/500\n",
            "1/1 [==============================] - 0s 10ms/step - loss: 5.9785 - mae: 5.9785\n",
            "Epoch 76/500\n",
            "1/1 [==============================] - 0s 10ms/step - loss: 5.9607 - mae: 5.9607\n",
            "Epoch 77/500\n",
            "1/1 [==============================] - 0s 10ms/step - loss: 5.9706 - mae: 5.9706\n",
            "Epoch 78/500\n",
            "1/1 [==============================] - 0s 9ms/step - loss: 5.9551 - mae: 5.9551\n",
            "Epoch 79/500\n",
            "1/1 [==============================] - 0s 9ms/step - loss: 5.9568 - mae: 5.9568\n",
            "Epoch 80/500\n",
            "1/1 [==============================] - 0s 10ms/step - loss: 5.9494 - mae: 5.9494\n",
            "Epoch 81/500\n",
            "1/1 [==============================] - 0s 10ms/step - loss: 5.9429 - mae: 5.9429\n",
            "Epoch 82/500\n",
            "1/1 [==============================] - 0s 10ms/step - loss: 5.9438 - mae: 5.9438\n",
            "Epoch 83/500\n",
            "1/1 [==============================] - 0s 10ms/step - loss: 5.9288 - mae: 5.9288\n",
            "Epoch 84/500\n",
            "1/1 [==============================] - 0s 11ms/step - loss: 5.9382 - mae: 5.9382\n",
            "Epoch 85/500\n",
            "1/1 [==============================] - 0s 11ms/step - loss: 5.9204 - mae: 5.9204\n",
            "Epoch 86/500\n",
            "1/1 [==============================] - 0s 14ms/step - loss: 5.9267 - mae: 5.9267\n",
            "Epoch 87/500\n",
            "1/1 [==============================] - 0s 12ms/step - loss: 5.9149 - mae: 5.9149\n",
            "Epoch 88/500\n",
            "1/1 [==============================] - 0s 12ms/step - loss: 5.9125 - mae: 5.9125\n",
            "Epoch 89/500\n",
            "1/1 [==============================] - 0s 10ms/step - loss: 5.9093 - mae: 5.9093\n",
            "Epoch 90/500\n",
            "1/1 [==============================] - 0s 9ms/step - loss: 5.8981 - mae: 5.8981\n",
            "Epoch 91/500\n",
            "1/1 [==============================] - 0s 10ms/step - loss: 5.9037 - mae: 5.9037\n",
            "Epoch 92/500\n",
            "1/1 [==============================] - 0s 10ms/step - loss: 5.8860 - mae: 5.8860\n",
            "Epoch 93/500\n",
            "1/1 [==============================] - 0s 9ms/step - loss: 5.8956 - mae: 5.8956\n",
            "Epoch 94/500\n",
            "1/1 [==============================] - 0s 9ms/step - loss: 5.8805 - mae: 5.8805\n",
            "Epoch 95/500\n",
            "1/1 [==============================] - 0s 9ms/step - loss: 5.8811 - mae: 5.8811\n",
            "Epoch 96/500\n",
            "1/1 [==============================] - 0s 10ms/step - loss: 5.8749 - mae: 5.8749\n",
            "Epoch 97/500\n",
            "1/1 [==============================] - 0s 10ms/step - loss: 5.8664 - mae: 5.8664\n",
            "Epoch 98/500\n",
            "1/1 [==============================] - 0s 10ms/step - loss: 5.8694 - mae: 5.8694\n",
            "Epoch 99/500\n",
            "1/1 [==============================] - 0s 9ms/step - loss: 5.8518 - mae: 5.8518\n",
            "Epoch 100/500\n",
            "1/1 [==============================] - 0s 10ms/step - loss: 5.8635 - mae: 5.8635\n",
            "Epoch 101/500\n",
            "1/1 [==============================] - 0s 9ms/step - loss: 5.8463 - mae: 5.8463\n",
            "Epoch 102/500\n",
            "1/1 [==============================] - 0s 12ms/step - loss: 5.8486 - mae: 5.8486\n",
            "Epoch 103/500\n",
            "1/1 [==============================] - 0s 10ms/step - loss: 5.8407 - mae: 5.8407\n",
            "Epoch 104/500\n",
            "1/1 [==============================] - 0s 9ms/step - loss: 5.8335 - mae: 5.8335\n",
            "Epoch 105/500\n",
            "1/1 [==============================] - 0s 12ms/step - loss: 5.8355 - mae: 5.8355\n",
            "Epoch 106/500\n",
            "1/1 [==============================] - 0s 10ms/step - loss: 5.8395 - mae: 5.8395\n",
            "Epoch 107/500\n",
            "1/1 [==============================] - 0s 10ms/step - loss: 5.8154 - mae: 5.8154\n",
            "Epoch 108/500\n",
            "1/1 [==============================] - 0s 10ms/step - loss: 5.8244 - mae: 5.8244\n",
            "Epoch 109/500\n",
            "1/1 [==============================] - 0s 10ms/step - loss: 5.8099 - mae: 5.8099\n",
            "Epoch 110/500\n",
            "1/1 [==============================] - 0s 10ms/step - loss: 5.8090 - mae: 5.8090\n",
            "Epoch 111/500\n",
            "1/1 [==============================] - 0s 10ms/step - loss: 5.8071 - mae: 5.8071\n",
            "Epoch 112/500\n",
            "1/1 [==============================] - 0s 10ms/step - loss: 5.8149 - mae: 5.8149\n",
            "Epoch 113/500\n",
            "1/1 [==============================] - 0s 10ms/step - loss: 5.7875 - mae: 5.7875\n",
            "Epoch 114/500\n",
            "1/1 [==============================] - 0s 10ms/step - loss: 5.8092 - mae: 5.8092\n",
            "Epoch 115/500\n",
            "1/1 [==============================] - 0s 10ms/step - loss: 5.7933 - mae: 5.7933\n",
            "Epoch 116/500\n",
            "1/1 [==============================] - 0s 10ms/step - loss: 5.7780 - mae: 5.7780\n",
            "Epoch 117/500\n",
            "1/1 [==============================] - 0s 11ms/step - loss: 5.7990 - mae: 5.7990\n",
            "Epoch 118/500\n",
            "1/1 [==============================] - 0s 11ms/step - loss: 5.7715 - mae: 5.7715\n",
            "Epoch 119/500\n",
            "1/1 [==============================] - 0s 11ms/step - loss: 5.7803 - mae: 5.7803\n",
            "Epoch 120/500\n",
            "1/1 [==============================] - 0s 10ms/step - loss: 5.7771 - mae: 5.7771\n",
            "Epoch 121/500\n",
            "1/1 [==============================] - 0s 10ms/step - loss: 5.7494 - mae: 5.7494\n",
            "Epoch 122/500\n",
            "1/1 [==============================] - 0s 11ms/step - loss: 5.7500 - mae: 5.7500\n",
            "Epoch 123/500\n",
            "1/1 [==============================] - 0s 10ms/step - loss: 5.7763 - mae: 5.7763\n",
            "Epoch 124/500\n",
            "1/1 [==============================] - 0s 10ms/step - loss: 5.7485 - mae: 5.7485\n",
            "Epoch 125/500\n",
            "1/1 [==============================] - 0s 10ms/step - loss: 5.7525 - mae: 5.7525\n",
            "Epoch 126/500\n",
            "1/1 [==============================] - 0s 10ms/step - loss: 5.7540 - mae: 5.7540\n",
            "Epoch 127/500\n",
            "1/1 [==============================] - 0s 10ms/step - loss: 5.7282 - mae: 5.7282\n",
            "Epoch 128/500\n",
            "1/1 [==============================] - 0s 10ms/step - loss: 5.7247 - mae: 5.7247\n",
            "Epoch 129/500\n",
            "1/1 [==============================] - 0s 10ms/step - loss: 5.7232 - mae: 5.7232\n",
            "Epoch 130/500\n",
            "1/1 [==============================] - 0s 10ms/step - loss: 5.7464 - mae: 5.7464\n",
            "Epoch 131/500\n",
            "1/1 [==============================] - 0s 10ms/step - loss: 5.7183 - mae: 5.7183\n",
            "Epoch 132/500\n",
            "1/1 [==============================] - 0s 10ms/step - loss: 5.7259 - mae: 5.7259\n",
            "Epoch 133/500\n",
            "1/1 [==============================] - 0s 10ms/step - loss: 5.7236 - mae: 5.7236\n",
            "Epoch 134/500\n",
            "1/1 [==============================] - 0s 10ms/step - loss: 5.7031 - mae: 5.7031\n",
            "Epoch 135/500\n",
            "1/1 [==============================] - 0s 10ms/step - loss: 5.6995 - mae: 5.6995\n",
            "Epoch 136/500\n",
            "1/1 [==============================] - 0s 10ms/step - loss: 5.6969 - mae: 5.6969\n",
            "Epoch 137/500\n",
            "1/1 [==============================] - 0s 10ms/step - loss: 5.7155 - mae: 5.7155\n",
            "Epoch 138/500\n",
            "1/1 [==============================] - 0s 10ms/step - loss: 5.6902 - mae: 5.6902\n",
            "Epoch 139/500\n",
            "1/1 [==============================] - 0s 10ms/step - loss: 5.6866 - mae: 5.6866\n",
            "Epoch 140/500\n",
            "1/1 [==============================] - 0s 12ms/step - loss: 5.6830 - mae: 5.6830\n",
            "Epoch 141/500\n",
            "1/1 [==============================] - 0s 10ms/step - loss: 5.6793 - mae: 5.6793\n",
            "Epoch 142/500\n",
            "1/1 [==============================] - 0s 10ms/step - loss: 5.6757 - mae: 5.6757\n",
            "Epoch 143/500\n",
            "1/1 [==============================] - 0s 11ms/step - loss: 5.6721 - mae: 5.6721\n",
            "Epoch 144/500\n",
            "1/1 [==============================] - 0s 11ms/step - loss: 5.6719 - mae: 5.6719\n",
            "Epoch 145/500\n",
            "1/1 [==============================] - 0s 10ms/step - loss: 5.6800 - mae: 5.6800\n",
            "Epoch 146/500\n",
            "1/1 [==============================] - 0s 11ms/step - loss: 5.6625 - mae: 5.6625\n",
            "Epoch 147/500\n",
            "1/1 [==============================] - 0s 13ms/step - loss: 5.6589 - mae: 5.6589\n",
            "Epoch 148/500\n",
            "1/1 [==============================] - 0s 8ms/step - loss: 5.6552 - mae: 5.6552\n",
            "Epoch 149/500\n",
            "1/1 [==============================] - 0s 13ms/step - loss: 5.6515 - mae: 5.6515\n",
            "Epoch 150/500\n",
            "1/1 [==============================] - 0s 12ms/step - loss: 5.6478 - mae: 5.6478\n",
            "Epoch 151/500\n",
            "1/1 [==============================] - 0s 14ms/step - loss: 5.6463 - mae: 5.6463\n",
            "Epoch 152/500\n",
            "1/1 [==============================] - 0s 13ms/step - loss: 5.6504 - mae: 5.6504\n",
            "Epoch 153/500\n",
            "1/1 [==============================] - 0s 11ms/step - loss: 5.6381 - mae: 5.6381\n",
            "Epoch 154/500\n",
            "1/1 [==============================] - 0s 11ms/step - loss: 5.6344 - mae: 5.6344\n",
            "Epoch 155/500\n",
            "1/1 [==============================] - 0s 10ms/step - loss: 5.6306 - mae: 5.6306\n",
            "Epoch 156/500\n",
            "1/1 [==============================] - 0s 9ms/step - loss: 5.6268 - mae: 5.6268\n",
            "Epoch 157/500\n",
            "1/1 [==============================] - 0s 12ms/step - loss: 5.6231 - mae: 5.6231\n",
            "Epoch 158/500\n",
            "1/1 [==============================] - 0s 12ms/step - loss: 5.6209 - mae: 5.6209\n",
            "Epoch 159/500\n",
            "1/1 [==============================] - 0s 12ms/step - loss: 5.6204 - mae: 5.6204\n",
            "Epoch 160/500\n",
            "1/1 [==============================] - 0s 17ms/step - loss: 5.6166 - mae: 5.6166\n",
            "Epoch 161/500\n",
            "1/1 [==============================] - 0s 10ms/step - loss: 5.6128 - mae: 5.6128\n",
            "Epoch 162/500\n",
            "1/1 [==============================] - 0s 10ms/step - loss: 5.6090 - mae: 5.6090\n",
            "Epoch 163/500\n",
            "1/1 [==============================] - 0s 11ms/step - loss: 5.6052 - mae: 5.6052\n",
            "Epoch 164/500\n",
            "1/1 [==============================] - 0s 10ms/step - loss: 5.6014 - mae: 5.6014\n",
            "Epoch 165/500\n",
            "1/1 [==============================] - 0s 11ms/step - loss: 5.5975 - mae: 5.5975\n",
            "Epoch 166/500\n",
            "1/1 [==============================] - 0s 12ms/step - loss: 5.5937 - mae: 5.5937\n",
            "Epoch 167/500\n",
            "1/1 [==============================] - 0s 12ms/step - loss: 5.5898 - mae: 5.5898\n",
            "Epoch 168/500\n",
            "1/1 [==============================] - 0s 12ms/step - loss: 5.5859 - mae: 5.5859\n",
            "Epoch 169/500\n",
            "1/1 [==============================] - 0s 10ms/step - loss: 5.5820 - mae: 5.5820\n",
            "Epoch 170/500\n",
            "1/1 [==============================] - 0s 10ms/step - loss: 5.5781 - mae: 5.5781\n",
            "Epoch 171/500\n",
            "1/1 [==============================] - 0s 9ms/step - loss: 5.5742 - mae: 5.5742\n",
            "Epoch 172/500\n",
            "1/1 [==============================] - 0s 9ms/step - loss: 5.5708 - mae: 5.5708\n",
            "Epoch 173/500\n",
            "1/1 [==============================] - 0s 9ms/step - loss: 5.5714 - mae: 5.5714\n",
            "Epoch 174/500\n",
            "1/1 [==============================] - 0s 10ms/step - loss: 5.5675 - mae: 5.5675\n",
            "Epoch 175/500\n",
            "1/1 [==============================] - 0s 9ms/step - loss: 5.5636 - mae: 5.5636\n",
            "Epoch 176/500\n",
            "1/1 [==============================] - 0s 10ms/step - loss: 5.5596 - mae: 5.5596\n",
            "Epoch 177/500\n",
            "1/1 [==============================] - 0s 10ms/step - loss: 5.5557 - mae: 5.5557\n",
            "Epoch 178/500\n",
            "1/1 [==============================] - 0s 10ms/step - loss: 5.5517 - mae: 5.5517\n",
            "Epoch 179/500\n",
            "1/1 [==============================] - 0s 10ms/step - loss: 5.5477 - mae: 5.5477\n",
            "Epoch 180/500\n",
            "1/1 [==============================] - 0s 9ms/step - loss: 5.5437 - mae: 5.5437\n",
            "Epoch 181/500\n",
            "1/1 [==============================] - 0s 9ms/step - loss: 5.5397 - mae: 5.5397\n",
            "Epoch 182/500\n",
            "1/1 [==============================] - 0s 9ms/step - loss: 5.5356 - mae: 5.5356\n",
            "Epoch 183/500\n",
            "1/1 [==============================] - 0s 10ms/step - loss: 5.5316 - mae: 5.5316\n",
            "Epoch 184/500\n",
            "1/1 [==============================] - 0s 11ms/step - loss: 5.5275 - mae: 5.5275\n",
            "Epoch 185/500\n",
            "1/1 [==============================] - 0s 9ms/step - loss: 5.5235 - mae: 5.5235\n",
            "Epoch 186/500\n",
            "1/1 [==============================] - 0s 11ms/step - loss: 5.5214 - mae: 5.5214\n",
            "Epoch 187/500\n",
            "1/1 [==============================] - 0s 13ms/step - loss: 5.5206 - mae: 5.5206\n",
            "Epoch 188/500\n",
            "1/1 [==============================] - 0s 10ms/step - loss: 5.5165 - mae: 5.5165\n",
            "Epoch 189/500\n",
            "1/1 [==============================] - 0s 8ms/step - loss: 5.5124 - mae: 5.5124\n",
            "Epoch 190/500\n",
            "1/1 [==============================] - 0s 9ms/step - loss: 5.5083 - mae: 5.5083\n",
            "Epoch 191/500\n",
            "1/1 [==============================] - 0s 9ms/step - loss: 5.5042 - mae: 5.5042\n",
            "Epoch 192/500\n",
            "1/1 [==============================] - 0s 10ms/step - loss: 5.5000 - mae: 5.5000\n",
            "Epoch 193/500\n",
            "1/1 [==============================] - 0s 9ms/step - loss: 5.4959 - mae: 5.4959\n",
            "Epoch 194/500\n",
            "1/1 [==============================] - 0s 9ms/step - loss: 5.4917 - mae: 5.4917\n",
            "Epoch 195/500\n",
            "1/1 [==============================] - 0s 10ms/step - loss: 5.4875 - mae: 5.4875\n",
            "Epoch 196/500\n",
            "1/1 [==============================] - 0s 11ms/step - loss: 5.4833 - mae: 5.4833\n",
            "Epoch 197/500\n",
            "1/1 [==============================] - 0s 10ms/step - loss: 5.4791 - mae: 5.4791\n",
            "Epoch 198/500\n",
            "1/1 [==============================] - 0s 11ms/step - loss: 5.4749 - mae: 5.4749\n",
            "Epoch 199/500\n",
            "1/1 [==============================] - 0s 9ms/step - loss: 5.4709 - mae: 5.4709\n",
            "Epoch 200/500\n",
            "1/1 [==============================] - 0s 10ms/step - loss: 5.4719 - mae: 5.4719\n",
            "Epoch 201/500\n",
            "1/1 [==============================] - 0s 11ms/step - loss: 5.4677 - mae: 5.4677\n",
            "Epoch 202/500\n",
            "1/1 [==============================] - 0s 10ms/step - loss: 5.4634 - mae: 5.4634\n",
            "Epoch 203/500\n",
            "1/1 [==============================] - 0s 10ms/step - loss: 5.4591 - mae: 5.4591\n",
            "Epoch 204/500\n",
            "1/1 [==============================] - 0s 9ms/step - loss: 5.4548 - mae: 5.4548\n",
            "Epoch 205/500\n",
            "1/1 [==============================] - 0s 16ms/step - loss: 5.4505 - mae: 5.4505\n",
            "Epoch 206/500\n",
            "1/1 [==============================] - 0s 12ms/step - loss: 5.4462 - mae: 5.4462\n",
            "Epoch 207/500\n",
            "1/1 [==============================] - 0s 10ms/step - loss: 5.4419 - mae: 5.4419\n",
            "Epoch 208/500\n",
            "1/1 [==============================] - 0s 9ms/step - loss: 5.4375 - mae: 5.4375\n",
            "Epoch 209/500\n",
            "1/1 [==============================] - 0s 10ms/step - loss: 5.4332 - mae: 5.4332\n",
            "Epoch 210/500\n",
            "1/1 [==============================] - 0s 10ms/step - loss: 5.4288 - mae: 5.4288\n",
            "Epoch 211/500\n",
            "1/1 [==============================] - 0s 13ms/step - loss: 5.4244 - mae: 5.4244\n",
            "Epoch 212/500\n",
            "1/1 [==============================] - 0s 14ms/step - loss: 5.4204 - mae: 5.4204\n",
            "Epoch 213/500\n",
            "1/1 [==============================] - 0s 14ms/step - loss: 5.4213 - mae: 5.4213\n",
            "Epoch 214/500\n",
            "1/1 [==============================] - 0s 13ms/step - loss: 5.4169 - mae: 5.4169\n",
            "Epoch 215/500\n",
            "1/1 [==============================] - 0s 10ms/step - loss: 5.4124 - mae: 5.4124\n",
            "Epoch 216/500\n",
            "1/1 [==============================] - 0s 10ms/step - loss: 5.4080 - mae: 5.4080\n",
            "Epoch 217/500\n",
            "1/1 [==============================] - 0s 10ms/step - loss: 5.4035 - mae: 5.4035\n",
            "Epoch 218/500\n",
            "1/1 [==============================] - 0s 9ms/step - loss: 5.3990 - mae: 5.3990\n",
            "Epoch 219/500\n",
            "1/1 [==============================] - 0s 9ms/step - loss: 5.3945 - mae: 5.3945\n",
            "Epoch 220/500\n",
            "1/1 [==============================] - 0s 10ms/step - loss: 5.3900 - mae: 5.3900\n",
            "Epoch 221/500\n",
            "1/1 [==============================] - 0s 9ms/step - loss: 5.3855 - mae: 5.3855\n",
            "Epoch 222/500\n",
            "1/1 [==============================] - 0s 9ms/step - loss: 5.3809 - mae: 5.3809\n",
            "Epoch 223/500\n",
            "1/1 [==============================] - 0s 9ms/step - loss: 5.3764 - mae: 5.3764\n",
            "Epoch 224/500\n",
            "1/1 [==============================] - 0s 9ms/step - loss: 5.3718 - mae: 5.3718\n",
            "Epoch 225/500\n",
            "1/1 [==============================] - 0s 8ms/step - loss: 5.3697 - mae: 5.3697\n",
            "Epoch 226/500\n",
            "1/1 [==============================] - 0s 9ms/step - loss: 5.3685 - mae: 5.3685\n",
            "Epoch 227/500\n",
            "1/1 [==============================] - 0s 10ms/step - loss: 5.3639 - mae: 5.3639\n",
            "Epoch 228/500\n",
            "1/1 [==============================] - 0s 10ms/step - loss: 5.3593 - mae: 5.3593\n",
            "Epoch 229/500\n",
            "1/1 [==============================] - 0s 12ms/step - loss: 5.3547 - mae: 5.3547\n",
            "Epoch 230/500\n",
            "1/1 [==============================] - 0s 13ms/step - loss: 5.3500 - mae: 5.3500\n",
            "Epoch 231/500\n",
            "1/1 [==============================] - 0s 12ms/step - loss: 5.3453 - mae: 5.3453\n",
            "Epoch 232/500\n",
            "1/1 [==============================] - 0s 14ms/step - loss: 5.3406 - mae: 5.3406\n",
            "Epoch 233/500\n",
            "1/1 [==============================] - 0s 12ms/step - loss: 5.3359 - mae: 5.3359\n",
            "Epoch 234/500\n",
            "1/1 [==============================] - 0s 13ms/step - loss: 5.3312 - mae: 5.3312\n",
            "Epoch 235/500\n",
            "1/1 [==============================] - 0s 14ms/step - loss: 5.3265 - mae: 5.3265\n",
            "Epoch 236/500\n",
            "1/1 [==============================] - 0s 13ms/step - loss: 5.3217 - mae: 5.3217\n",
            "Epoch 237/500\n",
            "1/1 [==============================] - 0s 9ms/step - loss: 5.3170 - mae: 5.3170\n",
            "Epoch 238/500\n",
            "1/1 [==============================] - 0s 9ms/step - loss: 5.3183 - mae: 5.3183\n",
            "Epoch 239/500\n",
            "1/1 [==============================] - 0s 9ms/step - loss: 5.3135 - mae: 5.3135\n",
            "Epoch 240/500\n",
            "1/1 [==============================] - 0s 9ms/step - loss: 5.3087 - mae: 5.3087\n",
            "Epoch 241/500\n",
            "1/1 [==============================] - 0s 10ms/step - loss: 5.3038 - mae: 5.3038\n",
            "Epoch 242/500\n",
            "1/1 [==============================] - 0s 11ms/step - loss: 5.2990 - mae: 5.2990\n",
            "Epoch 243/500\n",
            "1/1 [==============================] - 0s 10ms/step - loss: 5.2942 - mae: 5.2942\n",
            "Epoch 244/500\n",
            "1/1 [==============================] - 0s 12ms/step - loss: 5.2893 - mae: 5.2893\n",
            "Epoch 245/500\n",
            "1/1 [==============================] - 0s 9ms/step - loss: 5.2844 - mae: 5.2844\n",
            "Epoch 246/500\n",
            "1/1 [==============================] - 0s 9ms/step - loss: 5.2795 - mae: 5.2795\n",
            "Epoch 247/500\n",
            "1/1 [==============================] - 0s 9ms/step - loss: 5.2745 - mae: 5.2745\n",
            "Epoch 248/500\n",
            "1/1 [==============================] - 0s 9ms/step - loss: 5.2696 - mae: 5.2696\n",
            "Epoch 249/500\n",
            "1/1 [==============================] - 0s 12ms/step - loss: 5.2646 - mae: 5.2646\n",
            "Epoch 250/500\n",
            "1/1 [==============================] - 0s 10ms/step - loss: 5.2648 - mae: 5.2648\n",
            "Epoch 251/500\n",
            "1/1 [==============================] - 0s 10ms/step - loss: 5.2609 - mae: 5.2609\n",
            "Epoch 252/500\n",
            "1/1 [==============================] - 0s 9ms/step - loss: 5.2559 - mae: 5.2559\n",
            "Epoch 253/500\n",
            "1/1 [==============================] - 0s 9ms/step - loss: 5.2509 - mae: 5.2509\n",
            "Epoch 254/500\n",
            "1/1 [==============================] - 0s 12ms/step - loss: 5.2459 - mae: 5.2459\n",
            "Epoch 255/500\n",
            "1/1 [==============================] - 0s 12ms/step - loss: 5.2408 - mae: 5.2408\n",
            "Epoch 256/500\n",
            "1/1 [==============================] - 0s 11ms/step - loss: 5.2357 - mae: 5.2357\n",
            "Epoch 257/500\n",
            "1/1 [==============================] - 0s 9ms/step - loss: 5.2306 - mae: 5.2306\n",
            "Epoch 258/500\n",
            "1/1 [==============================] - 0s 9ms/step - loss: 5.2255 - mae: 5.2255\n",
            "Epoch 259/500\n",
            "1/1 [==============================] - 0s 10ms/step - loss: 5.2204 - mae: 5.2204\n",
            "Epoch 260/500\n",
            "1/1 [==============================] - 0s 10ms/step - loss: 5.2152 - mae: 5.2152\n",
            "Epoch 261/500\n",
            "1/1 [==============================] - 0s 11ms/step - loss: 5.2100 - mae: 5.2100\n",
            "Epoch 262/500\n",
            "1/1 [==============================] - 0s 10ms/step - loss: 5.2101 - mae: 5.2101\n",
            "Epoch 263/500\n",
            "1/1 [==============================] - 0s 10ms/step - loss: 5.2061 - mae: 5.2061\n",
            "Epoch 264/500\n",
            "1/1 [==============================] - 0s 10ms/step - loss: 5.2009 - mae: 5.2009\n",
            "Epoch 265/500\n",
            "1/1 [==============================] - 0s 9ms/step - loss: 5.1957 - mae: 5.1957\n",
            "Epoch 266/500\n",
            "1/1 [==============================] - 0s 10ms/step - loss: 5.1904 - mae: 5.1904\n",
            "Epoch 267/500\n",
            "1/1 [==============================] - 0s 13ms/step - loss: 5.1852 - mae: 5.1852\n",
            "Epoch 268/500\n",
            "1/1 [==============================] - 0s 12ms/step - loss: 5.1799 - mae: 5.1799\n",
            "Epoch 269/500\n",
            "1/1 [==============================] - 0s 12ms/step - loss: 5.1745 - mae: 5.1745\n",
            "Epoch 270/500\n",
            "1/1 [==============================] - 0s 11ms/step - loss: 5.1692 - mae: 5.1692\n",
            "Epoch 271/500\n",
            "1/1 [==============================] - 0s 10ms/step - loss: 5.1639 - mae: 5.1639\n",
            "Epoch 272/500\n",
            "1/1 [==============================] - 0s 10ms/step - loss: 5.1585 - mae: 5.1585\n",
            "Epoch 273/500\n",
            "1/1 [==============================] - 0s 11ms/step - loss: 5.1531 - mae: 5.1531\n",
            "Epoch 274/500\n",
            "1/1 [==============================] - 0s 10ms/step - loss: 5.1540 - mae: 5.1540\n",
            "Epoch 275/500\n",
            "1/1 [==============================] - 0s 9ms/step - loss: 5.1489 - mae: 5.1489\n",
            "Epoch 276/500\n",
            "1/1 [==============================] - 0s 10ms/step - loss: 5.1435 - mae: 5.1435\n",
            "Epoch 277/500\n",
            "1/1 [==============================] - 0s 10ms/step - loss: 5.1380 - mae: 5.1380\n",
            "Epoch 278/500\n",
            "1/1 [==============================] - 0s 9ms/step - loss: 5.1325 - mae: 5.1325\n",
            "Epoch 279/500\n",
            "1/1 [==============================] - 0s 10ms/step - loss: 5.1270 - mae: 5.1270\n",
            "Epoch 280/500\n",
            "1/1 [==============================] - 0s 10ms/step - loss: 5.1215 - mae: 5.1215\n",
            "Epoch 281/500\n",
            "1/1 [==============================] - 0s 10ms/step - loss: 5.1160 - mae: 5.1160\n",
            "Epoch 282/500\n",
            "1/1 [==============================] - 0s 11ms/step - loss: 5.1104 - mae: 5.1104\n",
            "Epoch 283/500\n",
            "1/1 [==============================] - 0s 9ms/step - loss: 5.1048 - mae: 5.1048\n",
            "Epoch 284/500\n",
            "1/1 [==============================] - 0s 9ms/step - loss: 5.0992 - mae: 5.0992\n",
            "Epoch 285/500\n",
            "1/1 [==============================] - 0s 10ms/step - loss: 5.0951 - mae: 5.0951\n",
            "Epoch 286/500\n",
            "1/1 [==============================] - 0s 9ms/step - loss: 5.0947 - mae: 5.0947\n",
            "Epoch 287/500\n",
            "1/1 [==============================] - 0s 16ms/step - loss: 5.0891 - mae: 5.0891\n",
            "Epoch 288/500\n",
            "1/1 [==============================] - 0s 13ms/step - loss: 5.0834 - mae: 5.0834\n",
            "Epoch 289/500\n",
            "1/1 [==============================] - 0s 10ms/step - loss: 5.0777 - mae: 5.0777\n",
            "Epoch 290/500\n",
            "1/1 [==============================] - 0s 9ms/step - loss: 5.0720 - mae: 5.0720\n",
            "Epoch 291/500\n",
            "1/1 [==============================] - 0s 12ms/step - loss: 5.0663 - mae: 5.0663\n",
            "Epoch 292/500\n",
            "1/1 [==============================] - 0s 10ms/step - loss: 5.0605 - mae: 5.0605\n",
            "Epoch 293/500\n",
            "1/1 [==============================] - 0s 10ms/step - loss: 5.0547 - mae: 5.0547\n",
            "Epoch 294/500\n",
            "1/1 [==============================] - 0s 10ms/step - loss: 5.0489 - mae: 5.0489\n",
            "Epoch 295/500\n",
            "1/1 [==============================] - 0s 9ms/step - loss: 5.0430 - mae: 5.0430\n",
            "Epoch 296/500\n",
            "1/1 [==============================] - 0s 11ms/step - loss: 5.0372 - mae: 5.0372\n",
            "Epoch 297/500\n",
            "1/1 [==============================] - 0s 10ms/step - loss: 5.0356 - mae: 5.0356\n",
            "Epoch 298/500\n",
            "1/1 [==============================] - 0s 10ms/step - loss: 5.0324 - mae: 5.0324\n",
            "Epoch 299/500\n",
            "1/1 [==============================] - 0s 9ms/step - loss: 5.0265 - mae: 5.0265\n",
            "Epoch 300/500\n",
            "1/1 [==============================] - 0s 10ms/step - loss: 5.0206 - mae: 5.0206\n",
            "Epoch 301/500\n",
            "1/1 [==============================] - 0s 9ms/step - loss: 5.0146 - mae: 5.0146\n",
            "Epoch 302/500\n",
            "1/1 [==============================] - 0s 9ms/step - loss: 5.0087 - mae: 5.0087\n",
            "Epoch 303/500\n",
            "1/1 [==============================] - 0s 10ms/step - loss: 5.0027 - mae: 5.0027\n",
            "Epoch 304/500\n",
            "1/1 [==============================] - 0s 10ms/step - loss: 4.9966 - mae: 4.9966\n",
            "Epoch 305/500\n",
            "1/1 [==============================] - 0s 9ms/step - loss: 4.9906 - mae: 4.9906\n",
            "Epoch 306/500\n",
            "1/1 [==============================] - 0s 13ms/step - loss: 4.9845 - mae: 4.9845\n",
            "Epoch 307/500\n",
            "1/1 [==============================] - 0s 14ms/step - loss: 4.9784 - mae: 4.9784\n",
            "Epoch 308/500\n",
            "1/1 [==============================] - 0s 18ms/step - loss: 4.9728 - mae: 4.9728\n",
            "Epoch 309/500\n",
            "1/1 [==============================] - 0s 18ms/step - loss: 4.9733 - mae: 4.9733\n",
            "Epoch 310/500\n",
            "1/1 [==============================] - 0s 15ms/step - loss: 4.9671 - mae: 4.9671\n",
            "Epoch 311/500\n",
            "1/1 [==============================] - 0s 10ms/step - loss: 4.9610 - mae: 4.9610\n",
            "Epoch 312/500\n",
            "1/1 [==============================] - 0s 11ms/step - loss: 4.9548 - mae: 4.9548\n",
            "Epoch 313/500\n",
            "1/1 [==============================] - 0s 12ms/step - loss: 4.9485 - mae: 4.9485\n",
            "Epoch 314/500\n",
            "1/1 [==============================] - 0s 10ms/step - loss: 4.9423 - mae: 4.9423\n",
            "Epoch 315/500\n",
            "1/1 [==============================] - 0s 11ms/step - loss: 4.9360 - mae: 4.9360\n",
            "Epoch 316/500\n",
            "1/1 [==============================] - 0s 10ms/step - loss: 4.9297 - mae: 4.9297\n",
            "Epoch 317/500\n",
            "1/1 [==============================] - 0s 11ms/step - loss: 4.9234 - mae: 4.9234\n",
            "Epoch 318/500\n",
            "1/1 [==============================] - 0s 11ms/step - loss: 4.9170 - mae: 4.9170\n",
            "Epoch 319/500\n",
            "1/1 [==============================] - 0s 11ms/step - loss: 4.9106 - mae: 4.9106\n",
            "Epoch 320/500\n",
            "1/1 [==============================] - 0s 11ms/step - loss: 4.9087 - mae: 4.9087\n",
            "Epoch 321/500\n",
            "1/1 [==============================] - 0s 11ms/step - loss: 4.9051 - mae: 4.9051\n",
            "Epoch 322/500\n",
            "1/1 [==============================] - 0s 9ms/step - loss: 4.8987 - mae: 4.8987\n",
            "Epoch 323/500\n",
            "1/1 [==============================] - 0s 11ms/step - loss: 4.8923 - mae: 4.8923\n",
            "Epoch 324/500\n",
            "1/1 [==============================] - 0s 10ms/step - loss: 4.8858 - mae: 4.8858\n",
            "Epoch 325/500\n",
            "1/1 [==============================] - 0s 10ms/step - loss: 4.8792 - mae: 4.8792\n",
            "Epoch 326/500\n",
            "1/1 [==============================] - 0s 11ms/step - loss: 4.8727 - mae: 4.8727\n",
            "Epoch 327/500\n",
            "1/1 [==============================] - 0s 10ms/step - loss: 4.8661 - mae: 4.8661\n",
            "Epoch 328/500\n",
            "1/1 [==============================] - 0s 12ms/step - loss: 4.8595 - mae: 4.8595\n",
            "Epoch 329/500\n",
            "1/1 [==============================] - 0s 11ms/step - loss: 4.8529 - mae: 4.8529\n",
            "Epoch 330/500\n",
            "1/1 [==============================] - 0s 11ms/step - loss: 4.8462 - mae: 4.8462\n",
            "Epoch 331/500\n",
            "1/1 [==============================] - 0s 11ms/step - loss: 4.8408 - mae: 4.8408\n",
            "Epoch 332/500\n",
            "1/1 [==============================] - 0s 11ms/step - loss: 4.8404 - mae: 4.8404\n",
            "Epoch 333/500\n",
            "1/1 [==============================] - 0s 10ms/step - loss: 4.8337 - mae: 4.8337\n",
            "Epoch 334/500\n",
            "1/1 [==============================] - 0s 10ms/step - loss: 4.8269 - mae: 4.8269\n",
            "Epoch 335/500\n",
            "1/1 [==============================] - 0s 11ms/step - loss: 4.8202 - mae: 4.8202\n",
            "Epoch 336/500\n",
            "1/1 [==============================] - 0s 10ms/step - loss: 4.8134 - mae: 4.8134\n",
            "Epoch 337/500\n",
            "1/1 [==============================] - 0s 10ms/step - loss: 4.8065 - mae: 4.8065\n",
            "Epoch 338/500\n",
            "1/1 [==============================] - 0s 9ms/step - loss: 4.7997 - mae: 4.7997\n",
            "Epoch 339/500\n",
            "1/1 [==============================] - 0s 10ms/step - loss: 4.7928 - mae: 4.7928\n",
            "Epoch 340/500\n",
            "1/1 [==============================] - 0s 11ms/step - loss: 4.7859 - mae: 4.7859\n",
            "Epoch 341/500\n",
            "1/1 [==============================] - 0s 10ms/step - loss: 4.7789 - mae: 4.7789\n",
            "Epoch 342/500\n",
            "1/1 [==============================] - 0s 10ms/step - loss: 4.7719 - mae: 4.7719\n",
            "Epoch 343/500\n",
            "1/1 [==============================] - 0s 11ms/step - loss: 4.7732 - mae: 4.7732\n",
            "Epoch 344/500\n",
            "1/1 [==============================] - 0s 10ms/step - loss: 4.7723 - mae: 4.7723\n",
            "Epoch 345/500\n",
            "1/1 [==============================] - 0s 12ms/step - loss: 4.7653 - mae: 4.7653\n",
            "Epoch 346/500\n",
            "1/1 [==============================] - 0s 10ms/step - loss: 4.7583 - mae: 4.7583\n",
            "Epoch 347/500\n",
            "1/1 [==============================] - 0s 13ms/step - loss: 4.7512 - mae: 4.7512\n",
            "Epoch 348/500\n",
            "1/1 [==============================] - 0s 11ms/step - loss: 4.7441 - mae: 4.7441\n",
            "Epoch 349/500\n",
            "1/1 [==============================] - 0s 11ms/step - loss: 4.7370 - mae: 4.7370\n",
            "Epoch 350/500\n",
            "1/1 [==============================] - 0s 14ms/step - loss: 4.7298 - mae: 4.7298\n",
            "Epoch 351/500\n",
            "1/1 [==============================] - 0s 11ms/step - loss: 4.7226 - mae: 4.7226\n",
            "Epoch 352/500\n",
            "1/1 [==============================] - 0s 11ms/step - loss: 4.7154 - mae: 4.7154\n",
            "Epoch 353/500\n",
            "1/1 [==============================] - 0s 10ms/step - loss: 4.7082 - mae: 4.7082\n",
            "Epoch 354/500\n",
            "1/1 [==============================] - 0s 10ms/step - loss: 4.7009 - mae: 4.7009\n",
            "Epoch 355/500\n",
            "1/1 [==============================] - 0s 9ms/step - loss: 4.6936 - mae: 4.6936\n",
            "Epoch 356/500\n",
            "1/1 [==============================] - 0s 9ms/step - loss: 4.6862 - mae: 4.6862\n",
            "Epoch 357/500\n",
            "1/1 [==============================] - 0s 10ms/step - loss: 4.6789 - mae: 4.6789\n",
            "Epoch 358/500\n",
            "1/1 [==============================] - 0s 10ms/step - loss: 4.6714 - mae: 4.6714\n",
            "Epoch 359/500\n",
            "1/1 [==============================] - 0s 10ms/step - loss: 4.6640 - mae: 4.6640\n",
            "Epoch 360/500\n",
            "1/1 [==============================] - 0s 9ms/step - loss: 4.6565 - mae: 4.6565\n",
            "Epoch 361/500\n",
            "1/1 [==============================] - 0s 10ms/step - loss: 4.6538 - mae: 4.6538\n",
            "Epoch 362/500\n",
            "1/1 [==============================] - 0s 11ms/step - loss: 4.6484 - mae: 4.6484\n",
            "Epoch 363/500\n",
            "1/1 [==============================] - 0s 10ms/step - loss: 4.6408 - mae: 4.6408\n",
            "Epoch 364/500\n",
            "1/1 [==============================] - 0s 10ms/step - loss: 4.6333 - mae: 4.6333\n",
            "Epoch 365/500\n",
            "1/1 [==============================] - 0s 11ms/step - loss: 4.6257 - mae: 4.6257\n",
            "Epoch 366/500\n",
            "1/1 [==============================] - 0s 16ms/step - loss: 4.6180 - mae: 4.6180\n",
            "Epoch 367/500\n",
            "1/1 [==============================] - 0s 19ms/step - loss: 4.6103 - mae: 4.6103\n",
            "Epoch 368/500\n",
            "1/1 [==============================] - 0s 19ms/step - loss: 4.6027 - mae: 4.6027\n",
            "Epoch 369/500\n",
            "1/1 [==============================] - 0s 17ms/step - loss: 4.6019 - mae: 4.6019\n",
            "Epoch 370/500\n",
            "1/1 [==============================] - 0s 11ms/step - loss: 4.5941 - mae: 4.5941\n",
            "Epoch 371/500\n",
            "1/1 [==============================] - 0s 16ms/step - loss: 4.5863 - mae: 4.5863\n",
            "Epoch 372/500\n",
            "1/1 [==============================] - 0s 21ms/step - loss: 4.5785 - mae: 4.5785\n",
            "Epoch 373/500\n",
            "1/1 [==============================] - 0s 32ms/step - loss: 4.5707 - mae: 4.5707\n",
            "Epoch 374/500\n",
            "1/1 [==============================] - 0s 17ms/step - loss: 4.5628 - mae: 4.5628\n",
            "Epoch 375/500\n",
            "1/1 [==============================] - 0s 18ms/step - loss: 4.5548 - mae: 4.5548\n",
            "Epoch 376/500\n",
            "1/1 [==============================] - 0s 14ms/step - loss: 4.5493 - mae: 4.5493\n",
            "Epoch 377/500\n",
            "1/1 [==============================] - 0s 19ms/step - loss: 4.5460 - mae: 4.5460\n",
            "Epoch 378/500\n",
            "1/1 [==============================] - 0s 17ms/step - loss: 4.5380 - mae: 4.5380\n",
            "Epoch 379/500\n",
            "1/1 [==============================] - 0s 10ms/step - loss: 4.5300 - mae: 4.5300\n",
            "Epoch 380/500\n",
            "1/1 [==============================] - 0s 10ms/step - loss: 4.5219 - mae: 4.5219\n",
            "Epoch 381/500\n",
            "1/1 [==============================] - 0s 13ms/step - loss: 4.5138 - mae: 4.5138\n",
            "Epoch 382/500\n",
            "1/1 [==============================] - 0s 16ms/step - loss: 4.5056 - mae: 4.5056\n",
            "Epoch 383/500\n",
            "1/1 [==============================] - 0s 25ms/step - loss: 4.4975 - mae: 4.4975\n",
            "Epoch 384/500\n",
            "1/1 [==============================] - 0s 22ms/step - loss: 4.4939 - mae: 4.4939\n",
            "Epoch 385/500\n",
            "1/1 [==============================] - 0s 14ms/step - loss: 4.4882 - mae: 4.4882\n",
            "Epoch 386/500\n",
            "1/1 [==============================] - 0s 18ms/step - loss: 4.4800 - mae: 4.4800\n",
            "Epoch 387/500\n",
            "1/1 [==============================] - 0s 20ms/step - loss: 4.4717 - mae: 4.4717\n",
            "Epoch 388/500\n",
            "1/1 [==============================] - 0s 15ms/step - loss: 4.4633 - mae: 4.4633\n",
            "Epoch 389/500\n",
            "1/1 [==============================] - 0s 18ms/step - loss: 4.4550 - mae: 4.4550\n",
            "Epoch 390/500\n",
            "1/1 [==============================] - 0s 17ms/step - loss: 4.4466 - mae: 4.4466\n",
            "Epoch 391/500\n",
            "1/1 [==============================] - 0s 16ms/step - loss: 4.4381 - mae: 4.4381\n",
            "Epoch 392/500\n",
            "1/1 [==============================] - 0s 17ms/step - loss: 4.4364 - mae: 4.4364\n",
            "Epoch 393/500\n",
            "1/1 [==============================] - 0s 10ms/step - loss: 4.4284 - mae: 4.4284\n",
            "Epoch 394/500\n",
            "1/1 [==============================] - 0s 15ms/step - loss: 4.4199 - mae: 4.4199\n",
            "Epoch 395/500\n",
            "1/1 [==============================] - 0s 14ms/step - loss: 4.4114 - mae: 4.4114\n",
            "Epoch 396/500\n",
            "1/1 [==============================] - 0s 11ms/step - loss: 4.4027 - mae: 4.4027\n",
            "Epoch 397/500\n",
            "1/1 [==============================] - 0s 15ms/step - loss: 4.3941 - mae: 4.3941\n",
            "Epoch 398/500\n",
            "1/1 [==============================] - 0s 20ms/step - loss: 4.3854 - mae: 4.3854\n",
            "Epoch 399/500\n",
            "1/1 [==============================] - 0s 19ms/step - loss: 4.3781 - mae: 4.3781\n",
            "Epoch 400/500\n",
            "1/1 [==============================] - 0s 21ms/step - loss: 4.3754 - mae: 4.3754\n",
            "Epoch 401/500\n",
            "1/1 [==============================] - 0s 15ms/step - loss: 4.3666 - mae: 4.3666\n",
            "Epoch 402/500\n",
            "1/1 [==============================] - 0s 15ms/step - loss: 4.3578 - mae: 4.3578\n",
            "Epoch 403/500\n",
            "1/1 [==============================] - 0s 15ms/step - loss: 4.3489 - mae: 4.3489\n",
            "Epoch 404/500\n",
            "1/1 [==============================] - 0s 19ms/step - loss: 4.3401 - mae: 4.3401\n",
            "Epoch 405/500\n",
            "1/1 [==============================] - 0s 25ms/step - loss: 4.3311 - mae: 4.3311\n",
            "Epoch 406/500\n",
            "1/1 [==============================] - 0s 20ms/step - loss: 4.3222 - mae: 4.3222\n",
            "Epoch 407/500\n",
            "1/1 [==============================] - 0s 21ms/step - loss: 4.3163 - mae: 4.3163\n",
            "Epoch 408/500\n",
            "1/1 [==============================] - 0s 25ms/step - loss: 4.3116 - mae: 4.3116\n",
            "Epoch 409/500\n",
            "1/1 [==============================] - 0s 30ms/step - loss: 4.3026 - mae: 4.3026\n",
            "Epoch 410/500\n",
            "1/1 [==============================] - 0s 23ms/step - loss: 4.2935 - mae: 4.2935\n",
            "Epoch 411/500\n",
            "1/1 [==============================] - 0s 21ms/step - loss: 4.2844 - mae: 4.2844\n",
            "Epoch 412/500\n",
            "1/1 [==============================] - 0s 21ms/step - loss: 4.2752 - mae: 4.2752\n",
            "Epoch 413/500\n",
            "1/1 [==============================] - 0s 30ms/step - loss: 4.2660 - mae: 4.2660\n",
            "Epoch 414/500\n",
            "1/1 [==============================] - 0s 31ms/step - loss: 4.2567 - mae: 4.2567\n",
            "Epoch 415/500\n",
            "1/1 [==============================] - 0s 19ms/step - loss: 4.2521 - mae: 4.2521\n",
            "Epoch 416/500\n",
            "1/1 [==============================] - 0s 22ms/step - loss: 4.2457 - mae: 4.2457\n",
            "Epoch 417/500\n",
            "1/1 [==============================] - 0s 13ms/step - loss: 4.2363 - mae: 4.2363\n",
            "Epoch 418/500\n",
            "1/1 [==============================] - 0s 17ms/step - loss: 4.2269 - mae: 4.2269\n",
            "Epoch 419/500\n",
            "1/1 [==============================] - 0s 16ms/step - loss: 4.2175 - mae: 4.2175\n",
            "Epoch 420/500\n",
            "1/1 [==============================] - 0s 26ms/step - loss: 4.2080 - mae: 4.2080\n",
            "Epoch 421/500\n",
            "1/1 [==============================] - 0s 45ms/step - loss: 4.1985 - mae: 4.1985\n",
            "Epoch 422/500\n",
            "1/1 [==============================] - 0s 22ms/step - loss: 4.1889 - mae: 4.1889\n",
            "Epoch 423/500\n",
            "1/1 [==============================] - 0s 21ms/step - loss: 4.1854 - mae: 4.1854\n",
            "Epoch 424/500\n",
            "1/1 [==============================] - 0s 23ms/step - loss: 4.1774 - mae: 4.1774\n",
            "Epoch 425/500\n",
            "1/1 [==============================] - 0s 16ms/step - loss: 4.1677 - mae: 4.1677\n",
            "Epoch 426/500\n",
            "1/1 [==============================] - 0s 17ms/step - loss: 4.1580 - mae: 4.1580\n",
            "Epoch 427/500\n",
            "1/1 [==============================] - 0s 34ms/step - loss: 4.1482 - mae: 4.1482\n",
            "Epoch 428/500\n",
            "1/1 [==============================] - 0s 17ms/step - loss: 4.1384 - mae: 4.1384\n",
            "Epoch 429/500\n",
            "1/1 [==============================] - 0s 28ms/step - loss: 4.1286 - mae: 4.1286\n",
            "Epoch 430/500\n",
            "1/1 [==============================] - 0s 24ms/step - loss: 4.1187 - mae: 4.1187\n",
            "Epoch 431/500\n",
            "1/1 [==============================] - 0s 23ms/step - loss: 4.1158 - mae: 4.1158\n",
            "Epoch 432/500\n",
            "1/1 [==============================] - 0s 19ms/step - loss: 4.1067 - mae: 4.1067\n",
            "Epoch 433/500\n",
            "1/1 [==============================] - 0s 24ms/step - loss: 4.0967 - mae: 4.0967\n",
            "Epoch 434/500\n",
            "1/1 [==============================] - 0s 44ms/step - loss: 4.0866 - mae: 4.0866\n",
            "Epoch 435/500\n",
            "1/1 [==============================] - 0s 27ms/step - loss: 4.0765 - mae: 4.0765\n",
            "Epoch 436/500\n",
            "1/1 [==============================] - 0s 29ms/step - loss: 4.0664 - mae: 4.0664\n",
            "Epoch 437/500\n",
            "1/1 [==============================] - 0s 38ms/step - loss: 4.0562 - mae: 4.0562\n",
            "Epoch 438/500\n",
            "1/1 [==============================] - 0s 20ms/step - loss: 4.0460 - mae: 4.0460\n",
            "Epoch 439/500\n",
            "1/1 [==============================] - 0s 11ms/step - loss: 4.0434 - mae: 4.0434\n",
            "Epoch 440/500\n",
            "1/1 [==============================] - 0s 15ms/step - loss: 4.0334 - mae: 4.0334\n",
            "Epoch 441/500\n",
            "1/1 [==============================] - 0s 18ms/step - loss: 4.0230 - mae: 4.0230\n",
            "Epoch 442/500\n",
            "1/1 [==============================] - 0s 13ms/step - loss: 4.0127 - mae: 4.0127\n",
            "Epoch 443/500\n",
            "1/1 [==============================] - 0s 13ms/step - loss: 4.0022 - mae: 4.0022\n",
            "Epoch 444/500\n",
            "1/1 [==============================] - 0s 21ms/step - loss: 3.9918 - mae: 3.9918\n",
            "Epoch 445/500\n",
            "1/1 [==============================] - 0s 19ms/step - loss: 3.9848 - mae: 3.9848\n",
            "Epoch 446/500\n",
            "1/1 [==============================] - 0s 21ms/step - loss: 3.9769 - mae: 3.9769\n",
            "Epoch 447/500\n",
            "1/1 [==============================] - 0s 21ms/step - loss: 3.9721 - mae: 3.9721\n",
            "Epoch 448/500\n",
            "1/1 [==============================] - 0s 21ms/step - loss: 3.9637 - mae: 3.9637\n",
            "Epoch 449/500\n",
            "1/1 [==============================] - 0s 20ms/step - loss: 3.9574 - mae: 3.9574\n",
            "Epoch 450/500\n",
            "1/1 [==============================] - 0s 16ms/step - loss: 3.9509 - mae: 3.9509\n",
            "Epoch 451/500\n",
            "1/1 [==============================] - 0s 23ms/step - loss: 3.9424 - mae: 3.9424\n",
            "Epoch 452/500\n",
            "1/1 [==============================] - 0s 21ms/step - loss: 3.9378 - mae: 3.9378\n",
            "Epoch 453/500\n",
            "1/1 [==============================] - 0s 21ms/step - loss: 3.9294 - mae: 3.9294\n",
            "Epoch 454/500\n",
            "1/1 [==============================] - 0s 24ms/step - loss: 3.9225 - mae: 3.9225\n",
            "Epoch 455/500\n",
            "1/1 [==============================] - 0s 22ms/step - loss: 3.9164 - mae: 3.9164\n",
            "Epoch 456/500\n",
            "1/1 [==============================] - 0s 21ms/step - loss: 3.9078 - mae: 3.9078\n",
            "Epoch 457/500\n",
            "1/1 [==============================] - 0s 28ms/step - loss: 3.9024 - mae: 3.9024\n",
            "Epoch 458/500\n",
            "1/1 [==============================] - 0s 20ms/step - loss: 3.8946 - mae: 3.8946\n",
            "Epoch 459/500\n",
            "1/1 [==============================] - 0s 35ms/step - loss: 3.8868 - mae: 3.8868\n",
            "Epoch 460/500\n",
            "1/1 [==============================] - 0s 21ms/step - loss: 3.8812 - mae: 3.8812\n",
            "Epoch 461/500\n",
            "1/1 [==============================] - 0s 33ms/step - loss: 3.8725 - mae: 3.8725\n",
            "Epoch 462/500\n",
            "1/1 [==============================] - 0s 16ms/step - loss: 3.8664 - mae: 3.8664\n",
            "Epoch 463/500\n",
            "1/1 [==============================] - 0s 22ms/step - loss: 3.8591 - mae: 3.8591\n",
            "Epoch 464/500\n",
            "1/1 [==============================] - 0s 16ms/step - loss: 3.8505 - mae: 3.8505\n",
            "Epoch 465/500\n",
            "1/1 [==============================] - 0s 29ms/step - loss: 3.8455 - mae: 3.8455\n",
            "Epoch 466/500\n",
            "1/1 [==============================] - 0s 17ms/step - loss: 3.8366 - mae: 3.8366\n",
            "Epoch 467/500\n",
            "1/1 [==============================] - 0s 17ms/step - loss: 3.8297 - mae: 3.8297\n",
            "Epoch 468/500\n",
            "1/1 [==============================] - 0s 20ms/step - loss: 3.8229 - mae: 3.8229\n",
            "Epoch 469/500\n",
            "1/1 [==============================] - 0s 16ms/step - loss: 3.8139 - mae: 3.8139\n",
            "Epoch 470/500\n",
            "1/1 [==============================] - 0s 21ms/step - loss: 3.8086 - mae: 3.8086\n",
            "Epoch 471/500\n",
            "1/1 [==============================] - 0s 21ms/step - loss: 3.8000 - mae: 3.8000\n",
            "Epoch 472/500\n",
            "1/1 [==============================] - 0s 22ms/step - loss: 3.7922 - mae: 3.7922\n",
            "Epoch 473/500\n",
            "1/1 [==============================] - 0s 19ms/step - loss: 3.7860 - mae: 3.7860\n",
            "Epoch 474/500\n",
            "1/1 [==============================] - 0s 20ms/step - loss: 3.7769 - mae: 3.7769\n",
            "Epoch 475/500\n",
            "1/1 [==============================] - 0s 20ms/step - loss: 3.7707 - mae: 3.7707\n",
            "Epoch 476/500\n",
            "1/1 [==============================] - 0s 35ms/step - loss: 3.7628 - mae: 3.7628\n",
            "Epoch 477/500\n",
            "1/1 [==============================] - 0s 31ms/step - loss: 3.7541 - mae: 3.7541\n",
            "Epoch 478/500\n",
            "1/1 [==============================] - 0s 24ms/step - loss: 3.7485 - mae: 3.7485\n",
            "Epoch 479/500\n",
            "1/1 [==============================] - 0s 25ms/step - loss: 3.7575 - mae: 3.7575\n",
            "Epoch 480/500\n",
            "1/1 [==============================] - 0s 23ms/step - loss: 3.7718 - mae: 3.7718\n",
            "Epoch 481/500\n",
            "1/1 [==============================] - 0s 20ms/step - loss: 3.7625 - mae: 3.7625\n",
            "Epoch 482/500\n",
            "1/1 [==============================] - 0s 21ms/step - loss: 3.7532 - mae: 3.7532\n",
            "Epoch 483/500\n",
            "1/1 [==============================] - 0s 22ms/step - loss: 3.7438 - mae: 3.7438\n",
            "Epoch 484/500\n",
            "1/1 [==============================] - 0s 19ms/step - loss: 3.7345 - mae: 3.7345\n",
            "Epoch 485/500\n",
            "1/1 [==============================] - 0s 18ms/step - loss: 3.7251 - mae: 3.7251\n",
            "Epoch 486/500\n",
            "1/1 [==============================] - 0s 16ms/step - loss: 3.7156 - mae: 3.7156\n",
            "Epoch 487/500\n",
            "1/1 [==============================] - 0s 16ms/step - loss: 3.7062 - mae: 3.7062\n",
            "Epoch 488/500\n",
            "1/1 [==============================] - 0s 23ms/step - loss: 3.7270 - mae: 3.7270\n",
            "Epoch 489/500\n",
            "1/1 [==============================] - 0s 11ms/step - loss: 3.7299 - mae: 3.7299\n",
            "Epoch 490/500\n",
            "1/1 [==============================] - 0s 13ms/step - loss: 3.7204 - mae: 3.7204\n",
            "Epoch 491/500\n",
            "1/1 [==============================] - 0s 26ms/step - loss: 3.7108 - mae: 3.7108\n",
            "Epoch 492/500\n",
            "1/1 [==============================] - 0s 45ms/step - loss: 3.7012 - mae: 3.7012\n",
            "Epoch 493/500\n",
            "1/1 [==============================] - 0s 23ms/step - loss: 3.6916 - mae: 3.6916\n",
            "Epoch 494/500\n",
            "1/1 [==============================] - 0s 46ms/step - loss: 3.6820 - mae: 3.6820\n",
            "Epoch 495/500\n",
            "1/1 [==============================] - 0s 27ms/step - loss: 3.6723 - mae: 3.6723\n",
            "Epoch 496/500\n",
            "1/1 [==============================] - 0s 19ms/step - loss: 3.6724 - mae: 3.6724\n",
            "Epoch 497/500\n",
            "1/1 [==============================] - 0s 22ms/step - loss: 3.6781 - mae: 3.6781\n",
            "Epoch 498/500\n",
            "1/1 [==============================] - 0s 22ms/step - loss: 3.6684 - mae: 3.6684\n",
            "Epoch 499/500\n",
            "1/1 [==============================] - 0s 38ms/step - loss: 3.6586 - mae: 3.6586\n",
            "Epoch 500/500\n",
            "1/1 [==============================] - 0s 38ms/step - loss: 3.6489 - mae: 3.6489\n"
          ]
        },
        {
          "output_type": "execute_result",
          "data": {
            "text/plain": [
              "<keras.callbacks.History at 0x7f067a3d5120>"
            ]
          },
          "metadata": {},
          "execution_count": 52
        }
      ]
    },
    {
      "cell_type": "code",
      "source": [
        "y_preds_3 = model_3.predict(X_test)\n",
        "plot_predictions(predictions=y_preds_3)"
      ],
      "metadata": {
        "id": "RrVgcRSRDlHI",
        "colab": {
          "base_uri": "https://localhost:8080/",
          "height": 521
        },
        "outputId": "c00e3c06-3884-417b-fbcb-6e9c31378416"
      },
      "execution_count": null,
      "outputs": [
        {
          "output_type": "stream",
          "name": "stdout",
          "text": [
            "1/1 [==============================] - 0s 464ms/step\n"
          ]
        },
        {
          "output_type": "display_data",
          "data": {
            "text/plain": [
              "<Figure size 1000x700 with 1 Axes>"
            ],
            "image/png": "[encoded data removed]"
          },
          "metadata": {}
        }
      ]
    },
    {
      "cell_type": "code",
      "source": [
        "mae_3 = tf.metrics.mean_absolute_error(y_test, tf.squeeze(y_preds_3))\n",
        "mse_3 = tf.metrics.mean_squared_error(y_test, tf.squeeze(y_preds_3))\n",
        "tf.squeeze(mae_3.numpy()), tf.squeeze(mse_3.numpy())"
      ],
      "metadata": {
        "id": "_KpCzbq-DuBH",
        "colab": {
          "base_uri": "https://localhost:8080/"
        },
        "outputId": "ef5a9d1c-767b-4ca7-dd5c-da5488781c1a"
      },
      "execution_count": null,
      "outputs": [
        {
          "output_type": "execute_result",
          "data": {
            "text/plain": [
              "(<tf.Tensor: shape=(2,), dtype=float32, numpy=array([6.594157 , 0.9004965], dtype=float32)>,\n",
              " <tf.Tensor: shape=(2,), dtype=float32, numpy=array([44.293804 ,  1.1639167], dtype=float32)>)"
            ]
          },
          "metadata": {},
          "execution_count": 54
        }
      ]
    },
    {
      "cell_type": "markdown",
      "source": [
        "# comparing and tracking your modeling experiments"
      ],
      "metadata": {
        "id": "CKiJbb0vEM82"
      }
    },
    {
      "cell_type": "code",
      "source": [
        "# comparing model using panda dataframe\n",
        "import pandas as pd\n",
        "import tensorflow as tf\n",
        "import numpy as np\n",
        "import matplotlib.pyplot as plt\n",
        "\n",
        "model_results = [[\"model_1\", tf.squeeze(mae_1.numpy()), mse_1.numpy()],\n",
        "                 [\"model_2\", mae_2.numpy(), mse_2.numpy()],\n",
        "                 [\"model_3\", mae_3.numpy(), mse_3.numpy()]]\n",
        "all_results = pd.DataFrame(model_results,columns=[\"model\", \"mae\", \"mse\"])\n",
        "all_results"
      ],
      "metadata": {
        "id": "qrw2I5RsD7pC",
        "colab": {
          "base_uri": "https://localhost:8080/",
          "height": 144
        },
        "outputId": "4181b4cb-15d8-4b3e-ade5-00ffcd2a3166"
      },
      "execution_count": null,
      "outputs": [
        {
          "output_type": "execute_result",
          "data": {
            "text/plain": [
              "     model                                                mae  \\\n",
              "0  model_1  (tf.Tensor(16.099468, shape=(), dtype=float32)...   \n",
              "1  model_2                            [[15.82902], [9.82902]]   \n",
              "2  model_3                          [[6.594157], [0.9004965]]   \n",
              "\n",
              "                          mse  \n",
              "0  [[266.43362], [109.23999]]  \n",
              "1  [[257.1116], [103.163376]]  \n",
              "2  [[44.293804], [1.1639167]]  "
            ],
            "text/html": [
              "\n",
              "  <div id=\"df-7e226205-8467-44b8-adea-d9842fd22584\">\n",
              "    <div class=\"colab-df-container\">\n",
              "      <div>\n",
              "<style scoped>\n",
              "    .dataframe tbody tr th:only-of-type {\n",
              "        vertical-align: middle;\n",
              "    }\n",
              "\n",
              "    .dataframe tbody tr th {\n",
              "        vertical-align: top;\n",
              "    }\n",
              "\n",
              "    .dataframe thead th {\n",
              "        text-align: right;\n",
              "    }\n",
              "</style>\n",
              "<table border=\"1\" class=\"dataframe\">\n",
              "  <thead>\n",
              "    <tr style=\"text-align: right;\">\n",
              "      <th></th>\n",
              "      <th>model</th>\n",
              "      <th>mae</th>\n",
              "      <th>mse</th>\n",
              "    </tr>\n",
              "  </thead>\n",
              "  <tbody>\n",
              "    <tr>\n",
              "      <th>0</th>\n",
              "      <td>model_1</td>\n",
              "      <td>(tf.Tensor(16.099468, shape=(), dtype=float32)...</td>\n",
              "      <td>[[266.43362], [109.23999]]</td>\n",
              "    </tr>\n",
              "    <tr>\n",
              "      <th>1</th>\n",
              "      <td>model_2</td>\n",
              "      <td>[[15.82902], [9.82902]]</td>\n",
              "      <td>[[257.1116], [103.163376]]</td>\n",
              "    </tr>\n",
              "    <tr>\n",
              "      <th>2</th>\n",
              "      <td>model_3</td>\n",
              "      <td>[[6.594157], [0.9004965]]</td>\n",
              "      <td>[[44.293804], [1.1639167]]</td>\n",
              "    </tr>\n",
              "  </tbody>\n",
              "</table>\n",
              "</div>\n",
              "      <button class=\"colab-df-convert\" onclick=\"convertToInteractive('df-7e226205-8467-44b8-adea-d9842fd22584')\"\n",
              "              title=\"Convert this dataframe to an interactive table.\"\n",
              "              style=\"display:none;\">\n",
              "        \n",
              "  <svg xmlns=\"http://www.w3.org/2000/svg\" height=\"24px\"viewBox=\"0 0 24 24\"\n",
              "       width=\"24px\">\n",
              "    <path d=\"M0 0h24v24H0V0z\" fill=\"none\"/>\n",
              "    <path d=\"M18.56 5.44l.94 2.06.94-2.06 2.06-.94-2.06-.94-.94-2.06-.94 2.06-2.06.94zm-11 1L8.5 8.5l.94-2.06 2.06-.94-2.06-.94L8.5 2.5l-.94 2.06-2.06.94zm10 10l.94 2.06.94-2.06 2.06-.94-2.06-.94-.94-2.06-.94 2.06-2.06.94z\"/><path d=\"M17.41 7.96l-1.37-1.37c-.4-.4-.92-.59-1.43-.59-.52 0-1.04.2-1.43.59L10.3 9.45l-7.72 7.72c-.78.78-.78 2.05 0 2.83L4 21.41c.39.39.9.59 1.41.59.51 0 1.02-.2 1.41-.59l7.78-7.78 2.81-2.81c.8-.78.8-2.07 0-2.86zM5.41 20L4 18.59l7.72-7.72 1.47 1.35L5.41 20z\"/>\n",
              "  </svg>\n",
              "      </button>\n",
              "      \n",
              "  <style>\n",
              "    .colab-df-container {\n",
              "      display:flex;\n",
              "      flex-wrap:wrap;\n",
              "      gap: 12px;\n",
              "    }\n",
              "\n",
              "    .colab-df-convert {\n",
              "      background-color: #E8F0FE;\n",
              "      border: none;\n",
              "      border-radius: 50%;\n",
              "      cursor: pointer;\n",
              "      display: none;\n",
              "      fill: #1967D2;\n",
              "      height: 32px;\n",
              "      padding: 0 0 0 0;\n",
              "      width: 32px;\n",
              "    }\n",
              "\n",
              "    .colab-df-convert:hover {\n",
              "      background-color: #E2EBFA;\n",
              "      box-shadow: 0px 1px 2px rgba(60, 64, 67, 0.3), 0px 1px 3px 1px rgba(60, 64, 67, 0.15);\n",
              "      fill: #174EA6;\n",
              "    }\n",
              "\n",
              "    [theme=dark] .colab-df-convert {\n",
              "      background-color: #3B4455;\n",
              "      fill: #D2E3FC;\n",
              "    }\n",
              "\n",
              "    [theme=dark] .colab-df-convert:hover {\n",
              "      background-color: #434B5C;\n",
              "      box-shadow: 0px 1px 3px 1px rgba(0, 0, 0, 0.15);\n",
              "      filter: drop-shadow(0px 1px 2px rgba(0, 0, 0, 0.3));\n",
              "      fill: #FFFFFF;\n",
              "    }\n",
              "  </style>\n",
              "\n",
              "      <script>\n",
              "        const buttonEl =\n",
              "          document.querySelector('#df-7e226205-8467-44b8-adea-d9842fd22584 button.colab-df-convert');\n",
              "        buttonEl.style.display =\n",
              "          google.colab.kernel.accessAllowed ? 'block' : 'none';\n",
              "\n",
              "        async function convertToInteractive(key) {\n",
              "          const element = document.querySelector('#df-7e226205-8467-44b8-adea-d9842fd22584');\n",
              "          const dataTable =\n",
              "            await google.colab.kernel.invokeFunction('convertToInteractive',\n",
              "                                                     [key], {});\n",
              "          if (!dataTable) return;\n",
              "\n",
              "          const docLinkHtml = 'Like what you see? Visit the ' +\n",
              "            '<a target=\"_blank\" href=https://colab.research.google.com/notebooks/data_table.ipynb>data table notebook</a>'\n",
              "            + ' to learn more about interactive tables.';\n",
              "          element.innerHTML = '';\n",
              "          dataTable['output_type'] = 'display_data';\n",
              "          await google.colab.output.renderOutput(dataTable, element);\n",
              "          const docLink = document.createElement('div');\n",
              "          docLink.innerHTML = docLinkHtml;\n",
              "          element.appendChild(docLink);\n",
              "        }\n",
              "      </script>\n",
              "    </div>\n",
              "  </div>\n",
              "  "
            ]
          },
          "metadata": {},
          "execution_count": 55
        }
      ]
    },
    {
      "cell_type": "code",
      "source": [
        "model_2.summary()\n"
      ],
      "metadata": {
        "id": "fMIPGfGfFTTf",
        "colab": {
          "base_uri": "https://localhost:8080/"
        },
        "outputId": "40b600f6-0acb-4d80-bc8d-44fc71282fab"
      },
      "execution_count": null,
      "outputs": [
        {
          "output_type": "stream",
          "name": "stdout",
          "text": [
            "Model: \"sequential_2\"\n",
            "_________________________________________________________________\n",
            " Layer (type)                Output Shape              Param #   \n",
            "=================================================================\n",
            " dense_4 (Dense)             (None, 10)                20        \n",
            "                                                                 \n",
            " dense_5 (Dense)             (None, 1)                 11        \n",
            "                                                                 \n",
            "=================================================================\n",
            "Total params: 31\n",
            "Trainable params: 31\n",
            "Non-trainable params: 0\n",
            "_________________________________________________________________\n"
          ]
        }
      ]
    },
    {
      "cell_type": "markdown",
      "source": [
        "# Save the model"
      ],
      "metadata": {
        "id": "Ys-ietl3OCdb"
      }
    },
    {
      "cell_type": "code",
      "source": [
        "model_2.save('my_model.h5')"
      ],
      "metadata": {
        "id": "aFooKEVOGKwF"
      },
      "execution_count": null,
      "outputs": []
    },
    {
      "cell_type": "markdown",
      "source": [
        "# Loading the data"
      ],
      "metadata": {
        "id": "9-IUZe_6PRl6"
      }
    },
    {
      "cell_type": "code",
      "source": [
        "Loaded = tf.keras.models.load_model('/content/my_model.h5')\n",
        "Loaded.summary()"
      ],
      "metadata": {
        "colab": {
          "base_uri": "https://localhost:8080/"
        },
        "id": "8MpGDwYeOd65",
        "outputId": "764c331c-0815-49b4-fc6a-3f915ab535f5"
      },
      "execution_count": null,
      "outputs": [
        {
          "output_type": "stream",
          "name": "stdout",
          "text": [
            "Model: \"sequential_2\"\n",
            "_________________________________________________________________\n",
            " Layer (type)                Output Shape              Param #   \n",
            "=================================================================\n",
            " dense_4 (Dense)             (None, 10)                20        \n",
            "                                                                 \n",
            " dense_5 (Dense)             (None, 1)                 11        \n",
            "                                                                 \n",
            "=================================================================\n",
            "Total params: 31\n",
            "Trainable params: 31\n",
            "Non-trainable params: 0\n",
            "_________________________________________________________________\n"
          ]
        }
      ]
    },
    {
      "cell_type": "markdown",
      "source": [
        "# Larger example"
      ],
      "metadata": {
        "id": "qn5uat_yTba-"
      }
    },
    {
      "cell_type": "code",
      "source": [
        "import tensorflow as tf\n",
        "import pandas as pd\n",
        "import matplotlib.pyplot as plt"
      ],
      "metadata": {
        "id": "nrqm0vuPTayD"
      },
      "execution_count": null,
      "outputs": []
    },
    {
      "cell_type": "code",
      "source": [
        "# Read the csv\n",
        "insurance = pd.read_csv(\"https://raw.githubusercontent.com/stedy/Machine-Learning-with-R-datasets/master/insurance.csv\")\n",
        "insurance"
      ],
      "metadata": {
        "colab": {
          "base_uri": "https://localhost:8080/",
          "height": 424
        },
        "id": "KPk6StIIPyLw",
        "outputId": "ce6105fe-7f23-4e0d-c227-2e59bd1e2129"
      },
      "execution_count": null,
      "outputs": [
        {
          "output_type": "execute_result",
          "data": {
            "text/plain": [
              "      age     sex     bmi  children smoker     region      charges\n",
              "0      19  female  27.900         0    yes  southwest  16884.92400\n",
              "1      18    male  33.770         1     no  southeast   1725.55230\n",
              "2      28    male  33.000         3     no  southeast   4449.46200\n",
              "3      33    male  22.705         0     no  northwest  21984.47061\n",
              "4      32    male  28.880         0     no  northwest   3866.85520\n",
              "...   ...     ...     ...       ...    ...        ...          ...\n",
              "1333   50    male  30.970         3     no  northwest  10600.54830\n",
              "1334   18  female  31.920         0     no  northeast   2205.98080\n",
              "1335   18  female  36.850         0     no  southeast   1629.83350\n",
              "1336   21  female  25.800         0     no  southwest   2007.94500\n",
              "1337   61  female  29.070         0    yes  northwest  29141.36030\n",
              "\n",
              "[1338 rows x 7 columns]"
            ],
            "text/html": [
              "\n",
              "  <div id=\"df-5adba54c-9b0c-4d1e-936f-4e88997d1649\">\n",
              "    <div class=\"colab-df-container\">\n",
              "      <div>\n",
              "<style scoped>\n",
              "    .dataframe tbody tr th:only-of-type {\n",
              "        vertical-align: middle;\n",
              "    }\n",
              "\n",
              "    .dataframe tbody tr th {\n",
              "        vertical-align: top;\n",
              "    }\n",
              "\n",
              "    .dataframe thead th {\n",
              "        text-align: right;\n",
              "    }\n",
              "</style>\n",
              "<table border=\"1\" class=\"dataframe\">\n",
              "  <thead>\n",
              "    <tr style=\"text-align: right;\">\n",
              "      <th></th>\n",
              "      <th>age</th>\n",
              "      <th>sex</th>\n",
              "      <th>bmi</th>\n",
              "      <th>children</th>\n",
              "      <th>smoker</th>\n",
              "      <th>region</th>\n",
              "      <th>charges</th>\n",
              "    </tr>\n",
              "  </thead>\n",
              "  <tbody>\n",
              "    <tr>\n",
              "      <th>0</th>\n",
              "      <td>19</td>\n",
              "      <td>female</td>\n",
              "      <td>27.900</td>\n",
              "      <td>0</td>\n",
              "      <td>yes</td>\n",
              "      <td>southwest</td>\n",
              "      <td>16884.92400</td>\n",
              "    </tr>\n",
              "    <tr>\n",
              "      <th>1</th>\n",
              "      <td>18</td>\n",
              "      <td>male</td>\n",
              "      <td>33.770</td>\n",
              "      <td>1</td>\n",
              "      <td>no</td>\n",
              "      <td>southeast</td>\n",
              "      <td>1725.55230</td>\n",
              "    </tr>\n",
              "    <tr>\n",
              "      <th>2</th>\n",
              "      <td>28</td>\n",
              "      <td>male</td>\n",
              "      <td>33.000</td>\n",
              "      <td>3</td>\n",
              "      <td>no</td>\n",
              "      <td>southeast</td>\n",
              "      <td>4449.46200</td>\n",
              "    </tr>\n",
              "    <tr>\n",
              "      <th>3</th>\n",
              "      <td>33</td>\n",
              "      <td>male</td>\n",
              "      <td>22.705</td>\n",
              "      <td>0</td>\n",
              "      <td>no</td>\n",
              "      <td>northwest</td>\n",
              "      <td>21984.47061</td>\n",
              "    </tr>\n",
              "    <tr>\n",
              "      <th>4</th>\n",
              "      <td>32</td>\n",
              "      <td>male</td>\n",
              "      <td>28.880</td>\n",
              "      <td>0</td>\n",
              "      <td>no</td>\n",
              "      <td>northwest</td>\n",
              "      <td>3866.85520</td>\n",
              "    </tr>\n",
              "    <tr>\n",
              "      <th>...</th>\n",
              "      <td>...</td>\n",
              "      <td>...</td>\n",
              "      <td>...</td>\n",
              "      <td>...</td>\n",
              "      <td>...</td>\n",
              "      <td>...</td>\n",
              "      <td>...</td>\n",
              "    </tr>\n",
              "    <tr>\n",
              "      <th>1333</th>\n",
              "      <td>50</td>\n",
              "      <td>male</td>\n",
              "      <td>30.970</td>\n",
              "      <td>3</td>\n",
              "      <td>no</td>\n",
              "      <td>northwest</td>\n",
              "      <td>10600.54830</td>\n",
              "    </tr>\n",
              "    <tr>\n",
              "      <th>1334</th>\n",
              "      <td>18</td>\n",
              "      <td>female</td>\n",
              "      <td>31.920</td>\n",
              "      <td>0</td>\n",
              "      <td>no</td>\n",
              "      <td>northeast</td>\n",
              "      <td>2205.98080</td>\n",
              "    </tr>\n",
              "    <tr>\n",
              "      <th>1335</th>\n",
              "      <td>18</td>\n",
              "      <td>female</td>\n",
              "      <td>36.850</td>\n",
              "      <td>0</td>\n",
              "      <td>no</td>\n",
              "      <td>southeast</td>\n",
              "      <td>1629.83350</td>\n",
              "    </tr>\n",
              "    <tr>\n",
              "      <th>1336</th>\n",
              "      <td>21</td>\n",
              "      <td>female</td>\n",
              "      <td>25.800</td>\n",
              "      <td>0</td>\n",
              "      <td>no</td>\n",
              "      <td>southwest</td>\n",
              "      <td>2007.94500</td>\n",
              "    </tr>\n",
              "    <tr>\n",
              "      <th>1337</th>\n",
              "      <td>61</td>\n",
              "      <td>female</td>\n",
              "      <td>29.070</td>\n",
              "      <td>0</td>\n",
              "      <td>yes</td>\n",
              "      <td>northwest</td>\n",
              "      <td>29141.36030</td>\n",
              "    </tr>\n",
              "  </tbody>\n",
              "</table>\n",
              "<p>1338 rows × 7 columns</p>\n",
              "</div>\n",
              "      <button class=\"colab-df-convert\" onclick=\"convertToInteractive('df-5adba54c-9b0c-4d1e-936f-4e88997d1649')\"\n",
              "              title=\"Convert this dataframe to an interactive table.\"\n",
              "              style=\"display:none;\">\n",
              "        \n",
              "  <svg xmlns=\"http://www.w3.org/2000/svg\" height=\"24px\"viewBox=\"0 0 24 24\"\n",
              "       width=\"24px\">\n",
              "    <path d=\"M0 0h24v24H0V0z\" fill=\"none\"/>\n",
              "    <path d=\"M18.56 5.44l.94 2.06.94-2.06 2.06-.94-2.06-.94-.94-2.06-.94 2.06-2.06.94zm-11 1L8.5 8.5l.94-2.06 2.06-.94-2.06-.94L8.5 2.5l-.94 2.06-2.06.94zm10 10l.94 2.06.94-2.06 2.06-.94-2.06-.94-.94-2.06-.94 2.06-2.06.94z\"/><path d=\"M17.41 7.96l-1.37-1.37c-.4-.4-.92-.59-1.43-.59-.52 0-1.04.2-1.43.59L10.3 9.45l-7.72 7.72c-.78.78-.78 2.05 0 2.83L4 21.41c.39.39.9.59 1.41.59.51 0 1.02-.2 1.41-.59l7.78-7.78 2.81-2.81c.8-.78.8-2.07 0-2.86zM5.41 20L4 18.59l7.72-7.72 1.47 1.35L5.41 20z\"/>\n",
              "  </svg>\n",
              "      </button>\n",
              "      \n",
              "  <style>\n",
              "    .colab-df-container {\n",
              "      display:flex;\n",
              "      flex-wrap:wrap;\n",
              "      gap: 12px;\n",
              "    }\n",
              "\n",
              "    .colab-df-convert {\n",
              "      background-color: #E8F0FE;\n",
              "      border: none;\n",
              "      border-radius: 50%;\n",
              "      cursor: pointer;\n",
              "      display: none;\n",
              "      fill: #1967D2;\n",
              "      height: 32px;\n",
              "      padding: 0 0 0 0;\n",
              "      width: 32px;\n",
              "    }\n",
              "\n",
              "    .colab-df-convert:hover {\n",
              "      background-color: #E2EBFA;\n",
              "      box-shadow: 0px 1px 2px rgba(60, 64, 67, 0.3), 0px 1px 3px 1px rgba(60, 64, 67, 0.15);\n",
              "      fill: #174EA6;\n",
              "    }\n",
              "\n",
              "    [theme=dark] .colab-df-convert {\n",
              "      background-color: #3B4455;\n",
              "      fill: #D2E3FC;\n",
              "    }\n",
              "\n",
              "    [theme=dark] .colab-df-convert:hover {\n",
              "      background-color: #434B5C;\n",
              "      box-shadow: 0px 1px 3px 1px rgba(0, 0, 0, 0.15);\n",
              "      filter: drop-shadow(0px 1px 2px rgba(0, 0, 0, 0.3));\n",
              "      fill: #FFFFFF;\n",
              "    }\n",
              "  </style>\n",
              "\n",
              "      <script>\n",
              "        const buttonEl =\n",
              "          document.querySelector('#df-5adba54c-9b0c-4d1e-936f-4e88997d1649 button.colab-df-convert');\n",
              "        buttonEl.style.display =\n",
              "          google.colab.kernel.accessAllowed ? 'block' : 'none';\n",
              "\n",
              "        async function convertToInteractive(key) {\n",
              "          const element = document.querySelector('#df-5adba54c-9b0c-4d1e-936f-4e88997d1649');\n",
              "          const dataTable =\n",
              "            await google.colab.kernel.invokeFunction('convertToInteractive',\n",
              "                                                     [key], {});\n",
              "          if (!dataTable) return;\n",
              "\n",
              "          const docLinkHtml = 'Like what you see? Visit the ' +\n",
              "            '<a target=\"_blank\" href=https://colab.research.google.com/notebooks/data_table.ipynb>data table notebook</a>'\n",
              "            + ' to learn more about interactive tables.';\n",
              "          element.innerHTML = '';\n",
              "          dataTable['output_type'] = 'display_data';\n",
              "          await google.colab.output.renderOutput(dataTable, element);\n",
              "          const docLink = document.createElement('div');\n",
              "          docLink.innerHTML = docLinkHtml;\n",
              "          element.appendChild(docLink);\n",
              "        }\n",
              "      </script>\n",
              "    </div>\n",
              "  </div>\n",
              "  "
            ]
          },
          "metadata": {},
          "execution_count": 60
        }
      ]
    },
    {
      "cell_type": "code",
      "source": [
        "Insurance_one_hot = pd.get_dummies(insurance)\n",
        "Insurance_one_hot.head()"
      ],
      "metadata": {
        "colab": {
          "base_uri": "https://localhost:8080/",
          "height": 270
        },
        "id": "TUTpEINuTzqX",
        "outputId": "c88c23ea-5443-4966-91de-8ddff84660eb"
      },
      "execution_count": null,
      "outputs": [
        {
          "output_type": "execute_result",
          "data": {
            "text/plain": [
              "   age     bmi  children      charges  sex_female  sex_male  smoker_no  \\\n",
              "0   19  27.900         0  16884.92400           1         0          0   \n",
              "1   18  33.770         1   1725.55230           0         1          1   \n",
              "2   28  33.000         3   4449.46200           0         1          1   \n",
              "3   33  22.705         0  21984.47061           0         1          1   \n",
              "4   32  28.880         0   3866.85520           0         1          1   \n",
              "\n",
              "   smoker_yes  region_northeast  region_northwest  region_southeast  \\\n",
              "0           1                 0                 0                 0   \n",
              "1           0                 0                 0                 1   \n",
              "2           0                 0                 0                 1   \n",
              "3           0                 0                 1                 0   \n",
              "4           0                 0                 1                 0   \n",
              "\n",
              "   region_southwest  \n",
              "0                 1  \n",
              "1                 0  \n",
              "2                 0  \n",
              "3                 0  \n",
              "4                 0  "
            ],
            "text/html": [
              "\n",
              "  <div id=\"df-b3a4cf12-67ac-4a79-95f8-182e984ba6d3\">\n",
              "    <div class=\"colab-df-container\">\n",
              "      <div>\n",
              "<style scoped>\n",
              "    .dataframe tbody tr th:only-of-type {\n",
              "        vertical-align: middle;\n",
              "    }\n",
              "\n",
              "    .dataframe tbody tr th {\n",
              "        vertical-align: top;\n",
              "    }\n",
              "\n",
              "    .dataframe thead th {\n",
              "        text-align: right;\n",
              "    }\n",
              "</style>\n",
              "<table border=\"1\" class=\"dataframe\">\n",
              "  <thead>\n",
              "    <tr style=\"text-align: right;\">\n",
              "      <th></th>\n",
              "      <th>age</th>\n",
              "      <th>bmi</th>\n",
              "      <th>children</th>\n",
              "      <th>charges</th>\n",
              "      <th>sex_female</th>\n",
              "      <th>sex_male</th>\n",
              "      <th>smoker_no</th>\n",
              "      <th>smoker_yes</th>\n",
              "      <th>region_northeast</th>\n",
              "      <th>region_northwest</th>\n",
              "      <th>region_southeast</th>\n",
              "      <th>region_southwest</th>\n",
              "    </tr>\n",
              "  </thead>\n",
              "  <tbody>\n",
              "    <tr>\n",
              "      <th>0</th>\n",
              "      <td>19</td>\n",
              "      <td>27.900</td>\n",
              "      <td>0</td>\n",
              "      <td>16884.92400</td>\n",
              "      <td>1</td>\n",
              "      <td>0</td>\n",
              "      <td>0</td>\n",
              "      <td>1</td>\n",
              "      <td>0</td>\n",
              "      <td>0</td>\n",
              "      <td>0</td>\n",
              "      <td>1</td>\n",
              "    </tr>\n",
              "    <tr>\n",
              "      <th>1</th>\n",
              "      <td>18</td>\n",
              "      <td>33.770</td>\n",
              "      <td>1</td>\n",
              "      <td>1725.55230</td>\n",
              "      <td>0</td>\n",
              "      <td>1</td>\n",
              "      <td>1</td>\n",
              "      <td>0</td>\n",
              "      <td>0</td>\n",
              "      <td>0</td>\n",
              "      <td>1</td>\n",
              "      <td>0</td>\n",
              "    </tr>\n",
              "    <tr>\n",
              "      <th>2</th>\n",
              "      <td>28</td>\n",
              "      <td>33.000</td>\n",
              "      <td>3</td>\n",
              "      <td>4449.46200</td>\n",
              "      <td>0</td>\n",
              "      <td>1</td>\n",
              "      <td>1</td>\n",
              "      <td>0</td>\n",
              "      <td>0</td>\n",
              "      <td>0</td>\n",
              "      <td>1</td>\n",
              "      <td>0</td>\n",
              "    </tr>\n",
              "    <tr>\n",
              "      <th>3</th>\n",
              "      <td>33</td>\n",
              "      <td>22.705</td>\n",
              "      <td>0</td>\n",
              "      <td>21984.47061</td>\n",
              "      <td>0</td>\n",
              "      <td>1</td>\n",
              "      <td>1</td>\n",
              "      <td>0</td>\n",
              "      <td>0</td>\n",
              "      <td>1</td>\n",
              "      <td>0</td>\n",
              "      <td>0</td>\n",
              "    </tr>\n",
              "    <tr>\n",
              "      <th>4</th>\n",
              "      <td>32</td>\n",
              "      <td>28.880</td>\n",
              "      <td>0</td>\n",
              "      <td>3866.85520</td>\n",
              "      <td>0</td>\n",
              "      <td>1</td>\n",
              "      <td>1</td>\n",
              "      <td>0</td>\n",
              "      <td>0</td>\n",
              "      <td>1</td>\n",
              "      <td>0</td>\n",
              "      <td>0</td>\n",
              "    </tr>\n",
              "  </tbody>\n",
              "</table>\n",
              "</div>\n",
              "      <button class=\"colab-df-convert\" onclick=\"convertToInteractive('df-b3a4cf12-67ac-4a79-95f8-182e984ba6d3')\"\n",
              "              title=\"Convert this dataframe to an interactive table.\"\n",
              "              style=\"display:none;\">\n",
              "        \n",
              "  <svg xmlns=\"http://www.w3.org/2000/svg\" height=\"24px\"viewBox=\"0 0 24 24\"\n",
              "       width=\"24px\">\n",
              "    <path d=\"M0 0h24v24H0V0z\" fill=\"none\"/>\n",
              "    <path d=\"M18.56 5.44l.94 2.06.94-2.06 2.06-.94-2.06-.94-.94-2.06-.94 2.06-2.06.94zm-11 1L8.5 8.5l.94-2.06 2.06-.94-2.06-.94L8.5 2.5l-.94 2.06-2.06.94zm10 10l.94 2.06.94-2.06 2.06-.94-2.06-.94-.94-2.06-.94 2.06-2.06.94z\"/><path d=\"M17.41 7.96l-1.37-1.37c-.4-.4-.92-.59-1.43-.59-.52 0-1.04.2-1.43.59L10.3 9.45l-7.72 7.72c-.78.78-.78 2.05 0 2.83L4 21.41c.39.39.9.59 1.41.59.51 0 1.02-.2 1.41-.59l7.78-7.78 2.81-2.81c.8-.78.8-2.07 0-2.86zM5.41 20L4 18.59l7.72-7.72 1.47 1.35L5.41 20z\"/>\n",
              "  </svg>\n",
              "      </button>\n",
              "      \n",
              "  <style>\n",
              "    .colab-df-container {\n",
              "      display:flex;\n",
              "      flex-wrap:wrap;\n",
              "      gap: 12px;\n",
              "    }\n",
              "\n",
              "    .colab-df-convert {\n",
              "      background-color: #E8F0FE;\n",
              "      border: none;\n",
              "      border-radius: 50%;\n",
              "      cursor: pointer;\n",
              "      display: none;\n",
              "      fill: #1967D2;\n",
              "      height: 32px;\n",
              "      padding: 0 0 0 0;\n",
              "      width: 32px;\n",
              "    }\n",
              "\n",
              "    .colab-df-convert:hover {\n",
              "      background-color: #E2EBFA;\n",
              "      box-shadow: 0px 1px 2px rgba(60, 64, 67, 0.3), 0px 1px 3px 1px rgba(60, 64, 67, 0.15);\n",
              "      fill: #174EA6;\n",
              "    }\n",
              "\n",
              "    [theme=dark] .colab-df-convert {\n",
              "      background-color: #3B4455;\n",
              "      fill: #D2E3FC;\n",
              "    }\n",
              "\n",
              "    [theme=dark] .colab-df-convert:hover {\n",
              "      background-color: #434B5C;\n",
              "      box-shadow: 0px 1px 3px 1px rgba(0, 0, 0, 0.15);\n",
              "      filter: drop-shadow(0px 1px 2px rgba(0, 0, 0, 0.3));\n",
              "      fill: #FFFFFF;\n",
              "    }\n",
              "  </style>\n",
              "\n",
              "      <script>\n",
              "        const buttonEl =\n",
              "          document.querySelector('#df-b3a4cf12-67ac-4a79-95f8-182e984ba6d3 button.colab-df-convert');\n",
              "        buttonEl.style.display =\n",
              "          google.colab.kernel.accessAllowed ? 'block' : 'none';\n",
              "\n",
              "        async function convertToInteractive(key) {\n",
              "          const element = document.querySelector('#df-b3a4cf12-67ac-4a79-95f8-182e984ba6d3');\n",
              "          const dataTable =\n",
              "            await google.colab.kernel.invokeFunction('convertToInteractive',\n",
              "                                                     [key], {});\n",
              "          if (!dataTable) return;\n",
              "\n",
              "          const docLinkHtml = 'Like what you see? Visit the ' +\n",
              "            '<a target=\"_blank\" href=https://colab.research.google.com/notebooks/data_table.ipynb>data table notebook</a>'\n",
              "            + ' to learn more about interactive tables.';\n",
              "          element.innerHTML = '';\n",
              "          dataTable['output_type'] = 'display_data';\n",
              "          await google.colab.output.renderOutput(dataTable, element);\n",
              "          const docLink = document.createElement('div');\n",
              "          docLink.innerHTML = docLinkHtml;\n",
              "          element.appendChild(docLink);\n",
              "        }\n",
              "      </script>\n",
              "    </div>\n",
              "  </div>\n",
              "  "
            ]
          },
          "metadata": {},
          "execution_count": 61
        }
      ]
    },
    {
      "cell_type": "code",
      "source": [
        "X = Insurance_one_hot.drop(\"charges\", axis=1)\n",
        "y = Insurance_one_hot[\"charges\"]"
      ],
      "metadata": {
        "id": "8bNwuNbXWFWK"
      },
      "execution_count": null,
      "outputs": []
    },
    {
      "cell_type": "code",
      "source": [
        "X.head()"
      ],
      "metadata": {
        "colab": {
          "base_uri": "https://localhost:8080/",
          "height": 270
        },
        "id": "ZhrHT3YzoDKt",
        "outputId": "ac826180-f885-4390-ba4f-bebade2b97fd"
      },
      "execution_count": null,
      "outputs": [
        {
          "output_type": "execute_result",
          "data": {
            "text/plain": [
              "   age     bmi  children  sex_female  sex_male  smoker_no  smoker_yes  \\\n",
              "0   19  27.900         0           1         0          0           1   \n",
              "1   18  33.770         1           0         1          1           0   \n",
              "2   28  33.000         3           0         1          1           0   \n",
              "3   33  22.705         0           0         1          1           0   \n",
              "4   32  28.880         0           0         1          1           0   \n",
              "\n",
              "   region_northeast  region_northwest  region_southeast  region_southwest  \n",
              "0                 0                 0                 0                 1  \n",
              "1                 0                 0                 1                 0  \n",
              "2                 0                 0                 1                 0  \n",
              "3                 0                 1                 0                 0  \n",
              "4                 0                 1                 0                 0  "
            ],
            "text/html": [
              "\n",
              "  <div id=\"df-5528f5de-be0e-4588-a5ac-72bfde81b84a\">\n",
              "    <div class=\"colab-df-container\">\n",
              "      <div>\n",
              "<style scoped>\n",
              "    .dataframe tbody tr th:only-of-type {\n",
              "        vertical-align: middle;\n",
              "    }\n",
              "\n",
              "    .dataframe tbody tr th {\n",
              "        vertical-align: top;\n",
              "    }\n",
              "\n",
              "    .dataframe thead th {\n",
              "        text-align: right;\n",
              "    }\n",
              "</style>\n",
              "<table border=\"1\" class=\"dataframe\">\n",
              "  <thead>\n",
              "    <tr style=\"text-align: right;\">\n",
              "      <th></th>\n",
              "      <th>age</th>\n",
              "      <th>bmi</th>\n",
              "      <th>children</th>\n",
              "      <th>sex_female</th>\n",
              "      <th>sex_male</th>\n",
              "      <th>smoker_no</th>\n",
              "      <th>smoker_yes</th>\n",
              "      <th>region_northeast</th>\n",
              "      <th>region_northwest</th>\n",
              "      <th>region_southeast</th>\n",
              "      <th>region_southwest</th>\n",
              "    </tr>\n",
              "  </thead>\n",
              "  <tbody>\n",
              "    <tr>\n",
              "      <th>0</th>\n",
              "      <td>19</td>\n",
              "      <td>27.900</td>\n",
              "      <td>0</td>\n",
              "      <td>1</td>\n",
              "      <td>0</td>\n",
              "      <td>0</td>\n",
              "      <td>1</td>\n",
              "      <td>0</td>\n",
              "      <td>0</td>\n",
              "      <td>0</td>\n",
              "      <td>1</td>\n",
              "    </tr>\n",
              "    <tr>\n",
              "      <th>1</th>\n",
              "      <td>18</td>\n",
              "      <td>33.770</td>\n",
              "      <td>1</td>\n",
              "      <td>0</td>\n",
              "      <td>1</td>\n",
              "      <td>1</td>\n",
              "      <td>0</td>\n",
              "      <td>0</td>\n",
              "      <td>0</td>\n",
              "      <td>1</td>\n",
              "      <td>0</td>\n",
              "    </tr>\n",
              "    <tr>\n",
              "      <th>2</th>\n",
              "      <td>28</td>\n",
              "      <td>33.000</td>\n",
              "      <td>3</td>\n",
              "      <td>0</td>\n",
              "      <td>1</td>\n",
              "      <td>1</td>\n",
              "      <td>0</td>\n",
              "      <td>0</td>\n",
              "      <td>0</td>\n",
              "      <td>1</td>\n",
              "      <td>0</td>\n",
              "    </tr>\n",
              "    <tr>\n",
              "      <th>3</th>\n",
              "      <td>33</td>\n",
              "      <td>22.705</td>\n",
              "      <td>0</td>\n",
              "      <td>0</td>\n",
              "      <td>1</td>\n",
              "      <td>1</td>\n",
              "      <td>0</td>\n",
              "      <td>0</td>\n",
              "      <td>1</td>\n",
              "      <td>0</td>\n",
              "      <td>0</td>\n",
              "    </tr>\n",
              "    <tr>\n",
              "      <th>4</th>\n",
              "      <td>32</td>\n",
              "      <td>28.880</td>\n",
              "      <td>0</td>\n",
              "      <td>0</td>\n",
              "      <td>1</td>\n",
              "      <td>1</td>\n",
              "      <td>0</td>\n",
              "      <td>0</td>\n",
              "      <td>1</td>\n",
              "      <td>0</td>\n",
              "      <td>0</td>\n",
              "    </tr>\n",
              "  </tbody>\n",
              "</table>\n",
              "</div>\n",
              "      <button class=\"colab-df-convert\" onclick=\"convertToInteractive('df-5528f5de-be0e-4588-a5ac-72bfde81b84a')\"\n",
              "              title=\"Convert this dataframe to an interactive table.\"\n",
              "              style=\"display:none;\">\n",
              "        \n",
              "  <svg xmlns=\"http://www.w3.org/2000/svg\" height=\"24px\"viewBox=\"0 0 24 24\"\n",
              "       width=\"24px\">\n",
              "    <path d=\"M0 0h24v24H0V0z\" fill=\"none\"/>\n",
              "    <path d=\"M18.56 5.44l.94 2.06.94-2.06 2.06-.94-2.06-.94-.94-2.06-.94 2.06-2.06.94zm-11 1L8.5 8.5l.94-2.06 2.06-.94-2.06-.94L8.5 2.5l-.94 2.06-2.06.94zm10 10l.94 2.06.94-2.06 2.06-.94-2.06-.94-.94-2.06-.94 2.06-2.06.94z\"/><path d=\"M17.41 7.96l-1.37-1.37c-.4-.4-.92-.59-1.43-.59-.52 0-1.04.2-1.43.59L10.3 9.45l-7.72 7.72c-.78.78-.78 2.05 0 2.83L4 21.41c.39.39.9.59 1.41.59.51 0 1.02-.2 1.41-.59l7.78-7.78 2.81-2.81c.8-.78.8-2.07 0-2.86zM5.41 20L4 18.59l7.72-7.72 1.47 1.35L5.41 20z\"/>\n",
              "  </svg>\n",
              "      </button>\n",
              "      \n",
              "  <style>\n",
              "    .colab-df-container {\n",
              "      display:flex;\n",
              "      flex-wrap:wrap;\n",
              "      gap: 12px;\n",
              "    }\n",
              "\n",
              "    .colab-df-convert {\n",
              "      background-color: #E8F0FE;\n",
              "      border: none;\n",
              "      border-radius: 50%;\n",
              "      cursor: pointer;\n",
              "      display: none;\n",
              "      fill: #1967D2;\n",
              "      height: 32px;\n",
              "      padding: 0 0 0 0;\n",
              "      width: 32px;\n",
              "    }\n",
              "\n",
              "    .colab-df-convert:hover {\n",
              "      background-color: #E2EBFA;\n",
              "      box-shadow: 0px 1px 2px rgba(60, 64, 67, 0.3), 0px 1px 3px 1px rgba(60, 64, 67, 0.15);\n",
              "      fill: #174EA6;\n",
              "    }\n",
              "\n",
              "    [theme=dark] .colab-df-convert {\n",
              "      background-color: #3B4455;\n",
              "      fill: #D2E3FC;\n",
              "    }\n",
              "\n",
              "    [theme=dark] .colab-df-convert:hover {\n",
              "      background-color: #434B5C;\n",
              "      box-shadow: 0px 1px 3px 1px rgba(0, 0, 0, 0.15);\n",
              "      filter: drop-shadow(0px 1px 2px rgba(0, 0, 0, 0.3));\n",
              "      fill: #FFFFFF;\n",
              "    }\n",
              "  </style>\n",
              "\n",
              "      <script>\n",
              "        const buttonEl =\n",
              "          document.querySelector('#df-5528f5de-be0e-4588-a5ac-72bfde81b84a button.colab-df-convert');\n",
              "        buttonEl.style.display =\n",
              "          google.colab.kernel.accessAllowed ? 'block' : 'none';\n",
              "\n",
              "        async function convertToInteractive(key) {\n",
              "          const element = document.querySelector('#df-5528f5de-be0e-4588-a5ac-72bfde81b84a');\n",
              "          const dataTable =\n",
              "            await google.colab.kernel.invokeFunction('convertToInteractive',\n",
              "                                                     [key], {});\n",
              "          if (!dataTable) return;\n",
              "\n",
              "          const docLinkHtml = 'Like what you see? Visit the ' +\n",
              "            '<a target=\"_blank\" href=https://colab.research.google.com/notebooks/data_table.ipynb>data table notebook</a>'\n",
              "            + ' to learn more about interactive tables.';\n",
              "          element.innerHTML = '';\n",
              "          dataTable['output_type'] = 'display_data';\n",
              "          await google.colab.output.renderOutput(dataTable, element);\n",
              "          const docLink = document.createElement('div');\n",
              "          docLink.innerHTML = docLinkHtml;\n",
              "          element.appendChild(docLink);\n",
              "        }\n",
              "      </script>\n",
              "    </div>\n",
              "  </div>\n",
              "  "
            ]
          },
          "metadata": {},
          "execution_count": 63
        }
      ]
    },
    {
      "cell_type": "code",
      "source": [
        "y.head()"
      ],
      "metadata": {
        "colab": {
          "base_uri": "https://localhost:8080/"
        },
        "id": "qiKLW3H-oEz-",
        "outputId": "fd069d51-41d8-437b-b452-edb49582782a"
      },
      "execution_count": null,
      "outputs": [
        {
          "output_type": "execute_result",
          "data": {
            "text/plain": [
              "0    16884.92400\n",
              "1     1725.55230\n",
              "2     4449.46200\n",
              "3    21984.47061\n",
              "4     3866.85520\n",
              "Name: charges, dtype: float64"
            ]
          },
          "metadata": {},
          "execution_count": 64
        }
      ]
    },
    {
      "cell_type": "code",
      "source": [
        "# training and test set\n",
        "from sklearn.model_selection import train_test_split\n",
        "X_train, X_test, y_train, y_test = train_test_split(X, y, test_size=0.2, random_state=42)\n",
        "len(X), len(X_train), len(X_test)"
      ],
      "metadata": {
        "colab": {
          "base_uri": "https://localhost:8080/"
        },
        "id": "B9XeMHiIoMTh",
        "outputId": "013b5619-8b4d-4a89-972e-9c40309b02cb"
      },
      "execution_count": null,
      "outputs": [
        {
          "output_type": "execute_result",
          "data": {
            "text/plain": [
              "(1338, 1070, 268)"
            ]
          },
          "metadata": {},
          "execution_count": 65
        }
      ]
    },
    {
      "cell_type": "markdown",
      "source": [
        "# build a neural network and learning the relation between 2\n",
        "model_2.summary()"
      ],
      "metadata": {
        "id": "UOrdhwTFosQ9"
      }
    },
    {
      "cell_type": "code",
      "source": [
        "tf.random.set_seed(42)\n",
        "insurance_model = Sequential([\n",
        "    layers.Dense(10),\n",
        "    layers.Dense(1)\n",
        "])\n",
        "insurance_model.compile(loss=tf.keras.losses.mae,\n",
        "                        optimizer=tf.keras.optimizers.SGD(),\n",
        "                        metrics=['mae'])\n",
        "insurance_model.fit(X_train, y_train, epochs=100)"
      ],
      "metadata": {
        "colab": {
          "base_uri": "https://localhost:8080/"
        },
        "id": "v_PSHW_kpluG",
        "outputId": "539943f0-1cee-448c-fe59-73c44b717601"
      },
      "execution_count": null,
      "outputs": [
        {
          "output_type": "stream",
          "name": "stdout",
          "text": [
            "Epoch 1/100\n",
            "34/34 [==============================] - 0s 2ms/step - loss: 8742.6221 - mae: 8742.6221\n",
            "Epoch 2/100\n",
            "34/34 [==============================] - 0s 2ms/step - loss: 7883.6777 - mae: 7883.6777\n",
            "Epoch 3/100\n",
            "34/34 [==============================] - 0s 2ms/step - loss: 7534.3657 - mae: 7534.3657\n",
            "Epoch 4/100\n",
            "34/34 [==============================] - 0s 2ms/step - loss: 7740.0088 - mae: 7740.0088\n",
            "Epoch 5/100\n",
            "34/34 [==============================] - 0s 2ms/step - loss: 7666.4346 - mae: 7666.4346\n",
            "Epoch 6/100\n",
            "34/34 [==============================] - 0s 2ms/step - loss: 7612.4619 - mae: 7612.4619\n",
            "Epoch 7/100\n",
            "34/34 [==============================] - 0s 2ms/step - loss: 7565.5396 - mae: 7565.5396\n",
            "Epoch 8/100\n",
            "34/34 [==============================] - 0s 2ms/step - loss: 7744.6812 - mae: 7744.6812\n",
            "Epoch 9/100\n",
            "34/34 [==============================] - 0s 2ms/step - loss: 7550.6221 - mae: 7550.6221\n",
            "Epoch 10/100\n",
            "34/34 [==============================] - 0s 2ms/step - loss: 7657.4419 - mae: 7657.4419\n",
            "Epoch 11/100\n",
            "34/34 [==============================] - 0s 2ms/step - loss: 7546.8838 - mae: 7546.8838\n",
            "Epoch 12/100\n",
            "34/34 [==============================] - 0s 2ms/step - loss: 7668.5322 - mae: 7668.5322\n",
            "Epoch 13/100\n",
            "34/34 [==============================] - 0s 2ms/step - loss: 7728.7983 - mae: 7728.7983\n",
            "Epoch 14/100\n",
            "34/34 [==============================] - 0s 2ms/step - loss: 7749.2778 - mae: 7749.2778\n",
            "Epoch 15/100\n",
            "34/34 [==============================] - 0s 2ms/step - loss: 7504.2832 - mae: 7504.2832\n",
            "Epoch 16/100\n",
            "34/34 [==============================] - 0s 2ms/step - loss: 7828.2163 - mae: 7828.2163\n",
            "Epoch 17/100\n",
            "34/34 [==============================] - 0s 2ms/step - loss: 7626.2183 - mae: 7626.2183\n",
            "Epoch 18/100\n",
            "34/34 [==============================] - 0s 2ms/step - loss: 7873.6904 - mae: 7873.6904\n",
            "Epoch 19/100\n",
            "34/34 [==============================] - 0s 2ms/step - loss: 7679.0449 - mae: 7679.0449\n",
            "Epoch 20/100\n",
            "34/34 [==============================] - 0s 2ms/step - loss: 7869.5103 - mae: 7869.5103\n",
            "Epoch 21/100\n",
            "34/34 [==============================] - 0s 1ms/step - loss: 7538.0312 - mae: 7538.0312\n",
            "Epoch 22/100\n",
            "34/34 [==============================] - 0s 2ms/step - loss: 7781.1665 - mae: 7781.1665\n",
            "Epoch 23/100\n",
            "34/34 [==============================] - 0s 2ms/step - loss: 7721.4590 - mae: 7721.4590\n",
            "Epoch 24/100\n",
            "34/34 [==============================] - 0s 2ms/step - loss: 7517.9502 - mae: 7517.9502\n",
            "Epoch 25/100\n",
            "34/34 [==============================] - 0s 2ms/step - loss: 7580.9697 - mae: 7580.9697\n",
            "Epoch 26/100\n",
            "34/34 [==============================] - 0s 2ms/step - loss: 7664.2490 - mae: 7664.2490\n",
            "Epoch 27/100\n",
            "34/34 [==============================] - 0s 2ms/step - loss: 7691.1270 - mae: 7691.1270\n",
            "Epoch 28/100\n",
            "34/34 [==============================] - 0s 2ms/step - loss: 7346.7554 - mae: 7346.7554\n",
            "Epoch 29/100\n",
            "34/34 [==============================] - 0s 2ms/step - loss: 7684.3242 - mae: 7684.3242\n",
            "Epoch 30/100\n",
            "34/34 [==============================] - 0s 2ms/step - loss: 7638.7549 - mae: 7638.7549\n",
            "Epoch 31/100\n",
            "34/34 [==============================] - 0s 2ms/step - loss: 7381.0615 - mae: 7381.0615\n",
            "Epoch 32/100\n",
            "34/34 [==============================] - 0s 2ms/step - loss: 7506.5786 - mae: 7506.5786\n",
            "Epoch 33/100\n",
            "34/34 [==============================] - 0s 2ms/step - loss: 7543.3804 - mae: 7543.3804\n",
            "Epoch 34/100\n",
            "34/34 [==============================] - 0s 2ms/step - loss: 7477.3120 - mae: 7477.3120\n",
            "Epoch 35/100\n",
            "34/34 [==============================] - 0s 2ms/step - loss: 7397.0830 - mae: 7397.0830\n",
            "Epoch 36/100\n",
            "34/34 [==============================] - 0s 2ms/step - loss: 7662.6196 - mae: 7662.6196\n",
            "Epoch 37/100\n",
            "34/34 [==============================] - 0s 2ms/step - loss: 7480.3374 - mae: 7480.3374\n",
            "Epoch 38/100\n",
            "34/34 [==============================] - 0s 2ms/step - loss: 7250.2471 - mae: 7250.2471\n",
            "Epoch 39/100\n",
            "34/34 [==============================] - 0s 2ms/step - loss: 7512.1411 - mae: 7512.1411\n",
            "Epoch 40/100\n",
            "34/34 [==============================] - 0s 2ms/step - loss: 7512.5425 - mae: 7512.5425\n",
            "Epoch 41/100\n",
            "34/34 [==============================] - 0s 2ms/step - loss: 7730.5552 - mae: 7730.5552\n",
            "Epoch 42/100\n",
            "34/34 [==============================] - 0s 2ms/step - loss: 7559.4697 - mae: 7559.4697\n",
            "Epoch 43/100\n",
            "34/34 [==============================] - 0s 1ms/step - loss: 7673.5273 - mae: 7673.5273\n",
            "Epoch 44/100\n",
            "34/34 [==============================] - 0s 2ms/step - loss: 7502.2373 - mae: 7502.2373\n",
            "Epoch 45/100\n",
            "34/34 [==============================] - 0s 2ms/step - loss: 7526.5542 - mae: 7526.5542\n",
            "Epoch 46/100\n",
            "34/34 [==============================] - 0s 2ms/step - loss: 7562.9839 - mae: 7562.9839\n",
            "Epoch 47/100\n",
            "34/34 [==============================] - 0s 3ms/step - loss: 7463.2524 - mae: 7463.2524\n",
            "Epoch 48/100\n",
            "34/34 [==============================] - 0s 2ms/step - loss: 7499.2095 - mae: 7499.2095\n",
            "Epoch 49/100\n",
            "34/34 [==============================] - 0s 3ms/step - loss: 7556.0498 - mae: 7556.0498\n",
            "Epoch 50/100\n",
            "34/34 [==============================] - 0s 2ms/step - loss: 7488.8115 - mae: 7488.8115\n",
            "Epoch 51/100\n",
            "34/34 [==============================] - 0s 2ms/step - loss: 7390.6304 - mae: 7390.6304\n",
            "Epoch 52/100\n",
            "34/34 [==============================] - 0s 3ms/step - loss: 7540.8169 - mae: 7540.8169\n",
            "Epoch 53/100\n",
            "34/34 [==============================] - 0s 2ms/step - loss: 7621.2451 - mae: 7621.2451\n",
            "Epoch 54/100\n",
            "34/34 [==============================] - 0s 2ms/step - loss: 7310.9277 - mae: 7310.9277\n",
            "Epoch 55/100\n",
            "34/34 [==============================] - 0s 2ms/step - loss: 7384.7627 - mae: 7384.7627\n",
            "Epoch 56/100\n",
            "34/34 [==============================] - 0s 2ms/step - loss: 7196.6943 - mae: 7196.6943\n",
            "Epoch 57/100\n",
            "34/34 [==============================] - 0s 2ms/step - loss: 7421.5889 - mae: 7421.5889\n",
            "Epoch 58/100\n",
            "34/34 [==============================] - 0s 2ms/step - loss: 7524.4658 - mae: 7524.4658\n",
            "Epoch 59/100\n",
            "34/34 [==============================] - 0s 3ms/step - loss: 7559.0713 - mae: 7559.0713\n",
            "Epoch 60/100\n",
            "34/34 [==============================] - 0s 3ms/step - loss: 7374.0049 - mae: 7374.0049\n",
            "Epoch 61/100\n",
            "34/34 [==============================] - 0s 3ms/step - loss: 7471.1704 - mae: 7471.1704\n",
            "Epoch 62/100\n",
            "34/34 [==============================] - 0s 2ms/step - loss: 7286.6787 - mae: 7286.6787\n",
            "Epoch 63/100\n",
            "34/34 [==============================] - 0s 2ms/step - loss: 7385.1279 - mae: 7385.1279\n",
            "Epoch 64/100\n",
            "34/34 [==============================] - 0s 3ms/step - loss: 7243.5259 - mae: 7243.5259\n",
            "Epoch 65/100\n",
            "34/34 [==============================] - 0s 2ms/step - loss: 7415.1260 - mae: 7415.1260\n",
            "Epoch 66/100\n",
            "34/34 [==============================] - 0s 2ms/step - loss: 7319.9087 - mae: 7319.9087\n",
            "Epoch 67/100\n",
            "34/34 [==============================] - 0s 2ms/step - loss: 7479.1982 - mae: 7479.1982\n",
            "Epoch 68/100\n",
            "34/34 [==============================] - 0s 2ms/step - loss: 7550.6782 - mae: 7550.6782\n",
            "Epoch 69/100\n",
            "34/34 [==============================] - 0s 2ms/step - loss: 7533.6421 - mae: 7533.6421\n",
            "Epoch 70/100\n",
            "34/34 [==============================] - 0s 2ms/step - loss: 7452.5742 - mae: 7452.5742\n",
            "Epoch 71/100\n",
            "34/34 [==============================] - 0s 2ms/step - loss: 7242.2349 - mae: 7242.2349\n",
            "Epoch 72/100\n",
            "34/34 [==============================] - 0s 2ms/step - loss: 7396.3828 - mae: 7396.3828\n",
            "Epoch 73/100\n",
            "34/34 [==============================] - 0s 2ms/step - loss: 7280.5010 - mae: 7280.5010\n",
            "Epoch 74/100\n",
            "34/34 [==============================] - 0s 2ms/step - loss: 7371.8418 - mae: 7371.8418\n",
            "Epoch 75/100\n",
            "34/34 [==============================] - 0s 2ms/step - loss: 7272.8213 - mae: 7272.8213\n",
            "Epoch 76/100\n",
            "34/34 [==============================] - 0s 3ms/step - loss: 7108.5254 - mae: 7108.5254\n",
            "Epoch 77/100\n",
            "34/34 [==============================] - 0s 2ms/step - loss: 7278.2764 - mae: 7278.2764\n",
            "Epoch 78/100\n",
            "34/34 [==============================] - 0s 2ms/step - loss: 7388.7754 - mae: 7388.7754\n",
            "Epoch 79/100\n",
            "34/34 [==============================] - 0s 3ms/step - loss: 7564.3267 - mae: 7564.3267\n",
            "Epoch 80/100\n",
            "34/34 [==============================] - 0s 3ms/step - loss: 7211.2637 - mae: 7211.2637\n",
            "Epoch 81/100\n",
            "34/34 [==============================] - 0s 3ms/step - loss: 7286.1807 - mae: 7286.1807\n",
            "Epoch 82/100\n",
            "34/34 [==============================] - 0s 3ms/step - loss: 7170.3477 - mae: 7170.3477\n",
            "Epoch 83/100\n",
            "34/34 [==============================] - 0s 2ms/step - loss: 7456.0020 - mae: 7456.0020\n",
            "Epoch 84/100\n",
            "34/34 [==============================] - 0s 2ms/step - loss: 7338.0225 - mae: 7338.0225\n",
            "Epoch 85/100\n",
            "34/34 [==============================] - 0s 2ms/step - loss: 7544.7700 - mae: 7544.7700\n",
            "Epoch 86/100\n",
            "34/34 [==============================] - 0s 2ms/step - loss: 7551.0181 - mae: 7551.0181\n",
            "Epoch 87/100\n",
            "34/34 [==============================] - 0s 2ms/step - loss: 7375.7563 - mae: 7375.7563\n",
            "Epoch 88/100\n",
            "34/34 [==============================] - 0s 2ms/step - loss: 7465.0762 - mae: 7465.0762\n",
            "Epoch 89/100\n",
            "34/34 [==============================] - 0s 2ms/step - loss: 7493.0293 - mae: 7493.0293\n",
            "Epoch 90/100\n",
            "34/34 [==============================] - 0s 2ms/step - loss: 7058.7617 - mae: 7058.7617\n",
            "Epoch 91/100\n",
            "34/34 [==============================] - 0s 2ms/step - loss: 7344.1289 - mae: 7344.1289\n",
            "Epoch 92/100\n",
            "34/34 [==============================] - 0s 2ms/step - loss: 7382.1387 - mae: 7382.1387\n",
            "Epoch 93/100\n",
            "34/34 [==============================] - 0s 2ms/step - loss: 7403.1216 - mae: 7403.1216\n",
            "Epoch 94/100\n",
            "34/34 [==============================] - 0s 2ms/step - loss: 7210.8955 - mae: 7210.8955\n",
            "Epoch 95/100\n",
            "34/34 [==============================] - 0s 2ms/step - loss: 7309.6270 - mae: 7309.6270\n",
            "Epoch 96/100\n",
            "34/34 [==============================] - 0s 2ms/step - loss: 7080.4121 - mae: 7080.4121\n",
            "Epoch 97/100\n",
            "34/34 [==============================] - 0s 2ms/step - loss: 7176.5562 - mae: 7176.5562\n",
            "Epoch 98/100\n",
            "34/34 [==============================] - 0s 2ms/step - loss: 7377.0654 - mae: 7377.0654\n",
            "Epoch 99/100\n",
            "34/34 [==============================] - 0s 2ms/step - loss: 7161.8325 - mae: 7161.8325\n",
            "Epoch 100/100\n",
            "34/34 [==============================] - 0s 2ms/step - loss: 7130.1455 - mae: 7130.1455\n"
          ]
        },
        {
          "output_type": "execute_result",
          "data": {
            "text/plain": [
              "<keras.callbacks.History at 0x7f067a3428c0>"
            ]
          },
          "metadata": {},
          "execution_count": 66
        }
      ]
    },
    {
      "cell_type": "code",
      "source": [
        "# check the results\n",
        "insurance_model.evaluate(X_test, y_test)"
      ],
      "metadata": {
        "colab": {
          "base_uri": "https://localhost:8080/"
        },
        "id": "6Qq4gVljqYBK",
        "outputId": "64e4bd0d-acc9-42e5-b033-9a90ca2b4138"
      },
      "execution_count": null,
      "outputs": [
        {
          "output_type": "stream",
          "name": "stdout",
          "text": [
            "9/9 [==============================] - 0s 3ms/step - loss: 6917.7227 - mae: 6917.7227\n"
          ]
        },
        {
          "output_type": "execute_result",
          "data": {
            "text/plain": [
              "[6917.72265625, 6917.72265625]"
            ]
          },
          "metadata": {},
          "execution_count": 67
        }
      ]
    },
    {
      "cell_type": "code",
      "source": [
        "tf.random.set_seed(42)\n",
        "insurance_model_2 = Sequential([\n",
        "    layers.Dense(100),\n",
        "    layers.Dense(10),\n",
        "    layers.Dense(1)\n",
        "])\n",
        "insurance_model_2.compile(loss=tf.keras.losses.mae,\n",
        "                        optimizer=tf.keras.optimizers.Adam(),\n",
        "                        metrics=['mae'])\n",
        "insurance_model_2.fit(X_train, y_train, epochs=100, verbose=1)"
      ],
      "metadata": {
        "colab": {
          "base_uri": "https://localhost:8080/"
        },
        "id": "Vuxsi6VlrGvV",
        "outputId": "3f2ca60f-e5aa-4d7c-ffe7-b864f4589e1a"
      },
      "execution_count": null,
      "outputs": [
        {
          "output_type": "stream",
          "name": "stdout",
          "text": [
            "Epoch 1/100\n",
            "34/34 [==============================] - 1s 2ms/step - loss: 13287.1484 - mae: 13287.1484\n",
            "Epoch 2/100\n",
            "34/34 [==============================] - 0s 2ms/step - loss: 13114.0557 - mae: 13114.0557\n",
            "Epoch 3/100\n",
            "34/34 [==============================] - 0s 2ms/step - loss: 12753.1455 - mae: 12753.1455\n",
            "Epoch 4/100\n",
            "34/34 [==============================] - 0s 2ms/step - loss: 12039.3066 - mae: 12039.3066\n",
            "Epoch 5/100\n",
            "34/34 [==============================] - 0s 2ms/step - loss: 10852.1973 - mae: 10852.1973\n",
            "Epoch 6/100\n",
            "34/34 [==============================] - 0s 2ms/step - loss: 9368.1484 - mae: 9368.1484\n",
            "Epoch 7/100\n",
            "34/34 [==============================] - 0s 2ms/step - loss: 8063.0942 - mae: 8063.0942\n",
            "Epoch 8/100\n",
            "34/34 [==============================] - 0s 2ms/step - loss: 7509.5586 - mae: 7509.5586\n",
            "Epoch 9/100\n",
            "34/34 [==============================] - 0s 2ms/step - loss: 7427.6963 - mae: 7427.6963\n",
            "Epoch 10/100\n",
            "34/34 [==============================] - 0s 2ms/step - loss: 7406.9028 - mae: 7406.9028\n",
            "Epoch 11/100\n",
            "34/34 [==============================] - 0s 2ms/step - loss: 7386.8608 - mae: 7386.8608\n",
            "Epoch 12/100\n",
            "34/34 [==============================] - 0s 2ms/step - loss: 7363.7036 - mae: 7363.7036\n",
            "Epoch 13/100\n",
            "34/34 [==============================] - 0s 2ms/step - loss: 7341.9185 - mae: 7341.9185\n",
            "Epoch 14/100\n",
            "34/34 [==============================] - 0s 2ms/step - loss: 7318.0396 - mae: 7318.0396\n",
            "Epoch 15/100\n",
            "34/34 [==============================] - 0s 2ms/step - loss: 7297.7837 - mae: 7297.7837\n",
            "Epoch 16/100\n",
            "34/34 [==============================] - 0s 2ms/step - loss: 7274.1382 - mae: 7274.1382\n",
            "Epoch 17/100\n",
            "34/34 [==============================] - 0s 2ms/step - loss: 7252.3887 - mae: 7252.3887\n",
            "Epoch 18/100\n",
            "34/34 [==============================] - 0s 2ms/step - loss: 7227.3159 - mae: 7227.3159\n",
            "Epoch 19/100\n",
            "34/34 [==============================] - 0s 2ms/step - loss: 7203.0068 - mae: 7203.0068\n",
            "Epoch 20/100\n",
            "34/34 [==============================] - 0s 2ms/step - loss: 7177.5645 - mae: 7177.5645\n",
            "Epoch 21/100\n",
            "34/34 [==============================] - 0s 2ms/step - loss: 7156.7983 - mae: 7156.7983\n",
            "Epoch 22/100\n",
            "34/34 [==============================] - 0s 2ms/step - loss: 7127.2734 - mae: 7127.2734\n",
            "Epoch 23/100\n",
            "34/34 [==============================] - 0s 2ms/step - loss: 7099.9121 - mae: 7099.9121\n",
            "Epoch 24/100\n",
            "34/34 [==============================] - 0s 3ms/step - loss: 7072.2495 - mae: 7072.2495\n",
            "Epoch 25/100\n",
            "34/34 [==============================] - 0s 2ms/step - loss: 7050.9917 - mae: 7050.9917\n",
            "Epoch 26/100\n",
            "34/34 [==============================] - 0s 2ms/step - loss: 7017.4927 - mae: 7017.4927\n",
            "Epoch 27/100\n",
            "34/34 [==============================] - 0s 2ms/step - loss: 6986.2944 - mae: 6986.2944\n",
            "Epoch 28/100\n",
            "34/34 [==============================] - 0s 2ms/step - loss: 6955.2148 - mae: 6955.2148\n",
            "Epoch 29/100\n",
            "34/34 [==============================] - 0s 2ms/step - loss: 6923.8433 - mae: 6923.8433\n",
            "Epoch 30/100\n",
            "34/34 [==============================] - 0s 2ms/step - loss: 6894.2778 - mae: 6894.2778\n",
            "Epoch 31/100\n",
            "34/34 [==============================] - 0s 2ms/step - loss: 6860.2119 - mae: 6860.2119\n",
            "Epoch 32/100\n",
            "34/34 [==============================] - 0s 2ms/step - loss: 6828.0635 - mae: 6828.0635\n",
            "Epoch 33/100\n",
            "34/34 [==============================] - 0s 2ms/step - loss: 6793.5234 - mae: 6793.5234\n",
            "Epoch 34/100\n",
            "34/34 [==============================] - 0s 2ms/step - loss: 6759.1196 - mae: 6759.1196\n",
            "Epoch 35/100\n",
            "34/34 [==============================] - 0s 2ms/step - loss: 6721.5605 - mae: 6721.5605\n",
            "Epoch 36/100\n",
            "34/34 [==============================] - 0s 2ms/step - loss: 6684.5474 - mae: 6684.5474\n",
            "Epoch 37/100\n",
            "34/34 [==============================] - 0s 2ms/step - loss: 6646.4116 - mae: 6646.4116\n",
            "Epoch 38/100\n",
            "34/34 [==============================] - 0s 2ms/step - loss: 6614.2759 - mae: 6614.2759\n",
            "Epoch 39/100\n",
            "34/34 [==============================] - 0s 2ms/step - loss: 6575.5552 - mae: 6575.5552\n",
            "Epoch 40/100\n",
            "34/34 [==============================] - 0s 2ms/step - loss: 6545.5708 - mae: 6545.5708\n",
            "Epoch 41/100\n",
            "34/34 [==============================] - 0s 2ms/step - loss: 6521.7959 - mae: 6521.7959\n",
            "Epoch 42/100\n",
            "34/34 [==============================] - 0s 2ms/step - loss: 6499.5620 - mae: 6499.5620\n",
            "Epoch 43/100\n",
            "34/34 [==============================] - 0s 2ms/step - loss: 6481.9839 - mae: 6481.9839\n",
            "Epoch 44/100\n",
            "34/34 [==============================] - 0s 2ms/step - loss: 6463.5679 - mae: 6463.5679\n",
            "Epoch 45/100\n",
            "34/34 [==============================] - 0s 2ms/step - loss: 6454.1123 - mae: 6454.1123\n",
            "Epoch 46/100\n",
            "34/34 [==============================] - 0s 2ms/step - loss: 6436.1519 - mae: 6436.1519\n",
            "Epoch 47/100\n",
            "34/34 [==============================] - 0s 2ms/step - loss: 6420.7202 - mae: 6420.7202\n",
            "Epoch 48/100\n",
            "34/34 [==============================] - 0s 2ms/step - loss: 6406.8818 - mae: 6406.8818\n",
            "Epoch 49/100\n",
            "34/34 [==============================] - 0s 2ms/step - loss: 6395.3770 - mae: 6395.3770\n",
            "Epoch 50/100\n",
            "34/34 [==============================] - 0s 2ms/step - loss: 6380.4688 - mae: 6380.4688\n",
            "Epoch 51/100\n",
            "34/34 [==============================] - 0s 2ms/step - loss: 6366.1187 - mae: 6366.1187\n",
            "Epoch 52/100\n",
            "34/34 [==============================] - 0s 2ms/step - loss: 6352.2793 - mae: 6352.2793\n",
            "Epoch 53/100\n",
            "34/34 [==============================] - 0s 2ms/step - loss: 6337.1841 - mae: 6337.1841\n",
            "Epoch 54/100\n",
            "34/34 [==============================] - 0s 2ms/step - loss: 6322.5405 - mae: 6322.5405\n",
            "Epoch 55/100\n",
            "34/34 [==============================] - 0s 2ms/step - loss: 6308.0400 - mae: 6308.0400\n",
            "Epoch 56/100\n",
            "34/34 [==============================] - 0s 2ms/step - loss: 6293.0229 - mae: 6293.0229\n",
            "Epoch 57/100\n",
            "34/34 [==============================] - 0s 2ms/step - loss: 6277.9780 - mae: 6277.9780\n",
            "Epoch 58/100\n",
            "34/34 [==============================] - 0s 2ms/step - loss: 6262.8359 - mae: 6262.8359\n",
            "Epoch 59/100\n",
            "34/34 [==============================] - 0s 2ms/step - loss: 6245.9478 - mae: 6245.9478\n",
            "Epoch 60/100\n",
            "34/34 [==============================] - 0s 2ms/step - loss: 6233.6714 - mae: 6233.6714\n",
            "Epoch 61/100\n",
            "34/34 [==============================] - 0s 2ms/step - loss: 6211.6875 - mae: 6211.6875\n",
            "Epoch 62/100\n",
            "34/34 [==============================] - 0s 2ms/step - loss: 6199.2373 - mae: 6199.2373\n",
            "Epoch 63/100\n",
            "34/34 [==============================] - 0s 2ms/step - loss: 6178.1646 - mae: 6178.1646\n",
            "Epoch 64/100\n",
            "34/34 [==============================] - 0s 2ms/step - loss: 6158.4790 - mae: 6158.4790\n",
            "Epoch 65/100\n",
            "34/34 [==============================] - 0s 2ms/step - loss: 6139.1499 - mae: 6139.1499\n",
            "Epoch 66/100\n",
            "34/34 [==============================] - 0s 2ms/step - loss: 6119.1274 - mae: 6119.1274\n",
            "Epoch 67/100\n",
            "34/34 [==============================] - 0s 2ms/step - loss: 6104.4121 - mae: 6104.4121\n",
            "Epoch 68/100\n",
            "34/34 [==============================] - 0s 2ms/step - loss: 6078.4668 - mae: 6078.4668\n",
            "Epoch 69/100\n",
            "34/34 [==============================] - 0s 2ms/step - loss: 6060.4785 - mae: 6060.4785\n",
            "Epoch 70/100\n",
            "34/34 [==============================] - 0s 2ms/step - loss: 6036.9062 - mae: 6036.9062\n",
            "Epoch 71/100\n",
            "34/34 [==============================] - 0s 2ms/step - loss: 6014.0693 - mae: 6014.0693\n",
            "Epoch 72/100\n",
            "34/34 [==============================] - 0s 2ms/step - loss: 5990.9556 - mae: 5990.9556\n",
            "Epoch 73/100\n",
            "34/34 [==============================] - 0s 2ms/step - loss: 5974.0552 - mae: 5974.0552\n",
            "Epoch 74/100\n",
            "34/34 [==============================] - 0s 2ms/step - loss: 5940.1499 - mae: 5940.1499\n",
            "Epoch 75/100\n",
            "34/34 [==============================] - 0s 2ms/step - loss: 5915.2642 - mae: 5915.2642\n",
            "Epoch 76/100\n",
            "34/34 [==============================] - 0s 2ms/step - loss: 5895.7495 - mae: 5895.7495\n",
            "Epoch 77/100\n",
            "34/34 [==============================] - 0s 2ms/step - loss: 5860.4688 - mae: 5860.4688\n",
            "Epoch 78/100\n",
            "34/34 [==============================] - 0s 2ms/step - loss: 5831.5747 - mae: 5831.5747\n",
            "Epoch 79/100\n",
            "34/34 [==============================] - 0s 2ms/step - loss: 5801.6523 - mae: 5801.6523\n",
            "Epoch 80/100\n",
            "34/34 [==============================] - 0s 2ms/step - loss: 5769.0942 - mae: 5769.0942\n",
            "Epoch 81/100\n",
            "34/34 [==============================] - 0s 2ms/step - loss: 5738.2866 - mae: 5738.2866\n",
            "Epoch 82/100\n",
            "34/34 [==============================] - 0s 2ms/step - loss: 5703.6997 - mae: 5703.6997\n",
            "Epoch 83/100\n",
            "34/34 [==============================] - 0s 2ms/step - loss: 5669.4814 - mae: 5669.4814\n",
            "Epoch 84/100\n",
            "34/34 [==============================] - 0s 2ms/step - loss: 5628.9600 - mae: 5628.9600\n",
            "Epoch 85/100\n",
            "34/34 [==============================] - 0s 2ms/step - loss: 5595.3193 - mae: 5595.3193\n",
            "Epoch 86/100\n",
            "34/34 [==============================] - 0s 2ms/step - loss: 5554.1724 - mae: 5554.1724\n",
            "Epoch 87/100\n",
            "34/34 [==============================] - 0s 2ms/step - loss: 5509.5654 - mae: 5509.5654\n",
            "Epoch 88/100\n",
            "34/34 [==============================] - 0s 2ms/step - loss: 5467.1978 - mae: 5467.1978\n",
            "Epoch 89/100\n",
            "34/34 [==============================] - 0s 2ms/step - loss: 5418.2744 - mae: 5418.2744\n",
            "Epoch 90/100\n",
            "34/34 [==============================] - 0s 2ms/step - loss: 5367.3555 - mae: 5367.3555\n",
            "Epoch 91/100\n",
            "34/34 [==============================] - 0s 2ms/step - loss: 5318.8901 - mae: 5318.8901\n",
            "Epoch 92/100\n",
            "34/34 [==============================] - 0s 2ms/step - loss: 5264.0312 - mae: 5264.0312\n",
            "Epoch 93/100\n",
            "34/34 [==============================] - 0s 2ms/step - loss: 5211.0112 - mae: 5211.0112\n",
            "Epoch 94/100\n",
            "34/34 [==============================] - 0s 2ms/step - loss: 5151.9565 - mae: 5151.9565\n",
            "Epoch 95/100\n",
            "34/34 [==============================] - 0s 2ms/step - loss: 5089.7480 - mae: 5089.7480\n",
            "Epoch 96/100\n",
            "34/34 [==============================] - 0s 3ms/step - loss: 5033.6182 - mae: 5033.6182\n",
            "Epoch 97/100\n",
            "34/34 [==============================] - 0s 3ms/step - loss: 4968.2773 - mae: 4968.2773\n",
            "Epoch 98/100\n",
            "34/34 [==============================] - 0s 3ms/step - loss: 4896.6440 - mae: 4896.6440\n",
            "Epoch 99/100\n",
            "34/34 [==============================] - 0s 3ms/step - loss: 4816.5010 - mae: 4816.5010\n",
            "Epoch 100/100\n",
            "34/34 [==============================] - 0s 3ms/step - loss: 4753.3569 - mae: 4753.3569\n"
          ]
        },
        {
          "output_type": "execute_result",
          "data": {
            "text/plain": [
              "<keras.callbacks.History at 0x7f067a03cc10>"
            ]
          },
          "metadata": {},
          "execution_count": 68
        }
      ]
    },
    {
      "cell_type": "code",
      "source": [
        "insurance_model_2.evaluate(X_test, y_test)"
      ],
      "metadata": {
        "colab": {
          "base_uri": "https://localhost:8080/"
        },
        "id": "fRkZkrJCr6R8",
        "outputId": "71710b67-12e0-49a6-c666-72d882dc9a25"
      },
      "execution_count": null,
      "outputs": [
        {
          "output_type": "stream",
          "name": "stdout",
          "text": [
            "9/9 [==============================] - 0s 4ms/step - loss: 4633.3438 - mae: 4633.3438\n"
          ]
        },
        {
          "output_type": "execute_result",
          "data": {
            "text/plain": [
              "[4633.34375, 4633.34375]"
            ]
          },
          "metadata": {},
          "execution_count": 69
        }
      ]
    },
    {
      "cell_type": "code",
      "source": [
        "tf.random.set_seed(42)\n",
        "insurance_model_3 = Sequential([\n",
        "    layers.Dense(100),\n",
        "    layers.Dense(10),\n",
        "    layers.Dense(1)\n",
        "])\n",
        "insurance_model_3.compile(loss=tf.keras.losses.mae,\n",
        "                        optimizer=tf.keras.optimizers.Adam(),\n",
        "                        metrics=['mae'])\n",
        "history = insurance_model_3.fit(X_train, y_train, epochs=500, verbose=1)"
      ],
      "metadata": {
        "colab": {
          "base_uri": "https://localhost:8080/"
        },
        "id": "MRTJQGQQtBqj",
        "outputId": "19f94536-0f2d-4b31-bcc7-e24453f07397"
      },
      "execution_count": null,
      "outputs": [
        {
          "output_type": "stream",
          "name": "stdout",
          "text": [
            "Epoch 1/500\n",
            "34/34 [==============================] - 1s 3ms/step - loss: 13276.8574 - mae: 13276.8574\n",
            "Epoch 2/500\n",
            "34/34 [==============================] - 0s 3ms/step - loss: 13086.3770 - mae: 13086.3770\n",
            "Epoch 3/500\n",
            "34/34 [==============================] - 0s 3ms/step - loss: 12698.0186 - mae: 12698.0186\n",
            "Epoch 4/500\n",
            "34/34 [==============================] - 0s 3ms/step - loss: 11966.4385 - mae: 11966.4385\n",
            "Epoch 5/500\n",
            "34/34 [==============================] - 0s 3ms/step - loss: 10790.7441 - mae: 10790.7441\n",
            "Epoch 6/500\n",
            "34/34 [==============================] - 0s 3ms/step - loss: 9352.3164 - mae: 9352.3164\n",
            "Epoch 7/500\n",
            "34/34 [==============================] - 0s 3ms/step - loss: 8084.3364 - mae: 8084.3364\n",
            "Epoch 8/500\n",
            "34/34 [==============================] - 0s 2ms/step - loss: 7524.7979 - mae: 7524.7979\n",
            "Epoch 9/500\n",
            "34/34 [==============================] - 0s 2ms/step - loss: 7438.4854 - mae: 7438.4854\n",
            "Epoch 10/500\n",
            "34/34 [==============================] - 0s 2ms/step - loss: 7419.2065 - mae: 7419.2065\n",
            "Epoch 11/500\n",
            "34/34 [==============================] - 0s 2ms/step - loss: 7400.9287 - mae: 7400.9287\n",
            "Epoch 12/500\n",
            "34/34 [==============================] - 0s 2ms/step - loss: 7379.2715 - mae: 7379.2715\n",
            "Epoch 13/500\n",
            "34/34 [==============================] - 0s 2ms/step - loss: 7359.1831 - mae: 7359.1831\n",
            "Epoch 14/500\n",
            "34/34 [==============================] - 0s 2ms/step - loss: 7337.2607 - mae: 7337.2607\n",
            "Epoch 15/500\n",
            "34/34 [==============================] - 0s 2ms/step - loss: 7318.4883 - mae: 7318.4883\n",
            "Epoch 16/500\n",
            "34/34 [==============================] - 0s 2ms/step - loss: 7296.1465 - mae: 7296.1465\n",
            "Epoch 17/500\n",
            "34/34 [==============================] - 0s 2ms/step - loss: 7276.6333 - mae: 7276.6333\n",
            "Epoch 18/500\n",
            "34/34 [==============================] - 0s 2ms/step - loss: 7253.5454 - mae: 7253.5454\n",
            "Epoch 19/500\n",
            "34/34 [==============================] - 0s 2ms/step - loss: 7231.7056 - mae: 7231.7056\n",
            "Epoch 20/500\n",
            "34/34 [==============================] - 0s 2ms/step - loss: 7208.6831 - mae: 7208.6831\n",
            "Epoch 21/500\n",
            "34/34 [==============================] - 0s 2ms/step - loss: 7189.2373 - mae: 7189.2373\n",
            "Epoch 22/500\n",
            "34/34 [==============================] - 0s 2ms/step - loss: 7163.5620 - mae: 7163.5620\n",
            "Epoch 23/500\n",
            "34/34 [==============================] - 0s 2ms/step - loss: 7138.8926 - mae: 7138.8926\n",
            "Epoch 24/500\n",
            "34/34 [==============================] - 0s 2ms/step - loss: 7114.5889 - mae: 7114.5889\n",
            "Epoch 25/500\n",
            "34/34 [==============================] - 0s 2ms/step - loss: 7096.8218 - mae: 7096.8218\n",
            "Epoch 26/500\n",
            "34/34 [==============================] - 0s 2ms/step - loss: 7065.8677 - mae: 7065.8677\n",
            "Epoch 27/500\n",
            "34/34 [==============================] - 0s 2ms/step - loss: 7037.7656 - mae: 7037.7656\n",
            "Epoch 28/500\n",
            "34/34 [==============================] - 0s 2ms/step - loss: 7010.2363 - mae: 7010.2363\n",
            "Epoch 29/500\n",
            "34/34 [==============================] - 0s 2ms/step - loss: 6982.5000 - mae: 6982.5000\n",
            "Epoch 30/500\n",
            "34/34 [==============================] - 0s 2ms/step - loss: 6956.4404 - mae: 6956.4404\n",
            "Epoch 31/500\n",
            "34/34 [==============================] - 0s 3ms/step - loss: 6925.4189 - mae: 6925.4189\n",
            "Epoch 32/500\n",
            "34/34 [==============================] - 0s 2ms/step - loss: 6898.1680 - mae: 6898.1680\n",
            "Epoch 33/500\n",
            "34/34 [==============================] - 0s 2ms/step - loss: 6867.4668 - mae: 6867.4668\n",
            "Epoch 34/500\n",
            "34/34 [==============================] - 0s 2ms/step - loss: 6836.2720 - mae: 6836.2720\n",
            "Epoch 35/500\n",
            "34/34 [==============================] - 0s 2ms/step - loss: 6803.6094 - mae: 6803.6094\n",
            "Epoch 36/500\n",
            "34/34 [==============================] - 0s 2ms/step - loss: 6770.1416 - mae: 6770.1416\n",
            "Epoch 37/500\n",
            "34/34 [==============================] - 0s 2ms/step - loss: 6734.9419 - mae: 6734.9419\n",
            "Epoch 38/500\n",
            "34/34 [==============================] - 0s 2ms/step - loss: 6702.9580 - mae: 6702.9580\n",
            "Epoch 39/500\n",
            "34/34 [==============================] - 0s 2ms/step - loss: 6665.1436 - mae: 6665.1436\n",
            "Epoch 40/500\n",
            "34/34 [==============================] - 0s 2ms/step - loss: 6630.1567 - mae: 6630.1567\n",
            "Epoch 41/500\n",
            "34/34 [==============================] - 0s 2ms/step - loss: 6596.4312 - mae: 6596.4312\n",
            "Epoch 42/500\n",
            "34/34 [==============================] - 0s 2ms/step - loss: 6567.2710 - mae: 6567.2710\n",
            "Epoch 43/500\n",
            "34/34 [==============================] - 0s 2ms/step - loss: 6536.5146 - mae: 6536.5146\n",
            "Epoch 44/500\n",
            "34/34 [==============================] - 0s 2ms/step - loss: 6512.1328 - mae: 6512.1328\n",
            "Epoch 45/500\n",
            "34/34 [==============================] - 0s 2ms/step - loss: 6495.3555 - mae: 6495.3555\n",
            "Epoch 46/500\n",
            "34/34 [==============================] - 0s 2ms/step - loss: 6476.1055 - mae: 6476.1055\n",
            "Epoch 47/500\n",
            "34/34 [==============================] - 0s 2ms/step - loss: 6459.7041 - mae: 6459.7041\n",
            "Epoch 48/500\n",
            "34/34 [==============================] - 0s 2ms/step - loss: 6444.0815 - mae: 6444.0815\n",
            "Epoch 49/500\n",
            "34/34 [==============================] - 0s 2ms/step - loss: 6430.9585 - mae: 6430.9585\n",
            "Epoch 50/500\n",
            "34/34 [==============================] - 0s 2ms/step - loss: 6416.9648 - mae: 6416.9648\n",
            "Epoch 51/500\n",
            "34/34 [==============================] - 0s 2ms/step - loss: 6403.5430 - mae: 6403.5430\n",
            "Epoch 52/500\n",
            "34/34 [==============================] - 0s 2ms/step - loss: 6391.5488 - mae: 6391.5488\n",
            "Epoch 53/500\n",
            "34/34 [==============================] - 0s 2ms/step - loss: 6378.3398 - mae: 6378.3398\n",
            "Epoch 54/500\n",
            "34/34 [==============================] - 0s 2ms/step - loss: 6364.5166 - mae: 6364.5166\n",
            "Epoch 55/500\n",
            "34/34 [==============================] - 0s 2ms/step - loss: 6351.0210 - mae: 6351.0210\n",
            "Epoch 56/500\n",
            "34/34 [==============================] - 0s 2ms/step - loss: 6336.4565 - mae: 6336.4565\n",
            "Epoch 57/500\n",
            "34/34 [==============================] - 0s 2ms/step - loss: 6323.9497 - mae: 6323.9497\n",
            "Epoch 58/500\n",
            "34/34 [==============================] - 0s 2ms/step - loss: 6309.9385 - mae: 6309.9385\n",
            "Epoch 59/500\n",
            "34/34 [==============================] - 0s 2ms/step - loss: 6295.0347 - mae: 6295.0347\n",
            "Epoch 60/500\n",
            "34/34 [==============================] - 0s 2ms/step - loss: 6284.4985 - mae: 6284.4985\n",
            "Epoch 61/500\n",
            "34/34 [==============================] - 0s 2ms/step - loss: 6265.0596 - mae: 6265.0596\n",
            "Epoch 62/500\n",
            "34/34 [==============================] - 0s 2ms/step - loss: 6253.0127 - mae: 6253.0127\n",
            "Epoch 63/500\n",
            "34/34 [==============================] - 0s 2ms/step - loss: 6234.4077 - mae: 6234.4077\n",
            "Epoch 64/500\n",
            "34/34 [==============================] - 0s 2ms/step - loss: 6218.0107 - mae: 6218.0107\n",
            "Epoch 65/500\n",
            "34/34 [==============================] - 0s 2ms/step - loss: 6200.7603 - mae: 6200.7603\n",
            "Epoch 66/500\n",
            "34/34 [==============================] - 0s 2ms/step - loss: 6183.8799 - mae: 6183.8799\n",
            "Epoch 67/500\n",
            "34/34 [==============================] - 0s 2ms/step - loss: 6171.0508 - mae: 6171.0508\n",
            "Epoch 68/500\n",
            "34/34 [==============================] - 0s 2ms/step - loss: 6148.7231 - mae: 6148.7231\n",
            "Epoch 69/500\n",
            "34/34 [==============================] - 0s 2ms/step - loss: 6132.7700 - mae: 6132.7700\n",
            "Epoch 70/500\n",
            "34/34 [==============================] - 0s 2ms/step - loss: 6112.7451 - mae: 6112.7451\n",
            "Epoch 71/500\n",
            "34/34 [==============================] - 0s 2ms/step - loss: 6093.3096 - mae: 6093.3096\n",
            "Epoch 72/500\n",
            "34/34 [==============================] - 0s 2ms/step - loss: 6074.4429 - mae: 6074.4429\n",
            "Epoch 73/500\n",
            "34/34 [==============================] - 0s 2ms/step - loss: 6059.7505 - mae: 6059.7505\n",
            "Epoch 74/500\n",
            "34/34 [==============================] - 0s 2ms/step - loss: 6032.2510 - mae: 6032.2510\n",
            "Epoch 75/500\n",
            "34/34 [==============================] - 0s 2ms/step - loss: 6011.0684 - mae: 6011.0684\n",
            "Epoch 76/500\n",
            "34/34 [==============================] - 0s 2ms/step - loss: 5997.4946 - mae: 5997.4946\n",
            "Epoch 77/500\n",
            "34/34 [==============================] - 0s 2ms/step - loss: 5964.6768 - mae: 5964.6768\n",
            "Epoch 78/500\n",
            "34/34 [==============================] - 0s 2ms/step - loss: 5941.6968 - mae: 5941.6968\n",
            "Epoch 79/500\n",
            "34/34 [==============================] - 0s 2ms/step - loss: 5917.5591 - mae: 5917.5591\n",
            "Epoch 80/500\n",
            "34/34 [==============================] - 0s 2ms/step - loss: 5890.5522 - mae: 5890.5522\n",
            "Epoch 81/500\n",
            "34/34 [==============================] - 0s 2ms/step - loss: 5864.4849 - mae: 5864.4849\n",
            "Epoch 82/500\n",
            "34/34 [==============================] - 0s 2ms/step - loss: 5836.7466 - mae: 5836.7466\n",
            "Epoch 83/500\n",
            "34/34 [==============================] - 0s 2ms/step - loss: 5809.3506 - mae: 5809.3506\n",
            "Epoch 84/500\n",
            "34/34 [==============================] - 0s 2ms/step - loss: 5775.7437 - mae: 5775.7437\n",
            "Epoch 85/500\n",
            "34/34 [==============================] - 0s 2ms/step - loss: 5749.7070 - mae: 5749.7070\n",
            "Epoch 86/500\n",
            "34/34 [==============================] - 0s 2ms/step - loss: 5716.3677 - mae: 5716.3677\n",
            "Epoch 87/500\n",
            "34/34 [==============================] - 0s 2ms/step - loss: 5679.7349 - mae: 5679.7349\n",
            "Epoch 88/500\n",
            "34/34 [==============================] - 0s 2ms/step - loss: 5645.8667 - mae: 5645.8667\n",
            "Epoch 89/500\n",
            "34/34 [==============================] - 0s 2ms/step - loss: 5606.5835 - mae: 5606.5835\n",
            "Epoch 90/500\n",
            "34/34 [==============================] - 0s 2ms/step - loss: 5566.0356 - mae: 5566.0356\n",
            "Epoch 91/500\n",
            "34/34 [==============================] - 0s 2ms/step - loss: 5531.8687 - mae: 5531.8687\n",
            "Epoch 92/500\n",
            "34/34 [==============================] - 0s 2ms/step - loss: 5482.8086 - mae: 5482.8086\n",
            "Epoch 93/500\n",
            "34/34 [==============================] - 0s 2ms/step - loss: 5441.4482 - mae: 5441.4482\n",
            "Epoch 94/500\n",
            "34/34 [==============================] - 0s 2ms/step - loss: 5398.0400 - mae: 5398.0400\n",
            "Epoch 95/500\n",
            "34/34 [==============================] - 0s 2ms/step - loss: 5345.9355 - mae: 5345.9355\n",
            "Epoch 96/500\n",
            "34/34 [==============================] - 0s 2ms/step - loss: 5301.0518 - mae: 5301.0518\n",
            "Epoch 97/500\n",
            "34/34 [==============================] - 0s 2ms/step - loss: 5248.3066 - mae: 5248.3066\n",
            "Epoch 98/500\n",
            "34/34 [==============================] - 0s 2ms/step - loss: 5186.4180 - mae: 5186.4180\n",
            "Epoch 99/500\n",
            "34/34 [==============================] - 0s 2ms/step - loss: 5130.7769 - mae: 5130.7769\n",
            "Epoch 100/500\n",
            "34/34 [==============================] - 0s 2ms/step - loss: 5074.8838 - mae: 5074.8838\n",
            "Epoch 101/500\n",
            "34/34 [==============================] - 0s 2ms/step - loss: 5006.6235 - mae: 5006.6235\n",
            "Epoch 102/500\n",
            "34/34 [==============================] - 0s 2ms/step - loss: 4936.3984 - mae: 4936.3984\n",
            "Epoch 103/500\n",
            "34/34 [==============================] - 0s 2ms/step - loss: 4870.5029 - mae: 4870.5029\n",
            "Epoch 104/500\n",
            "34/34 [==============================] - 0s 2ms/step - loss: 4793.6089 - mae: 4793.6089\n",
            "Epoch 105/500\n",
            "34/34 [==============================] - 0s 2ms/step - loss: 4711.1641 - mae: 4711.1641\n",
            "Epoch 106/500\n",
            "34/34 [==============================] - 0s 2ms/step - loss: 4630.1558 - mae: 4630.1558\n",
            "Epoch 107/500\n",
            "34/34 [==============================] - 0s 2ms/step - loss: 4546.2178 - mae: 4546.2178\n",
            "Epoch 108/500\n",
            "34/34 [==============================] - 0s 2ms/step - loss: 4456.9219 - mae: 4456.9219\n",
            "Epoch 109/500\n",
            "34/34 [==============================] - 0s 2ms/step - loss: 4373.2520 - mae: 4373.2520\n",
            "Epoch 110/500\n",
            "34/34 [==============================] - 0s 2ms/step - loss: 4290.8530 - mae: 4290.8530\n",
            "Epoch 111/500\n",
            "34/34 [==============================] - 0s 2ms/step - loss: 4207.0645 - mae: 4207.0645\n",
            "Epoch 112/500\n",
            "34/34 [==============================] - 0s 2ms/step - loss: 4137.4995 - mae: 4137.4995\n",
            "Epoch 113/500\n",
            "34/34 [==============================] - 0s 2ms/step - loss: 4066.9753 - mae: 4066.9753\n",
            "Epoch 114/500\n",
            "34/34 [==============================] - 0s 2ms/step - loss: 4007.3384 - mae: 4007.3384\n",
            "Epoch 115/500\n",
            "34/34 [==============================] - 0s 2ms/step - loss: 3956.6821 - mae: 3956.6821\n",
            "Epoch 116/500\n",
            "34/34 [==============================] - 0s 2ms/step - loss: 3932.4197 - mae: 3932.4197\n",
            "Epoch 117/500\n",
            "34/34 [==============================] - 0s 2ms/step - loss: 3914.0210 - mae: 3914.0210\n",
            "Epoch 118/500\n",
            "34/34 [==============================] - 0s 2ms/step - loss: 3883.7339 - mae: 3883.7339\n",
            "Epoch 119/500\n",
            "34/34 [==============================] - 0s 2ms/step - loss: 3860.5342 - mae: 3860.5342\n",
            "Epoch 120/500\n",
            "34/34 [==============================] - 0s 2ms/step - loss: 3840.7993 - mae: 3840.7993\n",
            "Epoch 121/500\n",
            "34/34 [==============================] - 0s 2ms/step - loss: 3834.9661 - mae: 3834.9661\n",
            "Epoch 122/500\n",
            "34/34 [==============================] - 0s 2ms/step - loss: 3828.0894 - mae: 3828.0894\n",
            "Epoch 123/500\n",
            "34/34 [==============================] - 0s 2ms/step - loss: 3821.2258 - mae: 3821.2258\n",
            "Epoch 124/500\n",
            "34/34 [==============================] - 0s 2ms/step - loss: 3812.8191 - mae: 3812.8191\n",
            "Epoch 125/500\n",
            "34/34 [==============================] - 0s 2ms/step - loss: 3800.7783 - mae: 3800.7783\n",
            "Epoch 126/500\n",
            "34/34 [==============================] - 0s 2ms/step - loss: 3814.6182 - mae: 3814.6182\n",
            "Epoch 127/500\n",
            "34/34 [==============================] - 0s 2ms/step - loss: 3802.4841 - mae: 3802.4841\n",
            "Epoch 128/500\n",
            "34/34 [==============================] - 0s 2ms/step - loss: 3795.6763 - mae: 3795.6763\n",
            "Epoch 129/500\n",
            "34/34 [==============================] - 0s 2ms/step - loss: 3804.3364 - mae: 3804.3364\n",
            "Epoch 130/500\n",
            "34/34 [==============================] - 0s 2ms/step - loss: 3792.6448 - mae: 3792.6448\n",
            "Epoch 131/500\n",
            "34/34 [==============================] - 0s 2ms/step - loss: 3784.9370 - mae: 3784.9370\n",
            "Epoch 132/500\n",
            "34/34 [==============================] - 0s 2ms/step - loss: 3778.0911 - mae: 3778.0911\n",
            "Epoch 133/500\n",
            "34/34 [==============================] - 0s 2ms/step - loss: 3774.1794 - mae: 3774.1794\n",
            "Epoch 134/500\n",
            "34/34 [==============================] - 0s 2ms/step - loss: 3773.4631 - mae: 3773.4631\n",
            "Epoch 135/500\n",
            "34/34 [==============================] - 0s 4ms/step - loss: 3770.5864 - mae: 3770.5864\n",
            "Epoch 136/500\n",
            "34/34 [==============================] - 0s 3ms/step - loss: 3769.1084 - mae: 3769.1084\n",
            "Epoch 137/500\n",
            "34/34 [==============================] - 0s 3ms/step - loss: 3778.0586 - mae: 3778.0586\n",
            "Epoch 138/500\n",
            "34/34 [==============================] - 0s 3ms/step - loss: 3787.2212 - mae: 3787.2212\n",
            "Epoch 139/500\n",
            "34/34 [==============================] - 0s 3ms/step - loss: 3765.2131 - mae: 3765.2131\n",
            "Epoch 140/500\n",
            "34/34 [==============================] - 0s 3ms/step - loss: 3765.5339 - mae: 3765.5339\n",
            "Epoch 141/500\n",
            "34/34 [==============================] - 0s 3ms/step - loss: 3766.0825 - mae: 3766.0825\n",
            "Epoch 142/500\n",
            "34/34 [==============================] - 0s 3ms/step - loss: 3768.2180 - mae: 3768.2180\n",
            "Epoch 143/500\n",
            "34/34 [==============================] - 0s 3ms/step - loss: 3758.0906 - mae: 3758.0906\n",
            "Epoch 144/500\n",
            "34/34 [==============================] - 0s 3ms/step - loss: 3753.7073 - mae: 3753.7073\n",
            "Epoch 145/500\n",
            "34/34 [==============================] - 0s 3ms/step - loss: 3754.4861 - mae: 3754.4861\n",
            "Epoch 146/500\n",
            "34/34 [==============================] - 0s 3ms/step - loss: 3758.0720 - mae: 3758.0720\n",
            "Epoch 147/500\n",
            "34/34 [==============================] - 0s 3ms/step - loss: 3754.4307 - mae: 3754.4307\n",
            "Epoch 148/500\n",
            "34/34 [==============================] - 0s 3ms/step - loss: 3760.5059 - mae: 3760.5059\n",
            "Epoch 149/500\n",
            "34/34 [==============================] - 0s 3ms/step - loss: 3746.8596 - mae: 3746.8596\n",
            "Epoch 150/500\n",
            "34/34 [==============================] - 0s 3ms/step - loss: 3741.6311 - mae: 3741.6311\n",
            "Epoch 151/500\n",
            "34/34 [==============================] - 0s 3ms/step - loss: 3744.1208 - mae: 3744.1208\n",
            "Epoch 152/500\n",
            "34/34 [==============================] - 0s 3ms/step - loss: 3744.5049 - mae: 3744.5049\n",
            "Epoch 153/500\n",
            "34/34 [==============================] - 0s 3ms/step - loss: 3746.9519 - mae: 3746.9519\n",
            "Epoch 154/500\n",
            "34/34 [==============================] - 0s 4ms/step - loss: 3740.1360 - mae: 3740.1360\n",
            "Epoch 155/500\n",
            "34/34 [==============================] - 0s 3ms/step - loss: 3742.4976 - mae: 3742.4976\n",
            "Epoch 156/500\n",
            "34/34 [==============================] - 0s 3ms/step - loss: 3738.5137 - mae: 3738.5137\n",
            "Epoch 157/500\n",
            "34/34 [==============================] - 0s 3ms/step - loss: 3735.6692 - mae: 3735.6692\n",
            "Epoch 158/500\n",
            "34/34 [==============================] - 0s 3ms/step - loss: 3732.2383 - mae: 3732.2383\n",
            "Epoch 159/500\n",
            "34/34 [==============================] - 0s 3ms/step - loss: 3730.8933 - mae: 3730.8933\n",
            "Epoch 160/500\n",
            "34/34 [==============================] - 0s 3ms/step - loss: 3736.3240 - mae: 3736.3240\n",
            "Epoch 161/500\n",
            "34/34 [==============================] - 0s 3ms/step - loss: 3733.7534 - mae: 3733.7534\n",
            "Epoch 162/500\n",
            "34/34 [==============================] - 0s 3ms/step - loss: 3726.7495 - mae: 3726.7495\n",
            "Epoch 163/500\n",
            "34/34 [==============================] - 0s 3ms/step - loss: 3725.2695 - mae: 3725.2695\n",
            "Epoch 164/500\n",
            "34/34 [==============================] - 0s 2ms/step - loss: 3729.6570 - mae: 3729.6570\n",
            "Epoch 165/500\n",
            "34/34 [==============================] - 0s 2ms/step - loss: 3719.8669 - mae: 3719.8669\n",
            "Epoch 166/500\n",
            "34/34 [==============================] - 0s 2ms/step - loss: 3723.9893 - mae: 3723.9893\n",
            "Epoch 167/500\n",
            "34/34 [==============================] - 0s 2ms/step - loss: 3724.6726 - mae: 3724.6726\n",
            "Epoch 168/500\n",
            "34/34 [==============================] - 0s 2ms/step - loss: 3717.6157 - mae: 3717.6157\n",
            "Epoch 169/500\n",
            "34/34 [==============================] - 0s 2ms/step - loss: 3716.9106 - mae: 3716.9106\n",
            "Epoch 170/500\n",
            "34/34 [==============================] - 0s 2ms/step - loss: 3711.2256 - mae: 3711.2256\n",
            "Epoch 171/500\n",
            "34/34 [==============================] - 0s 2ms/step - loss: 3710.3464 - mae: 3710.3464\n",
            "Epoch 172/500\n",
            "34/34 [==============================] - 0s 2ms/step - loss: 3713.8652 - mae: 3713.8652\n",
            "Epoch 173/500\n",
            "34/34 [==============================] - 0s 2ms/step - loss: 3706.5769 - mae: 3706.5769\n",
            "Epoch 174/500\n",
            "34/34 [==============================] - 0s 2ms/step - loss: 3711.7400 - mae: 3711.7400\n",
            "Epoch 175/500\n",
            "34/34 [==============================] - 0s 2ms/step - loss: 3714.5930 - mae: 3714.5930\n",
            "Epoch 176/500\n",
            "34/34 [==============================] - 0s 2ms/step - loss: 3708.6631 - mae: 3708.6631\n",
            "Epoch 177/500\n",
            "34/34 [==============================] - 0s 2ms/step - loss: 3703.2874 - mae: 3703.2874\n",
            "Epoch 178/500\n",
            "34/34 [==============================] - 0s 2ms/step - loss: 3699.1206 - mae: 3699.1206\n",
            "Epoch 179/500\n",
            "34/34 [==============================] - 0s 2ms/step - loss: 3708.1025 - mae: 3708.1025\n",
            "Epoch 180/500\n",
            "34/34 [==============================] - 0s 2ms/step - loss: 3713.2126 - mae: 3713.2126\n",
            "Epoch 181/500\n",
            "34/34 [==============================] - 0s 2ms/step - loss: 3700.0662 - mae: 3700.0662\n",
            "Epoch 182/500\n",
            "34/34 [==============================] - 0s 2ms/step - loss: 3696.7891 - mae: 3696.7891\n",
            "Epoch 183/500\n",
            "34/34 [==============================] - 0s 2ms/step - loss: 3694.6995 - mae: 3694.6995\n",
            "Epoch 184/500\n",
            "34/34 [==============================] - 0s 2ms/step - loss: 3700.9326 - mae: 3700.9326\n",
            "Epoch 185/500\n",
            "34/34 [==============================] - 0s 2ms/step - loss: 3698.1074 - mae: 3698.1074\n",
            "Epoch 186/500\n",
            "34/34 [==============================] - 0s 2ms/step - loss: 3700.1162 - mae: 3700.1162\n",
            "Epoch 187/500\n",
            "34/34 [==============================] - 0s 2ms/step - loss: 3690.3440 - mae: 3690.3440\n",
            "Epoch 188/500\n",
            "34/34 [==============================] - 0s 2ms/step - loss: 3696.2627 - mae: 3696.2627\n",
            "Epoch 189/500\n",
            "34/34 [==============================] - 0s 2ms/step - loss: 3686.1216 - mae: 3686.1216\n",
            "Epoch 190/500\n",
            "34/34 [==============================] - 0s 2ms/step - loss: 3687.0034 - mae: 3687.0034\n",
            "Epoch 191/500\n",
            "34/34 [==============================] - 0s 2ms/step - loss: 3703.7893 - mae: 3703.7893\n",
            "Epoch 192/500\n",
            "34/34 [==============================] - 0s 2ms/step - loss: 3688.0422 - mae: 3688.0422\n",
            "Epoch 193/500\n",
            "34/34 [==============================] - 0s 2ms/step - loss: 3677.6619 - mae: 3677.6619\n",
            "Epoch 194/500\n",
            "34/34 [==============================] - 0s 2ms/step - loss: 3678.6475 - mae: 3678.6475\n",
            "Epoch 195/500\n",
            "34/34 [==============================] - 0s 2ms/step - loss: 3676.2466 - mae: 3676.2466\n",
            "Epoch 196/500\n",
            "34/34 [==============================] - 0s 2ms/step - loss: 3685.0396 - mae: 3685.0396\n",
            "Epoch 197/500\n",
            "34/34 [==============================] - 0s 2ms/step - loss: 3669.0288 - mae: 3669.0288\n",
            "Epoch 198/500\n",
            "34/34 [==============================] - 0s 2ms/step - loss: 3675.0234 - mae: 3675.0234\n",
            "Epoch 199/500\n",
            "34/34 [==============================] - 0s 3ms/step - loss: 3683.1985 - mae: 3683.1985\n",
            "Epoch 200/500\n",
            "34/34 [==============================] - 0s 2ms/step - loss: 3670.2480 - mae: 3670.2480\n",
            "Epoch 201/500\n",
            "34/34 [==============================] - 0s 2ms/step - loss: 3669.9299 - mae: 3669.9299\n",
            "Epoch 202/500\n",
            "34/34 [==============================] - 0s 2ms/step - loss: 3670.4038 - mae: 3670.4038\n",
            "Epoch 203/500\n",
            "34/34 [==============================] - 0s 2ms/step - loss: 3667.3945 - mae: 3667.3945\n",
            "Epoch 204/500\n",
            "34/34 [==============================] - 0s 2ms/step - loss: 3658.3130 - mae: 3658.3130\n",
            "Epoch 205/500\n",
            "34/34 [==============================] - 0s 2ms/step - loss: 3666.8159 - mae: 3666.8159\n",
            "Epoch 206/500\n",
            "34/34 [==============================] - 0s 2ms/step - loss: 3662.1907 - mae: 3662.1907\n",
            "Epoch 207/500\n",
            "34/34 [==============================] - 0s 2ms/step - loss: 3659.6216 - mae: 3659.6216\n",
            "Epoch 208/500\n",
            "34/34 [==============================] - 0s 3ms/step - loss: 3657.6377 - mae: 3657.6377\n",
            "Epoch 209/500\n",
            "34/34 [==============================] - 0s 2ms/step - loss: 3656.7698 - mae: 3656.7698\n",
            "Epoch 210/500\n",
            "34/34 [==============================] - 0s 2ms/step - loss: 3660.1707 - mae: 3660.1707\n",
            "Epoch 211/500\n",
            "34/34 [==============================] - 0s 2ms/step - loss: 3658.7686 - mae: 3658.7686\n",
            "Epoch 212/500\n",
            "34/34 [==============================] - 0s 2ms/step - loss: 3675.5879 - mae: 3675.5879\n",
            "Epoch 213/500\n",
            "34/34 [==============================] - 0s 2ms/step - loss: 3660.6501 - mae: 3660.6501\n",
            "Epoch 214/500\n",
            "34/34 [==============================] - 0s 2ms/step - loss: 3678.3108 - mae: 3678.3108\n",
            "Epoch 215/500\n",
            "34/34 [==============================] - 0s 2ms/step - loss: 3657.2166 - mae: 3657.2166\n",
            "Epoch 216/500\n",
            "34/34 [==============================] - 0s 2ms/step - loss: 3648.6340 - mae: 3648.6340\n",
            "Epoch 217/500\n",
            "34/34 [==============================] - 0s 2ms/step - loss: 3650.1306 - mae: 3650.1306\n",
            "Epoch 218/500\n",
            "34/34 [==============================] - 0s 2ms/step - loss: 3646.4595 - mae: 3646.4595\n",
            "Epoch 219/500\n",
            "34/34 [==============================] - 0s 2ms/step - loss: 3654.1772 - mae: 3654.1772\n",
            "Epoch 220/500\n",
            "34/34 [==============================] - 0s 2ms/step - loss: 3642.6758 - mae: 3642.6758\n",
            "Epoch 221/500\n",
            "34/34 [==============================] - 0s 2ms/step - loss: 3642.5532 - mae: 3642.5532\n",
            "Epoch 222/500\n",
            "34/34 [==============================] - 0s 2ms/step - loss: 3651.0615 - mae: 3651.0615\n",
            "Epoch 223/500\n",
            "34/34 [==============================] - 0s 2ms/step - loss: 3638.4663 - mae: 3638.4663\n",
            "Epoch 224/500\n",
            "34/34 [==============================] - 0s 2ms/step - loss: 3640.5046 - mae: 3640.5046\n",
            "Epoch 225/500\n",
            "34/34 [==============================] - 0s 2ms/step - loss: 3633.5115 - mae: 3633.5115\n",
            "Epoch 226/500\n",
            "34/34 [==============================] - 0s 2ms/step - loss: 3631.0879 - mae: 3631.0879\n",
            "Epoch 227/500\n",
            "34/34 [==============================] - 0s 2ms/step - loss: 3627.7598 - mae: 3627.7598\n",
            "Epoch 228/500\n",
            "34/34 [==============================] - 0s 2ms/step - loss: 3634.3640 - mae: 3634.3640\n",
            "Epoch 229/500\n",
            "34/34 [==============================] - 0s 2ms/step - loss: 3634.9624 - mae: 3634.9624\n",
            "Epoch 230/500\n",
            "34/34 [==============================] - 0s 2ms/step - loss: 3622.3386 - mae: 3622.3386\n",
            "Epoch 231/500\n",
            "34/34 [==============================] - 0s 2ms/step - loss: 3620.2830 - mae: 3620.2830\n",
            "Epoch 232/500\n",
            "34/34 [==============================] - 0s 2ms/step - loss: 3617.8743 - mae: 3617.8743\n",
            "Epoch 233/500\n",
            "34/34 [==============================] - 0s 2ms/step - loss: 3616.6111 - mae: 3616.6111\n",
            "Epoch 234/500\n",
            "34/34 [==============================] - 0s 2ms/step - loss: 3628.5679 - mae: 3628.5679\n",
            "Epoch 235/500\n",
            "34/34 [==============================] - 0s 2ms/step - loss: 3630.3225 - mae: 3630.3225\n",
            "Epoch 236/500\n",
            "34/34 [==============================] - 0s 2ms/step - loss: 3620.0288 - mae: 3620.0288\n",
            "Epoch 237/500\n",
            "34/34 [==============================] - 0s 2ms/step - loss: 3623.2769 - mae: 3623.2769\n",
            "Epoch 238/500\n",
            "34/34 [==============================] - 0s 2ms/step - loss: 3602.9177 - mae: 3602.9177\n",
            "Epoch 239/500\n",
            "34/34 [==============================] - 0s 2ms/step - loss: 3612.0740 - mae: 3612.0740\n",
            "Epoch 240/500\n",
            "34/34 [==============================] - 0s 2ms/step - loss: 3608.9285 - mae: 3608.9285\n",
            "Epoch 241/500\n",
            "34/34 [==============================] - 0s 2ms/step - loss: 3604.8218 - mae: 3604.8218\n",
            "Epoch 242/500\n",
            "34/34 [==============================] - 0s 2ms/step - loss: 3601.2356 - mae: 3601.2356\n",
            "Epoch 243/500\n",
            "34/34 [==============================] - 0s 2ms/step - loss: 3597.9866 - mae: 3597.9866\n",
            "Epoch 244/500\n",
            "34/34 [==============================] - 0s 2ms/step - loss: 3610.2947 - mae: 3610.2947\n",
            "Epoch 245/500\n",
            "34/34 [==============================] - 0s 2ms/step - loss: 3596.9636 - mae: 3596.9636\n",
            "Epoch 246/500\n",
            "34/34 [==============================] - 0s 2ms/step - loss: 3591.6782 - mae: 3591.6782\n",
            "Epoch 247/500\n",
            "34/34 [==============================] - 0s 2ms/step - loss: 3591.1106 - mae: 3591.1106\n",
            "Epoch 248/500\n",
            "34/34 [==============================] - 0s 2ms/step - loss: 3609.5388 - mae: 3609.5388\n",
            "Epoch 249/500\n",
            "34/34 [==============================] - 0s 3ms/step - loss: 3590.3167 - mae: 3590.3167\n",
            "Epoch 250/500\n",
            "34/34 [==============================] - 0s 2ms/step - loss: 3585.0837 - mae: 3585.0837\n",
            "Epoch 251/500\n",
            "34/34 [==============================] - 0s 2ms/step - loss: 3582.3232 - mae: 3582.3232\n",
            "Epoch 252/500\n",
            "34/34 [==============================] - 0s 2ms/step - loss: 3586.3650 - mae: 3586.3650\n",
            "Epoch 253/500\n",
            "34/34 [==============================] - 0s 2ms/step - loss: 3581.1211 - mae: 3581.1211\n",
            "Epoch 254/500\n",
            "34/34 [==============================] - 0s 2ms/step - loss: 3577.0186 - mae: 3577.0186\n",
            "Epoch 255/500\n",
            "34/34 [==============================] - 0s 2ms/step - loss: 3571.8259 - mae: 3571.8259\n",
            "Epoch 256/500\n",
            "34/34 [==============================] - 0s 2ms/step - loss: 3577.4033 - mae: 3577.4033\n",
            "Epoch 257/500\n",
            "34/34 [==============================] - 0s 2ms/step - loss: 3573.5024 - mae: 3573.5024\n",
            "Epoch 258/500\n",
            "34/34 [==============================] - 0s 2ms/step - loss: 3593.6223 - mae: 3593.6223\n",
            "Epoch 259/500\n",
            "34/34 [==============================] - 0s 2ms/step - loss: 3567.0352 - mae: 3567.0352\n",
            "Epoch 260/500\n",
            "34/34 [==============================] - 0s 2ms/step - loss: 3570.8350 - mae: 3570.8350\n",
            "Epoch 261/500\n",
            "34/34 [==============================] - 0s 2ms/step - loss: 3570.5684 - mae: 3570.5684\n",
            "Epoch 262/500\n",
            "34/34 [==============================] - 0s 2ms/step - loss: 3564.4800 - mae: 3564.4800\n",
            "Epoch 263/500\n",
            "34/34 [==============================] - 0s 2ms/step - loss: 3564.2207 - mae: 3564.2207\n",
            "Epoch 264/500\n",
            "34/34 [==============================] - 0s 2ms/step - loss: 3564.2590 - mae: 3564.2590\n",
            "Epoch 265/500\n",
            "34/34 [==============================] - 0s 2ms/step - loss: 3563.8074 - mae: 3563.8074\n",
            "Epoch 266/500\n",
            "34/34 [==============================] - 0s 2ms/step - loss: 3563.5933 - mae: 3563.5933\n",
            "Epoch 267/500\n",
            "34/34 [==============================] - 0s 2ms/step - loss: 3563.1021 - mae: 3563.1021\n",
            "Epoch 268/500\n",
            "34/34 [==============================] - 0s 2ms/step - loss: 3555.7246 - mae: 3555.7246\n",
            "Epoch 269/500\n",
            "34/34 [==============================] - 0s 2ms/step - loss: 3562.5566 - mae: 3562.5566\n",
            "Epoch 270/500\n",
            "34/34 [==============================] - 0s 2ms/step - loss: 3551.5964 - mae: 3551.5964\n",
            "Epoch 271/500\n",
            "34/34 [==============================] - 0s 2ms/step - loss: 3551.9087 - mae: 3551.9087\n",
            "Epoch 272/500\n",
            "34/34 [==============================] - 0s 2ms/step - loss: 3548.6560 - mae: 3548.6560\n",
            "Epoch 273/500\n",
            "34/34 [==============================] - 0s 2ms/step - loss: 3547.9536 - mae: 3547.9536\n",
            "Epoch 274/500\n",
            "34/34 [==============================] - 0s 2ms/step - loss: 3546.3167 - mae: 3546.3167\n",
            "Epoch 275/500\n",
            "34/34 [==============================] - 0s 2ms/step - loss: 3544.5957 - mae: 3544.5957\n",
            "Epoch 276/500\n",
            "34/34 [==============================] - 0s 2ms/step - loss: 3548.8457 - mae: 3548.8457\n",
            "Epoch 277/500\n",
            "34/34 [==============================] - 0s 2ms/step - loss: 3544.2546 - mae: 3544.2546\n",
            "Epoch 278/500\n",
            "34/34 [==============================] - 0s 2ms/step - loss: 3545.6821 - mae: 3545.6821\n",
            "Epoch 279/500\n",
            "34/34 [==============================] - 0s 2ms/step - loss: 3544.8542 - mae: 3544.8542\n",
            "Epoch 280/500\n",
            "34/34 [==============================] - 0s 2ms/step - loss: 3536.9741 - mae: 3536.9741\n",
            "Epoch 281/500\n",
            "34/34 [==============================] - 0s 2ms/step - loss: 3544.7493 - mae: 3544.7493\n",
            "Epoch 282/500\n",
            "34/34 [==============================] - 0s 2ms/step - loss: 3535.5100 - mae: 3535.5100\n",
            "Epoch 283/500\n",
            "34/34 [==============================] - 0s 2ms/step - loss: 3540.6062 - mae: 3540.6062\n",
            "Epoch 284/500\n",
            "34/34 [==============================] - 0s 2ms/step - loss: 3534.7346 - mae: 3534.7346\n",
            "Epoch 285/500\n",
            "34/34 [==============================] - 0s 2ms/step - loss: 3537.2212 - mae: 3537.2212\n",
            "Epoch 286/500\n",
            "34/34 [==============================] - 0s 3ms/step - loss: 3526.8330 - mae: 3526.8330\n",
            "Epoch 287/500\n",
            "34/34 [==============================] - 0s 3ms/step - loss: 3529.4155 - mae: 3529.4155\n",
            "Epoch 288/500\n",
            "34/34 [==============================] - 0s 3ms/step - loss: 3526.2668 - mae: 3526.2668\n",
            "Epoch 289/500\n",
            "34/34 [==============================] - 0s 3ms/step - loss: 3530.2148 - mae: 3530.2148\n",
            "Epoch 290/500\n",
            "34/34 [==============================] - 0s 3ms/step - loss: 3531.0493 - mae: 3531.0493\n",
            "Epoch 291/500\n",
            "34/34 [==============================] - 0s 3ms/step - loss: 3533.4155 - mae: 3533.4155\n",
            "Epoch 292/500\n",
            "34/34 [==============================] - 0s 3ms/step - loss: 3532.1809 - mae: 3532.1809\n",
            "Epoch 293/500\n",
            "34/34 [==============================] - 0s 3ms/step - loss: 3521.9602 - mae: 3521.9602\n",
            "Epoch 294/500\n",
            "34/34 [==============================] - 0s 3ms/step - loss: 3531.4260 - mae: 3531.4260\n",
            "Epoch 295/500\n",
            "34/34 [==============================] - 0s 3ms/step - loss: 3534.8235 - mae: 3534.8235\n",
            "Epoch 296/500\n",
            "34/34 [==============================] - 0s 3ms/step - loss: 3521.4045 - mae: 3521.4045\n",
            "Epoch 297/500\n",
            "34/34 [==============================] - 0s 3ms/step - loss: 3512.4771 - mae: 3512.4771\n",
            "Epoch 298/500\n",
            "34/34 [==============================] - 0s 3ms/step - loss: 3516.6956 - mae: 3516.6956\n",
            "Epoch 299/500\n",
            "34/34 [==============================] - 0s 3ms/step - loss: 3528.5896 - mae: 3528.5896\n",
            "Epoch 300/500\n",
            "34/34 [==============================] - 0s 3ms/step - loss: 3515.0896 - mae: 3515.0896\n",
            "Epoch 301/500\n",
            "34/34 [==============================] - 0s 3ms/step - loss: 3514.0581 - mae: 3514.0581\n",
            "Epoch 302/500\n",
            "34/34 [==============================] - 0s 3ms/step - loss: 3534.8408 - mae: 3534.8408\n",
            "Epoch 303/500\n",
            "34/34 [==============================] - 0s 3ms/step - loss: 3533.7986 - mae: 3533.7986\n",
            "Epoch 304/500\n",
            "34/34 [==============================] - 0s 3ms/step - loss: 3513.5752 - mae: 3513.5752\n",
            "Epoch 305/500\n",
            "34/34 [==============================] - 0s 3ms/step - loss: 3505.5923 - mae: 3505.5923\n",
            "Epoch 306/500\n",
            "34/34 [==============================] - 0s 3ms/step - loss: 3506.7100 - mae: 3506.7100\n",
            "Epoch 307/500\n",
            "34/34 [==============================] - 0s 3ms/step - loss: 3505.4788 - mae: 3505.4788\n",
            "Epoch 308/500\n",
            "34/34 [==============================] - 0s 3ms/step - loss: 3507.7600 - mae: 3507.7600\n",
            "Epoch 309/500\n",
            "34/34 [==============================] - 0s 3ms/step - loss: 3500.8682 - mae: 3500.8682\n",
            "Epoch 310/500\n",
            "34/34 [==============================] - 0s 3ms/step - loss: 3503.5122 - mae: 3503.5122\n",
            "Epoch 311/500\n",
            "34/34 [==============================] - 0s 3ms/step - loss: 3506.8335 - mae: 3506.8335\n",
            "Epoch 312/500\n",
            "34/34 [==============================] - 0s 3ms/step - loss: 3501.2363 - mae: 3501.2363\n",
            "Epoch 313/500\n",
            "34/34 [==============================] - 0s 3ms/step - loss: 3494.2236 - mae: 3494.2236\n",
            "Epoch 314/500\n",
            "34/34 [==============================] - 0s 4ms/step - loss: 3495.6741 - mae: 3495.6741\n",
            "Epoch 315/500\n",
            "34/34 [==============================] - 0s 3ms/step - loss: 3501.0530 - mae: 3501.0530\n",
            "Epoch 316/500\n",
            "34/34 [==============================] - 0s 3ms/step - loss: 3489.4246 - mae: 3489.4246\n",
            "Epoch 317/500\n",
            "34/34 [==============================] - 0s 3ms/step - loss: 3490.7146 - mae: 3490.7146\n",
            "Epoch 318/500\n",
            "34/34 [==============================] - 0s 3ms/step - loss: 3490.0339 - mae: 3490.0339\n",
            "Epoch 319/500\n",
            "34/34 [==============================] - 0s 3ms/step - loss: 3490.1018 - mae: 3490.1018\n",
            "Epoch 320/500\n",
            "34/34 [==============================] - 0s 3ms/step - loss: 3493.0933 - mae: 3493.0933\n",
            "Epoch 321/500\n",
            "34/34 [==============================] - 0s 2ms/step - loss: 3496.7957 - mae: 3496.7957\n",
            "Epoch 322/500\n",
            "34/34 [==============================] - 0s 2ms/step - loss: 3495.5432 - mae: 3495.5432\n",
            "Epoch 323/500\n",
            "34/34 [==============================] - 0s 2ms/step - loss: 3484.6516 - mae: 3484.6516\n",
            "Epoch 324/500\n",
            "34/34 [==============================] - 0s 2ms/step - loss: 3482.9746 - mae: 3482.9746\n",
            "Epoch 325/500\n",
            "34/34 [==============================] - 0s 2ms/step - loss: 3480.6204 - mae: 3480.6204\n",
            "Epoch 326/500\n",
            "34/34 [==============================] - 0s 2ms/step - loss: 3484.6631 - mae: 3484.6631\n",
            "Epoch 327/500\n",
            "34/34 [==============================] - 0s 2ms/step - loss: 3480.9619 - mae: 3480.9619\n",
            "Epoch 328/500\n",
            "34/34 [==============================] - 0s 2ms/step - loss: 3494.1414 - mae: 3494.1414\n",
            "Epoch 329/500\n",
            "34/34 [==============================] - 0s 2ms/step - loss: 3499.1558 - mae: 3499.1558\n",
            "Epoch 330/500\n",
            "34/34 [==============================] - 0s 2ms/step - loss: 3478.1736 - mae: 3478.1736\n",
            "Epoch 331/500\n",
            "34/34 [==============================] - 0s 2ms/step - loss: 3481.8535 - mae: 3481.8535\n",
            "Epoch 332/500\n",
            "34/34 [==============================] - 0s 2ms/step - loss: 3485.7310 - mae: 3485.7310\n",
            "Epoch 333/500\n",
            "34/34 [==============================] - 0s 3ms/step - loss: 3480.4861 - mae: 3480.4861\n",
            "Epoch 334/500\n",
            "34/34 [==============================] - 0s 2ms/step - loss: 3477.9287 - mae: 3477.9287\n",
            "Epoch 335/500\n",
            "34/34 [==============================] - 0s 2ms/step - loss: 3477.0933 - mae: 3477.0933\n",
            "Epoch 336/500\n",
            "34/34 [==============================] - 0s 2ms/step - loss: 3480.6221 - mae: 3480.6221\n",
            "Epoch 337/500\n",
            "34/34 [==============================] - 0s 2ms/step - loss: 3484.5769 - mae: 3484.5769\n",
            "Epoch 338/500\n",
            "34/34 [==============================] - 0s 2ms/step - loss: 3490.9592 - mae: 3490.9592\n",
            "Epoch 339/500\n",
            "34/34 [==============================] - 0s 2ms/step - loss: 3480.1716 - mae: 3480.1716\n",
            "Epoch 340/500\n",
            "34/34 [==============================] - 0s 2ms/step - loss: 3478.2368 - mae: 3478.2368\n",
            "Epoch 341/500\n",
            "34/34 [==============================] - 0s 2ms/step - loss: 3478.7871 - mae: 3478.7871\n",
            "Epoch 342/500\n",
            "34/34 [==============================] - 0s 2ms/step - loss: 3489.2761 - mae: 3489.2761\n",
            "Epoch 343/500\n",
            "34/34 [==============================] - 0s 2ms/step - loss: 3479.4543 - mae: 3479.4543\n",
            "Epoch 344/500\n",
            "34/34 [==============================] - 0s 2ms/step - loss: 3478.9233 - mae: 3478.9233\n",
            "Epoch 345/500\n",
            "34/34 [==============================] - 0s 2ms/step - loss: 3482.5769 - mae: 3482.5769\n",
            "Epoch 346/500\n",
            "34/34 [==============================] - 0s 2ms/step - loss: 3486.6272 - mae: 3486.6272\n",
            "Epoch 347/500\n",
            "34/34 [==============================] - 0s 2ms/step - loss: 3481.0391 - mae: 3481.0391\n",
            "Epoch 348/500\n",
            "34/34 [==============================] - 0s 2ms/step - loss: 3477.3264 - mae: 3477.3264\n",
            "Epoch 349/500\n",
            "34/34 [==============================] - 0s 2ms/step - loss: 3482.4219 - mae: 3482.4219\n",
            "Epoch 350/500\n",
            "34/34 [==============================] - 0s 2ms/step - loss: 3481.3105 - mae: 3481.3105\n",
            "Epoch 351/500\n",
            "34/34 [==============================] - 0s 2ms/step - loss: 3485.3269 - mae: 3485.3269\n",
            "Epoch 352/500\n",
            "34/34 [==============================] - 0s 2ms/step - loss: 3480.3020 - mae: 3480.3020\n",
            "Epoch 353/500\n",
            "34/34 [==============================] - 0s 2ms/step - loss: 3495.3779 - mae: 3495.3779\n",
            "Epoch 354/500\n",
            "34/34 [==============================] - 0s 2ms/step - loss: 3477.3357 - mae: 3477.3357\n",
            "Epoch 355/500\n",
            "34/34 [==============================] - 0s 2ms/step - loss: 3476.8772 - mae: 3476.8772\n",
            "Epoch 356/500\n",
            "34/34 [==============================] - 0s 2ms/step - loss: 3487.7126 - mae: 3487.7126\n",
            "Epoch 357/500\n",
            "34/34 [==============================] - 0s 3ms/step - loss: 3478.5750 - mae: 3478.5750\n",
            "Epoch 358/500\n",
            "34/34 [==============================] - 0s 2ms/step - loss: 3483.6714 - mae: 3483.6714\n",
            "Epoch 359/500\n",
            "34/34 [==============================] - 0s 2ms/step - loss: 3505.9731 - mae: 3505.9731\n",
            "Epoch 360/500\n",
            "34/34 [==============================] - 0s 2ms/step - loss: 3481.1450 - mae: 3481.1450\n",
            "Epoch 361/500\n",
            "34/34 [==============================] - 0s 2ms/step - loss: 3479.5452 - mae: 3479.5452\n",
            "Epoch 362/500\n",
            "34/34 [==============================] - 0s 2ms/step - loss: 3483.9976 - mae: 3483.9976\n",
            "Epoch 363/500\n",
            "34/34 [==============================] - 0s 2ms/step - loss: 3481.8340 - mae: 3481.8340\n",
            "Epoch 364/500\n",
            "34/34 [==============================] - 0s 2ms/step - loss: 3495.8132 - mae: 3495.8132\n",
            "Epoch 365/500\n",
            "34/34 [==============================] - 0s 2ms/step - loss: 3485.9341 - mae: 3485.9341\n",
            "Epoch 366/500\n",
            "34/34 [==============================] - 0s 2ms/step - loss: 3479.1787 - mae: 3479.1787\n",
            "Epoch 367/500\n",
            "34/34 [==============================] - 0s 2ms/step - loss: 3474.3818 - mae: 3474.3818\n",
            "Epoch 368/500\n",
            "34/34 [==============================] - 0s 2ms/step - loss: 3481.2146 - mae: 3481.2146\n",
            "Epoch 369/500\n",
            "34/34 [==============================] - 0s 2ms/step - loss: 3481.9165 - mae: 3481.9165\n",
            "Epoch 370/500\n",
            "34/34 [==============================] - 0s 2ms/step - loss: 3486.2214 - mae: 3486.2214\n",
            "Epoch 371/500\n",
            "34/34 [==============================] - 0s 2ms/step - loss: 3477.8235 - mae: 3477.8235\n",
            "Epoch 372/500\n",
            "34/34 [==============================] - 0s 2ms/step - loss: 3477.9595 - mae: 3477.9595\n",
            "Epoch 373/500\n",
            "34/34 [==============================] - 0s 2ms/step - loss: 3475.9746 - mae: 3475.9746\n",
            "Epoch 374/500\n",
            "34/34 [==============================] - 0s 2ms/step - loss: 3488.0269 - mae: 3488.0269\n",
            "Epoch 375/500\n",
            "34/34 [==============================] - 0s 2ms/step - loss: 3475.8223 - mae: 3475.8223\n",
            "Epoch 376/500\n",
            "34/34 [==============================] - 0s 2ms/step - loss: 3474.5415 - mae: 3474.5415\n",
            "Epoch 377/500\n",
            "34/34 [==============================] - 0s 2ms/step - loss: 3475.9946 - mae: 3475.9946\n",
            "Epoch 378/500\n",
            "34/34 [==============================] - 0s 3ms/step - loss: 3480.8552 - mae: 3480.8552\n",
            "Epoch 379/500\n",
            "34/34 [==============================] - 0s 2ms/step - loss: 3491.9734 - mae: 3491.9734\n",
            "Epoch 380/500\n",
            "34/34 [==============================] - 0s 2ms/step - loss: 3483.7375 - mae: 3483.7375\n",
            "Epoch 381/500\n",
            "34/34 [==============================] - 0s 2ms/step - loss: 3494.9250 - mae: 3494.9250\n",
            "Epoch 382/500\n",
            "34/34 [==============================] - 0s 2ms/step - loss: 3480.7090 - mae: 3480.7090\n",
            "Epoch 383/500\n",
            "34/34 [==============================] - 0s 2ms/step - loss: 3478.5967 - mae: 3478.5967\n",
            "Epoch 384/500\n",
            "34/34 [==============================] - 0s 2ms/step - loss: 3500.0679 - mae: 3500.0679\n",
            "Epoch 385/500\n",
            "34/34 [==============================] - 0s 2ms/step - loss: 3486.3494 - mae: 3486.3494\n",
            "Epoch 386/500\n",
            "34/34 [==============================] - 0s 2ms/step - loss: 3489.0894 - mae: 3489.0894\n",
            "Epoch 387/500\n",
            "34/34 [==============================] - 0s 2ms/step - loss: 3481.7542 - mae: 3481.7542\n",
            "Epoch 388/500\n",
            "34/34 [==============================] - 0s 2ms/step - loss: 3482.6604 - mae: 3482.6604\n",
            "Epoch 389/500\n",
            "34/34 [==============================] - 0s 3ms/step - loss: 3489.4216 - mae: 3489.4216\n",
            "Epoch 390/500\n",
            "34/34 [==============================] - 0s 3ms/step - loss: 3494.3933 - mae: 3494.3933\n",
            "Epoch 391/500\n",
            "34/34 [==============================] - 0s 2ms/step - loss: 3482.0598 - mae: 3482.0598\n",
            "Epoch 392/500\n",
            "34/34 [==============================] - 0s 2ms/step - loss: 3483.3435 - mae: 3483.3435\n",
            "Epoch 393/500\n",
            "34/34 [==============================] - 0s 2ms/step - loss: 3495.0500 - mae: 3495.0500\n",
            "Epoch 394/500\n",
            "34/34 [==============================] - 0s 2ms/step - loss: 3476.0400 - mae: 3476.0400\n",
            "Epoch 395/500\n",
            "34/34 [==============================] - 0s 2ms/step - loss: 3490.1392 - mae: 3490.1392\n",
            "Epoch 396/500\n",
            "34/34 [==============================] - 0s 2ms/step - loss: 3481.5410 - mae: 3481.5410\n",
            "Epoch 397/500\n",
            "34/34 [==============================] - 0s 3ms/step - loss: 3480.5952 - mae: 3480.5952\n",
            "Epoch 398/500\n",
            "34/34 [==============================] - 0s 2ms/step - loss: 3480.6917 - mae: 3480.6917\n",
            "Epoch 399/500\n",
            "34/34 [==============================] - 0s 2ms/step - loss: 3478.4963 - mae: 3478.4963\n",
            "Epoch 400/500\n",
            "34/34 [==============================] - 0s 2ms/step - loss: 3475.3528 - mae: 3475.3528\n",
            "Epoch 401/500\n",
            "34/34 [==============================] - 0s 3ms/step - loss: 3475.3350 - mae: 3475.3350\n",
            "Epoch 402/500\n",
            "34/34 [==============================] - 0s 2ms/step - loss: 3478.3154 - mae: 3478.3154\n",
            "Epoch 403/500\n",
            "34/34 [==============================] - 0s 2ms/step - loss: 3483.3711 - mae: 3483.3711\n",
            "Epoch 404/500\n",
            "34/34 [==============================] - 0s 2ms/step - loss: 3480.8394 - mae: 3480.8394\n",
            "Epoch 405/500\n",
            "34/34 [==============================] - 0s 2ms/step - loss: 3474.6702 - mae: 3474.6702\n",
            "Epoch 406/500\n",
            "34/34 [==============================] - 0s 2ms/step - loss: 3482.8210 - mae: 3482.8210\n",
            "Epoch 407/500\n",
            "34/34 [==============================] - 0s 2ms/step - loss: 3484.7092 - mae: 3484.7092\n",
            "Epoch 408/500\n",
            "34/34 [==============================] - 0s 2ms/step - loss: 3480.5781 - mae: 3480.5781\n",
            "Epoch 409/500\n",
            "34/34 [==============================] - 0s 2ms/step - loss: 3480.1160 - mae: 3480.1160\n",
            "Epoch 410/500\n",
            "34/34 [==============================] - 0s 2ms/step - loss: 3477.0000 - mae: 3477.0000\n",
            "Epoch 411/500\n",
            "34/34 [==============================] - 0s 2ms/step - loss: 3486.1394 - mae: 3486.1394\n",
            "Epoch 412/500\n",
            "34/34 [==============================] - 0s 2ms/step - loss: 3480.5908 - mae: 3480.5908\n",
            "Epoch 413/500\n",
            "34/34 [==============================] - 0s 3ms/step - loss: 3476.0764 - mae: 3476.0764\n",
            "Epoch 414/500\n",
            "34/34 [==============================] - 0s 2ms/step - loss: 3480.1599 - mae: 3480.1599\n",
            "Epoch 415/500\n",
            "34/34 [==============================] - 0s 2ms/step - loss: 3492.0574 - mae: 3492.0574\n",
            "Epoch 416/500\n",
            "34/34 [==============================] - 0s 4ms/step - loss: 3478.9343 - mae: 3478.9343\n",
            "Epoch 417/500\n",
            "34/34 [==============================] - 0s 5ms/step - loss: 3478.0730 - mae: 3478.0730\n",
            "Epoch 418/500\n",
            "34/34 [==============================] - 0s 4ms/step - loss: 3491.7009 - mae: 3491.7009\n",
            "Epoch 419/500\n",
            "34/34 [==============================] - 0s 4ms/step - loss: 3480.2466 - mae: 3480.2466\n",
            "Epoch 420/500\n",
            "34/34 [==============================] - 0s 4ms/step - loss: 3487.7522 - mae: 3487.7522\n",
            "Epoch 421/500\n",
            "34/34 [==============================] - 0s 5ms/step - loss: 3476.1035 - mae: 3476.1035\n",
            "Epoch 422/500\n",
            "34/34 [==============================] - 0s 6ms/step - loss: 3485.6797 - mae: 3485.6797\n",
            "Epoch 423/500\n",
            "34/34 [==============================] - 0s 5ms/step - loss: 3489.5469 - mae: 3489.5469\n",
            "Epoch 424/500\n",
            "34/34 [==============================] - 0s 2ms/step - loss: 3502.8345 - mae: 3502.8345\n",
            "Epoch 425/500\n",
            "34/34 [==============================] - 0s 2ms/step - loss: 3475.5374 - mae: 3475.5374\n",
            "Epoch 426/500\n",
            "34/34 [==============================] - 0s 5ms/step - loss: 3494.5205 - mae: 3494.5205\n",
            "Epoch 427/500\n",
            "34/34 [==============================] - 0s 4ms/step - loss: 3478.9685 - mae: 3478.9685\n",
            "Epoch 428/500\n",
            "34/34 [==============================] - 0s 6ms/step - loss: 3480.1931 - mae: 3480.1931\n",
            "Epoch 429/500\n",
            "34/34 [==============================] - 0s 5ms/step - loss: 3474.5122 - mae: 3474.5122\n",
            "Epoch 430/500\n",
            "34/34 [==============================] - 0s 6ms/step - loss: 3480.4475 - mae: 3480.4475\n",
            "Epoch 431/500\n",
            "34/34 [==============================] - 0s 6ms/step - loss: 3485.3301 - mae: 3485.3301\n",
            "Epoch 432/500\n",
            "34/34 [==============================] - 0s 4ms/step - loss: 3474.0820 - mae: 3474.0820\n",
            "Epoch 433/500\n",
            "34/34 [==============================] - 0s 3ms/step - loss: 3475.2368 - mae: 3475.2368\n",
            "Epoch 434/500\n",
            "34/34 [==============================] - 0s 6ms/step - loss: 3488.9871 - mae: 3488.9871\n",
            "Epoch 435/500\n",
            "34/34 [==============================] - 0s 7ms/step - loss: 3488.5962 - mae: 3488.5962\n",
            "Epoch 436/500\n",
            "34/34 [==============================] - 0s 7ms/step - loss: 3480.8284 - mae: 3480.8284\n",
            "Epoch 437/500\n",
            "34/34 [==============================] - 0s 7ms/step - loss: 3485.8804 - mae: 3485.8804\n",
            "Epoch 438/500\n",
            "34/34 [==============================] - 0s 5ms/step - loss: 3491.9868 - mae: 3491.9868\n",
            "Epoch 439/500\n",
            "34/34 [==============================] - 0s 4ms/step - loss: 3480.6172 - mae: 3480.6172\n",
            "Epoch 440/500\n",
            "34/34 [==============================] - 0s 8ms/step - loss: 3488.4973 - mae: 3488.4973\n",
            "Epoch 441/500\n",
            "34/34 [==============================] - 0s 9ms/step - loss: 3478.8154 - mae: 3478.8154\n",
            "Epoch 442/500\n",
            "34/34 [==============================] - 0s 8ms/step - loss: 3485.6443 - mae: 3485.6443\n",
            "Epoch 443/500\n",
            "34/34 [==============================] - 0s 10ms/step - loss: 3479.1167 - mae: 3479.1167\n",
            "Epoch 444/500\n",
            "34/34 [==============================] - 0s 9ms/step - loss: 3477.2312 - mae: 3477.2312\n",
            "Epoch 445/500\n",
            "34/34 [==============================] - 0s 8ms/step - loss: 3485.3887 - mae: 3485.3887\n",
            "Epoch 446/500\n",
            "34/34 [==============================] - 0s 8ms/step - loss: 3502.4302 - mae: 3502.4302\n",
            "Epoch 447/500\n",
            "34/34 [==============================] - 0s 7ms/step - loss: 3479.4768 - mae: 3479.4768\n",
            "Epoch 448/500\n",
            "34/34 [==============================] - 0s 6ms/step - loss: 3481.1411 - mae: 3481.1411\n",
            "Epoch 449/500\n",
            "34/34 [==============================] - 0s 5ms/step - loss: 3483.5527 - mae: 3483.5527\n",
            "Epoch 450/500\n",
            "34/34 [==============================] - 0s 5ms/step - loss: 3482.7012 - mae: 3482.7012\n",
            "Epoch 451/500\n",
            "34/34 [==============================] - 0s 6ms/step - loss: 3484.6897 - mae: 3484.6897\n",
            "Epoch 452/500\n",
            "34/34 [==============================] - 0s 3ms/step - loss: 3494.3506 - mae: 3494.3506\n",
            "Epoch 453/500\n",
            "34/34 [==============================] - 0s 4ms/step - loss: 3475.2593 - mae: 3475.2593\n",
            "Epoch 454/500\n",
            "34/34 [==============================] - 0s 3ms/step - loss: 3485.7642 - mae: 3485.7642\n",
            "Epoch 455/500\n",
            "34/34 [==============================] - 0s 4ms/step - loss: 3482.9670 - mae: 3482.9670\n",
            "Epoch 456/500\n",
            "34/34 [==============================] - 0s 5ms/step - loss: 3482.7307 - mae: 3482.7307\n",
            "Epoch 457/500\n",
            "34/34 [==============================] - 0s 8ms/step - loss: 3487.4705 - mae: 3487.4705\n",
            "Epoch 458/500\n",
            "34/34 [==============================] - 0s 9ms/step - loss: 3485.9790 - mae: 3485.9790\n",
            "Epoch 459/500\n",
            "34/34 [==============================] - 0s 4ms/step - loss: 3477.9482 - mae: 3477.9482\n",
            "Epoch 460/500\n",
            "34/34 [==============================] - 0s 5ms/step - loss: 3477.3669 - mae: 3477.3669\n",
            "Epoch 461/500\n",
            "34/34 [==============================] - 0s 5ms/step - loss: 3475.5710 - mae: 3475.5710\n",
            "Epoch 462/500\n",
            "34/34 [==============================] - 0s 5ms/step - loss: 3480.6436 - mae: 3480.6436\n",
            "Epoch 463/500\n",
            "34/34 [==============================] - 0s 4ms/step - loss: 3477.7739 - mae: 3477.7739\n",
            "Epoch 464/500\n",
            "34/34 [==============================] - 0s 3ms/step - loss: 3480.3069 - mae: 3480.3069\n",
            "Epoch 465/500\n",
            "34/34 [==============================] - 0s 3ms/step - loss: 3480.3574 - mae: 3480.3574\n",
            "Epoch 466/500\n",
            "34/34 [==============================] - 0s 3ms/step - loss: 3483.1875 - mae: 3483.1875\n",
            "Epoch 467/500\n",
            "34/34 [==============================] - 0s 4ms/step - loss: 3481.1196 - mae: 3481.1196\n",
            "Epoch 468/500\n",
            "34/34 [==============================] - 0s 5ms/step - loss: 3486.3887 - mae: 3486.3887\n",
            "Epoch 469/500\n",
            "34/34 [==============================] - 0s 8ms/step - loss: 3477.8018 - mae: 3477.8018\n",
            "Epoch 470/500\n",
            "34/34 [==============================] - 0s 10ms/step - loss: 3477.0635 - mae: 3477.0635\n",
            "Epoch 471/500\n",
            "34/34 [==============================] - 0s 10ms/step - loss: 3484.5356 - mae: 3484.5356\n",
            "Epoch 472/500\n",
            "34/34 [==============================] - 0s 8ms/step - loss: 3474.4895 - mae: 3474.4895\n",
            "Epoch 473/500\n",
            "34/34 [==============================] - 0s 3ms/step - loss: 3478.7129 - mae: 3478.7129\n",
            "Epoch 474/500\n",
            "34/34 [==============================] - 0s 2ms/step - loss: 3478.9824 - mae: 3478.9824\n",
            "Epoch 475/500\n",
            "34/34 [==============================] - 0s 2ms/step - loss: 3495.3718 - mae: 3495.3718\n",
            "Epoch 476/500\n",
            "34/34 [==============================] - 0s 2ms/step - loss: 3490.9690 - mae: 3490.9690\n",
            "Epoch 477/500\n",
            "34/34 [==============================] - 0s 2ms/step - loss: 3493.0471 - mae: 3493.0471\n",
            "Epoch 478/500\n",
            "34/34 [==============================] - 0s 2ms/step - loss: 3476.3320 - mae: 3476.3320\n",
            "Epoch 479/500\n",
            "34/34 [==============================] - 0s 2ms/step - loss: 3482.2363 - mae: 3482.2363\n",
            "Epoch 480/500\n",
            "34/34 [==============================] - 0s 2ms/step - loss: 3486.0874 - mae: 3486.0874\n",
            "Epoch 481/500\n",
            "34/34 [==============================] - 0s 2ms/step - loss: 3477.0002 - mae: 3477.0002\n",
            "Epoch 482/500\n",
            "34/34 [==============================] - 0s 2ms/step - loss: 3480.7361 - mae: 3480.7361\n",
            "Epoch 483/500\n",
            "34/34 [==============================] - 0s 2ms/step - loss: 3480.6458 - mae: 3480.6458\n",
            "Epoch 484/500\n",
            "34/34 [==============================] - 0s 3ms/step - loss: 3483.9304 - mae: 3483.9304\n",
            "Epoch 485/500\n",
            "34/34 [==============================] - 0s 2ms/step - loss: 3482.3218 - mae: 3482.3218\n",
            "Epoch 486/500\n",
            "34/34 [==============================] - 0s 2ms/step - loss: 3510.1973 - mae: 3510.1973\n",
            "Epoch 487/500\n",
            "34/34 [==============================] - 0s 2ms/step - loss: 3478.5132 - mae: 3478.5132\n",
            "Epoch 488/500\n",
            "34/34 [==============================] - 0s 2ms/step - loss: 3475.3235 - mae: 3475.3235\n",
            "Epoch 489/500\n",
            "34/34 [==============================] - 0s 2ms/step - loss: 3474.0437 - mae: 3474.0437\n",
            "Epoch 490/500\n",
            "34/34 [==============================] - 0s 2ms/step - loss: 3476.2820 - mae: 3476.2820\n",
            "Epoch 491/500\n",
            "34/34 [==============================] - 0s 2ms/step - loss: 3509.8862 - mae: 3509.8862\n",
            "Epoch 492/500\n",
            "34/34 [==============================] - 0s 2ms/step - loss: 3473.4592 - mae: 3473.4592\n",
            "Epoch 493/500\n",
            "34/34 [==============================] - 0s 2ms/step - loss: 3487.9978 - mae: 3487.9978\n",
            "Epoch 494/500\n",
            "34/34 [==============================] - 0s 3ms/step - loss: 3477.2307 - mae: 3477.2307\n",
            "Epoch 495/500\n",
            "34/34 [==============================] - 0s 2ms/step - loss: 3480.8948 - mae: 3480.8948\n",
            "Epoch 496/500\n",
            "34/34 [==============================] - 0s 2ms/step - loss: 3475.6555 - mae: 3475.6555\n",
            "Epoch 497/500\n",
            "34/34 [==============================] - 0s 3ms/step - loss: 3487.7744 - mae: 3487.7744\n",
            "Epoch 498/500\n",
            "34/34 [==============================] - 0s 2ms/step - loss: 3484.7637 - mae: 3484.7637\n",
            "Epoch 499/500\n",
            "34/34 [==============================] - 0s 2ms/step - loss: 3474.8254 - mae: 3474.8254\n",
            "Epoch 500/500\n",
            "34/34 [==============================] - 0s 2ms/step - loss: 3476.8630 - mae: 3476.8630\n"
          ]
        }
      ]
    },
    {
      "cell_type": "code",
      "source": [
        "insurance_model_3.evaluate(X_test, y_test)"
      ],
      "metadata": {
        "colab": {
          "base_uri": "https://localhost:8080/"
        },
        "id": "-x9sUaoYtU6z",
        "outputId": "b2a92e10-493f-48fd-9ac2-d0f31f68bbf7"
      },
      "execution_count": null,
      "outputs": [
        {
          "output_type": "stream",
          "name": "stdout",
          "text": [
            "9/9 [==============================] - 0s 2ms/step - loss: 3171.2056 - mae: 3171.2056\n"
          ]
        },
        {
          "output_type": "execute_result",
          "data": {
            "text/plain": [
              "[3171.20556640625, 3171.20556640625]"
            ]
          },
          "metadata": {},
          "execution_count": 71
        }
      ]
    },
    {
      "cell_type": "code",
      "source": [
        "# plot history\n",
        "pd.DataFrame(history.history).plot()\n",
        "plt.ylabel(\"loss\")\n",
        "plt.xlabel(\"epochs\")"
      ],
      "metadata": {
        "colab": {
          "base_uri": "https://localhost:8080/",
          "height": 466
        },
        "id": "ecqqsnrO1tEB",
        "outputId": "2f2bc8e0-f98b-4dc8-81ff-2cbbb85797fe"
      },
      "execution_count": null,
      "outputs": [
        {
          "output_type": "execute_result",
          "data": {
            "text/plain": [
              "Text(0.5, 0, 'epochs')"
            ]
          },
          "metadata": {},
          "execution_count": 72
        },
        {
          "output_type": "display_data",
          "data": {
            "text/plain": [
              "<Figure size 640x480 with 1 Axes>"
            ],
            "image/png": "[encoded data removed]"
          },
          "metadata": {}
        }
      ]
    },
    {
      "cell_type": "markdown",
      "source": [
        "# Preprocessing Data"
      ],
      "metadata": {
        "id": "MJx-3mvmB4kO"
      }
    },
    {
      "cell_type": "code",
      "source": [
        "import tensorflow as tf\n",
        "import numpy as np\n",
        "import pandas as pd\n",
        "import matplotlib.pyplot as plt\n",
        "\n",
        "insurance = pd.read_csv(\"https://raw.githubusercontent.com/stedy/Machine-Learning-with-R-datasets/master/insurance.csv\")\n",
        "insurance"
      ],
      "metadata": {
        "colab": {
          "base_uri": "https://localhost:8080/",
          "height": 424
        },
        "id": "ezlUYTG-Olnt",
        "outputId": "f73352a9-3ab7-4f6a-b189-750582e52d18"
      },
      "execution_count": null,
      "outputs": [
        {
          "output_type": "execute_result",
          "data": {
            "text/plain": [
              "      age     sex     bmi  children smoker     region      charges\n",
              "0      19  female  27.900         0    yes  southwest  16884.92400\n",
              "1      18    male  33.770         1     no  southeast   1725.55230\n",
              "2      28    male  33.000         3     no  southeast   4449.46200\n",
              "3      33    male  22.705         0     no  northwest  21984.47061\n",
              "4      32    male  28.880         0     no  northwest   3866.85520\n",
              "...   ...     ...     ...       ...    ...        ...          ...\n",
              "1333   50    male  30.970         3     no  northwest  10600.54830\n",
              "1334   18  female  31.920         0     no  northeast   2205.98080\n",
              "1335   18  female  36.850         0     no  southeast   1629.83350\n",
              "1336   21  female  25.800         0     no  southwest   2007.94500\n",
              "1337   61  female  29.070         0    yes  northwest  29141.36030\n",
              "\n",
              "[1338 rows x 7 columns]"
            ],
            "text/html": [
              "\n",
              "  <div id=\"df-782276b9-bcb5-4f23-8f09-27ebf01b3af5\">\n",
              "    <div class=\"colab-df-container\">\n",
              "      <div>\n",
              "<style scoped>\n",
              "    .dataframe tbody tr th:only-of-type {\n",
              "        vertical-align: middle;\n",
              "    }\n",
              "\n",
              "    .dataframe tbody tr th {\n",
              "        vertical-align: top;\n",
              "    }\n",
              "\n",
              "    .dataframe thead th {\n",
              "        text-align: right;\n",
              "    }\n",
              "</style>\n",
              "<table border=\"1\" class=\"dataframe\">\n",
              "  <thead>\n",
              "    <tr style=\"text-align: right;\">\n",
              "      <th></th>\n",
              "      <th>age</th>\n",
              "      <th>sex</th>\n",
              "      <th>bmi</th>\n",
              "      <th>children</th>\n",
              "      <th>smoker</th>\n",
              "      <th>region</th>\n",
              "      <th>charges</th>\n",
              "    </tr>\n",
              "  </thead>\n",
              "  <tbody>\n",
              "    <tr>\n",
              "      <th>0</th>\n",
              "      <td>19</td>\n",
              "      <td>female</td>\n",
              "      <td>27.900</td>\n",
              "      <td>0</td>\n",
              "      <td>yes</td>\n",
              "      <td>southwest</td>\n",
              "      <td>16884.92400</td>\n",
              "    </tr>\n",
              "    <tr>\n",
              "      <th>1</th>\n",
              "      <td>18</td>\n",
              "      <td>male</td>\n",
              "      <td>33.770</td>\n",
              "      <td>1</td>\n",
              "      <td>no</td>\n",
              "      <td>southeast</td>\n",
              "      <td>1725.55230</td>\n",
              "    </tr>\n",
              "    <tr>\n",
              "      <th>2</th>\n",
              "      <td>28</td>\n",
              "      <td>male</td>\n",
              "      <td>33.000</td>\n",
              "      <td>3</td>\n",
              "      <td>no</td>\n",
              "      <td>southeast</td>\n",
              "      <td>4449.46200</td>\n",
              "    </tr>\n",
              "    <tr>\n",
              "      <th>3</th>\n",
              "      <td>33</td>\n",
              "      <td>male</td>\n",
              "      <td>22.705</td>\n",
              "      <td>0</td>\n",
              "      <td>no</td>\n",
              "      <td>northwest</td>\n",
              "      <td>21984.47061</td>\n",
              "    </tr>\n",
              "    <tr>\n",
              "      <th>4</th>\n",
              "      <td>32</td>\n",
              "      <td>male</td>\n",
              "      <td>28.880</td>\n",
              "      <td>0</td>\n",
              "      <td>no</td>\n",
              "      <td>northwest</td>\n",
              "      <td>3866.85520</td>\n",
              "    </tr>\n",
              "    <tr>\n",
              "      <th>...</th>\n",
              "      <td>...</td>\n",
              "      <td>...</td>\n",
              "      <td>...</td>\n",
              "      <td>...</td>\n",
              "      <td>...</td>\n",
              "      <td>...</td>\n",
              "      <td>...</td>\n",
              "    </tr>\n",
              "    <tr>\n",
              "      <th>1333</th>\n",
              "      <td>50</td>\n",
              "      <td>male</td>\n",
              "      <td>30.970</td>\n",
              "      <td>3</td>\n",
              "      <td>no</td>\n",
              "      <td>northwest</td>\n",
              "      <td>10600.54830</td>\n",
              "    </tr>\n",
              "    <tr>\n",
              "      <th>1334</th>\n",
              "      <td>18</td>\n",
              "      <td>female</td>\n",
              "      <td>31.920</td>\n",
              "      <td>0</td>\n",
              "      <td>no</td>\n",
              "      <td>northeast</td>\n",
              "      <td>2205.98080</td>\n",
              "    </tr>\n",
              "    <tr>\n",
              "      <th>1335</th>\n",
              "      <td>18</td>\n",
              "      <td>female</td>\n",
              "      <td>36.850</td>\n",
              "      <td>0</td>\n",
              "      <td>no</td>\n",
              "      <td>southeast</td>\n",
              "      <td>1629.83350</td>\n",
              "    </tr>\n",
              "    <tr>\n",
              "      <th>1336</th>\n",
              "      <td>21</td>\n",
              "      <td>female</td>\n",
              "      <td>25.800</td>\n",
              "      <td>0</td>\n",
              "      <td>no</td>\n",
              "      <td>southwest</td>\n",
              "      <td>2007.94500</td>\n",
              "    </tr>\n",
              "    <tr>\n",
              "      <th>1337</th>\n",
              "      <td>61</td>\n",
              "      <td>female</td>\n",
              "      <td>29.070</td>\n",
              "      <td>0</td>\n",
              "      <td>yes</td>\n",
              "      <td>northwest</td>\n",
              "      <td>29141.36030</td>\n",
              "    </tr>\n",
              "  </tbody>\n",
              "</table>\n",
              "<p>1338 rows × 7 columns</p>\n",
              "</div>\n",
              "      <button class=\"colab-df-convert\" onclick=\"convertToInteractive('df-782276b9-bcb5-4f23-8f09-27ebf01b3af5')\"\n",
              "              title=\"Convert this dataframe to an interactive table.\"\n",
              "              style=\"display:none;\">\n",
              "        \n",
              "  <svg xmlns=\"http://www.w3.org/2000/svg\" height=\"24px\"viewBox=\"0 0 24 24\"\n",
              "       width=\"24px\">\n",
              "    <path d=\"M0 0h24v24H0V0z\" fill=\"none\"/>\n",
              "    <path d=\"M18.56 5.44l.94 2.06.94-2.06 2.06-.94-2.06-.94-.94-2.06-.94 2.06-2.06.94zm-11 1L8.5 8.5l.94-2.06 2.06-.94-2.06-.94L8.5 2.5l-.94 2.06-2.06.94zm10 10l.94 2.06.94-2.06 2.06-.94-2.06-.94-.94-2.06-.94 2.06-2.06.94z\"/><path d=\"M17.41 7.96l-1.37-1.37c-.4-.4-.92-.59-1.43-.59-.52 0-1.04.2-1.43.59L10.3 9.45l-7.72 7.72c-.78.78-.78 2.05 0 2.83L4 21.41c.39.39.9.59 1.41.59.51 0 1.02-.2 1.41-.59l7.78-7.78 2.81-2.81c.8-.78.8-2.07 0-2.86zM5.41 20L4 18.59l7.72-7.72 1.47 1.35L5.41 20z\"/>\n",
              "  </svg>\n",
              "      </button>\n",
              "      \n",
              "  <style>\n",
              "    .colab-df-container {\n",
              "      display:flex;\n",
              "      flex-wrap:wrap;\n",
              "      gap: 12px;\n",
              "    }\n",
              "\n",
              "    .colab-df-convert {\n",
              "      background-color: #E8F0FE;\n",
              "      border: none;\n",
              "      border-radius: 50%;\n",
              "      cursor: pointer;\n",
              "      display: none;\n",
              "      fill: #1967D2;\n",
              "      height: 32px;\n",
              "      padding: 0 0 0 0;\n",
              "      width: 32px;\n",
              "    }\n",
              "\n",
              "    .colab-df-convert:hover {\n",
              "      background-color: #E2EBFA;\n",
              "      box-shadow: 0px 1px 2px rgba(60, 64, 67, 0.3), 0px 1px 3px 1px rgba(60, 64, 67, 0.15);\n",
              "      fill: #174EA6;\n",
              "    }\n",
              "\n",
              "    [theme=dark] .colab-df-convert {\n",
              "      background-color: #3B4455;\n",
              "      fill: #D2E3FC;\n",
              "    }\n",
              "\n",
              "    [theme=dark] .colab-df-convert:hover {\n",
              "      background-color: #434B5C;\n",
              "      box-shadow: 0px 1px 3px 1px rgba(0, 0, 0, 0.15);\n",
              "      filter: drop-shadow(0px 1px 2px rgba(0, 0, 0, 0.3));\n",
              "      fill: #FFFFFF;\n",
              "    }\n",
              "  </style>\n",
              "\n",
              "      <script>\n",
              "        const buttonEl =\n",
              "          document.querySelector('#df-782276b9-bcb5-4f23-8f09-27ebf01b3af5 button.colab-df-convert');\n",
              "        buttonEl.style.display =\n",
              "          google.colab.kernel.accessAllowed ? 'block' : 'none';\n",
              "\n",
              "        async function convertToInteractive(key) {\n",
              "          const element = document.querySelector('#df-782276b9-bcb5-4f23-8f09-27ebf01b3af5');\n",
              "          const dataTable =\n",
              "            await google.colab.kernel.invokeFunction('convertToInteractive',\n",
              "                                                     [key], {});\n",
              "          if (!dataTable) return;\n",
              "\n",
              "          const docLinkHtml = 'Like what you see? Visit the ' +\n",
              "            '<a target=\"_blank\" href=https://colab.research.google.com/notebooks/data_table.ipynb>data table notebook</a>'\n",
              "            + ' to learn more about interactive tables.';\n",
              "          element.innerHTML = '';\n",
              "          dataTable['output_type'] = 'display_data';\n",
              "          await google.colab.output.renderOutput(dataTable, element);\n",
              "          const docLink = document.createElement('div');\n",
              "          docLink.innerHTML = docLinkHtml;\n",
              "          element.appendChild(docLink);\n",
              "        }\n",
              "      </script>\n",
              "    </div>\n",
              "  </div>\n",
              "  "
            ]
          },
          "metadata": {},
          "execution_count": 79
        }
      ]
    },
    {
      "cell_type": "code",
      "source": [
        "from sklearn.compose import make_column_transformer\n",
        "from sklearn.preprocessing import MinMaxScaler, OneHotEncoder\n",
        "from sklearn.model_selection import train_test_split\n",
        "\n",
        "# Create  a column transformer\n",
        "ct = make_column_transformer(\n",
        "    (MinMaxScaler(), ['age', 'bmi','children']),\n",
        "    (OneHotEncoder(handle_unknown='ignore'), ['sex', 'smoker', 'region'])\n",
        ")\n",
        "\n",
        "# Create X and y values\n",
        "X = insurance.drop('charges', axis=1)\n",
        "y = insurance['charges']\n",
        "\n",
        "# Build our train and test sets\n",
        "X_train, X_test, y_train, y_test = train_test_split(X, y, test_size=0.2, random_state=42)\n",
        "\n",
        "# Fit the coloumn transformer to training data\n",
        "ct.fit(X_train)\n",
        "\n",
        "# Transforming traning and test data with normalization(MinMaxScalar and OneHotEncoder)\n",
        "X_train_normal = ct.transform(X_train)\n",
        "X_test_normal = ct.transform(X_test)\n"
      ],
      "metadata": {
        "id": "AMl7C8kcQaF_"
      },
      "execution_count": null,
      "outputs": []
    },
    {
      "cell_type": "code",
      "source": [
        "# what does our data looks like now?\n",
        "X_train.loc[0]"
      ],
      "metadata": {
        "colab": {
          "base_uri": "https://localhost:8080/"
        },
        "id": "Pl4cAKlhVamA",
        "outputId": "0204a2a9-d17b-4eeb-be54-069d698e3b4c"
      },
      "execution_count": null,
      "outputs": [
        {
          "output_type": "execute_result",
          "data": {
            "text/plain": [
              "age                19\n",
              "sex            female\n",
              "bmi              27.9\n",
              "children            0\n",
              "smoker            yes\n",
              "region      southwest\n",
              "Name: 0, dtype: object"
            ]
          },
          "metadata": {},
          "execution_count": 83
        }
      ]
    },
    {
      "cell_type": "code",
      "source": [
        "X_train_normal[0]"
      ],
      "metadata": {
        "colab": {
          "base_uri": "https://localhost:8080/"
        },
        "id": "hr1eKAFbXV9z",
        "outputId": "8cd69316-b6a4-42df-cef8-5578c2c38410"
      },
      "execution_count": null,
      "outputs": [
        {
          "output_type": "execute_result",
          "data": {
            "text/plain": [
              "array([0.60869565, 0.10734463, 0.4       , 1.        , 0.        ,\n",
              "       1.        , 0.        , 0.        , 1.        , 0.        ,\n",
              "       0.        ])"
            ]
          },
          "metadata": {},
          "execution_count": 87
        }
      ]
    },
    {
      "cell_type": "code",
      "source": [
        "X_train.shape, X_train_normal.shape"
      ],
      "metadata": {
        "colab": {
          "base_uri": "https://localhost:8080/"
        },
        "id": "1u22BuohXeJa",
        "outputId": "f2bf5f67-2ba7-4f70-c048-dffc6fa17435"
      },
      "execution_count": null,
      "outputs": [
        {
          "output_type": "execute_result",
          "data": {
            "text/plain": [
              "((1070, 6), (1070, 11))"
            ]
          },
          "metadata": {},
          "execution_count": 88
        }
      ]
    },
    {
      "cell_type": "code",
      "source": [
        "# Build neural netwrok model to fit on our normalize data\n",
        "from tensorflow.keras import layers, Sequential\n",
        "\n",
        "tf.random.set_seed(42)\n",
        "\n",
        "insurance_model_4 = Sequential([\n",
        "    layers.Dense(100),\n",
        "    layers.Dense(10),\n",
        "    layers.Dense(1)\n",
        "])\n",
        "insurance_model_4.compile(loss=tf.keras.losses.mae,\n",
        "                          optimizer='Adam',\n",
        "                          metrics=['mae'])\n",
        "insurance_model_4.fit(X_train_normal, y_train, epochs=100, verbose=1)"
      ],
      "metadata": {
        "colab": {
          "base_uri": "https://localhost:8080/"
        },
        "id": "fbj5q31oX19X",
        "outputId": "74cc1082-28ba-4a26-92ef-90f8b5c98d89"
      },
      "execution_count": null,
      "outputs": [
        {
          "output_type": "stream",
          "name": "stdout",
          "text": [
            "Epoch 1/100\n",
            "34/34 [==============================] - 1s 2ms/step - loss: 13343.0107 - mae: 13343.0107\n",
            "Epoch 2/100\n",
            "34/34 [==============================] - 0s 2ms/step - loss: 13332.3975 - mae: 13332.3975\n",
            "Epoch 3/100\n",
            "34/34 [==============================] - 0s 2ms/step - loss: 13306.6650 - mae: 13306.6650\n",
            "Epoch 4/100\n",
            "34/34 [==============================] - 0s 2ms/step - loss: 13254.0488 - mae: 13254.0488\n",
            "Epoch 5/100\n",
            "34/34 [==============================] - 0s 2ms/step - loss: 13163.4121 - mae: 13163.4121\n",
            "Epoch 6/100\n",
            "34/34 [==============================] - 0s 2ms/step - loss: 13024.0684 - mae: 13024.0684\n",
            "Epoch 7/100\n",
            "34/34 [==============================] - 0s 2ms/step - loss: 12826.0811 - mae: 12826.0811\n",
            "Epoch 8/100\n",
            "34/34 [==============================] - 0s 2ms/step - loss: 12559.5879 - mae: 12559.5879\n",
            "Epoch 9/100\n",
            "34/34 [==============================] - 0s 2ms/step - loss: 12214.0674 - mae: 12214.0674\n",
            "Epoch 10/100\n",
            "34/34 [==============================] - 0s 2ms/step - loss: 11789.1816 - mae: 11789.1816\n",
            "Epoch 11/100\n",
            "34/34 [==============================] - 0s 2ms/step - loss: 11300.2100 - mae: 11300.2100\n",
            "Epoch 12/100\n",
            "34/34 [==============================] - 0s 2ms/step - loss: 10793.4951 - mae: 10793.4951\n",
            "Epoch 13/100\n",
            "34/34 [==============================] - 0s 2ms/step - loss: 10293.2217 - mae: 10293.2217\n",
            "Epoch 14/100\n",
            "34/34 [==============================] - 0s 2ms/step - loss: 9804.8438 - mae: 9804.8438\n",
            "Epoch 15/100\n",
            "34/34 [==============================] - 0s 2ms/step - loss: 9349.9258 - mae: 9349.9258\n",
            "Epoch 16/100\n",
            "34/34 [==============================] - 0s 2ms/step - loss: 8952.3271 - mae: 8952.3271\n",
            "Epoch 17/100\n",
            "34/34 [==============================] - 0s 2ms/step - loss: 8627.0771 - mae: 8627.0771\n",
            "Epoch 18/100\n",
            "34/34 [==============================] - 0s 3ms/step - loss: 8364.2510 - mae: 8364.2510\n",
            "Epoch 19/100\n",
            "34/34 [==============================] - 0s 2ms/step - loss: 8173.3457 - mae: 8173.3457\n",
            "Epoch 20/100\n",
            "34/34 [==============================] - 0s 2ms/step - loss: 8041.1587 - mae: 8041.1587\n",
            "Epoch 21/100\n",
            "34/34 [==============================] - 0s 2ms/step - loss: 7942.4253 - mae: 7942.4253\n",
            "Epoch 22/100\n",
            "34/34 [==============================] - 0s 2ms/step - loss: 7874.1484 - mae: 7874.1484\n",
            "Epoch 23/100\n",
            "34/34 [==============================] - 0s 2ms/step - loss: 7817.9683 - mae: 7817.9683\n",
            "Epoch 24/100\n",
            "34/34 [==============================] - 0s 2ms/step - loss: 7767.0059 - mae: 7767.0059\n",
            "Epoch 25/100\n",
            "34/34 [==============================] - 0s 3ms/step - loss: 7727.8174 - mae: 7727.8174\n",
            "Epoch 26/100\n",
            "34/34 [==============================] - 0s 4ms/step - loss: 7675.8931 - mae: 7675.8931\n",
            "Epoch 27/100\n",
            "34/34 [==============================] - 0s 3ms/step - loss: 7632.8701 - mae: 7632.8701\n",
            "Epoch 28/100\n",
            "34/34 [==============================] - 0s 3ms/step - loss: 7589.3545 - mae: 7589.3545\n",
            "Epoch 29/100\n",
            "34/34 [==============================] - 0s 4ms/step - loss: 7545.6597 - mae: 7545.6597\n",
            "Epoch 30/100\n",
            "34/34 [==============================] - 0s 3ms/step - loss: 7500.6426 - mae: 7500.6426\n",
            "Epoch 31/100\n",
            "34/34 [==============================] - 0s 3ms/step - loss: 7455.1958 - mae: 7455.1958\n",
            "Epoch 32/100\n",
            "34/34 [==============================] - 0s 4ms/step - loss: 7409.4390 - mae: 7409.4390\n",
            "Epoch 33/100\n",
            "34/34 [==============================] - 0s 3ms/step - loss: 7363.3584 - mae: 7363.3584\n",
            "Epoch 34/100\n",
            "34/34 [==============================] - 0s 3ms/step - loss: 7313.1997 - mae: 7313.1997\n",
            "Epoch 35/100\n",
            "34/34 [==============================] - 0s 3ms/step - loss: 7264.2900 - mae: 7264.2900\n",
            "Epoch 36/100\n",
            "34/34 [==============================] - 0s 3ms/step - loss: 7211.8823 - mae: 7211.8823\n",
            "Epoch 37/100\n",
            "34/34 [==============================] - 0s 4ms/step - loss: 7159.1484 - mae: 7159.1484\n",
            "Epoch 38/100\n",
            "34/34 [==============================] - 0s 3ms/step - loss: 7105.7012 - mae: 7105.7012\n",
            "Epoch 39/100\n",
            "34/34 [==============================] - 0s 3ms/step - loss: 7048.2310 - mae: 7048.2310\n",
            "Epoch 40/100\n",
            "34/34 [==============================] - 0s 3ms/step - loss: 6990.0112 - mae: 6990.0112\n",
            "Epoch 41/100\n",
            "34/34 [==============================] - 0s 3ms/step - loss: 6930.4995 - mae: 6930.4995\n",
            "Epoch 42/100\n",
            "34/34 [==============================] - 0s 3ms/step - loss: 6868.1519 - mae: 6868.1519\n",
            "Epoch 43/100\n",
            "34/34 [==============================] - 0s 3ms/step - loss: 6801.9912 - mae: 6801.9912\n",
            "Epoch 44/100\n",
            "34/34 [==============================] - 0s 3ms/step - loss: 6731.6826 - mae: 6731.6826\n",
            "Epoch 45/100\n",
            "34/34 [==============================] - 0s 3ms/step - loss: 6660.3999 - mae: 6660.3999\n",
            "Epoch 46/100\n",
            "34/34 [==============================] - 0s 3ms/step - loss: 6586.9214 - mae: 6586.9214\n",
            "Epoch 47/100\n",
            "34/34 [==============================] - 0s 3ms/step - loss: 6510.6655 - mae: 6510.6655\n",
            "Epoch 48/100\n",
            "34/34 [==============================] - 0s 4ms/step - loss: 6426.9570 - mae: 6426.9570\n",
            "Epoch 49/100\n",
            "34/34 [==============================] - 0s 3ms/step - loss: 6342.6328 - mae: 6342.6328\n",
            "Epoch 50/100\n",
            "34/34 [==============================] - 0s 3ms/step - loss: 6250.8135 - mae: 6250.8135\n",
            "Epoch 51/100\n",
            "34/34 [==============================] - 0s 3ms/step - loss: 6160.0840 - mae: 6160.0840\n",
            "Epoch 52/100\n",
            "34/34 [==============================] - 0s 2ms/step - loss: 6060.3394 - mae: 6060.3394\n",
            "Epoch 53/100\n",
            "34/34 [==============================] - 0s 2ms/step - loss: 5957.5708 - mae: 5957.5708\n",
            "Epoch 54/100\n",
            "34/34 [==============================] - 0s 2ms/step - loss: 5851.4229 - mae: 5851.4229\n",
            "Epoch 55/100\n",
            "34/34 [==============================] - 0s 2ms/step - loss: 5737.1782 - mae: 5737.1782\n",
            "Epoch 56/100\n",
            "34/34 [==============================] - 0s 2ms/step - loss: 5621.9180 - mae: 5621.9180\n",
            "Epoch 57/100\n",
            "34/34 [==============================] - 0s 2ms/step - loss: 5501.8335 - mae: 5501.8335\n",
            "Epoch 58/100\n",
            "34/34 [==============================] - 0s 2ms/step - loss: 5379.9639 - mae: 5379.9639\n",
            "Epoch 59/100\n",
            "34/34 [==============================] - 0s 2ms/step - loss: 5252.6411 - mae: 5252.6411\n",
            "Epoch 60/100\n",
            "34/34 [==============================] - 0s 2ms/step - loss: 5125.9995 - mae: 5125.9995\n",
            "Epoch 61/100\n",
            "34/34 [==============================] - 0s 2ms/step - loss: 4995.3286 - mae: 4995.3286\n",
            "Epoch 62/100\n",
            "34/34 [==============================] - 0s 2ms/step - loss: 4860.2915 - mae: 4860.2915\n",
            "Epoch 63/100\n",
            "34/34 [==============================] - 0s 2ms/step - loss: 4729.9771 - mae: 4729.9771\n",
            "Epoch 64/100\n",
            "34/34 [==============================] - 0s 4ms/step - loss: 4599.2090 - mae: 4599.2090\n",
            "Epoch 65/100\n",
            "34/34 [==============================] - 0s 4ms/step - loss: 4479.9712 - mae: 4479.9712\n",
            "Epoch 66/100\n",
            "34/34 [==============================] - 0s 4ms/step - loss: 4367.6904 - mae: 4367.6904\n",
            "Epoch 67/100\n",
            "34/34 [==============================] - 0s 6ms/step - loss: 4264.0947 - mae: 4264.0947\n",
            "Epoch 68/100\n",
            "34/34 [==============================] - 0s 6ms/step - loss: 4163.8242 - mae: 4163.8242\n",
            "Epoch 69/100\n",
            "34/34 [==============================] - 0s 4ms/step - loss: 4071.3074 - mae: 4071.3074\n",
            "Epoch 70/100\n",
            "34/34 [==============================] - 0s 4ms/step - loss: 3990.8491 - mae: 3990.8491\n",
            "Epoch 71/100\n",
            "34/34 [==============================] - 0s 4ms/step - loss: 3916.9778 - mae: 3916.9778\n",
            "Epoch 72/100\n",
            "34/34 [==============================] - 0s 4ms/step - loss: 3856.2007 - mae: 3856.2007\n",
            "Epoch 73/100\n",
            "34/34 [==============================] - 0s 4ms/step - loss: 3806.7649 - mae: 3806.7649\n",
            "Epoch 74/100\n",
            "34/34 [==============================] - 0s 5ms/step - loss: 3766.8997 - mae: 3766.8997\n",
            "Epoch 75/100\n",
            "34/34 [==============================] - 0s 5ms/step - loss: 3739.0178 - mae: 3739.0178\n",
            "Epoch 76/100\n",
            "34/34 [==============================] - 0s 3ms/step - loss: 3718.4497 - mae: 3718.4497\n",
            "Epoch 77/100\n",
            "34/34 [==============================] - 0s 4ms/step - loss: 3701.1099 - mae: 3701.1099\n",
            "Epoch 78/100\n",
            "34/34 [==============================] - 0s 4ms/step - loss: 3690.5574 - mae: 3690.5574\n",
            "Epoch 79/100\n",
            "34/34 [==============================] - 0s 3ms/step - loss: 3682.6484 - mae: 3682.6484\n",
            "Epoch 80/100\n",
            "34/34 [==============================] - 0s 4ms/step - loss: 3675.6665 - mae: 3675.6665\n",
            "Epoch 81/100\n",
            "34/34 [==============================] - 0s 2ms/step - loss: 3671.2756 - mae: 3671.2756\n",
            "Epoch 82/100\n",
            "34/34 [==============================] - 0s 2ms/step - loss: 3668.9338 - mae: 3668.9338\n",
            "Epoch 83/100\n",
            "34/34 [==============================] - 0s 2ms/step - loss: 3664.0989 - mae: 3664.0989\n",
            "Epoch 84/100\n",
            "34/34 [==============================] - 0s 3ms/step - loss: 3661.7207 - mae: 3661.7207\n",
            "Epoch 85/100\n",
            "34/34 [==============================] - 0s 4ms/step - loss: 3659.6648 - mae: 3659.6648\n",
            "Epoch 86/100\n",
            "34/34 [==============================] - 0s 4ms/step - loss: 3658.0859 - mae: 3658.0859\n",
            "Epoch 87/100\n",
            "34/34 [==============================] - 0s 4ms/step - loss: 3655.2886 - mae: 3655.2886\n",
            "Epoch 88/100\n",
            "34/34 [==============================] - 0s 2ms/step - loss: 3653.0823 - mae: 3653.0823\n",
            "Epoch 89/100\n",
            "34/34 [==============================] - 0s 3ms/step - loss: 3652.2695 - mae: 3652.2695\n",
            "Epoch 90/100\n",
            "34/34 [==============================] - 0s 3ms/step - loss: 3649.9856 - mae: 3649.9856\n",
            "Epoch 91/100\n",
            "34/34 [==============================] - 0s 4ms/step - loss: 3646.9924 - mae: 3646.9924\n",
            "Epoch 92/100\n",
            "34/34 [==============================] - 0s 4ms/step - loss: 3646.3057 - mae: 3646.3057\n",
            "Epoch 93/100\n",
            "34/34 [==============================] - 0s 4ms/step - loss: 3643.9668 - mae: 3643.9668\n",
            "Epoch 94/100\n",
            "34/34 [==============================] - 0s 4ms/step - loss: 3642.3530 - mae: 3642.3530\n",
            "Epoch 95/100\n",
            "34/34 [==============================] - 0s 3ms/step - loss: 3643.3167 - mae: 3643.3167\n",
            "Epoch 96/100\n",
            "34/34 [==============================] - 0s 4ms/step - loss: 3640.2629 - mae: 3640.2629\n",
            "Epoch 97/100\n",
            "34/34 [==============================] - 0s 4ms/step - loss: 3637.6873 - mae: 3637.6873\n",
            "Epoch 98/100\n",
            "34/34 [==============================] - 0s 3ms/step - loss: 3635.5469 - mae: 3635.5469\n",
            "Epoch 99/100\n",
            "34/34 [==============================] - 0s 2ms/step - loss: 3635.0103 - mae: 3635.0103\n",
            "Epoch 100/100\n",
            "34/34 [==============================] - 0s 2ms/step - loss: 3633.7812 - mae: 3633.7812\n"
          ]
        },
        {
          "output_type": "execute_result",
          "data": {
            "text/plain": [
              "<keras.callbacks.History at 0x7f0665d933d0>"
            ]
          },
          "metadata": {},
          "execution_count": 100
        }
      ]
    },
    {
      "cell_type": "code",
      "source": [
        "# Evaluate our insurance model trained on normalized data\n",
        "insurance_model_4.evaluate(X_test_normal, y_test)"
      ],
      "metadata": {
        "colab": {
          "base_uri": "https://localhost:8080/"
        },
        "id": "YYi8dKdHZgwB",
        "outputId": "b2b648db-7f15-4e95-d4c6-e692b5f0646a"
      },
      "execution_count": null,
      "outputs": [
        {
          "output_type": "stream",
          "name": "stdout",
          "text": [
            "9/9 [==============================] - 0s 4ms/step - loss: 3435.6887 - mae: 3435.6887\n"
          ]
        },
        {
          "output_type": "execute_result",
          "data": {
            "text/plain": [
              "[3435.688720703125, 3435.688720703125]"
            ]
          },
          "metadata": {},
          "execution_count": 101
        }
      ]
    },
    {
      "cell_type": "code",
      "source": [],
      "metadata": {
        "id": "5dYRlBFGbRF0"
      },
      "execution_count": null,
      "outputs": []
    }
  ]
}